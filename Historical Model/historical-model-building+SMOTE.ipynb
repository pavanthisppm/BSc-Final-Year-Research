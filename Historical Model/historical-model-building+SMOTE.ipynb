{
 "cells": [
  {
   "cell_type": "code",
   "execution_count": 1,
   "id": "ee251412",
   "metadata": {},
   "outputs": [],
   "source": [
    "import warnings\n",
    "warnings.filterwarnings('ignore')\n",
    "import pandas as pd\n",
    "import numpy as np\n",
    "from sklearn.model_selection import train_test_split\n",
    "import matplotlib.pyplot as plt\n",
    "import seaborn as sns\n",
    "import prince\n",
    "import pickle\n",
    "\n",
    "from imblearn.over_sampling import SMOTE\n",
    "from imblearn.over_sampling import ADASYN\n",
    "from sklearn.preprocessing import RobustScaler\n",
    "from sklearn.preprocessing import StandardScaler\n",
    "from sklearn.model_selection import RepeatedStratifiedKFold\n",
    "from sklearn.model_selection import GridSearchCV\n",
    "from sklearn.linear_model import LogisticRegression\n",
    "\n",
    "from sklearn.metrics import classification_report\n",
    "from sklearn.metrics import roc_auc_score\n",
    "from sklearn.metrics import precision_score\n",
    "from sklearn.metrics import recall_score\n",
    "from sklearn.metrics import accuracy_score\n",
    "from sklearn.metrics import confusion_matrix\n",
    "from sklearn.metrics import f1_score"
   ]
  },
  {
   "cell_type": "code",
   "execution_count": 2,
   "id": "c5a38606",
   "metadata": {},
   "outputs": [
    {
     "data": {
      "text/html": [
       "<div>\n",
       "<style scoped>\n",
       "    .dataframe tbody tr th:only-of-type {\n",
       "        vertical-align: middle;\n",
       "    }\n",
       "\n",
       "    .dataframe tbody tr th {\n",
       "        vertical-align: top;\n",
       "    }\n",
       "\n",
       "    .dataframe thead th {\n",
       "        text-align: right;\n",
       "    }\n",
       "</style>\n",
       "<table border=\"1\" class=\"dataframe\">\n",
       "  <thead>\n",
       "    <tr style=\"text-align: right;\">\n",
       "      <th></th>\n",
       "      <th>ID</th>\n",
       "      <th>Venue</th>\n",
       "      <th>T1_Mat</th>\n",
       "      <th>T1_AvgRunsScored</th>\n",
       "      <th>T1_AvgRunsConceded</th>\n",
       "      <th>T1_AvgWktsTaken</th>\n",
       "      <th>T1_AvgWktsLost</th>\n",
       "      <th>T1_AvgBound</th>\n",
       "      <th>T1_W/L</th>\n",
       "      <th>T2_Mat</th>\n",
       "      <th>T2_AvgRunsScored</th>\n",
       "      <th>T2_AvgRunsConceded</th>\n",
       "      <th>T2_AvgWktsTaken</th>\n",
       "      <th>T2_AvgWktsLost</th>\n",
       "      <th>T2_AvgBound</th>\n",
       "      <th>T2_W/L</th>\n",
       "      <th>Winner</th>\n",
       "    </tr>\n",
       "  </thead>\n",
       "  <tbody>\n",
       "    <tr>\n",
       "      <th>0</th>\n",
       "      <td>1</td>\n",
       "      <td>Africa</td>\n",
       "      <td>34</td>\n",
       "      <td>7.10</td>\n",
       "      <td>7.27</td>\n",
       "      <td>0.33</td>\n",
       "      <td>0.32</td>\n",
       "      <td>0.85</td>\n",
       "      <td>1.833</td>\n",
       "      <td>22</td>\n",
       "      <td>7.69</td>\n",
       "      <td>7.99</td>\n",
       "      <td>0.28</td>\n",
       "      <td>0.32</td>\n",
       "      <td>0.95</td>\n",
       "      <td>1.000</td>\n",
       "      <td>0</td>\n",
       "    </tr>\n",
       "    <tr>\n",
       "      <th>1</th>\n",
       "      <td>2</td>\n",
       "      <td>Oceania</td>\n",
       "      <td>36</td>\n",
       "      <td>8.01</td>\n",
       "      <td>7.38</td>\n",
       "      <td>0.35</td>\n",
       "      <td>0.33</td>\n",
       "      <td>0.98</td>\n",
       "      <td>1.400</td>\n",
       "      <td>30</td>\n",
       "      <td>7.56</td>\n",
       "      <td>7.70</td>\n",
       "      <td>0.32</td>\n",
       "      <td>0.32</td>\n",
       "      <td>0.93</td>\n",
       "      <td>1.142</td>\n",
       "      <td>0</td>\n",
       "    </tr>\n",
       "    <tr>\n",
       "      <th>2</th>\n",
       "      <td>3</td>\n",
       "      <td>Oceania</td>\n",
       "      <td>37</td>\n",
       "      <td>8.00</td>\n",
       "      <td>7.39</td>\n",
       "      <td>0.35</td>\n",
       "      <td>0.33</td>\n",
       "      <td>0.98</td>\n",
       "      <td>1.312</td>\n",
       "      <td>31</td>\n",
       "      <td>7.56</td>\n",
       "      <td>7.70</td>\n",
       "      <td>0.32</td>\n",
       "      <td>0.33</td>\n",
       "      <td>0.93</td>\n",
       "      <td>1.214</td>\n",
       "      <td>1</td>\n",
       "    </tr>\n",
       "    <tr>\n",
       "      <th>3</th>\n",
       "      <td>4</td>\n",
       "      <td>America</td>\n",
       "      <td>38</td>\n",
       "      <td>7.14</td>\n",
       "      <td>7.18</td>\n",
       "      <td>0.33</td>\n",
       "      <td>0.34</td>\n",
       "      <td>0.84</td>\n",
       "      <td>1.235</td>\n",
       "      <td>24</td>\n",
       "      <td>7.13</td>\n",
       "      <td>8.08</td>\n",
       "      <td>0.29</td>\n",
       "      <td>0.36</td>\n",
       "      <td>0.89</td>\n",
       "      <td>0.714</td>\n",
       "      <td>0</td>\n",
       "    </tr>\n",
       "    <tr>\n",
       "      <th>4</th>\n",
       "      <td>5</td>\n",
       "      <td>America</td>\n",
       "      <td>23</td>\n",
       "      <td>7.71</td>\n",
       "      <td>7.94</td>\n",
       "      <td>0.28</td>\n",
       "      <td>0.32</td>\n",
       "      <td>0.96</td>\n",
       "      <td>1.090</td>\n",
       "      <td>25</td>\n",
       "      <td>7.13</td>\n",
       "      <td>8.04</td>\n",
       "      <td>0.29</td>\n",
       "      <td>0.36</td>\n",
       "      <td>0.89</td>\n",
       "      <td>0.785</td>\n",
       "      <td>1</td>\n",
       "    </tr>\n",
       "  </tbody>\n",
       "</table>\n",
       "</div>"
      ],
      "text/plain": [
       "   ID    Venue  T1_Mat  T1_AvgRunsScored  T1_AvgRunsConceded  T1_AvgWktsTaken  \\\n",
       "0   1   Africa      34              7.10                7.27             0.33   \n",
       "1   2  Oceania      36              8.01                7.38             0.35   \n",
       "2   3  Oceania      37              8.00                7.39             0.35   \n",
       "3   4  America      38              7.14                7.18             0.33   \n",
       "4   5  America      23              7.71                7.94             0.28   \n",
       "\n",
       "   T1_AvgWktsLost  T1_AvgBound  T1_W/L  T2_Mat  T2_AvgRunsScored  \\\n",
       "0            0.32         0.85   1.833      22              7.69   \n",
       "1            0.33         0.98   1.400      30              7.56   \n",
       "2            0.33         0.98   1.312      31              7.56   \n",
       "3            0.34         0.84   1.235      24              7.13   \n",
       "4            0.32         0.96   1.090      25              7.13   \n",
       "\n",
       "   T2_AvgRunsConceded  T2_AvgWktsTaken  T2_AvgWktsLost  T2_AvgBound  T2_W/L  \\\n",
       "0                7.99             0.28            0.32         0.95   1.000   \n",
       "1                7.70             0.32            0.32         0.93   1.142   \n",
       "2                7.70             0.32            0.33         0.93   1.214   \n",
       "3                8.08             0.29            0.36         0.89   0.714   \n",
       "4                8.04             0.29            0.36         0.89   0.785   \n",
       "\n",
       "   Winner  \n",
       "0       0  \n",
       "1       0  \n",
       "2       1  \n",
       "3       0  \n",
       "4       1  "
      ]
     },
     "execution_count": 2,
     "metadata": {},
     "output_type": "execute_result"
    }
   ],
   "source": [
    "data = pd.read_csv(\"historical-featured.csv\")\n",
    "data = data.drop('Unnamed: 0', axis=1)\n",
    "data.head()"
   ]
  },
  {
   "cell_type": "code",
   "execution_count": 4,
   "id": "1cf16c95",
   "metadata": {},
   "outputs": [
    {
     "data": {
      "text/plain": [
       "(519, 17)"
      ]
     },
     "execution_count": 4,
     "metadata": {},
     "output_type": "execute_result"
    }
   ],
   "source": [
    "data.shape"
   ]
  },
  {
   "cell_type": "code",
   "execution_count": 3,
   "id": "77735f77",
   "metadata": {},
   "outputs": [],
   "source": [
    "# train test split\n",
    "train, test= train_test_split(data, test_size = 0.2, random_state = 100)"
   ]
  },
  {
   "cell_type": "code",
   "execution_count": 4,
   "id": "295f88f1",
   "metadata": {},
   "outputs": [
    {
     "data": {
      "text/plain": [
       "((415, 17), (104, 17))"
      ]
     },
     "execution_count": 4,
     "metadata": {},
     "output_type": "execute_result"
    }
   ],
   "source": [
    "train.shape, test.shape"
   ]
  },
  {
   "cell_type": "code",
   "execution_count": 5,
   "id": "1d9e2e0f",
   "metadata": {},
   "outputs": [
    {
     "data": {
      "text/plain": [
       "Index(['ID', 'Venue', 'T1_Mat', 'T1_AvgRunsScored', 'T1_AvgRunsConceded',\n",
       "       'T1_AvgWktsTaken', 'T1_AvgWktsLost', 'T1_AvgBound', 'T1_W/L', 'T2_Mat',\n",
       "       'T2_AvgRunsScored', 'T2_AvgRunsConceded', 'T2_AvgWktsTaken',\n",
       "       'T2_AvgWktsLost', 'T2_AvgBound', 'T2_W/L', 'Winner'],\n",
       "      dtype='object')"
      ]
     },
     "execution_count": 5,
     "metadata": {},
     "output_type": "execute_result"
    }
   ],
   "source": [
    "train.columns"
   ]
  },
  {
   "cell_type": "code",
   "execution_count": 6,
   "id": "48c21a61",
   "metadata": {},
   "outputs": [
    {
     "data": {
      "text/plain": [
       "ID                      int64\n",
       "Venue                  object\n",
       "T1_Mat                  int64\n",
       "T1_AvgRunsScored      float64\n",
       "T1_AvgRunsConceded    float64\n",
       "T1_AvgWktsTaken       float64\n",
       "T1_AvgWktsLost        float64\n",
       "T1_AvgBound           float64\n",
       "T1_W/L                float64\n",
       "T2_Mat                  int64\n",
       "T2_AvgRunsScored      float64\n",
       "T2_AvgRunsConceded    float64\n",
       "T2_AvgWktsTaken       float64\n",
       "T2_AvgWktsLost        float64\n",
       "T2_AvgBound           float64\n",
       "T2_W/L                float64\n",
       "Winner                  int64\n",
       "dtype: object"
      ]
     },
     "execution_count": 6,
     "metadata": {},
     "output_type": "execute_result"
    }
   ],
   "source": [
    "train.dtypes"
   ]
  },
  {
   "cell_type": "code",
   "execution_count": 7,
   "id": "79111e28",
   "metadata": {},
   "outputs": [
    {
     "data": {
      "text/plain": [
       "Index(['ID', 'T1_Mat', 'T1_AvgRunsScored', 'T1_AvgRunsConceded',\n",
       "       'T1_AvgWktsTaken', 'T1_AvgWktsLost', 'T1_AvgBound', 'T1_W/L', 'T2_Mat',\n",
       "       'T2_AvgRunsScored', 'T2_AvgRunsConceded', 'T2_AvgWktsTaken',\n",
       "       'T2_AvgWktsLost', 'T2_AvgBound', 'T2_W/L', 'Winner'],\n",
       "      dtype='object')"
      ]
     },
     "execution_count": 7,
     "metadata": {},
     "output_type": "execute_result"
    }
   ],
   "source": [
    "num = train.select_dtypes(include='number')\n",
    "num.columns"
   ]
  },
  {
   "cell_type": "markdown",
   "id": "d680d959",
   "metadata": {},
   "source": [
    "## Model training"
   ]
  },
  {
   "cell_type": "code",
   "execution_count": 21,
   "id": "4b826368",
   "metadata": {},
   "outputs": [
    {
     "data": {
      "text/plain": [
       "((415, 15), (104, 15), (415,), (104,))"
      ]
     },
     "execution_count": 21,
     "metadata": {},
     "output_type": "execute_result"
    }
   ],
   "source": [
    "xtrain = train.drop(['Winner', 'ID'],axis=1) \n",
    "ytrain = train['Winner']\n",
    " \n",
    "xtest = test.drop(['Winner', 'ID' ],axis=1)  \n",
    "ytest = test['Winner']\n",
    "\n",
    "xtrain.shape, xtest.shape, ytrain.shape, ytest.shape"
   ]
  },
  {
   "cell_type": "code",
   "execution_count": 9,
   "id": "c998602f",
   "metadata": {},
   "outputs": [],
   "source": [
    "# nums = [   \n",
    "#        'T1_Mat', 'T1_AvgRunsScored/Over',\n",
    "#        'T1_AvgRunsConceded/Over', 'T1_Avg_Wkts_Taken', 'T1_Avg_Wkts_Lost',\n",
    "#        'T1_Bound', 'T1_W/L', 'T2_Mat', 'T2_AvgRunsScored/Over',\n",
    "#        'T2_AvgRunsConceded/Over', 'T2_Avg_Wkts_Taken', 'T2_Avg_Wkts_Lost',\n",
    "#        'T2_Bound', 'T2_W/L'       \n",
    "# ]\n",
    "\n",
    "# cats = [ 'Venue',  'Winner']\n",
    "\n",
    "# st = StandardScaler()\n",
    "# xtrain[nums] = st.fit_transform(xtrain[nums])\n",
    "# xtest[nums] = st.fit_transform(xtest[nums])"
   ]
  },
  {
   "cell_type": "code",
   "execution_count": 22,
   "id": "d5b8ea96",
   "metadata": {},
   "outputs": [
    {
     "data": {
      "text/plain": [
       "((415, 19), (104, 19))"
      ]
     },
     "execution_count": 22,
     "metadata": {},
     "output_type": "execute_result"
    }
   ],
   "source": [
    "# Converting categorical features using OneHotEncoding method\n",
    "encoded_xtrain = pd.get_dummies(data= xtrain, columns=[ 'Venue'])\n",
    "encoded_xtest = pd.get_dummies(data= xtest, columns=['Venue' ])\n",
    "\n",
    "encoded_xtrain.shape, encoded_xtest.shape"
   ]
  },
  {
   "cell_type": "code",
   "execution_count": 26,
   "id": "c18afea5",
   "metadata": {},
   "outputs": [],
   "source": [
    "m = xtrain['T1_Mat'].mean()"
   ]
  },
  {
   "cell_type": "code",
   "execution_count": 27,
   "id": "0cf7e126",
   "metadata": {},
   "outputs": [],
   "source": [
    "s = xtrain['T1_Mat'].std()"
   ]
  },
  {
   "cell_type": "code",
   "execution_count": 28,
   "id": "3ae5b518",
   "metadata": {},
   "outputs": [
    {
     "data": {
      "text/plain": [
       "-0.04102903341092905"
      ]
     },
     "execution_count": 28,
     "metadata": {},
     "output_type": "execute_result"
    }
   ],
   "source": [
    "(92-m)/s"
   ]
  },
  {
   "cell_type": "code",
   "execution_count": 18,
   "id": "3faedf2e",
   "metadata": {},
   "outputs": [
    {
     "data": {
      "text/html": [
       "<div>\n",
       "<style scoped>\n",
       "    .dataframe tbody tr th:only-of-type {\n",
       "        vertical-align: middle;\n",
       "    }\n",
       "\n",
       "    .dataframe tbody tr th {\n",
       "        vertical-align: top;\n",
       "    }\n",
       "\n",
       "    .dataframe thead th {\n",
       "        text-align: right;\n",
       "    }\n",
       "</style>\n",
       "<table border=\"1\" class=\"dataframe\">\n",
       "  <thead>\n",
       "    <tr style=\"text-align: right;\">\n",
       "      <th></th>\n",
       "      <th>T1_Mat</th>\n",
       "      <th>T1_AvgRunsScored</th>\n",
       "      <th>T1_AvgRunsConceded</th>\n",
       "      <th>T1_AvgWktsTaken</th>\n",
       "      <th>T1_AvgWktsLost</th>\n",
       "      <th>T1_AvgBound</th>\n",
       "      <th>T1_W/L</th>\n",
       "      <th>T2_Mat</th>\n",
       "      <th>T2_AvgRunsScored</th>\n",
       "      <th>T2_AvgRunsConceded</th>\n",
       "      <th>T2_AvgWktsTaken</th>\n",
       "      <th>T2_AvgWktsLost</th>\n",
       "      <th>T2_AvgBound</th>\n",
       "      <th>T2_W/L</th>\n",
       "      <th>Venue_Africa</th>\n",
       "      <th>Venue_America</th>\n",
       "      <th>Venue_Asia</th>\n",
       "      <th>Venue_Europe</th>\n",
       "      <th>Venue_Oceania</th>\n",
       "    </tr>\n",
       "  </thead>\n",
       "  <tbody>\n",
       "    <tr>\n",
       "      <th>228</th>\n",
       "      <td>92</td>\n",
       "      <td>7.55</td>\n",
       "      <td>7.60</td>\n",
       "      <td>0.33</td>\n",
       "      <td>0.30</td>\n",
       "      <td>0.92</td>\n",
       "      <td>1.300</td>\n",
       "      <td>43</td>\n",
       "      <td>6.66</td>\n",
       "      <td>8.04</td>\n",
       "      <td>0.26</td>\n",
       "      <td>0.39</td>\n",
       "      <td>0.81</td>\n",
       "      <td>0.194</td>\n",
       "      <td>1</td>\n",
       "      <td>0</td>\n",
       "      <td>0</td>\n",
       "      <td>0</td>\n",
       "      <td>0</td>\n",
       "    </tr>\n",
       "    <tr>\n",
       "      <th>280</th>\n",
       "      <td>111</td>\n",
       "      <td>7.09</td>\n",
       "      <td>7.14</td>\n",
       "      <td>0.32</td>\n",
       "      <td>0.33</td>\n",
       "      <td>0.84</td>\n",
       "      <td>1.413</td>\n",
       "      <td>93</td>\n",
       "      <td>7.45</td>\n",
       "      <td>7.87</td>\n",
       "      <td>0.32</td>\n",
       "      <td>0.35</td>\n",
       "      <td>0.91</td>\n",
       "      <td>0.897</td>\n",
       "      <td>0</td>\n",
       "      <td>0</td>\n",
       "      <td>1</td>\n",
       "      <td>0</td>\n",
       "      <td>0</td>\n",
       "    </tr>\n",
       "    <tr>\n",
       "      <th>53</th>\n",
       "      <td>51</td>\n",
       "      <td>7.84</td>\n",
       "      <td>7.35</td>\n",
       "      <td>0.34</td>\n",
       "      <td>0.33</td>\n",
       "      <td>0.95</td>\n",
       "      <td>1.318</td>\n",
       "      <td>52</td>\n",
       "      <td>6.89</td>\n",
       "      <td>7.04</td>\n",
       "      <td>0.33</td>\n",
       "      <td>0.35</td>\n",
       "      <td>0.80</td>\n",
       "      <td>1.260</td>\n",
       "      <td>0</td>\n",
       "      <td>0</td>\n",
       "      <td>1</td>\n",
       "      <td>0</td>\n",
       "      <td>0</td>\n",
       "    </tr>\n",
       "    <tr>\n",
       "      <th>350</th>\n",
       "      <td>115</td>\n",
       "      <td>8.02</td>\n",
       "      <td>7.66</td>\n",
       "      <td>0.33</td>\n",
       "      <td>0.32</td>\n",
       "      <td>0.99</td>\n",
       "      <td>1.211</td>\n",
       "      <td>110</td>\n",
       "      <td>7.93</td>\n",
       "      <td>8.10</td>\n",
       "      <td>0.31</td>\n",
       "      <td>0.33</td>\n",
       "      <td>1.01</td>\n",
       "      <td>1.115</td>\n",
       "      <td>0</td>\n",
       "      <td>0</td>\n",
       "      <td>0</td>\n",
       "      <td>1</td>\n",
       "      <td>0</td>\n",
       "    </tr>\n",
       "    <tr>\n",
       "      <th>79</th>\n",
       "      <td>53</td>\n",
       "      <td>7.26</td>\n",
       "      <td>7.29</td>\n",
       "      <td>0.32</td>\n",
       "      <td>0.32</td>\n",
       "      <td>0.87</td>\n",
       "      <td>1.523</td>\n",
       "      <td>46</td>\n",
       "      <td>6.93</td>\n",
       "      <td>7.28</td>\n",
       "      <td>0.30</td>\n",
       "      <td>0.33</td>\n",
       "      <td>0.84</td>\n",
       "      <td>1.190</td>\n",
       "      <td>0</td>\n",
       "      <td>0</td>\n",
       "      <td>1</td>\n",
       "      <td>0</td>\n",
       "      <td>0</td>\n",
       "    </tr>\n",
       "  </tbody>\n",
       "</table>\n",
       "</div>"
      ],
      "text/plain": [
       "     T1_Mat  T1_AvgRunsScored  T1_AvgRunsConceded  T1_AvgWktsTaken  \\\n",
       "228      92              7.55                7.60             0.33   \n",
       "280     111              7.09                7.14             0.32   \n",
       "53       51              7.84                7.35             0.34   \n",
       "350     115              8.02                7.66             0.33   \n",
       "79       53              7.26                7.29             0.32   \n",
       "\n",
       "     T1_AvgWktsLost  T1_AvgBound  T1_W/L  T2_Mat  T2_AvgRunsScored  \\\n",
       "228            0.30         0.92   1.300      43              6.66   \n",
       "280            0.33         0.84   1.413      93              7.45   \n",
       "53             0.33         0.95   1.318      52              6.89   \n",
       "350            0.32         0.99   1.211     110              7.93   \n",
       "79             0.32         0.87   1.523      46              6.93   \n",
       "\n",
       "     T2_AvgRunsConceded  T2_AvgWktsTaken  T2_AvgWktsLost  T2_AvgBound  T2_W/L  \\\n",
       "228                8.04             0.26            0.39         0.81   0.194   \n",
       "280                7.87             0.32            0.35         0.91   0.897   \n",
       "53                 7.04             0.33            0.35         0.80   1.260   \n",
       "350                8.10             0.31            0.33         1.01   1.115   \n",
       "79                 7.28             0.30            0.33         0.84   1.190   \n",
       "\n",
       "     Venue_Africa  Venue_America  Venue_Asia  Venue_Europe  Venue_Oceania  \n",
       "228             1              0           0             0              0  \n",
       "280             0              0           1             0              0  \n",
       "53              0              0           1             0              0  \n",
       "350             0              0           0             1              0  \n",
       "79              0              0           1             0              0  "
      ]
     },
     "execution_count": 18,
     "metadata": {},
     "output_type": "execute_result"
    }
   ],
   "source": [
    "encoded_xtrain.tail()"
   ]
  },
  {
   "cell_type": "code",
   "execution_count": 19,
   "id": "97dfcc3a",
   "metadata": {},
   "outputs": [
    {
     "data": {
      "text/html": [
       "<div>\n",
       "<style scoped>\n",
       "    .dataframe tbody tr th:only-of-type {\n",
       "        vertical-align: middle;\n",
       "    }\n",
       "\n",
       "    .dataframe tbody tr th {\n",
       "        vertical-align: top;\n",
       "    }\n",
       "\n",
       "    .dataframe thead th {\n",
       "        text-align: right;\n",
       "    }\n",
       "</style>\n",
       "<table border=\"1\" class=\"dataframe\">\n",
       "  <thead>\n",
       "    <tr style=\"text-align: right;\">\n",
       "      <th></th>\n",
       "      <th>Venue</th>\n",
       "      <th>T1_Mat</th>\n",
       "      <th>T1_AvgRunsScored</th>\n",
       "      <th>T1_AvgRunsConceded</th>\n",
       "      <th>T1_AvgWktsTaken</th>\n",
       "      <th>T1_AvgWktsLost</th>\n",
       "      <th>T1_AvgBound</th>\n",
       "      <th>T1_W/L</th>\n",
       "      <th>T2_Mat</th>\n",
       "      <th>T2_AvgRunsScored</th>\n",
       "      <th>T2_AvgRunsConceded</th>\n",
       "      <th>T2_AvgWktsTaken</th>\n",
       "      <th>T2_AvgWktsLost</th>\n",
       "      <th>T2_AvgBound</th>\n",
       "      <th>T2_W/L</th>\n",
       "    </tr>\n",
       "  </thead>\n",
       "  <tbody>\n",
       "    <tr>\n",
       "      <th>228</th>\n",
       "      <td>Africa</td>\n",
       "      <td>92</td>\n",
       "      <td>7.55</td>\n",
       "      <td>7.60</td>\n",
       "      <td>0.33</td>\n",
       "      <td>0.30</td>\n",
       "      <td>0.92</td>\n",
       "      <td>1.300</td>\n",
       "      <td>43</td>\n",
       "      <td>6.66</td>\n",
       "      <td>8.04</td>\n",
       "      <td>0.26</td>\n",
       "      <td>0.39</td>\n",
       "      <td>0.81</td>\n",
       "      <td>0.194</td>\n",
       "    </tr>\n",
       "    <tr>\n",
       "      <th>280</th>\n",
       "      <td>Asia</td>\n",
       "      <td>111</td>\n",
       "      <td>7.09</td>\n",
       "      <td>7.14</td>\n",
       "      <td>0.32</td>\n",
       "      <td>0.33</td>\n",
       "      <td>0.84</td>\n",
       "      <td>1.413</td>\n",
       "      <td>93</td>\n",
       "      <td>7.45</td>\n",
       "      <td>7.87</td>\n",
       "      <td>0.32</td>\n",
       "      <td>0.35</td>\n",
       "      <td>0.91</td>\n",
       "      <td>0.897</td>\n",
       "    </tr>\n",
       "    <tr>\n",
       "      <th>53</th>\n",
       "      <td>Asia</td>\n",
       "      <td>51</td>\n",
       "      <td>7.84</td>\n",
       "      <td>7.35</td>\n",
       "      <td>0.34</td>\n",
       "      <td>0.33</td>\n",
       "      <td>0.95</td>\n",
       "      <td>1.318</td>\n",
       "      <td>52</td>\n",
       "      <td>6.89</td>\n",
       "      <td>7.04</td>\n",
       "      <td>0.33</td>\n",
       "      <td>0.35</td>\n",
       "      <td>0.80</td>\n",
       "      <td>1.260</td>\n",
       "    </tr>\n",
       "    <tr>\n",
       "      <th>350</th>\n",
       "      <td>Europe</td>\n",
       "      <td>115</td>\n",
       "      <td>8.02</td>\n",
       "      <td>7.66</td>\n",
       "      <td>0.33</td>\n",
       "      <td>0.32</td>\n",
       "      <td>0.99</td>\n",
       "      <td>1.211</td>\n",
       "      <td>110</td>\n",
       "      <td>7.93</td>\n",
       "      <td>8.10</td>\n",
       "      <td>0.31</td>\n",
       "      <td>0.33</td>\n",
       "      <td>1.01</td>\n",
       "      <td>1.115</td>\n",
       "    </tr>\n",
       "    <tr>\n",
       "      <th>79</th>\n",
       "      <td>Asia</td>\n",
       "      <td>53</td>\n",
       "      <td>7.26</td>\n",
       "      <td>7.29</td>\n",
       "      <td>0.32</td>\n",
       "      <td>0.32</td>\n",
       "      <td>0.87</td>\n",
       "      <td>1.523</td>\n",
       "      <td>46</td>\n",
       "      <td>6.93</td>\n",
       "      <td>7.28</td>\n",
       "      <td>0.30</td>\n",
       "      <td>0.33</td>\n",
       "      <td>0.84</td>\n",
       "      <td>1.190</td>\n",
       "    </tr>\n",
       "  </tbody>\n",
       "</table>\n",
       "</div>"
      ],
      "text/plain": [
       "      Venue  T1_Mat  T1_AvgRunsScored  T1_AvgRunsConceded  T1_AvgWktsTaken  \\\n",
       "228  Africa      92              7.55                7.60             0.33   \n",
       "280    Asia     111              7.09                7.14             0.32   \n",
       "53     Asia      51              7.84                7.35             0.34   \n",
       "350  Europe     115              8.02                7.66             0.33   \n",
       "79     Asia      53              7.26                7.29             0.32   \n",
       "\n",
       "     T1_AvgWktsLost  T1_AvgBound  T1_W/L  T2_Mat  T2_AvgRunsScored  \\\n",
       "228            0.30         0.92   1.300      43              6.66   \n",
       "280            0.33         0.84   1.413      93              7.45   \n",
       "53             0.33         0.95   1.318      52              6.89   \n",
       "350            0.32         0.99   1.211     110              7.93   \n",
       "79             0.32         0.87   1.523      46              6.93   \n",
       "\n",
       "     T2_AvgRunsConceded  T2_AvgWktsTaken  T2_AvgWktsLost  T2_AvgBound  T2_W/L  \n",
       "228                8.04             0.26            0.39         0.81   0.194  \n",
       "280                7.87             0.32            0.35         0.91   0.897  \n",
       "53                 7.04             0.33            0.35         0.80   1.260  \n",
       "350                8.10             0.31            0.33         1.01   1.115  \n",
       "79                 7.28             0.30            0.33         0.84   1.190  "
      ]
     },
     "execution_count": 19,
     "metadata": {},
     "output_type": "execute_result"
    }
   ],
   "source": [
    "xtrain.tail()"
   ]
  },
  {
   "cell_type": "code",
   "execution_count": 34,
   "id": "a4d35762",
   "metadata": {},
   "outputs": [
    {
     "data": {
      "text/html": [
       "<div>\n",
       "<style scoped>\n",
       "    .dataframe tbody tr th:only-of-type {\n",
       "        vertical-align: middle;\n",
       "    }\n",
       "\n",
       "    .dataframe tbody tr th {\n",
       "        vertical-align: top;\n",
       "    }\n",
       "\n",
       "    .dataframe thead th {\n",
       "        text-align: right;\n",
       "    }\n",
       "</style>\n",
       "<table border=\"1\" class=\"dataframe\">\n",
       "  <thead>\n",
       "    <tr style=\"text-align: right;\">\n",
       "      <th></th>\n",
       "      <th>T1_Mat</th>\n",
       "      <th>T1_AvgRunsScored</th>\n",
       "      <th>T1_AvgRunsConceded</th>\n",
       "      <th>T1_AvgWktsTaken</th>\n",
       "      <th>T1_AvgWktsLost</th>\n",
       "      <th>T1_AvgBound</th>\n",
       "      <th>T1_W/L</th>\n",
       "      <th>T2_Mat</th>\n",
       "      <th>T2_AvgRunsScored</th>\n",
       "      <th>T2_AvgRunsConceded</th>\n",
       "      <th>T2_AvgWktsTaken</th>\n",
       "      <th>T2_AvgWktsLost</th>\n",
       "      <th>T2_AvgBound</th>\n",
       "      <th>T2_W/L</th>\n",
       "    </tr>\n",
       "  </thead>\n",
       "  <tbody>\n",
       "    <tr>\n",
       "      <th>count</th>\n",
       "      <td>415.000000</td>\n",
       "      <td>415.000000</td>\n",
       "      <td>415.000000</td>\n",
       "      <td>415.000000</td>\n",
       "      <td>415.000000</td>\n",
       "      <td>415.000000</td>\n",
       "      <td>415.000000</td>\n",
       "      <td>415.000000</td>\n",
       "      <td>415.000000</td>\n",
       "      <td>415.000000</td>\n",
       "      <td>415.000000</td>\n",
       "      <td>415.000000</td>\n",
       "      <td>415.000000</td>\n",
       "      <td>415.000000</td>\n",
       "    </tr>\n",
       "    <tr>\n",
       "      <th>mean</th>\n",
       "      <td>93.501205</td>\n",
       "      <td>7.506217</td>\n",
       "      <td>7.592699</td>\n",
       "      <td>0.312988</td>\n",
       "      <td>0.316530</td>\n",
       "      <td>0.917084</td>\n",
       "      <td>1.301325</td>\n",
       "      <td>84.233735</td>\n",
       "      <td>7.328867</td>\n",
       "      <td>7.828072</td>\n",
       "      <td>0.298024</td>\n",
       "      <td>0.347422</td>\n",
       "      <td>0.902819</td>\n",
       "      <td>0.869361</td>\n",
       "    </tr>\n",
       "    <tr>\n",
       "      <th>std</th>\n",
       "      <td>36.588842</td>\n",
       "      <td>0.341293</td>\n",
       "      <td>0.262270</td>\n",
       "      <td>0.012692</td>\n",
       "      <td>0.025632</td>\n",
       "      <td>0.055742</td>\n",
       "      <td>0.252467</td>\n",
       "      <td>36.317186</td>\n",
       "      <td>0.425612</td>\n",
       "      <td>0.253373</td>\n",
       "      <td>0.022175</td>\n",
       "      <td>0.028059</td>\n",
       "      <td>0.067498</td>\n",
       "      <td>0.330343</td>\n",
       "    </tr>\n",
       "    <tr>\n",
       "      <th>min</th>\n",
       "      <td>23.000000</td>\n",
       "      <td>6.850000</td>\n",
       "      <td>6.960000</td>\n",
       "      <td>0.280000</td>\n",
       "      <td>0.270000</td>\n",
       "      <td>0.790000</td>\n",
       "      <td>0.677000</td>\n",
       "      <td>13.000000</td>\n",
       "      <td>6.060000</td>\n",
       "      <td>7.020000</td>\n",
       "      <td>0.240000</td>\n",
       "      <td>0.280000</td>\n",
       "      <td>0.680000</td>\n",
       "      <td>0.083000</td>\n",
       "    </tr>\n",
       "    <tr>\n",
       "      <th>25%</th>\n",
       "      <td>61.000000</td>\n",
       "      <td>7.225000</td>\n",
       "      <td>7.385000</td>\n",
       "      <td>0.310000</td>\n",
       "      <td>0.300000</td>\n",
       "      <td>0.870000</td>\n",
       "      <td>1.136000</td>\n",
       "      <td>55.500000</td>\n",
       "      <td>7.050000</td>\n",
       "      <td>7.710000</td>\n",
       "      <td>0.290000</td>\n",
       "      <td>0.330000</td>\n",
       "      <td>0.850000</td>\n",
       "      <td>0.740000</td>\n",
       "    </tr>\n",
       "    <tr>\n",
       "      <th>50%</th>\n",
       "      <td>92.000000</td>\n",
       "      <td>7.550000</td>\n",
       "      <td>7.660000</td>\n",
       "      <td>0.310000</td>\n",
       "      <td>0.320000</td>\n",
       "      <td>0.930000</td>\n",
       "      <td>1.280000</td>\n",
       "      <td>83.000000</td>\n",
       "      <td>7.330000</td>\n",
       "      <td>7.850000</td>\n",
       "      <td>0.300000</td>\n",
       "      <td>0.340000</td>\n",
       "      <td>0.910000</td>\n",
       "      <td>0.933000</td>\n",
       "    </tr>\n",
       "    <tr>\n",
       "      <th>75%</th>\n",
       "      <td>125.500000</td>\n",
       "      <td>7.800000</td>\n",
       "      <td>7.790000</td>\n",
       "      <td>0.320000</td>\n",
       "      <td>0.330000</td>\n",
       "      <td>0.960000</td>\n",
       "      <td>1.438500</td>\n",
       "      <td>113.000000</td>\n",
       "      <td>7.675000</td>\n",
       "      <td>8.000000</td>\n",
       "      <td>0.320000</td>\n",
       "      <td>0.360000</td>\n",
       "      <td>0.960000</td>\n",
       "      <td>1.117000</td>\n",
       "    </tr>\n",
       "    <tr>\n",
       "      <th>max</th>\n",
       "      <td>168.000000</td>\n",
       "      <td>8.040000</td>\n",
       "      <td>8.120000</td>\n",
       "      <td>0.350000</td>\n",
       "      <td>0.370000</td>\n",
       "      <td>1.040000</td>\n",
       "      <td>1.867000</td>\n",
       "      <td>157.000000</td>\n",
       "      <td>8.050000</td>\n",
       "      <td>8.410000</td>\n",
       "      <td>0.350000</td>\n",
       "      <td>0.460000</td>\n",
       "      <td>1.030000</td>\n",
       "      <td>1.421000</td>\n",
       "    </tr>\n",
       "  </tbody>\n",
       "</table>\n",
       "</div>"
      ],
      "text/plain": [
       "           T1_Mat  T1_AvgRunsScored  T1_AvgRunsConceded  T1_AvgWktsTaken  \\\n",
       "count  415.000000        415.000000          415.000000       415.000000   \n",
       "mean    93.501205          7.506217            7.592699         0.312988   \n",
       "std     36.588842          0.341293            0.262270         0.012692   \n",
       "min     23.000000          6.850000            6.960000         0.280000   \n",
       "25%     61.000000          7.225000            7.385000         0.310000   \n",
       "50%     92.000000          7.550000            7.660000         0.310000   \n",
       "75%    125.500000          7.800000            7.790000         0.320000   \n",
       "max    168.000000          8.040000            8.120000         0.350000   \n",
       "\n",
       "       T1_AvgWktsLost  T1_AvgBound      T1_W/L      T2_Mat  T2_AvgRunsScored  \\\n",
       "count      415.000000   415.000000  415.000000  415.000000        415.000000   \n",
       "mean         0.316530     0.917084    1.301325   84.233735          7.328867   \n",
       "std          0.025632     0.055742    0.252467   36.317186          0.425612   \n",
       "min          0.270000     0.790000    0.677000   13.000000          6.060000   \n",
       "25%          0.300000     0.870000    1.136000   55.500000          7.050000   \n",
       "50%          0.320000     0.930000    1.280000   83.000000          7.330000   \n",
       "75%          0.330000     0.960000    1.438500  113.000000          7.675000   \n",
       "max          0.370000     1.040000    1.867000  157.000000          8.050000   \n",
       "\n",
       "       T2_AvgRunsConceded  T2_AvgWktsTaken  T2_AvgWktsLost  T2_AvgBound  \\\n",
       "count          415.000000       415.000000      415.000000   415.000000   \n",
       "mean             7.828072         0.298024        0.347422     0.902819   \n",
       "std              0.253373         0.022175        0.028059     0.067498   \n",
       "min              7.020000         0.240000        0.280000     0.680000   \n",
       "25%              7.710000         0.290000        0.330000     0.850000   \n",
       "50%              7.850000         0.300000        0.340000     0.910000   \n",
       "75%              8.000000         0.320000        0.360000     0.960000   \n",
       "max              8.410000         0.350000        0.460000     1.030000   \n",
       "\n",
       "           T2_W/L  \n",
       "count  415.000000  \n",
       "mean     0.869361  \n",
       "std      0.330343  \n",
       "min      0.083000  \n",
       "25%      0.740000  \n",
       "50%      0.933000  \n",
       "75%      1.117000  \n",
       "max      1.421000  "
      ]
     },
     "execution_count": 34,
     "metadata": {},
     "output_type": "execute_result"
    }
   ],
   "source": [
    "xtrain.describe()"
   ]
  },
  {
   "cell_type": "code",
   "execution_count": 29,
   "id": "d3997a3c",
   "metadata": {},
   "outputs": [],
   "source": [
    "st = StandardScaler()\n",
    "xtrain  = st.fit_transform(encoded_xtrain)\n",
    "xtest = st.fit_transform(encoded_xtest)"
   ]
  },
  {
   "cell_type": "code",
   "execution_count": 31,
   "id": "8eb820c6",
   "metadata": {},
   "outputs": [
    {
     "data": {
      "text/plain": [
       "array([-1.49135597,  1.38987521, -0.582923  ,  2.13076288,  0.52613914,\n",
       "        0.95044062, -0.02904994, -1.46756933, -0.4678149 , -1.49395979,\n",
       "        0.5407108 , -0.9784724 , -0.33847913,  1.04453419, -0.353074  ,\n",
       "       -0.31748347,  0.94603233, -0.29391739, -0.48489076])"
      ]
     },
     "execution_count": 31,
     "metadata": {},
     "output_type": "execute_result"
    }
   ],
   "source": [
    "xtrain_st[0]"
   ]
  },
  {
   "cell_type": "code",
   "execution_count": 12,
   "id": "34d1a9a1",
   "metadata": {},
   "outputs": [
    {
     "data": {
      "text/plain": [
       "((486, 19), (486,))"
      ]
     },
     "execution_count": 12,
     "metadata": {},
     "output_type": "execute_result"
    }
   ],
   "source": [
    "sm = SMOTE(random_state=42)\n",
    "xtrain_sm, ytrain_sm = sm.fit_resample(  xtrain,ytrain) \n",
    " \n",
    "xtrain_sm.shape, ytrain_sm.shape "
   ]
  },
  {
   "cell_type": "markdown",
   "id": "bd86a7ec",
   "metadata": {},
   "source": [
    "## Logistic regression - with hyperparameter tuning"
   ]
  },
  {
   "cell_type": "markdown",
   "id": "dc7c0ed0",
   "metadata": {},
   "source": [
    "### Lasso penalty"
   ]
  },
  {
   "cell_type": "code",
   "execution_count": 339,
   "id": "05a7218b",
   "metadata": {},
   "outputs": [],
   "source": [
    "from sklearn.model_selection import RepeatedStratifiedKFold"
   ]
  },
  {
   "cell_type": "code",
   "execution_count": 349,
   "id": "f3f25b5c",
   "metadata": {},
   "outputs": [
    {
     "name": "stdout",
     "output_type": "stream",
     "text": [
      "Fitting 30 folds for each of 36 candidates, totalling 1080 fits\n"
     ]
    }
   ],
   "source": [
    "logModel  = LogisticRegression(random_state=42)\n",
    "param_grid = [    \n",
    "    {'solver' : [ 'newton-cg', 'lbfgs', 'liblinear', 'sag', 'saga', 'newton-cholesky'],\n",
    "    'penalty' : [   'l1'  ], #'None', 'l1', 'l2', 'elasticnet'\n",
    "    'C' :  [1e-5, 1e-4, 1e-3, 1e-2, 1e-1,1],\n",
    "    'max_iter': [2000]\n",
    "    }\n",
    "]\n",
    "\n",
    "cv = RepeatedStratifiedKFold(n_splits=10, n_repeats=3, random_state=42)\n",
    "log_grid = GridSearchCV(logModel, param_grid = param_grid , verbose=True, n_jobs=-1, cv=cv , scoring='f1')\n",
    "log_clf_hyp = log_grid.fit(xtrain_sm,ytrain_sm)"
   ]
  },
  {
   "cell_type": "code",
   "execution_count": 350,
   "id": "ea11975c",
   "metadata": {},
   "outputs": [
    {
     "data": {
      "text/plain": [
       "LogisticRegression(C=1, max_iter=2000, penalty='l1', random_state=42,\n",
       "                   solver='saga')"
      ]
     },
     "execution_count": 350,
     "metadata": {},
     "output_type": "execute_result"
    }
   ],
   "source": [
    "log_clf_hyp.best_estimator_"
   ]
  },
  {
   "cell_type": "code",
   "execution_count": 351,
   "id": "2927d6bd",
   "metadata": {},
   "outputs": [
    {
     "name": "stdout",
     "output_type": "stream",
     "text": [
      "\n",
      "classification report - logistice (l1) - train\n",
      "              precision    recall  f1-score   support\n",
      "\n",
      "           0       0.61      0.66      0.64       243\n",
      "           1       0.63      0.58      0.60       243\n",
      "\n",
      "    accuracy                           0.62       486\n",
      "   macro avg       0.62      0.62      0.62       486\n",
      "weighted avg       0.62      0.62      0.62       486\n",
      "\n",
      "LogReg: ROC AUC =  61.9 %\n",
      "LogReg: Precision =  63.1 %\n",
      "LogReg: Recall =  57.6 %\n",
      "LogReg: Accuracy =  61.9 %\n",
      "LogReg: F1-Score =  60.2 %\n"
     ]
    },
    {
     "data": {
      "text/plain": [
       "array([[161,  82],\n",
       "       [103, 140]], dtype=int64)"
      ]
     },
     "execution_count": 351,
     "metadata": {},
     "output_type": "execute_result"
    }
   ],
   "source": [
    "# Predict the train data\n",
    "y_predicted = log_clf_hyp.predict(xtrain_sm)\n",
    "\n",
    "print('\\nclassification report - logistice (l1) - train')\n",
    "print(classification_report(ytrain_sm, y_predicted)) # generate the precision, recall, f-1 score, num\n",
    "print('LogReg: ROC AUC = ',str(round(roc_auc_score(ytrain_sm, y_predicted)*100,1)), '%')\n",
    "print('LogReg: Precision = ',str(round(precision_score(ytrain_sm, y_predicted)*100,1)), '%')\n",
    "print('LogReg: Recall = ',str(round(recall_score(ytrain_sm, y_predicted)*100,1)), '%')\n",
    "print('LogReg: Accuracy = ',str(round(accuracy_score(ytrain_sm, y_predicted)*100,1)), '%')\n",
    "print('LogReg: F1-Score = ',str(round(f1_score(ytrain_sm, y_predicted)*100,1)), '%')\n",
    "confusion_matrix(ytrain_sm, y_predicted)"
   ]
  },
  {
   "cell_type": "code",
   "execution_count": 352,
   "id": "6125f5a0",
   "metadata": {},
   "outputs": [
    {
     "name": "stdout",
     "output_type": "stream",
     "text": [
      "\n",
      "classification report - logistic(l2)+SMOTE - test \n",
      "              precision    recall  f1-score   support\n",
      "\n",
      "           0       0.53      0.59      0.56        49\n",
      "           1       0.59      0.53      0.56        55\n",
      "\n",
      "    accuracy                           0.56       104\n",
      "   macro avg       0.56      0.56      0.56       104\n",
      "weighted avg       0.56      0.56      0.56       104\n",
      "\n",
      "LogReg: ROC AUC =  56.0 %\n",
      "LogReg: Precision =  59.2 %\n",
      "LogReg: Recall =  52.7 %\n",
      "LogReg: Accuracy =  55.8 %\n",
      "LogReg: F1-Score =  55.8 %\n"
     ]
    },
    {
     "data": {
      "text/plain": [
       "array([[29, 20],\n",
       "       [26, 29]], dtype=int64)"
      ]
     },
     "execution_count": 352,
     "metadata": {},
     "output_type": "execute_result"
    }
   ],
   "source": [
    "# Predict the test data\n",
    "y_predicted = log_clf_hyp.predict( xtest)\n",
    "\n",
    "print('\\nclassification report - logistic(l2)+SMOTE - test ')\n",
    "print(classification_report(ytest, y_predicted)) # generate the precision, recall, f-1 score, num\n",
    "print('LogReg: ROC AUC = ',str(round(roc_auc_score(ytest, y_predicted)*100,1)), '%')\n",
    "print('LogReg: Precision = ',str(round(precision_score(ytest, y_predicted)*100,1)), '%')\n",
    "print('LogReg: Recall = ',str(round(recall_score(ytest, y_predicted)*100,1)), '%')\n",
    "print('LogReg: Accuracy = ',str(round(accuracy_score(ytest, y_predicted)*100,1)), '%')\n",
    "print('LogReg: F1-Score = ',str(round(f1_score(ytest, y_predicted)*100,1)), '%')\n",
    "confusion_matrix(ytest, y_predicted)"
   ]
  },
  {
   "cell_type": "code",
   "execution_count": 344,
   "id": "fdc03318",
   "metadata": {},
   "outputs": [],
   "source": [
    "# filename = 'LR-Lasso+SMOTE-New.pkl'\n",
    "# pickle.dump(grid_search, open(filename, 'wb'))"
   ]
  },
  {
   "cell_type": "markdown",
   "id": "13472d40",
   "metadata": {},
   "source": [
    "### Ridge penalty"
   ]
  },
  {
   "cell_type": "code",
   "execution_count": 353,
   "id": "d94dd183",
   "metadata": {},
   "outputs": [
    {
     "name": "stdout",
     "output_type": "stream",
     "text": [
      "Fitting 30 folds for each of 18 candidates, totalling 540 fits\n"
     ]
    }
   ],
   "source": [
    "logModel  = LogisticRegression(random_state=42)\n",
    "param_grid = [    \n",
    "    {'solver' : [ 'newton-cg', 'lbfgs', 'liblinear', 'sag', 'saga', 'newton-cholesky'],\n",
    "    'penalty' : [   'l2'  ], #'None', 'l1', 'l2', 'elasticnet'\n",
    "    'C' :  [  1e-2, 1e-1,1],\n",
    "    'max_iter': [2000]\n",
    "    }\n",
    "]\n",
    "\n",
    "cv = RepeatedStratifiedKFold(n_splits=10, n_repeats=3, random_state=42)\n",
    "log_grid = GridSearchCV(logModel, param_grid = param_grid , verbose=True, n_jobs=-1, cv=cv , scoring='f1')\n",
    "log_clf_hyp = log_grid.fit(xtrain_sm,ytrain_sm)"
   ]
  },
  {
   "cell_type": "code",
   "execution_count": 354,
   "id": "e8f5e643",
   "metadata": {},
   "outputs": [
    {
     "data": {
      "text/plain": [
       "LogisticRegression(C=1, max_iter=2000, random_state=42, solver='liblinear')"
      ]
     },
     "execution_count": 354,
     "metadata": {},
     "output_type": "execute_result"
    }
   ],
   "source": [
    "log_clf_hyp.best_estimator_"
   ]
  },
  {
   "cell_type": "code",
   "execution_count": 355,
   "id": "8e1adc54",
   "metadata": {},
   "outputs": [
    {
     "name": "stdout",
     "output_type": "stream",
     "text": [
      "\n",
      "classification report-logistic(l2)+SMOTE-train\n",
      "              precision    recall  f1-score   support\n",
      "\n",
      "           0       0.62      0.65      0.63       243\n",
      "           1       0.63      0.60      0.61       243\n",
      "\n",
      "    accuracy                           0.62       486\n",
      "   macro avg       0.62      0.62      0.62       486\n",
      "weighted avg       0.62      0.62      0.62       486\n",
      "\n",
      "LogReg: ROC AUC =  62.1 %\n",
      "LogReg: Precision =  62.8 %\n",
      "LogReg: Recall =  59.7 %\n",
      "LogReg: Accuracy =  62.1 %\n",
      "LogReg: F1-Score =  61.2 %\n"
     ]
    },
    {
     "data": {
      "text/plain": [
       "array([[157,  86],\n",
       "       [ 98, 145]], dtype=int64)"
      ]
     },
     "execution_count": 355,
     "metadata": {},
     "output_type": "execute_result"
    }
   ],
   "source": [
    "# Predict the train data\n",
    "y_predicted = log_clf_hyp.predict(xtrain_sm)\n",
    "\n",
    "print('\\nclassification report-logistic(l2)+SMOTE-train')\n",
    "print(classification_report(ytrain_sm, y_predicted)) # generate the precision, recall, f-1 score, num\n",
    "print('LogReg: ROC AUC = ',str(round(roc_auc_score(ytrain_sm, y_predicted)*100,1)), '%')\n",
    "print('LogReg: Precision = ',str(round(precision_score(ytrain_sm, y_predicted)*100,1)), '%')\n",
    "print('LogReg: Recall = ',str(round(recall_score(ytrain_sm, y_predicted)*100,1)), '%')\n",
    "print('LogReg: Accuracy = ',str(round(accuracy_score(ytrain_sm, y_predicted)*100,1)), '%')\n",
    "print('LogReg: F1-Score = ',str(round(f1_score(ytrain_sm, y_predicted)*100,1)), '%')\n",
    "confusion_matrix(ytrain_sm, y_predicted)"
   ]
  },
  {
   "cell_type": "code",
   "execution_count": 356,
   "id": "5bfcc43e",
   "metadata": {},
   "outputs": [
    {
     "name": "stdout",
     "output_type": "stream",
     "text": [
      "\n",
      "classification report-logistic(l2)+SMOTE-test\n",
      "              precision    recall  f1-score   support\n",
      "\n",
      "           0       0.54      0.59      0.56        49\n",
      "           1       0.60      0.55      0.57        55\n",
      "\n",
      "    accuracy                           0.57       104\n",
      "   macro avg       0.57      0.57      0.57       104\n",
      "weighted avg       0.57      0.57      0.57       104\n",
      "\n",
      "LogReg: ROC AUC =  56.9 %\n",
      "LogReg: Precision =  60.0 %\n",
      "LogReg: Recall =  54.5 %\n",
      "LogReg: Accuracy =  56.7 %\n",
      "LogReg: F1-Score =  57.1 %\n"
     ]
    },
    {
     "data": {
      "text/plain": [
       "array([[29, 20],\n",
       "       [25, 30]], dtype=int64)"
      ]
     },
     "execution_count": 356,
     "metadata": {},
     "output_type": "execute_result"
    }
   ],
   "source": [
    "# Predict the test data\n",
    "y_predicted = log_clf_hyp.predict( xtest)\n",
    "\n",
    "print('\\nclassification report-logistic(l2)+SMOTE-test')\n",
    "print(classification_report(ytest, y_predicted)) # generate the precision, recall, f-1 score, num\n",
    "print('LogReg: ROC AUC = ',str(round(roc_auc_score(ytest, y_predicted)*100,1)), '%')\n",
    "print('LogReg: Precision = ',str(round(precision_score(ytest, y_predicted)*100,1)), '%')\n",
    "print('LogReg: Recall = ',str(round(recall_score(ytest, y_predicted)*100,1)), '%')\n",
    "print('LogReg: Accuracy = ',str(round(accuracy_score(ytest, y_predicted)*100,1)), '%')\n",
    "print('LogReg: F1-Score = ',str(round(f1_score(ytest, y_predicted)*100,1)), '%')\n",
    "confusion_matrix(ytest, y_predicted)"
   ]
  },
  {
   "cell_type": "code",
   "execution_count": 357,
   "id": "b94ed3f0",
   "metadata": {},
   "outputs": [],
   "source": [
    "# filename = 'LR-Ridge+SMOTE-New.pkl'\n",
    "# pickle.dump(grid_search, open(filename, 'wb'))"
   ]
  },
  {
   "cell_type": "markdown",
   "id": "794fc9fb",
   "metadata": {},
   "source": [
    "### elasticnet"
   ]
  },
  {
   "cell_type": "code",
   "execution_count": 366,
   "id": "34413a6a",
   "metadata": {},
   "outputs": [
    {
     "name": "stdout",
     "output_type": "stream",
     "text": [
      "Fitting 30 folds for each of 63 candidates, totalling 1890 fits\n"
     ]
    }
   ],
   "source": [
    "logModel  = LogisticRegression(random_state=42)\n",
    "param_grid = [    \n",
    "    {'solver' : [ 'saga'],\n",
    "    'penalty' : [   'elasticnet'  ], #'None', 'l1', 'l2', 'elasticnet'\n",
    "    'C' :  [1e-5, 1e-4, 1e-3, 1e-2, 1e-1,1, 10],\n",
    "    'max_iter': [2000],\n",
    "    'l1_ratio': [0.1,0.2,0.3,0.4,0.5,0.6,0.7,0.8,0.9]\n",
    "    }\n",
    "]\n",
    "\n",
    "cv = RepeatedStratifiedKFold(n_splits=10, n_repeats=3, random_state=42)\n",
    "log_grid = GridSearchCV(logModel, param_grid = param_grid , verbose=True, n_jobs=-1, cv=cv , scoring='f1')\n",
    "log_clf_hyp = log_grid.fit(xtrain_sm,ytrain_sm)"
   ]
  },
  {
   "cell_type": "code",
   "execution_count": 367,
   "id": "5a18d0f6",
   "metadata": {},
   "outputs": [
    {
     "data": {
      "text/plain": [
       "LogisticRegression(C=10, l1_ratio=0.1, max_iter=2000, penalty='elasticnet',\n",
       "                   random_state=42, solver='saga')"
      ]
     },
     "execution_count": 367,
     "metadata": {},
     "output_type": "execute_result"
    }
   ],
   "source": [
    "log_clf_hyp.best_estimator_"
   ]
  },
  {
   "cell_type": "code",
   "execution_count": 368,
   "id": "aa8b2467",
   "metadata": {},
   "outputs": [
    {
     "name": "stdout",
     "output_type": "stream",
     "text": [
      "\n",
      "classification report-logistic(enet)+SMOTE-train\n",
      "              precision    recall  f1-score   support\n",
      "\n",
      "           0       0.62      0.65      0.63       243\n",
      "           1       0.63      0.60      0.61       243\n",
      "\n",
      "    accuracy                           0.62       486\n",
      "   macro avg       0.62      0.62      0.62       486\n",
      "weighted avg       0.62      0.62      0.62       486\n",
      "\n",
      "LogReg: ROC AUC =  62.3 %\n",
      "LogReg: Precision =  62.9 %\n",
      "LogReg: Recall =  60.1 %\n",
      "LogReg: Accuracy =  62.3 %\n",
      "LogReg: F1-Score =  61.5 %\n"
     ]
    },
    {
     "data": {
      "text/plain": [
       "array([[157,  86],\n",
       "       [ 97, 146]], dtype=int64)"
      ]
     },
     "execution_count": 368,
     "metadata": {},
     "output_type": "execute_result"
    }
   ],
   "source": [
    "# Predict the train data\n",
    "y_predicted = log_clf_hyp.predict(xtrain_sm)\n",
    "\n",
    "print('\\nclassification report-logistic(enet)+SMOTE-train')\n",
    "print(classification_report(ytrain_sm, y_predicted)) # generate the precision, recall, f-1 score, num\n",
    "print('LogReg: ROC AUC = ',str(round(roc_auc_score(ytrain_sm, y_predicted)*100,1)), '%')\n",
    "print('LogReg: Precision = ',str(round(precision_score(ytrain_sm, y_predicted)*100,1)), '%')\n",
    "print('LogReg: Recall = ',str(round(recall_score(ytrain_sm, y_predicted)*100,1)), '%')\n",
    "print('LogReg: Accuracy = ',str(round(accuracy_score(ytrain_sm, y_predicted)*100,1)), '%')\n",
    "print('LogReg: F1-Score = ',str(round(f1_score(ytrain_sm, y_predicted)*100,1)), '%')\n",
    "confusion_matrix(ytrain_sm, y_predicted)"
   ]
  },
  {
   "cell_type": "code",
   "execution_count": 369,
   "id": "b8d56c6c",
   "metadata": {},
   "outputs": [
    {
     "name": "stdout",
     "output_type": "stream",
     "text": [
      "\n",
      "classification report-logistic(enet)+SMOTE-test\n",
      "              precision    recall  f1-score   support\n",
      "\n",
      "           0       0.54      0.59      0.56        49\n",
      "           1       0.60      0.55      0.57        55\n",
      "\n",
      "    accuracy                           0.57       104\n",
      "   macro avg       0.57      0.57      0.57       104\n",
      "weighted avg       0.57      0.57      0.57       104\n",
      "\n",
      "LogReg: ROC AUC =  56.9 %\n",
      "LogReg: Precision =  60.0 %\n",
      "LogReg: Recall =  54.5 %\n",
      "LogReg: Accuracy =  56.7 %\n",
      "LogReg: F1-Score =  57.1 %\n"
     ]
    },
    {
     "data": {
      "text/plain": [
       "array([[29, 20],\n",
       "       [25, 30]], dtype=int64)"
      ]
     },
     "execution_count": 369,
     "metadata": {},
     "output_type": "execute_result"
    }
   ],
   "source": [
    "# Predict the test data\n",
    "y_predicted = log_clf_hyp.predict( xtest)\n",
    "\n",
    "print('\\nclassification report-logistic(enet)+SMOTE-test')\n",
    "print(classification_report(ytest, y_predicted)) # generate the precision, recall, f-1 score, num\n",
    "print('LogReg: ROC AUC = ',str(round(roc_auc_score(ytest, y_predicted)*100,1)), '%')\n",
    "print('LogReg: Precision = ',str(round(precision_score(ytest, y_predicted)*100,1)), '%')\n",
    "print('LogReg: Recall = ',str(round(recall_score(ytest, y_predicted)*100,1)), '%')\n",
    "print('LogReg: Accuracy = ',str(round(accuracy_score(ytest, y_predicted)*100,1)), '%')\n",
    "print('LogReg: F1-Score = ',str(round(f1_score(ytest, y_predicted)*100,1)), '%')\n",
    "confusion_matrix(ytest, y_predicted)"
   ]
  },
  {
   "cell_type": "code",
   "execution_count": 370,
   "id": "cdbe87d2",
   "metadata": {},
   "outputs": [],
   "source": [
    "# filename = 'LR-Enet+SMOTE-New.pkl'\n",
    "# pickle.dump(grid_search, open(filename, 'wb'))"
   ]
  },
  {
   "cell_type": "markdown",
   "id": "c85d5756",
   "metadata": {},
   "source": [
    "## SVM with hyperparameter tuning"
   ]
  },
  {
   "cell_type": "markdown",
   "id": "4514f1e4",
   "metadata": {},
   "source": [
    "### SVM"
   ]
  },
  {
   "cell_type": "code",
   "execution_count": 371,
   "id": "ed4ac6c0",
   "metadata": {},
   "outputs": [],
   "source": [
    "from sklearn.svm import SVC"
   ]
  },
  {
   "cell_type": "code",
   "execution_count": 424,
   "id": "055fc999",
   "metadata": {},
   "outputs": [
    {
     "name": "stdout",
     "output_type": "stream",
     "text": [
      "Fitting 30 folds for each of 4 candidates, totalling 120 fits\n"
     ]
    }
   ],
   "source": [
    "# define model\n",
    "model = SVC(random_state=42)\n",
    "\n",
    "# define grid search\n",
    "param_grid = [    \n",
    "{'kernel' : ['poly', 'rbf'   ],\n",
    "     'gamma' :['scale', 'auto' ],\n",
    "    'C': [  1]\n",
    " \n",
    "    }\n",
    "]\n",
    "\n",
    "cv = RepeatedStratifiedKFold(n_splits=10, n_repeats=3, random_state=1)\n",
    "grid_search = GridSearchCV(estimator=model, param_grid=param_grid, verbose=True, n_jobs=-1, cv=cv , scoring = 'f1', error_score=0)\n",
    "grid_result = grid_search.fit(xtrain_sm, ytrain_sm)"
   ]
  },
  {
   "cell_type": "code",
   "execution_count": 425,
   "id": "25c5398f",
   "metadata": {},
   "outputs": [
    {
     "data": {
      "text/plain": [
       "SVC(C=1, gamma='auto', random_state=42)"
      ]
     },
     "execution_count": 425,
     "metadata": {},
     "output_type": "execute_result"
    }
   ],
   "source": [
    "grid_search.best_estimator_"
   ]
  },
  {
   "cell_type": "code",
   "execution_count": 426,
   "id": "0a60cee9",
   "metadata": {},
   "outputs": [
    {
     "data": {
      "text/plain": [
       "({'C': 1, 'gamma': 'auto', 'kernel': 'rbf'}, 0.5134483410352305)"
      ]
     },
     "execution_count": 426,
     "metadata": {},
     "output_type": "execute_result"
    }
   ],
   "source": [
    "grid_search.best_params_, grid_search.best_score_"
   ]
  },
  {
   "cell_type": "code",
   "execution_count": 427,
   "id": "d800b544",
   "metadata": {},
   "outputs": [
    {
     "name": "stdout",
     "output_type": "stream",
     "text": [
      "\n",
      "classification report- SVM+ SMOTE -Train\n",
      "\n",
      "\n",
      "\n",
      "              precision    recall  f1-score   support\n",
      "\n",
      "           0       0.66      0.75      0.70       243\n",
      "           1       0.71      0.60      0.65       243\n",
      "\n",
      "    accuracy                           0.68       486\n",
      "   macro avg       0.68      0.68      0.68       486\n",
      "weighted avg       0.68      0.68      0.68       486\n",
      "\n",
      " ROC AUC =  67.9 %\n",
      " Precision =  71.0 %\n",
      " Recall =  60.5 %\n",
      " Accuracy =  67.9 %\n",
      " F1-Score =  65.3 %\n"
     ]
    },
    {
     "data": {
      "text/plain": [
       "array([[183,  60],\n",
       "       [ 96, 147]], dtype=int64)"
      ]
     },
     "execution_count": 427,
     "metadata": {},
     "output_type": "execute_result"
    }
   ],
   "source": [
    "# Predict the train data\n",
    "y_predicted = grid_search.predict(xtrain_sm)\n",
    "\n",
    "print('\\nclassification report- SVM+ SMOTE -Train')\n",
    "print('\\n\\n')\n",
    "print(classification_report(ytrain_sm, y_predicted)) \n",
    "print(' ROC AUC = ',str(round(roc_auc_score(ytrain_sm, y_predicted)*100,1)), '%')\n",
    "print(' Precision = ',str(round(precision_score(ytrain_sm, y_predicted)*100,1)), '%')\n",
    "print(' Recall = ',str(round(recall_score(ytrain_sm, y_predicted)*100,1)), '%')\n",
    "print(' Accuracy = ',str(round(accuracy_score(ytrain_sm, y_predicted)*100,1)), '%')\n",
    "print(' F1-Score = ',str(round(f1_score(ytrain_sm, y_predicted)*100,1)), '%')\n",
    "confusion_matrix(ytrain_sm, y_predicted)"
   ]
  },
  {
   "cell_type": "code",
   "execution_count": 429,
   "id": "0d13a5eb",
   "metadata": {},
   "outputs": [
    {
     "name": "stdout",
     "output_type": "stream",
     "text": [
      "\n",
      "classification report- SVM+ SMOTE -Test\n",
      "\n",
      "\n",
      "\n",
      "              precision    recall  f1-score   support\n",
      "\n",
      "           0       0.57      0.67      0.62        49\n",
      "           1       0.65      0.55      0.59        55\n",
      "\n",
      "    accuracy                           0.61       104\n",
      "   macro avg       0.61      0.61      0.61       104\n",
      "weighted avg       0.61      0.61      0.60       104\n",
      "\n",
      " ROC AUC =  60.9 %\n",
      " Precision =  65.2 %\n",
      " Recall =  54.5 %\n",
      " Accuracy =  60.6 %\n",
      " F1-Score =  59.4 %\n"
     ]
    },
    {
     "data": {
      "text/plain": [
       "array([[33, 16],\n",
       "       [25, 30]], dtype=int64)"
      ]
     },
     "execution_count": 429,
     "metadata": {},
     "output_type": "execute_result"
    }
   ],
   "source": [
    "# Predict the test data\n",
    "y_predicted = grid_search.predict(xtest)\n",
    "\n",
    "print('\\nclassification report- SVM+ SMOTE -Test')\n",
    "print('\\n\\n')\n",
    "print(classification_report(ytest, y_predicted))  \n",
    "print(' ROC AUC = ',str(round(roc_auc_score(ytest, y_predicted)*100,1)), '%')\n",
    "print(' Precision = ',str(round(precision_score(ytest, y_predicted)*100,1)), '%')\n",
    "print(' Recall = ',str(round(recall_score(ytest, y_predicted)*100,1)), '%')\n",
    "print(' Accuracy = ',str(round(accuracy_score(ytest, y_predicted)*100,1)), '%')\n",
    "print(' F1-Score = ',str(round(f1_score(ytest, y_predicted)*100,1)), '%')\n",
    "confusion_matrix(ytest, y_predicted)"
   ]
  },
  {
   "cell_type": "code",
   "execution_count": 428,
   "id": "d2d6ad6c",
   "metadata": {},
   "outputs": [],
   "source": [
    "# filename = 'SVM+SMOTE-New.pkl'\n",
    "# pickle.dump(grid_search, open(filename, 'wb'))"
   ]
  },
  {
   "cell_type": "markdown",
   "id": "4b22ff0c",
   "metadata": {},
   "source": [
    "## KNN"
   ]
  },
  {
   "cell_type": "code",
   "execution_count": 13,
   "id": "a9bf57f2",
   "metadata": {},
   "outputs": [],
   "source": [
    "from sklearn.neighbors import KNeighborsClassifier # The k-nearest neighbor classifier\n",
    "from sklearn.feature_selection import VarianceThreshold # Feature selector\n",
    "from sklearn.pipeline import Pipeline # For setting up pipeline\n",
    "# Various pre-processing steps\n",
    "from sklearn.preprocessing import Normalizer, StandardScaler, MinMaxScaler, PowerTransformer, MaxAbsScaler, LabelEncoder\n",
    "from sklearn.model_selection import GridSearchCV # For optimization"
   ]
  },
  {
   "cell_type": "code",
   "execution_count": 42,
   "id": "b1cf350c",
   "metadata": {},
   "outputs": [],
   "source": [
    "pipe = Pipeline([\n",
    "('classifier', KNeighborsClassifier())\n",
    "])"
   ]
  },
  {
   "cell_type": "code",
   "execution_count": 84,
   "id": "614cec36",
   "metadata": {},
   "outputs": [],
   "source": [
    "parameters = { \n",
    " 'classifier__n_neighbors': [  10, 15, 17, 19, 21],\n",
    " 'classifier__p': [1, 2],\n",
    " 'classifier__leaf_size':   [1, 5, 10, 15],\n",
    " 'classifier__weights': ['uniform'  ],\n",
    " 'classifier__metric' : ['euclidean', 'manhattan', 'minkowski']\n",
    "}"
   ]
  },
  {
   "cell_type": "code",
   "execution_count": 85,
   "id": "6eb53352",
   "metadata": {},
   "outputs": [
    {
     "name": "stdout",
     "output_type": "stream",
     "text": [
      "Fitting 30 folds for each of 120 candidates, totalling 3600 fits\n"
     ]
    }
   ],
   "source": [
    "cv = RepeatedStratifiedKFold(n_splits=10, n_repeats=3, random_state=1)\n",
    "grid = GridSearchCV(pipe, parameters,verbose=True, n_jobs=-1, cv=cv , scoring = 'f1', error_score=0).fit(xtrain_sm  , ytrain_sm  )"
   ]
  },
  {
   "cell_type": "code",
   "execution_count": 86,
   "id": "6adbbf1f",
   "metadata": {
    "scrolled": true
   },
   "outputs": [
    {
     "data": {
      "text/plain": [
       "Pipeline(steps=[('classifier',\n",
       "                 KNeighborsClassifier(leaf_size=1, metric='manhattan',\n",
       "                                      n_neighbors=19, p=1))])"
      ]
     },
     "execution_count": 86,
     "metadata": {},
     "output_type": "execute_result"
    }
   ],
   "source": [
    "grid.best_estimator_"
   ]
  },
  {
   "cell_type": "code",
   "execution_count": 87,
   "id": "987c9841",
   "metadata": {},
   "outputs": [
    {
     "data": {
      "text/plain": [
       "({'classifier__leaf_size': 1,\n",
       "  'classifier__metric': 'manhattan',\n",
       "  'classifier__n_neighbors': 19,\n",
       "  'classifier__p': 1,\n",
       "  'classifier__weights': 'uniform'},\n",
       " 0.5073912712773707)"
      ]
     },
     "execution_count": 87,
     "metadata": {},
     "output_type": "execute_result"
    }
   ],
   "source": [
    "grid.best_params_, grid.best_score_"
   ]
  },
  {
   "cell_type": "code",
   "execution_count": 88,
   "id": "f26cf7ba",
   "metadata": {},
   "outputs": [
    {
     "name": "stdout",
     "output_type": "stream",
     "text": [
      "\n",
      "classification report -  RF+ SMOTE -Train\n",
      "\n",
      "\n",
      "\n",
      "              precision    recall  f1-score   support\n",
      "\n",
      "           0       0.59      0.65      0.62       243\n",
      "           1       0.61      0.55      0.58       243\n",
      "\n",
      "    accuracy                           0.60       486\n",
      "   macro avg       0.60      0.60      0.60       486\n",
      "weighted avg       0.60      0.60      0.60       486\n",
      "\n",
      " ROC AUC =  59.9 %\n",
      " Precision =  61.0 %\n",
      " Recall =  54.7 %\n",
      " Accuracy =  59.9 %\n",
      " F1-Score =  57.7 %\n"
     ]
    },
    {
     "data": {
      "text/plain": [
       "array([[158,  85],\n",
       "       [110, 133]], dtype=int64)"
      ]
     },
     "execution_count": 88,
     "metadata": {},
     "output_type": "execute_result"
    }
   ],
   "source": [
    "y_predicted = grid.predict(xtrain_sm)\n",
    "\n",
    "print('\\nclassification report -  RF+ SMOTE -Train')\n",
    "print('\\n\\n')\n",
    "print(classification_report(ytrain_sm, y_predicted)) # generate the precision, recall, f-1 score, num\n",
    "print(' ROC AUC = ',str(round(roc_auc_score(ytrain_sm, y_predicted)*100,1)), '%')\n",
    "print(' Precision = ',str(round(precision_score(ytrain_sm, y_predicted)*100,1)), '%')\n",
    "print(' Recall = ',str(round(recall_score(ytrain_sm, y_predicted)*100,1)), '%')\n",
    "print(' Accuracy = ',str(round(accuracy_score(ytrain_sm, y_predicted)*100,1)), '%')\n",
    "print(' F1-Score = ',str(round(f1_score(ytrain_sm, y_predicted)*100,1)), '%')\n",
    "confusion_matrix(ytrain_sm, y_predicted)"
   ]
  },
  {
   "cell_type": "code",
   "execution_count": 89,
   "id": "c394010d",
   "metadata": {},
   "outputs": [
    {
     "name": "stdout",
     "output_type": "stream",
     "text": [
      "\n",
      "classification report- RF+ SMOTE -Test\n",
      "\n",
      "\n",
      "\n",
      "              precision    recall  f1-score   support\n",
      "\n",
      "           0       0.54      0.65      0.59        49\n",
      "           1       0.62      0.51      0.56        55\n",
      "\n",
      "    accuracy                           0.58       104\n",
      "   macro avg       0.58      0.58      0.58       104\n",
      "weighted avg       0.58      0.58      0.58       104\n",
      "\n",
      "Random Forest: ROC AUC =  58.1 %\n",
      "Random Forest: Precision =  62.2 %\n",
      "Random Forest: Recall =  50.9 %\n",
      "Random Forest: Accuracy =  57.7 %\n",
      "Random Forest: F1-Score =  56.0 %\n"
     ]
    },
    {
     "data": {
      "text/plain": [
       "array([[32, 17],\n",
       "       [27, 28]], dtype=int64)"
      ]
     },
     "execution_count": 89,
     "metadata": {},
     "output_type": "execute_result"
    }
   ],
   "source": [
    "# Predict the test data\n",
    "y_predicted = grid.predict(xtest)\n",
    "\n",
    "print('\\nclassification report- RF+ SMOTE -Test')\n",
    "print('\\n\\n')\n",
    "print(classification_report(ytest, y_predicted)) # generate the precision, recall, f-1 score, num\n",
    "print('Random Forest: ROC AUC = ',str(round(roc_auc_score(ytest, y_predicted)*100,1)), '%')\n",
    "print('Random Forest: Precision = ',str(round(precision_score(ytest, y_predicted)*100,1)), '%')\n",
    "print('Random Forest: Recall = ',str(round(recall_score(ytest, y_predicted)*100,1)), '%')\n",
    "print('Random Forest: Accuracy = ',str(round(accuracy_score(ytest, y_predicted)*100,1)), '%')\n",
    "print('Random Forest: F1-Score = ',str(round(f1_score(ytest, y_predicted)*100,1)), '%')\n",
    "confusion_matrix(ytest, y_predicted)"
   ]
  },
  {
   "cell_type": "markdown",
   "id": "80c6851a",
   "metadata": {},
   "source": [
    "## GNB"
   ]
  },
  {
   "cell_type": "code",
   "execution_count": 124,
   "id": "32d8af5e",
   "metadata": {},
   "outputs": [],
   "source": [
    "import random\n",
    "\n",
    "def set_random_seed(seed=100):\n",
    "  np.random.seed(seed)\n",
    "  random.seed(seed)\n",
    "    \n",
    "set_random_seed(100)"
   ]
  },
  {
   "cell_type": "code",
   "execution_count": 143,
   "id": "7b51e565",
   "metadata": {},
   "outputs": [
    {
     "data": {
      "text/plain": [
       "GaussianNB(var_smoothing=1.0)"
      ]
     },
     "execution_count": 143,
     "metadata": {},
     "output_type": "execute_result"
    }
   ],
   "source": [
    "from sklearn.naive_bayes import GaussianNB\n",
    "\n",
    "gnb_clf_hyp = GaussianNB(var_smoothing=10e-1 ) \n",
    "gnb_clf_hyp.fit(xtrain_sm, ytrain_sm)"
   ]
  },
  {
   "cell_type": "code",
   "execution_count": 144,
   "id": "ab4c9b38",
   "metadata": {},
   "outputs": [
    {
     "name": "stdout",
     "output_type": "stream",
     "text": [
      "\n",
      "classification report -  RF+ SMOTE -Train\n",
      "\n",
      "\n",
      "\n",
      "              precision    recall  f1-score   support\n",
      "\n",
      "           0       0.58      0.74      0.65       243\n",
      "           1       0.64      0.47      0.55       243\n",
      "\n",
      "    accuracy                           0.60       486\n",
      "   macro avg       0.61      0.60      0.60       486\n",
      "weighted avg       0.61      0.60      0.60       486\n",
      "\n",
      " ROC AUC =  60.5 %\n",
      " Precision =  64.2 %\n",
      " Recall =  47.3 %\n",
      " Accuracy =  60.5 %\n",
      " F1-Score =  54.5 %\n"
     ]
    },
    {
     "data": {
      "text/plain": [
       "array([[179,  64],\n",
       "       [128, 115]], dtype=int64)"
      ]
     },
     "execution_count": 144,
     "metadata": {},
     "output_type": "execute_result"
    }
   ],
   "source": [
    "y_predicted = gnb_clf_hyp.predict(xtrain_sm)\n",
    "\n",
    "print('\\nclassification report -  RF+ SMOTE -Train')\n",
    "print('\\n\\n')\n",
    "print(classification_report(ytrain_sm, y_predicted)) # generate the precision, recall, f-1 score, num\n",
    "print(' ROC AUC = ',str(round(roc_auc_score(ytrain_sm, y_predicted)*100,1)), '%')\n",
    "print(' Precision = ',str(round(precision_score(ytrain_sm, y_predicted)*100,1)), '%')\n",
    "print(' Recall = ',str(round(recall_score(ytrain_sm, y_predicted)*100,1)), '%')\n",
    "print(' Accuracy = ',str(round(accuracy_score(ytrain_sm, y_predicted)*100,1)), '%')\n",
    "print(' F1-Score = ',str(round(f1_score(ytrain_sm, y_predicted)*100,1)), '%')\n",
    "confusion_matrix(ytrain_sm, y_predicted)"
   ]
  },
  {
   "cell_type": "code",
   "execution_count": 145,
   "id": "e3c228f4",
   "metadata": {},
   "outputs": [
    {
     "name": "stdout",
     "output_type": "stream",
     "text": [
      "\n",
      "classification report- RF+ SMOTE -Test\n",
      "\n",
      "\n",
      "\n",
      "              precision    recall  f1-score   support\n",
      "\n",
      "           0       0.54      0.71      0.61        49\n",
      "           1       0.64      0.45      0.53        55\n",
      "\n",
      "    accuracy                           0.58       104\n",
      "   macro avg       0.59      0.58      0.57       104\n",
      "weighted avg       0.59      0.58      0.57       104\n",
      "\n",
      "Random Forest: ROC AUC =  58.4 %\n",
      "Random Forest: Precision =  64.1 %\n",
      "Random Forest: Recall =  45.5 %\n",
      "Random Forest: Accuracy =  57.7 %\n",
      "Random Forest: F1-Score =  53.2 %\n"
     ]
    },
    {
     "data": {
      "text/plain": [
       "array([[35, 14],\n",
       "       [30, 25]], dtype=int64)"
      ]
     },
     "execution_count": 145,
     "metadata": {},
     "output_type": "execute_result"
    }
   ],
   "source": [
    "# Predict the test data\n",
    "y_predicted = gnb_clf_hyp.predict(xtest)\n",
    "\n",
    "print('\\nclassification report- RF+ SMOTE -Test')\n",
    "print('\\n\\n')\n",
    "print(classification_report(ytest, y_predicted)) # generate the precision, recall, f-1 score, num\n",
    "print('Random Forest: ROC AUC = ',str(round(roc_auc_score(ytest, y_predicted)*100,1)), '%')\n",
    "print('Random Forest: Precision = ',str(round(precision_score(ytest, y_predicted)*100,1)), '%')\n",
    "print('Random Forest: Recall = ',str(round(recall_score(ytest, y_predicted)*100,1)), '%')\n",
    "print('Random Forest: Accuracy = ',str(round(accuracy_score(ytest, y_predicted)*100,1)), '%')\n",
    "print('Random Forest: F1-Score = ',str(round(f1_score(ytest, y_predicted)*100,1)), '%')\n",
    "confusion_matrix(ytest, y_predicted)"
   ]
  },
  {
   "cell_type": "markdown",
   "id": "0b95de0f",
   "metadata": {},
   "source": [
    "## Random Forest"
   ]
  },
  {
   "cell_type": "markdown",
   "id": "61ff338c",
   "metadata": {},
   "source": [
    "## random forest - with hyperparameter tuning"
   ]
  },
  {
   "cell_type": "code",
   "execution_count": 13,
   "id": "33b022ee",
   "metadata": {},
   "outputs": [],
   "source": [
    "# explore random forest bootstrap sample size on performance\n",
    "from numpy import mean\n",
    "from numpy import std\n",
    "from numpy import arange\n",
    "from sklearn.datasets import make_classification\n",
    "from sklearn.model_selection import cross_val_score\n",
    "from sklearn.model_selection import RepeatedStratifiedKFold\n",
    "from sklearn.ensemble import RandomForestClassifier\n",
    "from matplotlib import pyplot\n",
    "from sklearn.model_selection import GridSearchCV # For optimization"
   ]
  },
  {
   "cell_type": "code",
   "execution_count": 15,
   "id": "a989a479",
   "metadata": {},
   "outputs": [],
   "source": [
    "# # define models and parameters\n",
    "# model = RandomForestClassifier(random_state=42)\n",
    "# param_grid = [    \n",
    "#     {'n_estimators' : [2000],\n",
    "#     'criterion': ['gini', 'entropy'],\n",
    "#     'max_features':['auto', 'sqrt', 0.2, 0.4],\n",
    "#      'min_samples_leaf': [50 ],\n",
    "#      'oob_score':[True],\n",
    "#      'min_samples_split':[6]\n",
    "#     }\n",
    "# ]\n",
    "# cv = RepeatedStratifiedKFold(n_splits=10, n_repeats=3, random_state=1)\n",
    "# grid_search = GridSearchCV(estimator=model, param_grid= param_grid, n_jobs=-1,  cv=cv, scoring='f1',error_score='raise')\n",
    "# grid_result = grid_search.fit(xtrain_sm, ytrain_sm)"
   ]
  },
  {
   "cell_type": "code",
   "execution_count": 16,
   "id": "4e17b64a",
   "metadata": {},
   "outputs": [],
   "source": [
    "# define models and parameters\n",
    "model = RandomForestClassifier(random_state=42)\n",
    "param_grid = [    \n",
    "    {'n_estimators' : [2000],\n",
    "    'criterion': ['gini' ],\n",
    "    'max_features':[ 0.2],\n",
    "     'min_samples_leaf': [50 ],\n",
    "     'oob_score':[True],\n",
    "     'min_samples_split':[6]\n",
    "    }\n",
    "]\n",
    "cv = RepeatedStratifiedKFold(n_splits=10, n_repeats=3, random_state=1)\n",
    "grid_search = GridSearchCV(estimator=model, param_grid= param_grid, n_jobs=-1,  cv=cv, scoring='f1',error_score='raise')\n",
    "grid_result = grid_search.fit(xtrain_sm, ytrain_sm)"
   ]
  },
  {
   "cell_type": "code",
   "execution_count": 17,
   "id": "5bdeaa8c",
   "metadata": {},
   "outputs": [
    {
     "data": {
      "text/plain": [
       "RandomForestClassifier(max_features=0.2, min_samples_leaf=50,\n",
       "                       min_samples_split=6, n_estimators=2000, oob_score=True,\n",
       "                       random_state=42)"
      ]
     },
     "execution_count": 17,
     "metadata": {},
     "output_type": "execute_result"
    }
   ],
   "source": [
    "grid_search.best_estimator_"
   ]
  },
  {
   "cell_type": "code",
   "execution_count": 18,
   "id": "26ce6af9",
   "metadata": {},
   "outputs": [
    {
     "data": {
      "text/plain": [
       "({'criterion': 'gini',\n",
       "  'max_features': 0.2,\n",
       "  'min_samples_leaf': 50,\n",
       "  'min_samples_split': 6,\n",
       "  'n_estimators': 2000,\n",
       "  'oob_score': True},\n",
       " 0.5686278140517126)"
      ]
     },
     "execution_count": 18,
     "metadata": {},
     "output_type": "execute_result"
    }
   ],
   "source": [
    "grid_search.best_params_, grid_search.best_score_"
   ]
  },
  {
   "cell_type": "code",
   "execution_count": 19,
   "id": "2a7db0a8",
   "metadata": {},
   "outputs": [
    {
     "name": "stdout",
     "output_type": "stream",
     "text": [
      "\n",
      "classification report -  RF+ SMOTE -Train\n",
      "\n",
      "\n",
      "\n",
      "              precision    recall  f1-score   support\n",
      "\n",
      "           0       0.63      0.69      0.66       243\n",
      "           1       0.66      0.60      0.63       243\n",
      "\n",
      "    accuracy                           0.65       486\n",
      "   macro avg       0.65      0.65      0.65       486\n",
      "weighted avg       0.65      0.65      0.65       486\n",
      "\n",
      " ROC AUC =  64.6 %\n",
      " Precision =  66.1 %\n",
      " Recall =  60.1 %\n",
      " Accuracy =  64.6 %\n",
      " F1-Score =  62.9 %\n"
     ]
    },
    {
     "data": {
      "text/plain": [
       "array([[168,  75],\n",
       "       [ 97, 146]], dtype=int64)"
      ]
     },
     "execution_count": 19,
     "metadata": {},
     "output_type": "execute_result"
    }
   ],
   "source": [
    "y_predicted = grid_search.predict(xtrain_sm)\n",
    "\n",
    "print('\\nclassification report -  RF+ SMOTE -Train')\n",
    "print('\\n\\n')\n",
    "print(classification_report(ytrain_sm, y_predicted)) # generate the precision, recall, f-1 score, num\n",
    "print(' ROC AUC = ',str(round(roc_auc_score(ytrain_sm, y_predicted)*100,1)), '%')\n",
    "print(' Precision = ',str(round(precision_score(ytrain_sm, y_predicted)*100,1)), '%')\n",
    "print(' Recall = ',str(round(recall_score(ytrain_sm, y_predicted)*100,1)), '%')\n",
    "print(' Accuracy = ',str(round(accuracy_score(ytrain_sm, y_predicted)*100,1)), '%')\n",
    "print(' F1-Score = ',str(round(f1_score(ytrain_sm, y_predicted)*100,1)), '%')\n",
    "confusion_matrix(ytrain_sm, y_predicted)"
   ]
  },
  {
   "cell_type": "code",
   "execution_count": 20,
   "id": "6040f649",
   "metadata": {},
   "outputs": [
    {
     "name": "stdout",
     "output_type": "stream",
     "text": [
      "\n",
      "classification report- RF+ SMOTE -Test\n",
      "\n",
      "\n",
      "\n",
      "              precision    recall  f1-score   support\n",
      "\n",
      "           0       0.58      0.67      0.62        49\n",
      "           1       0.66      0.56      0.61        55\n",
      "\n",
      "    accuracy                           0.62       104\n",
      "   macro avg       0.62      0.62      0.62       104\n",
      "weighted avg       0.62      0.62      0.61       104\n",
      "\n",
      "Random Forest: ROC AUC =  61.9 %\n",
      "Random Forest: Precision =  66.0 %\n",
      "Random Forest: Recall =  56.4 %\n",
      "Random Forest: Accuracy =  61.5 %\n",
      "Random Forest: F1-Score =  60.8 %\n"
     ]
    },
    {
     "data": {
      "text/plain": [
       "array([[33, 16],\n",
       "       [24, 31]], dtype=int64)"
      ]
     },
     "execution_count": 20,
     "metadata": {},
     "output_type": "execute_result"
    }
   ],
   "source": [
    "# Predict the test data\n",
    "y_predicted = grid_search.predict(xtest)\n",
    "\n",
    "print('\\nclassification report- RF+ SMOTE -Test')\n",
    "print('\\n\\n')\n",
    "print(classification_report(ytest, y_predicted)) # generate the precision, recall, f-1 score, num\n",
    "print('Random Forest: ROC AUC = ',str(round(roc_auc_score(ytest, y_predicted)*100,1)), '%')\n",
    "print('Random Forest: Precision = ',str(round(precision_score(ytest, y_predicted)*100,1)), '%')\n",
    "print('Random Forest: Recall = ',str(round(recall_score(ytest, y_predicted)*100,1)), '%')\n",
    "print('Random Forest: Accuracy = ',str(round(accuracy_score(ytest, y_predicted)*100,1)), '%')\n",
    "print('Random Forest: F1-Score = ',str(round(f1_score(ytest, y_predicted)*100,1)), '%')\n",
    "confusion_matrix(ytest, y_predicted)"
   ]
  },
  {
   "cell_type": "code",
   "execution_count": 460,
   "id": "bc39bd61",
   "metadata": {},
   "outputs": [],
   "source": [
    "# filename = 'RF+SMOTE-New.pkl'\n",
    "# pickle.dump(grid_search, open(filename, 'wb'))"
   ]
  },
  {
   "cell_type": "code",
   "execution_count": 21,
   "id": "6cd3bf8c",
   "metadata": {},
   "outputs": [
    {
     "data": {
      "image/png": "[encoded data removed]",
      "text/plain": [
       "<Figure size 1000x500 with 1 Axes>"
      ]
     },
     "metadata": {},
     "output_type": "display_data"
    }
   ],
   "source": [
    "# get importance\n",
    "importance = grid_search.best_estimator_.feature_importances_\n",
    "#Important variables\n",
    "importances_rf = pd.DataFrame(data = {'Attribute': encoded_xtrain.columns, 'Importance': grid_search.best_estimator_.feature_importances_})\n",
    "importances_rf = importances_rf.sort_values(by='Importance', ascending = False)\n",
    "#plot\n",
    "plt.figure(figsize=(10,5))\n",
    "plt.bar(x=importances_rf['Attribute'], height = importances_rf['Importance'], color = '#087E8B')\n",
    "plt.title('Feature Importance - RF')\n",
    "plt.xticks(rotation='vertical')\n",
    "plt.show()"
   ]
  },
  {
   "cell_type": "markdown",
   "id": "17cce1d2",
   "metadata": {},
   "source": [
    "## BOOSTING"
   ]
  },
  {
   "cell_type": "markdown",
   "id": "35d6eb18",
   "metadata": {},
   "source": [
    "## Gradient Boosting With XGBoost"
   ]
  },
  {
   "cell_type": "code",
   "execution_count": 22,
   "id": "71a7aae3",
   "metadata": {},
   "outputs": [],
   "source": [
    "import xgboost as xgb"
   ]
  },
  {
   "cell_type": "code",
   "execution_count": 23,
   "id": "d230dc5d",
   "metadata": {},
   "outputs": [],
   "source": [
    "model = xgb.XGBClassifier(seed = 42)\n",
    "param_grid = [    \n",
    "    {'learning_rate' :[1e-6],# 8\n",
    "    'n_estimators':[2000],\n",
    " 'max_depth':[2], #2\n",
    " 'min_child_weight':[1],\n",
    " 'gamma':[0],\n",
    " 'subsample':[   0.4 ], #0.4\n",
    " 'colsample_bytree':[  0.55 ], #0.45\n",
    " 'objective': ['binary:logistic'],\n",
    " 'nthread':[4],\n",
    " 'scale_pos_weight':[1],\n",
    " 'reg_alpha':[1e-5 ]\n",
    "    }\n",
    "]\n",
    "cv = RepeatedStratifiedKFold(n_splits=10, n_repeats=3, random_state=1)\n",
    "grid_search = GridSearchCV(estimator=model, param_grid= param_grid,  cv=cv, n_jobs = -1, scoring='f1',error_score='raise', verbose=0 )\n",
    "grid_result = grid_search.fit(xtrain_sm, ytrain_sm)\n",
    "#,colsample_bytree':[ 0.1, 0.2 ]"
   ]
  },
  {
   "cell_type": "code",
   "execution_count": 24,
   "id": "a60d87b5",
   "metadata": {
    "scrolled": true
   },
   "outputs": [
    {
     "data": {
      "text/plain": [
       "XGBClassifier(base_score=0.5, booster='gbtree', callbacks=None,\n",
       "              colsample_bylevel=1, colsample_bynode=1, colsample_bytree=0.55,\n",
       "              early_stopping_rounds=None, enable_categorical=False,\n",
       "              eval_metric=None, feature_types=None, gamma=0, gpu_id=-1,\n",
       "              grow_policy='depthwise', importance_type=None,\n",
       "              interaction_constraints='', learning_rate=1e-06, max_bin=256,\n",
       "              max_cat_threshold=64, max_cat_to_onehot=4, max_delta_step=0,\n",
       "              max_depth=2, max_leaves=0, min_child_weight=1, missing=nan,\n",
       "              monotone_constraints='()', n_estimators=2000, n_jobs=4, nthread=4,\n",
       "              num_parallel_tree=1, predictor='auto', ...)"
      ]
     },
     "execution_count": 24,
     "metadata": {},
     "output_type": "execute_result"
    }
   ],
   "source": [
    "grid_search.best_estimator_"
   ]
  },
  {
   "cell_type": "code",
   "execution_count": 25,
   "id": "af510878",
   "metadata": {},
   "outputs": [
    {
     "data": {
      "text/plain": [
       "({'colsample_bytree': 0.55,\n",
       "  'gamma': 0,\n",
       "  'learning_rate': 1e-06,\n",
       "  'max_depth': 2,\n",
       "  'min_child_weight': 1,\n",
       "  'n_estimators': 2000,\n",
       "  'nthread': 4,\n",
       "  'objective': 'binary:logistic',\n",
       "  'reg_alpha': 1e-05,\n",
       "  'scale_pos_weight': 1,\n",
       "  'subsample': 0.4},\n",
       " 0.5466691969304031)"
      ]
     },
     "execution_count": 25,
     "metadata": {},
     "output_type": "execute_result"
    }
   ],
   "source": [
    "grid_search.best_params_, grid_search.best_score_"
   ]
  },
  {
   "cell_type": "code",
   "execution_count": 26,
   "id": "6fade77d",
   "metadata": {},
   "outputs": [
    {
     "name": "stdout",
     "output_type": "stream",
     "text": [
      "\n",
      "classification report -  XG+ SMOTE -Train\n",
      "\n",
      "\n",
      "\n",
      "              precision    recall  f1-score   support\n",
      "\n",
      "           0       0.62      0.71      0.66       243\n",
      "           1       0.66      0.57      0.61       243\n",
      "\n",
      "    accuracy                           0.64       486\n",
      "   macro avg       0.64      0.64      0.64       486\n",
      "weighted avg       0.64      0.64      0.64       486\n",
      "\n",
      " ROC AUC =  64.0 %\n",
      " Precision =  66.2 %\n",
      " Recall =  57.2 %\n",
      " Accuracy =  64.0 %\n",
      " F1-Score =  61.4 %\n"
     ]
    },
    {
     "data": {
      "text/plain": [
       "array([[172,  71],\n",
       "       [104, 139]], dtype=int64)"
      ]
     },
     "execution_count": 26,
     "metadata": {},
     "output_type": "execute_result"
    }
   ],
   "source": [
    "y_predicted = grid_search.predict(xtrain_sm)\n",
    "\n",
    "print('\\nclassification report -  XG+ SMOTE -Train')\n",
    "print('\\n\\n')\n",
    "print(classification_report(ytrain_sm, y_predicted)) # generate the precision, recall, f-1 score, num\n",
    "print(' ROC AUC = ',str(round(roc_auc_score(ytrain_sm, y_predicted)*100,1)), '%')\n",
    "print(' Precision = ',str(round(precision_score(ytrain_sm, y_predicted)*100,1)), '%')\n",
    "print(' Recall = ',str(round(recall_score(ytrain_sm, y_predicted)*100,1)), '%')\n",
    "print(' Accuracy = ',str(round(accuracy_score(ytrain_sm, y_predicted)*100,1)), '%')\n",
    "print(' F1-Score = ',str(round(f1_score(ytrain_sm, y_predicted)*100,1)), '%')\n",
    "confusion_matrix(ytrain_sm, y_predicted)"
   ]
  },
  {
   "cell_type": "code",
   "execution_count": 27,
   "id": "3a16b0f5",
   "metadata": {},
   "outputs": [
    {
     "name": "stdout",
     "output_type": "stream",
     "text": [
      "\n",
      "classification report- RF+ SMOTE -Test\n",
      "\n",
      "\n",
      "\n",
      "              precision    recall  f1-score   support\n",
      "\n",
      "           0       0.57      0.65      0.61        49\n",
      "           1       0.65      0.56      0.60        55\n",
      "\n",
      "    accuracy                           0.61       104\n",
      "   macro avg       0.61      0.61      0.61       104\n",
      "weighted avg       0.61      0.61      0.61       104\n",
      "\n",
      "Random Forest: ROC AUC =  60.8 %\n",
      "Random Forest: Precision =  64.6 %\n",
      "Random Forest: Recall =  56.4 %\n",
      "Random Forest: Accuracy =  60.6 %\n",
      "Random Forest: F1-Score =  60.2 %\n"
     ]
    },
    {
     "data": {
      "text/plain": [
       "array([[32, 17],\n",
       "       [24, 31]], dtype=int64)"
      ]
     },
     "execution_count": 27,
     "metadata": {},
     "output_type": "execute_result"
    }
   ],
   "source": [
    "# Predict the test data\n",
    "y_predicted = grid_search.predict( xtest)\n",
    "\n",
    "print('\\nclassification report- RF+ SMOTE -Test')\n",
    "print('\\n\\n')\n",
    "print(classification_report(ytest, y_predicted)) # generate the precision, recall, f-1 score, num\n",
    "print('Random Forest: ROC AUC = ',str(round(roc_auc_score(ytest, y_predicted)*100,1)), '%')\n",
    "print('Random Forest: Precision = ',str(round(precision_score(ytest, y_predicted)*100,1)), '%')\n",
    "print('Random Forest: Recall = ',str(round(recall_score(ytest, y_predicted)*100,1)), '%')\n",
    "print('Random Forest: Accuracy = ',str(round(accuracy_score(ytest, y_predicted)*100,1)), '%')\n",
    "print('Random Forest: F1-Score = ',str(round(f1_score(ytest, y_predicted)*100,1)), '%')\n",
    "confusion_matrix(ytest, y_predicted)"
   ]
  },
  {
   "cell_type": "code",
   "execution_count": 468,
   "id": "26e3e626",
   "metadata": {},
   "outputs": [],
   "source": [
    "# filename = 'XGBoost+SMOTE-New.pkl'\n",
    "# pickle.dump(grid_search, open(filename, 'wb'))"
   ]
  },
  {
   "cell_type": "code",
   "execution_count": 28,
   "id": "e8017a7a",
   "metadata": {},
   "outputs": [
    {
     "data": {
      "image/png": "[encoded data removed]",
      "text/plain": [
       "<Figure size 1000x500 with 1 Axes>"
      ]
     },
     "metadata": {},
     "output_type": "display_data"
    }
   ],
   "source": [
    "# get importance\n",
    "importance = grid_search.best_estimator_.feature_importances_\n",
    "#Important variables\n",
    "importances_rf = pd.DataFrame(data = {'Attribute': encoded_xtrain.columns, 'Importance': grid_search.best_estimator_.feature_importances_})\n",
    "importances_rf = importances_rf.sort_values(by='Importance', ascending = False)\n",
    "#plot\n",
    "plt.figure(figsize=(10,5))\n",
    "plt.bar(x=importances_rf['Attribute'], height = importances_rf['Importance'], color = '#087E8B')\n",
    "plt.title('Feature Importance - XGBoost')\n",
    "plt.xticks(rotation='vertical')\n",
    "plt.show()"
   ]
  },
  {
   "cell_type": "markdown",
   "id": "e0e68a59",
   "metadata": {},
   "source": [
    "## RF-Venue"
   ]
  },
  {
   "cell_type": "code",
   "execution_count": 470,
   "id": "21ee6dc0",
   "metadata": {},
   "outputs": [],
   "source": [
    "xtrain = train.drop(['Winner', 'ID', 'Venue'],axis=1) \n",
    "ytrain = train['Winner']\n",
    " \n",
    "xtest = test.drop(['Winner', 'ID', 'Venue' ],axis=1)  \n",
    "ytest = test['Winner']\n",
    "\n",
    "st = StandardScaler()\n",
    "xtrain_st  = st.fit_transform( xtrain)\n",
    "xtest_st = st.fit_transform( xtest)\n",
    "\n",
    "sm = SMOTE(random_state=42)\n",
    "xtrain_sm, ytrain_sm = sm.fit_resample(  xtrain_st,ytrain) \n"
   ]
  },
  {
   "cell_type": "code",
   "execution_count": 471,
   "id": "750aaf99",
   "metadata": {},
   "outputs": [],
   "source": [
    "# define models and parameters\n",
    "model = RandomForestClassifier(random_state=42)\n",
    "param_grid = [    \n",
    "    {'n_estimators' : [2000],\n",
    "    'criterion': ['gini', 'entropy'],\n",
    "    'max_features':[ 0.2 ],\n",
    "     'min_samples_leaf': [ 50 ], #50\n",
    "     'oob_score':[True],\n",
    "     'min_samples_split':[6]\n",
    "    }\n",
    "]\n",
    "cv = RepeatedStratifiedKFold(n_splits=10, n_repeats=3, random_state=1)\n",
    "grid_search = GridSearchCV(estimator=model, param_grid= param_grid, n_jobs=-1,  cv=cv, scoring='f1',error_score='raise')\n",
    "grid_result = grid_search.fit(xtrain_sm, ytrain_sm)"
   ]
  },
  {
   "cell_type": "code",
   "execution_count": 472,
   "id": "fe2b902f",
   "metadata": {},
   "outputs": [
    {
     "data": {
      "text/plain": [
       "RandomForestClassifier(max_features=0.2, min_samples_leaf=50,\n",
       "                       min_samples_split=6, n_estimators=2000, oob_score=True,\n",
       "                       random_state=42)"
      ]
     },
     "execution_count": 472,
     "metadata": {},
     "output_type": "execute_result"
    }
   ],
   "source": [
    "grid_search.best_estimator_"
   ]
  },
  {
   "cell_type": "code",
   "execution_count": 473,
   "id": "d2e16687",
   "metadata": {},
   "outputs": [
    {
     "data": {
      "text/plain": [
       "({'criterion': 'gini',\n",
       "  'max_features': 0.2,\n",
       "  'min_samples_leaf': 50,\n",
       "  'min_samples_split': 6,\n",
       "  'n_estimators': 2000,\n",
       "  'oob_score': True},\n",
       " 0.5808744447036189)"
      ]
     },
     "execution_count": 473,
     "metadata": {},
     "output_type": "execute_result"
    }
   ],
   "source": [
    "grid_search.best_params_, grid_search.best_score_"
   ]
  },
  {
   "cell_type": "code",
   "execution_count": 474,
   "id": "c0cfc437",
   "metadata": {},
   "outputs": [
    {
     "name": "stdout",
     "output_type": "stream",
     "text": [
      "\n",
      "classification report -  RF+ SMOTE -Train\n",
      "\n",
      "\n",
      "\n",
      "              precision    recall  f1-score   support\n",
      "\n",
      "           0       0.63      0.69      0.66       243\n",
      "           1       0.66      0.60      0.62       243\n",
      "\n",
      "    accuracy                           0.64       486\n",
      "   macro avg       0.64      0.64      0.64       486\n",
      "weighted avg       0.64      0.64      0.64       486\n",
      "\n",
      " ROC AUC =  64.2 %\n",
      " Precision =  65.6 %\n",
      " Recall =  59.7 %\n",
      " Accuracy =  64.2 %\n",
      " F1-Score =  62.5 %\n"
     ]
    },
    {
     "data": {
      "text/plain": [
       "array([[167,  76],\n",
       "       [ 98, 145]], dtype=int64)"
      ]
     },
     "execution_count": 474,
     "metadata": {},
     "output_type": "execute_result"
    }
   ],
   "source": [
    "y_predicted = grid_search.predict(xtrain_sm)\n",
    "\n",
    "print('\\nclassification report -  RF+ SMOTE -Train')\n",
    "print('\\n\\n')\n",
    "print(classification_report(ytrain_sm, y_predicted)) # generate the precision, recall, f-1 score, num\n",
    "print(' ROC AUC = ',str(round(roc_auc_score(ytrain_sm, y_predicted)*100,1)), '%')\n",
    "print(' Precision = ',str(round(precision_score(ytrain_sm, y_predicted)*100,1)), '%')\n",
    "print(' Recall = ',str(round(recall_score(ytrain_sm, y_predicted)*100,1)), '%')\n",
    "print(' Accuracy = ',str(round(accuracy_score(ytrain_sm, y_predicted)*100,1)), '%')\n",
    "print(' F1-Score = ',str(round(f1_score(ytrain_sm, y_predicted)*100,1)), '%')\n",
    "confusion_matrix(ytrain_sm, y_predicted)"
   ]
  },
  {
   "cell_type": "code",
   "execution_count": 481,
   "id": "5a238ef4",
   "metadata": {
    "scrolled": true
   },
   "outputs": [
    {
     "name": "stdout",
     "output_type": "stream",
     "text": [
      "\n",
      "classification report- RF+ SMOTE -Test\n",
      "\n",
      "\n",
      "\n",
      "              precision    recall  f1-score   support\n",
      "\n",
      "           0       0.57      0.63      0.60        49\n",
      "           1       0.64      0.58      0.61        55\n",
      "\n",
      "    accuracy                           0.61       104\n",
      "   macro avg       0.61      0.61      0.61       104\n",
      "weighted avg       0.61      0.61      0.61       104\n",
      "\n",
      "Random Forest: ROC AUC =  60.7 %\n",
      "Random Forest: Precision =  64.0 %\n",
      "Random Forest: Recall =  58.2 %\n",
      "Random Forest: Accuracy =  60.6 %\n",
      "Random Forest: F1-Score =  61.0 %\n"
     ]
    },
    {
     "data": {
      "text/plain": [
       "array([[31, 18],\n",
       "       [23, 32]], dtype=int64)"
      ]
     },
     "execution_count": 481,
     "metadata": {},
     "output_type": "execute_result"
    }
   ],
   "source": [
    "# Predict the test data\n",
    "y_predicted = grid_search.predict( xtest_st)\n",
    "\n",
    "print('\\nclassification report- RF+ SMOTE -Test')\n",
    "print('\\n\\n')\n",
    "print(classification_report(ytest, y_predicted)) # generate the precision, recall, f-1 score, num\n",
    "print('Random Forest: ROC AUC = ',str(round(roc_auc_score(ytest, y_predicted)*100,1)), '%')\n",
    "print('Random Forest: Precision = ',str(round(precision_score(ytest, y_predicted)*100,1)), '%')\n",
    "print('Random Forest: Recall = ',str(round(recall_score(ytest, y_predicted)*100,1)), '%')\n",
    "print('Random Forest: Accuracy = ',str(round(accuracy_score(ytest, y_predicted)*100,1)), '%')\n",
    "print('Random Forest: F1-Score = ',str(round(f1_score(ytest, y_predicted)*100,1)), '%')\n",
    "confusion_matrix(ytest, y_predicted)"
   ]
  },
  {
   "cell_type": "code",
   "execution_count": 476,
   "id": "75a9c5b5",
   "metadata": {},
   "outputs": [],
   "source": [
    "# filename = 'RF+SMOTE-Venue-New.pkl'\n",
    "# pickle.dump(grid_search, open(filename, 'wb'))"
   ]
  },
  {
   "cell_type": "markdown",
   "id": "675377e3",
   "metadata": {},
   "source": [
    "## XGBoost-Venue"
   ]
  },
  {
   "cell_type": "code",
   "execution_count": 29,
   "id": "d0885b59",
   "metadata": {},
   "outputs": [],
   "source": [
    "xtrain = train.drop(['Winner', 'ID', 'Venue'],axis=1) \n",
    "ytrain = train['Winner']\n",
    " \n",
    "xtest = test.drop(['Winner', 'ID', 'Venue' ],axis=1)  \n",
    "ytest = test['Winner']\n",
    "\n",
    "st = StandardScaler()\n",
    "xtrain_st  = st.fit_transform( xtrain)\n",
    "xtest_st = st.fit_transform( xtest)\n",
    "\n",
    "sm = SMOTE(random_state=42)\n",
    "xtrain_sm, ytrain_sm = sm.fit_resample(  xtrain_st,ytrain) "
   ]
  },
  {
   "cell_type": "code",
   "execution_count": 30,
   "id": "f7e1a521",
   "metadata": {},
   "outputs": [],
   "source": [
    "model = xgb.XGBClassifier(seed=42)\n",
    "\n",
    "param_grid = [    \n",
    "    {'learning_rate' :[1e-6],# 8\n",
    "    'n_estimators':[2000],\n",
    " 'max_depth':[2], #2\n",
    " 'min_child_weight':[1],\n",
    " 'gamma':[0],\n",
    " 'subsample':[   0.4 ], #0.4\n",
    " 'colsample_bytree':[  0.45 ], #0.45\n",
    " 'objective': ['binary:logistic'],\n",
    " 'nthread':[4],\n",
    " 'scale_pos_weight':[1],\n",
    " 'reg_alpha':[1e-5 ]\n",
    "    }\n",
    "]\n",
    "cv = RepeatedStratifiedKFold(n_splits=10, n_repeats=3, random_state=1)\n",
    "grid_search = GridSearchCV(estimator=model, param_grid= param_grid,  cv=cv, n_jobs = -1, scoring='f1',error_score='raise' )\n",
    "grid_result = grid_search.fit(xtrain_sm, ytrain_sm)"
   ]
  },
  {
   "cell_type": "code",
   "execution_count": 31,
   "id": "84dd3a6b",
   "metadata": {},
   "outputs": [
    {
     "data": {
      "text/plain": [
       "({'colsample_bytree': 0.45,\n",
       "  'gamma': 0,\n",
       "  'learning_rate': 1e-06,\n",
       "  'max_depth': 2,\n",
       "  'min_child_weight': 1,\n",
       "  'n_estimators': 2000,\n",
       "  'nthread': 4,\n",
       "  'objective': 'binary:logistic',\n",
       "  'reg_alpha': 1e-05,\n",
       "  'scale_pos_weight': 1,\n",
       "  'subsample': 0.4},\n",
       " 0.5682348984776888)"
      ]
     },
     "execution_count": 31,
     "metadata": {},
     "output_type": "execute_result"
    }
   ],
   "source": [
    "grid_search.best_params_, grid_search.best_score_"
   ]
  },
  {
   "cell_type": "code",
   "execution_count": 32,
   "id": "197f3e60",
   "metadata": {},
   "outputs": [
    {
     "name": "stdout",
     "output_type": "stream",
     "text": [
      "\n",
      "classification report -  XG+ SMOTE -Train\n",
      "\n",
      "\n",
      "\n",
      "              precision    recall  f1-score   support\n",
      "\n",
      "           0       0.63      0.71      0.67       243\n",
      "           1       0.67      0.59      0.63       243\n",
      "\n",
      "    accuracy                           0.65       486\n",
      "   macro avg       0.65      0.65      0.65       486\n",
      "weighted avg       0.65      0.65      0.65       486\n",
      "\n",
      " ROC AUC =  65.0 %\n",
      " Precision =  67.0 %\n",
      " Recall =  59.3 %\n",
      " Accuracy =  65.0 %\n",
      " F1-Score =  62.9 %\n"
     ]
    },
    {
     "data": {
      "text/plain": [
       "array([[172,  71],\n",
       "       [ 99, 144]], dtype=int64)"
      ]
     },
     "execution_count": 32,
     "metadata": {},
     "output_type": "execute_result"
    }
   ],
   "source": [
    "y_predicted = grid_search.predict(xtrain_sm)\n",
    "\n",
    "print('\\nclassification report -  XG+ SMOTE -Train')\n",
    "print('\\n\\n')\n",
    "print(classification_report(ytrain_sm, y_predicted)) # generate the precision, recall, f-1 score, num\n",
    "print(' ROC AUC = ',str(round(roc_auc_score(ytrain_sm, y_predicted)*100,1)), '%')\n",
    "print(' Precision = ',str(round(precision_score(ytrain_sm, y_predicted)*100,1)), '%')\n",
    "print(' Recall = ',str(round(recall_score(ytrain_sm, y_predicted)*100,1)), '%')\n",
    "print(' Accuracy = ',str(round(accuracy_score(ytrain_sm, y_predicted)*100,1)), '%')\n",
    "print(' F1-Score = ',str(round(f1_score(ytrain_sm, y_predicted)*100,1)), '%')\n",
    "confusion_matrix(ytrain_sm, y_predicted)"
   ]
  },
  {
   "cell_type": "code",
   "execution_count": 33,
   "id": "e7e2179b",
   "metadata": {},
   "outputs": [
    {
     "name": "stdout",
     "output_type": "stream",
     "text": [
      "\n",
      "classification report- RF+ SMOTE -Test\n",
      "\n",
      "\n",
      "\n",
      "              precision    recall  f1-score   support\n",
      "\n",
      "           0       0.58      0.61      0.59        49\n",
      "           1       0.63      0.60      0.62        55\n",
      "\n",
      "    accuracy                           0.61       104\n",
      "   macro avg       0.61      0.61      0.61       104\n",
      "weighted avg       0.61      0.61      0.61       104\n",
      "\n",
      "Random Forest: ROC AUC =  60.6 %\n",
      "Random Forest: Precision =  63.5 %\n",
      "Random Forest: Recall =  60.0 %\n",
      "Random Forest: Accuracy =  60.6 %\n",
      "Random Forest: F1-Score =  61.7 %\n"
     ]
    },
    {
     "data": {
      "text/plain": [
       "array([[30, 19],\n",
       "       [22, 33]], dtype=int64)"
      ]
     },
     "execution_count": 33,
     "metadata": {},
     "output_type": "execute_result"
    }
   ],
   "source": [
    "# Predict the test data\n",
    "y_predicted = grid_search.predict( xtest_st)\n",
    "\n",
    "print('\\nclassification report- RF+ SMOTE -Test')\n",
    "print('\\n\\n')\n",
    "print(classification_report(ytest, y_predicted)) # generate the precision, recall, f-1 score, num\n",
    "print('Random Forest: ROC AUC = ',str(round(roc_auc_score(ytest, y_predicted)*100,1)), '%')\n",
    "print('Random Forest: Precision = ',str(round(precision_score(ytest, y_predicted)*100,1)), '%')\n",
    "print('Random Forest: Recall = ',str(round(recall_score(ytest, y_predicted)*100,1)), '%')\n",
    "print('Random Forest: Accuracy = ',str(round(accuracy_score(ytest, y_predicted)*100,1)), '%')\n",
    "print('Random Forest: F1-Score = ',str(round(f1_score(ytest, y_predicted)*100,1)), '%')\n",
    "confusion_matrix(ytest, y_predicted)"
   ]
  },
  {
   "cell_type": "code",
   "execution_count": 35,
   "id": "79b3b6c8",
   "metadata": {},
   "outputs": [
    {
     "data": {
      "image/png": "[encoded data removed]",
      "text/plain": [
       "<Figure size 1000x500 with 1 Axes>"
      ]
     },
     "metadata": {},
     "output_type": "display_data"
    }
   ],
   "source": [
    "# get importance\n",
    "importance = grid_search.best_estimator_.feature_importances_\n",
    "#Important variables\n",
    "importances_rf = pd.DataFrame(data = {'Attribute': xtrain.columns, 'Importance': grid_search.best_estimator_.feature_importances_})\n",
    "importances_rf = importances_rf.sort_values(by='Importance', ascending = False)\n",
    "#plot\n",
    "plt.figure(figsize=(10,5))\n",
    "plt.bar(x=importances_rf['Attribute'], height = importances_rf['Importance'], color = '#087E8B')\n",
    "plt.title('Feature Importance - XGBoost')\n",
    "plt.xticks(rotation='vertical')\n",
    "plt.show()"
   ]
  },
  {
   "cell_type": "code",
   "execution_count": 487,
   "id": "3045c56b",
   "metadata": {},
   "outputs": [],
   "source": [
    "# filename = 'XGBoost+SMOTE-Venue-New.pkl'\n",
    "# pickle.dump(grid_search, open(filename, 'wb'))"
   ]
  },
  {
   "cell_type": "code",
   "execution_count": 689,
   "id": "f40109a2",
   "metadata": {},
   "outputs": [
    {
     "data": {
      "text/plain": [
       "<AxesSubplot:title={'center':'Model+SMOTE'}, xlabel='Model'>"
      ]
     },
     "execution_count": 689,
     "metadata": {},
     "output_type": "execute_result"
    },
    {
     "data": {
      "image/png": "[encoded data removed]",
      "text/plain": [
       "<Figure size 1000x300 with 1 Axes>"
      ]
     },
     "metadata": {},
     "output_type": "display_data"
    }
   ],
   "source": [
    "df = pd.DataFrame([['Logistic Regression', 57.8, 60.8, 56.4, 57.7, 58.5], \n",
    "                   ['Ridge Classifier', 59.6, 62.3, 60.0, 59.6, 61.1], \n",
    "                   ['Niave Bayes', 56.0, 59.2, 52.7, 55.8, 55.8],\n",
    "                   ['SVM', 57.6, 60.0, 60.0, 57.7, 60.0], \n",
    "                   ['KNN', 54.2, 56.2, 65.5, 54.8, 60.5], \n",
    "                   ['Random Forest', 57.7, 60.4, 58.2, 57.7, 59.3],\n",
    "                   ['Random Forest - (Venue)', 59.8, 63.3, 56.4, 59.6, 59.6], \n",
    "                   ['XGBoost', 62.5, 65.4, 61.8, 62.5, 63.6], \n",
    "                   ['XGBoost - (Venue)', 60.8, 64.6, 56.4, 60.6, 60.2]],\n",
    "                  columns=['Model', 'ROC AUC', 'Precision', 'Recall', 'Accuracy', 'F1-Score'])\n",
    " \n",
    " \n",
    "df.plot(x='Model',\n",
    "        kind='bar',\n",
    "        stacked=False,\n",
    "        title='Model+SMOTE',\n",
    "        figsize=(10,3),\n",
    "        )"
   ]
  }
 ],
 "metadata": {
  "kernelspec": {
   "display_name": "Python 3 (ipykernel)",
   "language": "python",
   "name": "python3"
  },
  "language_info": {
   "codemirror_mode": {
    "name": "ipython",
    "version": 3
   },
   "file_extension": ".py",
   "mimetype": "text/x-python",
   "name": "python",
   "nbconvert_exporter": "python",
   "pygments_lexer": "ipython3",
   "version": "3.9.13"
  }
 },
 "nbformat": 4,
 "nbformat_minor": 5
}
