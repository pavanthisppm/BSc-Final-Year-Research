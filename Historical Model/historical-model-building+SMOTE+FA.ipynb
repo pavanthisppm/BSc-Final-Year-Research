{
 "cells": [
  {
   "cell_type": "code",
   "execution_count": 1,
   "id": "ee251412",
   "metadata": {},
   "outputs": [],
   "source": [
    "import warnings\n",
    "warnings.filterwarnings('ignore')\n",
    "import pandas as pd\n",
    "import numpy as np\n",
    "from sklearn.model_selection import train_test_split\n",
    "import matplotlib.pyplot as plt\n",
    "import seaborn as sns\n",
    "import prince\n",
    "import factor_analyzer\n",
    "import pickle\n",
    "\n",
    "from imblearn.over_sampling import SMOTE\n",
    "from imblearn.over_sampling import ADASYN\n",
    "from sklearn.preprocessing import RobustScaler\n",
    "from sklearn.preprocessing import StandardScaler\n",
    "from factor_analyzer import FactorAnalyzer\n",
    "from sklearn.model_selection import RepeatedStratifiedKFold\n",
    "from sklearn.model_selection import GridSearchCV\n",
    "from sklearn.linear_model import LogisticRegression\n",
    "\n",
    "from sklearn.metrics import classification_report\n",
    "from sklearn.metrics import roc_auc_score\n",
    "from sklearn.metrics import precision_score\n",
    "from sklearn.metrics import recall_score\n",
    "from sklearn.metrics import accuracy_score\n",
    "from sklearn.metrics import confusion_matrix\n",
    "from sklearn.metrics import f1_score"
   ]
  },
  {
   "cell_type": "code",
   "execution_count": 2,
   "id": "c5a38606",
   "metadata": {},
   "outputs": [
    {
     "data": {
      "text/html": [
       "<div>\n",
       "<style scoped>\n",
       "    .dataframe tbody tr th:only-of-type {\n",
       "        vertical-align: middle;\n",
       "    }\n",
       "\n",
       "    .dataframe tbody tr th {\n",
       "        vertical-align: top;\n",
       "    }\n",
       "\n",
       "    .dataframe thead th {\n",
       "        text-align: right;\n",
       "    }\n",
       "</style>\n",
       "<table border=\"1\" class=\"dataframe\">\n",
       "  <thead>\n",
       "    <tr style=\"text-align: right;\">\n",
       "      <th></th>\n",
       "      <th>ID</th>\n",
       "      <th>Venue</th>\n",
       "      <th>T1_Mat</th>\n",
       "      <th>T1_AvgRunsScored</th>\n",
       "      <th>T1_AvgRunsConceded</th>\n",
       "      <th>T1_AvgWktsTaken</th>\n",
       "      <th>T1_AvgWktsLost</th>\n",
       "      <th>T1_AvgBound</th>\n",
       "      <th>T1_W/L</th>\n",
       "      <th>T2_Mat</th>\n",
       "      <th>T2_AvgRunsScored</th>\n",
       "      <th>T2_AvgRunsConceded</th>\n",
       "      <th>T2_AvgWktsTaken</th>\n",
       "      <th>T2_AvgWktsLost</th>\n",
       "      <th>T2_AvgBound</th>\n",
       "      <th>T2_W/L</th>\n",
       "      <th>Winner</th>\n",
       "    </tr>\n",
       "  </thead>\n",
       "  <tbody>\n",
       "    <tr>\n",
       "      <th>0</th>\n",
       "      <td>1</td>\n",
       "      <td>Africa</td>\n",
       "      <td>34</td>\n",
       "      <td>7.10</td>\n",
       "      <td>7.27</td>\n",
       "      <td>0.33</td>\n",
       "      <td>0.32</td>\n",
       "      <td>0.85</td>\n",
       "      <td>1.833</td>\n",
       "      <td>22</td>\n",
       "      <td>7.69</td>\n",
       "      <td>7.99</td>\n",
       "      <td>0.28</td>\n",
       "      <td>0.32</td>\n",
       "      <td>0.95</td>\n",
       "      <td>1.000</td>\n",
       "      <td>0</td>\n",
       "    </tr>\n",
       "    <tr>\n",
       "      <th>1</th>\n",
       "      <td>2</td>\n",
       "      <td>Oceania</td>\n",
       "      <td>36</td>\n",
       "      <td>8.01</td>\n",
       "      <td>7.38</td>\n",
       "      <td>0.35</td>\n",
       "      <td>0.33</td>\n",
       "      <td>0.98</td>\n",
       "      <td>1.400</td>\n",
       "      <td>30</td>\n",
       "      <td>7.56</td>\n",
       "      <td>7.70</td>\n",
       "      <td>0.32</td>\n",
       "      <td>0.32</td>\n",
       "      <td>0.93</td>\n",
       "      <td>1.142</td>\n",
       "      <td>0</td>\n",
       "    </tr>\n",
       "    <tr>\n",
       "      <th>2</th>\n",
       "      <td>3</td>\n",
       "      <td>Oceania</td>\n",
       "      <td>37</td>\n",
       "      <td>8.00</td>\n",
       "      <td>7.39</td>\n",
       "      <td>0.35</td>\n",
       "      <td>0.33</td>\n",
       "      <td>0.98</td>\n",
       "      <td>1.312</td>\n",
       "      <td>31</td>\n",
       "      <td>7.56</td>\n",
       "      <td>7.70</td>\n",
       "      <td>0.32</td>\n",
       "      <td>0.33</td>\n",
       "      <td>0.93</td>\n",
       "      <td>1.214</td>\n",
       "      <td>1</td>\n",
       "    </tr>\n",
       "    <tr>\n",
       "      <th>3</th>\n",
       "      <td>4</td>\n",
       "      <td>America</td>\n",
       "      <td>38</td>\n",
       "      <td>7.14</td>\n",
       "      <td>7.18</td>\n",
       "      <td>0.33</td>\n",
       "      <td>0.34</td>\n",
       "      <td>0.84</td>\n",
       "      <td>1.235</td>\n",
       "      <td>24</td>\n",
       "      <td>7.13</td>\n",
       "      <td>8.08</td>\n",
       "      <td>0.29</td>\n",
       "      <td>0.36</td>\n",
       "      <td>0.89</td>\n",
       "      <td>0.714</td>\n",
       "      <td>0</td>\n",
       "    </tr>\n",
       "    <tr>\n",
       "      <th>4</th>\n",
       "      <td>5</td>\n",
       "      <td>America</td>\n",
       "      <td>23</td>\n",
       "      <td>7.71</td>\n",
       "      <td>7.94</td>\n",
       "      <td>0.28</td>\n",
       "      <td>0.32</td>\n",
       "      <td>0.96</td>\n",
       "      <td>1.090</td>\n",
       "      <td>25</td>\n",
       "      <td>7.13</td>\n",
       "      <td>8.04</td>\n",
       "      <td>0.29</td>\n",
       "      <td>0.36</td>\n",
       "      <td>0.89</td>\n",
       "      <td>0.785</td>\n",
       "      <td>1</td>\n",
       "    </tr>\n",
       "  </tbody>\n",
       "</table>\n",
       "</div>"
      ],
      "text/plain": [
       "   ID    Venue  T1_Mat  T1_AvgRunsScored  T1_AvgRunsConceded  T1_AvgWktsTaken  \\\n",
       "0   1   Africa      34              7.10                7.27             0.33   \n",
       "1   2  Oceania      36              8.01                7.38             0.35   \n",
       "2   3  Oceania      37              8.00                7.39             0.35   \n",
       "3   4  America      38              7.14                7.18             0.33   \n",
       "4   5  America      23              7.71                7.94             0.28   \n",
       "\n",
       "   T1_AvgWktsLost  T1_AvgBound  T1_W/L  T2_Mat  T2_AvgRunsScored  \\\n",
       "0            0.32         0.85   1.833      22              7.69   \n",
       "1            0.33         0.98   1.400      30              7.56   \n",
       "2            0.33         0.98   1.312      31              7.56   \n",
       "3            0.34         0.84   1.235      24              7.13   \n",
       "4            0.32         0.96   1.090      25              7.13   \n",
       "\n",
       "   T2_AvgRunsConceded  T2_AvgWktsTaken  T2_AvgWktsLost  T2_AvgBound  T2_W/L  \\\n",
       "0                7.99             0.28            0.32         0.95   1.000   \n",
       "1                7.70             0.32            0.32         0.93   1.142   \n",
       "2                7.70             0.32            0.33         0.93   1.214   \n",
       "3                8.08             0.29            0.36         0.89   0.714   \n",
       "4                8.04             0.29            0.36         0.89   0.785   \n",
       "\n",
       "   Winner  \n",
       "0       0  \n",
       "1       0  \n",
       "2       1  \n",
       "3       0  \n",
       "4       1  "
      ]
     },
     "execution_count": 2,
     "metadata": {},
     "output_type": "execute_result"
    }
   ],
   "source": [
    "data = pd.read_csv(\"historical-featured.csv\")\n",
    "data = data.drop('Unnamed: 0', axis=1)\n",
    "data.head()"
   ]
  },
  {
   "cell_type": "code",
   "execution_count": 3,
   "id": "77735f77",
   "metadata": {},
   "outputs": [],
   "source": [
    "# train test split\n",
    "train, test= train_test_split(data, test_size = 0.2, random_state = 100)"
   ]
  },
  {
   "cell_type": "code",
   "execution_count": 4,
   "id": "295f88f1",
   "metadata": {},
   "outputs": [
    {
     "data": {
      "text/plain": [
       "((415, 17), (104, 17))"
      ]
     },
     "execution_count": 4,
     "metadata": {},
     "output_type": "execute_result"
    }
   ],
   "source": [
    "train.shape, test.shape"
   ]
  },
  {
   "cell_type": "code",
   "execution_count": 5,
   "id": "1d9e2e0f",
   "metadata": {},
   "outputs": [
    {
     "data": {
      "text/plain": [
       "Index(['ID', 'Venue', 'T1_Mat', 'T1_AvgRunsScored', 'T1_AvgRunsConceded',\n",
       "       'T1_AvgWktsTaken', 'T1_AvgWktsLost', 'T1_AvgBound', 'T1_W/L', 'T2_Mat',\n",
       "       'T2_AvgRunsScored', 'T2_AvgRunsConceded', 'T2_AvgWktsTaken',\n",
       "       'T2_AvgWktsLost', 'T2_AvgBound', 'T2_W/L', 'Winner'],\n",
       "      dtype='object')"
      ]
     },
     "execution_count": 5,
     "metadata": {},
     "output_type": "execute_result"
    }
   ],
   "source": [
    "train.columns"
   ]
  },
  {
   "cell_type": "code",
   "execution_count": 6,
   "id": "48c21a61",
   "metadata": {},
   "outputs": [
    {
     "data": {
      "text/plain": [
       "ID                      int64\n",
       "Venue                  object\n",
       "T1_Mat                  int64\n",
       "T1_AvgRunsScored      float64\n",
       "T1_AvgRunsConceded    float64\n",
       "T1_AvgWktsTaken       float64\n",
       "T1_AvgWktsLost        float64\n",
       "T1_AvgBound           float64\n",
       "T1_W/L                float64\n",
       "T2_Mat                  int64\n",
       "T2_AvgRunsScored      float64\n",
       "T2_AvgRunsConceded    float64\n",
       "T2_AvgWktsTaken       float64\n",
       "T2_AvgWktsLost        float64\n",
       "T2_AvgBound           float64\n",
       "T2_W/L                float64\n",
       "Winner                  int64\n",
       "dtype: object"
      ]
     },
     "execution_count": 6,
     "metadata": {},
     "output_type": "execute_result"
    }
   ],
   "source": [
    "train.dtypes"
   ]
  },
  {
   "cell_type": "code",
   "execution_count": 7,
   "id": "79111e28",
   "metadata": {},
   "outputs": [
    {
     "data": {
      "text/plain": [
       "Index(['ID', 'T1_Mat', 'T1_AvgRunsScored', 'T1_AvgRunsConceded',\n",
       "       'T1_AvgWktsTaken', 'T1_AvgWktsLost', 'T1_AvgBound', 'T1_W/L', 'T2_Mat',\n",
       "       'T2_AvgRunsScored', 'T2_AvgRunsConceded', 'T2_AvgWktsTaken',\n",
       "       'T2_AvgWktsLost', 'T2_AvgBound', 'T2_W/L', 'Winner'],\n",
       "      dtype='object')"
      ]
     },
     "execution_count": 7,
     "metadata": {},
     "output_type": "execute_result"
    }
   ],
   "source": [
    "num = train.select_dtypes(include='number')\n",
    "num.columns"
   ]
  },
  {
   "cell_type": "markdown",
   "id": "d680d959",
   "metadata": {},
   "source": [
    "## Model training"
   ]
  },
  {
   "cell_type": "code",
   "execution_count": 10,
   "id": "e7993452",
   "metadata": {},
   "outputs": [
    {
     "data": {
      "text/plain": [
       "Index(['T1_AvgRunsConceded', 'T1_AvgWktsLost', 'T2_Mat', 'T2_AvgRunsConceded',\n",
       "       'T2_AvgWktsTaken'],\n",
       "      dtype='object')"
      ]
     },
     "execution_count": 10,
     "metadata": {},
     "output_type": "execute_result"
    }
   ],
   "source": [
    "new_var = train.drop(['Winner', 'ID', 'Venue', \n",
    "                       'T2_AvgRunsScored', 'T2_AvgWktsLost', 'T2_AvgBound', \n",
    "                       'T1_AvgRunsScored', 'T1_AvgBound',\n",
    "                       'T1_Mat',\n",
    "                       'T1_W/L', 'T1_AvgWktsTaken', 'T2_W/L'],axis=1) \n",
    "new_var.columns"
   ]
  },
  {
   "cell_type": "code",
   "execution_count": 11,
   "id": "5b94d3ca",
   "metadata": {},
   "outputs": [
    {
     "data": {
      "image/png": "[encoded data removed]",
      "text/plain": [
       "<Figure size 640x480 with 2 Axes>"
      ]
     },
     "metadata": {},
     "output_type": "display_data"
    },
    {
     "data": {
      "text/plain": [
       "{'corr':                     T1_AvgRunsConceded  T1_AvgWktsLost    T2_Mat  \\\n",
       " T1_AvgRunsConceded            1.000000       -0.325141  0.340470   \n",
       " T1_AvgWktsLost               -0.325141        1.000000 -0.344855   \n",
       " T2_Mat                        0.340470       -0.344855  1.000000   \n",
       " T2_AvgRunsConceded            0.257196        0.085663  0.093168   \n",
       " T2_AvgWktsTaken              -0.153539       -0.249643  0.332178   \n",
       " \n",
       "                     T2_AvgRunsConceded  T2_AvgWktsTaken  \n",
       " T1_AvgRunsConceded            0.257196        -0.153539  \n",
       " T1_AvgWktsLost                0.085663        -0.249643  \n",
       " T2_Mat                        0.093168         0.332178  \n",
       " T2_AvgRunsConceded            1.000000        -0.626364  \n",
       " T2_AvgWktsTaken              -0.626364         1.000000  ,\n",
       " 'ax': <AxesSubplot:>}"
      ]
     },
     "execution_count": 11,
     "metadata": {},
     "output_type": "execute_result"
    }
   ],
   "source": [
    "# dython - all the variables\n",
    "from dython.nominal import associations\n",
    "associations(new_var, fmt='.1f', cmap='Blues_r')"
   ]
  },
  {
   "cell_type": "code",
   "execution_count": 12,
   "id": "4b826368",
   "metadata": {},
   "outputs": [
    {
     "data": {
      "text/plain": [
       "((415, 5), (104, 5), (415,), (104,))"
      ]
     },
     "execution_count": 12,
     "metadata": {},
     "output_type": "execute_result"
    }
   ],
   "source": [
    "xtrain = train.drop(['Winner', 'ID', 'Venue', \n",
    "                       'T2_AvgRunsScored', 'T2_AvgWktsLost', 'T2_AvgBound', \n",
    "                       'T1_AvgRunsScored', 'T1_AvgBound',\n",
    "                       'T1_Mat',\n",
    "                       'T1_W/L', 'T1_AvgWktsTaken', 'T2_W/L'],axis=1) \n",
    "ytrain = train['Winner']\n",
    " \n",
    "xtest = test.drop(['Winner', 'ID', 'Venue', \n",
    "                       'T2_AvgRunsScored', 'T2_AvgWktsLost', 'T2_AvgBound', \n",
    "                       'T1_AvgRunsScored', 'T1_AvgBound',\n",
    "                       'T1_Mat',\n",
    "                       'T1_W/L', 'T1_AvgWktsTaken', 'T2_W/L'],axis=1)  \n",
    "ytest = test['Winner']\n",
    "\n",
    "xtrain.shape, xtest.shape, ytrain.shape, ytest.shape"
   ]
  },
  {
   "cell_type": "code",
   "execution_count": 13,
   "id": "d3997a3c",
   "metadata": {},
   "outputs": [],
   "source": [
    "st = StandardScaler()\n",
    "xtrain  = st.fit_transform( xtrain)\n",
    "xtest = st.fit_transform( xtest)"
   ]
  },
  {
   "cell_type": "code",
   "execution_count": 14,
   "id": "34d1a9a1",
   "metadata": {},
   "outputs": [
    {
     "data": {
      "text/plain": [
       "((486, 5), (486,))"
      ]
     },
     "execution_count": 14,
     "metadata": {},
     "output_type": "execute_result"
    }
   ],
   "source": [
    "sm = SMOTE(random_state=42)\n",
    "xtrain_sm, ytrain_sm = sm.fit_resample(  xtrain,ytrain) \n",
    " \n",
    "xtrain_sm.shape, ytrain_sm.shape "
   ]
  },
  {
   "cell_type": "markdown",
   "id": "bd86a7ec",
   "metadata": {},
   "source": [
    "## Logistic regression - with hyperparameter tuning"
   ]
  },
  {
   "cell_type": "markdown",
   "id": "b12b87d0",
   "metadata": {},
   "source": [
    "## Ridge"
   ]
  },
  {
   "cell_type": "code",
   "execution_count": 13,
   "id": "05a7218b",
   "metadata": {},
   "outputs": [],
   "source": [
    "from sklearn.model_selection import RepeatedStratifiedKFold"
   ]
  },
  {
   "cell_type": "code",
   "execution_count": 19,
   "id": "f3f25b5c",
   "metadata": {},
   "outputs": [
    {
     "name": "stdout",
     "output_type": "stream",
     "text": [
      "Fitting 30 folds for each of 6 candidates, totalling 180 fits\n"
     ]
    }
   ],
   "source": [
    "logModel  = LogisticRegression(random_state=42)\n",
    "param_grid = [    \n",
    "    {'solver' : [ 'newton-cg', 'lbfgs', 'liblinear', 'sag', 'saga', 'newton-cholesky'],\n",
    "    'penalty' : [   'l2' ], #'None', 'l1', 'l2', 'elasticnet'\n",
    "    'C' :  [1e-3 ],\n",
    "    'max_iter': [2000]\n",
    "    }\n",
    "]\n",
    "\n",
    "cv = RepeatedStratifiedKFold(n_splits=10, n_repeats=3, random_state=42)\n",
    "grid_search = GridSearchCV(logModel, param_grid = param_grid , verbose=True, n_jobs=-1, cv=cv , scoring='f1')\n",
    "grid_result = grid_search.fit(xtrain_sm,ytrain_sm)"
   ]
  },
  {
   "cell_type": "code",
   "execution_count": 20,
   "id": "ea11975c",
   "metadata": {},
   "outputs": [
    {
     "data": {
      "text/plain": [
       "LogisticRegression(C=0.001, max_iter=2000, random_state=42, solver='liblinear')"
      ]
     },
     "execution_count": 20,
     "metadata": {},
     "output_type": "execute_result"
    }
   ],
   "source": [
    "grid_search.best_estimator_"
   ]
  },
  {
   "cell_type": "code",
   "execution_count": 21,
   "id": "766ed9a4",
   "metadata": {},
   "outputs": [
    {
     "data": {
      "text/plain": [
       "({'C': 0.001, 'max_iter': 2000, 'penalty': 'l2', 'solver': 'liblinear'},\n",
       " 0.5624571548354165)"
      ]
     },
     "execution_count": 21,
     "metadata": {},
     "output_type": "execute_result"
    }
   ],
   "source": [
    "grid_search.best_params_, grid_search.best_score_"
   ]
  },
  {
   "cell_type": "code",
   "execution_count": 22,
   "id": "2927d6bd",
   "metadata": {},
   "outputs": [
    {
     "name": "stdout",
     "output_type": "stream",
     "text": [
      "\n",
      "classification report\n",
      "              precision    recall  f1-score   support\n",
      "\n",
      "           0       0.57      0.59      0.58       243\n",
      "           1       0.58      0.56      0.57       243\n",
      "\n",
      "    accuracy                           0.58       486\n",
      "   macro avg       0.58      0.58      0.58       486\n",
      "weighted avg       0.58      0.58      0.58       486\n",
      "\n",
      "LogReg: ROC AUC =  57.6 %\n",
      "LogReg: Precision =  57.9 %\n",
      "LogReg: Recall =  56.0 %\n",
      "LogReg: Accuracy =  57.6 %\n",
      "LogReg: F1-Score =  56.9 %\n"
     ]
    },
    {
     "data": {
      "text/plain": [
       "array([[144,  99],\n",
       "       [107, 136]], dtype=int64)"
      ]
     },
     "execution_count": 22,
     "metadata": {},
     "output_type": "execute_result"
    }
   ],
   "source": [
    "# Predict the train data\n",
    "y_predicted = grid_search.predict(xtrain_sm)\n",
    "\n",
    "print('\\nclassification report')\n",
    "print(classification_report(ytrain_sm, y_predicted)) # generate the precision, recall, f-1 score, num\n",
    "print('LogReg: ROC AUC = ',str(round(roc_auc_score(ytrain_sm, y_predicted)*100,1)), '%')\n",
    "print('LogReg: Precision = ',str(round(precision_score(ytrain_sm, y_predicted)*100,1)), '%')\n",
    "print('LogReg: Recall = ',str(round(recall_score(ytrain_sm, y_predicted)*100,1)), '%')\n",
    "print('LogReg: Accuracy = ',str(round(accuracy_score(ytrain_sm, y_predicted)*100,1)), '%')\n",
    "print('LogReg: F1-Score = ',str(round(f1_score(ytrain_sm, y_predicted)*100,1)), '%')\n",
    "confusion_matrix(ytrain_sm, y_predicted)"
   ]
  },
  {
   "cell_type": "code",
   "execution_count": 23,
   "id": "6125f5a0",
   "metadata": {},
   "outputs": [
    {
     "name": "stdout",
     "output_type": "stream",
     "text": [
      "\n",
      "classification report\n",
      "              precision    recall  f1-score   support\n",
      "\n",
      "           0       0.53      0.57      0.55        49\n",
      "           1       0.59      0.55      0.57        55\n",
      "\n",
      "    accuracy                           0.56       104\n",
      "   macro avg       0.56      0.56      0.56       104\n",
      "weighted avg       0.56      0.56      0.56       104\n",
      "\n",
      "LogReg: ROC AUC =  55.8 %\n",
      "LogReg: Precision =  58.8 %\n",
      "LogReg: Recall =  54.5 %\n",
      "LogReg: Accuracy =  55.8 %\n",
      "LogReg: F1-Score =  56.6 %\n"
     ]
    },
    {
     "data": {
      "text/plain": [
       "array([[28, 21],\n",
       "       [25, 30]], dtype=int64)"
      ]
     },
     "execution_count": 23,
     "metadata": {},
     "output_type": "execute_result"
    }
   ],
   "source": [
    "# Predict the test data\n",
    "y_predicted = grid_search.predict( xtest)\n",
    "\n",
    "print('\\nclassification report')\n",
    "print(classification_report(ytest, y_predicted)) # generate the precision, recall, f-1 score, num\n",
    "print('LogReg: ROC AUC = ',str(round(roc_auc_score(ytest, y_predicted)*100,1)), '%')\n",
    "print('LogReg: Precision = ',str(round(precision_score(ytest, y_predicted)*100,1)), '%')\n",
    "print('LogReg: Recall = ',str(round(recall_score(ytest, y_predicted)*100,1)), '%')\n",
    "print('LogReg: Accuracy = ',str(round(accuracy_score(ytest, y_predicted)*100,1)), '%')\n",
    "print('LogReg: F1-Score = ',str(round(f1_score(ytest, y_predicted)*100,1)), '%')\n",
    "confusion_matrix(ytest, y_predicted)"
   ]
  },
  {
   "cell_type": "code",
   "execution_count": 50,
   "id": "9ffcaf57",
   "metadata": {},
   "outputs": [],
   "source": [
    "# filename = 'LR-Ridge+SMOTE+FA-New.pkl'\n",
    "# pickle.dump(grid_search, open(filename, 'wb'))"
   ]
  },
  {
   "cell_type": "markdown",
   "id": "3fa4f782",
   "metadata": {},
   "source": [
    "## Lasso"
   ]
  },
  {
   "cell_type": "code",
   "execution_count": 24,
   "id": "8d15510d",
   "metadata": {},
   "outputs": [
    {
     "name": "stdout",
     "output_type": "stream",
     "text": [
      "Fitting 30 folds for each of 6 candidates, totalling 180 fits\n"
     ]
    }
   ],
   "source": [
    "logModel  = LogisticRegression(random_state=42)\n",
    "param_grid = [    \n",
    "    {'solver' : [ 'newton-cg', 'lbfgs', 'liblinear', 'sag', 'saga', 'newton-cholesky'],\n",
    "    'penalty' : [   'l1'  ], #'None', 'l1', 'l2', 'elasticnet'\n",
    "    'C' :  [1e-1],\n",
    "    'max_iter': [2000]\n",
    "    }\n",
    "]\n",
    "\n",
    "cv = RepeatedStratifiedKFold(n_splits=10, n_repeats=3, random_state=42)\n",
    "grid_search= GridSearchCV(logModel, param_grid = param_grid , verbose=True, n_jobs=-1, cv=cv , scoring='f1')\n",
    "grid_result = grid_search.fit(xtrain_sm,ytrain_sm)"
   ]
  },
  {
   "cell_type": "code",
   "execution_count": 25,
   "id": "69aee392",
   "metadata": {},
   "outputs": [
    {
     "data": {
      "text/plain": [
       "LogisticRegression(C=0.1, max_iter=2000, penalty='l1', random_state=42,\n",
       "                   solver='saga')"
      ]
     },
     "execution_count": 25,
     "metadata": {},
     "output_type": "execute_result"
    }
   ],
   "source": [
    "grid_search.best_estimator_"
   ]
  },
  {
   "cell_type": "code",
   "execution_count": 26,
   "id": "16bcc79c",
   "metadata": {},
   "outputs": [
    {
     "name": "stdout",
     "output_type": "stream",
     "text": [
      "\n",
      "classification report\n",
      "              precision    recall  f1-score   support\n",
      "\n",
      "           0       0.60      0.58      0.59       243\n",
      "           1       0.59      0.61      0.60       243\n",
      "\n",
      "    accuracy                           0.60       486\n",
      "   macro avg       0.60      0.60      0.60       486\n",
      "weighted avg       0.60      0.60      0.60       486\n",
      "\n",
      " ROC AUC =  59.7 %\n",
      " Precision =  59.4 %\n",
      " Recall =  61.3 %\n",
      " Accuracy =  59.7 %\n",
      " F1-Score =  60.3 %\n"
     ]
    },
    {
     "data": {
      "text/plain": [
       "array([[141, 102],\n",
       "       [ 94, 149]], dtype=int64)"
      ]
     },
     "execution_count": 26,
     "metadata": {},
     "output_type": "execute_result"
    }
   ],
   "source": [
    "# Predict the train data\n",
    "y_predicted = grid_search.predict(xtrain_sm)\n",
    "\n",
    "print('\\nclassification report')\n",
    "print(classification_report(ytrain_sm, y_predicted)) # generate the precision, recall, f-1 score, num\n",
    "print(' ROC AUC = ',str(round(roc_auc_score(ytrain_sm, y_predicted)*100,1)), '%')\n",
    "print(' Precision = ',str(round(precision_score(ytrain_sm, y_predicted)*100,1)), '%')\n",
    "print(' Recall = ',str(round(recall_score(ytrain_sm, y_predicted)*100,1)), '%')\n",
    "print(' Accuracy = ',str(round(accuracy_score(ytrain_sm, y_predicted)*100,1)), '%')\n",
    "print(' F1-Score = ',str(round(f1_score(ytrain_sm, y_predicted)*100,1)), '%')\n",
    "confusion_matrix(ytrain_sm, y_predicted)"
   ]
  },
  {
   "cell_type": "code",
   "execution_count": 27,
   "id": "fd5c2c23",
   "metadata": {},
   "outputs": [
    {
     "name": "stdout",
     "output_type": "stream",
     "text": [
      "\n",
      "classification report\n",
      "              precision    recall  f1-score   support\n",
      "\n",
      "           0       0.54      0.51      0.53        49\n",
      "           1       0.59      0.62      0.60        55\n",
      "\n",
      "    accuracy                           0.57       104\n",
      "   macro avg       0.56      0.56      0.56       104\n",
      "weighted avg       0.57      0.57      0.57       104\n",
      "\n",
      "LogReg: ROC AUC =  56.4 %\n",
      "LogReg: Precision =  58.6 %\n",
      "LogReg: Recall =  61.8 %\n",
      "LogReg: Accuracy =  56.7 %\n",
      "LogReg: F1-Score =  60.2 %\n"
     ]
    },
    {
     "data": {
      "text/plain": [
       "array([[25, 24],\n",
       "       [21, 34]], dtype=int64)"
      ]
     },
     "execution_count": 27,
     "metadata": {},
     "output_type": "execute_result"
    }
   ],
   "source": [
    "# Predict the test data\n",
    "y_predicted = grid_search.predict( xtest)\n",
    "\n",
    "print('\\nclassification report')\n",
    "print(classification_report(ytest, y_predicted)) # generate the precision, recall, f-1 score, num\n",
    "print('LogReg: ROC AUC = ',str(round(roc_auc_score(ytest, y_predicted)*100,1)), '%')\n",
    "print('LogReg: Precision = ',str(round(precision_score(ytest, y_predicted)*100,1)), '%')\n",
    "print('LogReg: Recall = ',str(round(recall_score(ytest, y_predicted)*100,1)), '%')\n",
    "print('LogReg: Accuracy = ',str(round(accuracy_score(ytest, y_predicted)*100,1)), '%')\n",
    "print('LogReg: F1-Score = ',str(round(f1_score(ytest, y_predicted)*100,1)), '%')\n",
    "confusion_matrix(ytest, y_predicted)"
   ]
  },
  {
   "cell_type": "code",
   "execution_count": 24,
   "id": "5e790226",
   "metadata": {},
   "outputs": [],
   "source": [
    "# filename = 'LR-Lasso+SMOTE+FA-New.pkl'\n",
    "# pickle.dump(grid_search, open(filename, 'wb'))"
   ]
  },
  {
   "cell_type": "markdown",
   "id": "e6c13f40",
   "metadata": {},
   "source": [
    "## elasticnet"
   ]
  },
  {
   "cell_type": "code",
   "execution_count": 32,
   "id": "e57899d8",
   "metadata": {},
   "outputs": [
    {
     "name": "stdout",
     "output_type": "stream",
     "text": [
      "Fitting 30 folds for each of 9 candidates, totalling 270 fits\n"
     ]
    }
   ],
   "source": [
    "logModel  = LogisticRegression(random_state=42)\n",
    "param_grid = [    \n",
    "    {'solver' : [ 'saga'],\n",
    "    'penalty' : [   'elasticnet'  ], #'None', 'l1', 'l2', 'elasticnet'\n",
    "    'C' :  [1],\n",
    "    'max_iter': [2000],\n",
    "    'l1_ratio': [0.1,0.2,0.3,0.4,0.5,0.6,0.7,0.8,0.9]\n",
    "    }\n",
    "]\n",
    "\n",
    "cv = RepeatedStratifiedKFold(n_splits=10, n_repeats=3, random_state=42)\n",
    "log_grid = GridSearchCV(logModel, param_grid = param_grid , verbose=True, n_jobs=-1, cv=cv , scoring='f1')\n",
    "log_clf_hyp = log_grid.fit(xtrain_sm,ytrain_sm)"
   ]
  },
  {
   "cell_type": "code",
   "execution_count": 33,
   "id": "4ef0c0ac",
   "metadata": {},
   "outputs": [
    {
     "data": {
      "text/plain": [
       "LogisticRegression(C=1, l1_ratio=0.1, max_iter=2000, penalty='elasticnet',\n",
       "                   random_state=42, solver='saga')"
      ]
     },
     "execution_count": 33,
     "metadata": {},
     "output_type": "execute_result"
    }
   ],
   "source": [
    "log_clf_hyp.best_estimator_"
   ]
  },
  {
   "cell_type": "code",
   "execution_count": 34,
   "id": "5022d400",
   "metadata": {},
   "outputs": [
    {
     "name": "stdout",
     "output_type": "stream",
     "text": [
      "\n",
      "classification report-logistic(enet)+SMOTE-train\n",
      "              precision    recall  f1-score   support\n",
      "\n",
      "           0       0.61      0.61      0.61       243\n",
      "           1       0.61      0.61      0.61       243\n",
      "\n",
      "    accuracy                           0.61       486\n",
      "   macro avg       0.61      0.61      0.61       486\n",
      "weighted avg       0.61      0.61      0.61       486\n",
      "\n",
      "LogReg: ROC AUC =  60.9 %\n",
      "LogReg: Precision =  60.9 %\n",
      "LogReg: Recall =  60.9 %\n",
      "LogReg: Accuracy =  60.9 %\n",
      "LogReg: F1-Score =  60.9 %\n"
     ]
    },
    {
     "data": {
      "text/plain": [
       "array([[148,  95],\n",
       "       [ 95, 148]], dtype=int64)"
      ]
     },
     "execution_count": 34,
     "metadata": {},
     "output_type": "execute_result"
    }
   ],
   "source": [
    "# Predict the train data\n",
    "y_predicted = log_clf_hyp.predict(xtrain_sm)\n",
    "\n",
    "print('\\nclassification report-logistic(enet)+SMOTE-train')\n",
    "print(classification_report(ytrain_sm, y_predicted)) # generate the precision, recall, f-1 score, num\n",
    "print('LogReg: ROC AUC = ',str(round(roc_auc_score(ytrain_sm, y_predicted)*100,1)), '%')\n",
    "print('LogReg: Precision = ',str(round(precision_score(ytrain_sm, y_predicted)*100,1)), '%')\n",
    "print('LogReg: Recall = ',str(round(recall_score(ytrain_sm, y_predicted)*100,1)), '%')\n",
    "print('LogReg: Accuracy = ',str(round(accuracy_score(ytrain_sm, y_predicted)*100,1)), '%')\n",
    "print('LogReg: F1-Score = ',str(round(f1_score(ytrain_sm, y_predicted)*100,1)), '%')\n",
    "confusion_matrix(ytrain_sm, y_predicted)"
   ]
  },
  {
   "cell_type": "code",
   "execution_count": 35,
   "id": "6068d5d1",
   "metadata": {},
   "outputs": [
    {
     "name": "stdout",
     "output_type": "stream",
     "text": [
      "\n",
      "classification report-logistic(enet)+SMOTE-test\n",
      "              precision    recall  f1-score   support\n",
      "\n",
      "           0       0.57      0.61      0.59        49\n",
      "           1       0.63      0.58      0.60        55\n",
      "\n",
      "    accuracy                           0.60       104\n",
      "   macro avg       0.60      0.60      0.60       104\n",
      "weighted avg       0.60      0.60      0.60       104\n",
      "\n",
      "LogReg: ROC AUC =  59.7 %\n",
      "LogReg: Precision =  62.7 %\n",
      "LogReg: Recall =  58.2 %\n",
      "LogReg: Accuracy =  59.6 %\n",
      "LogReg: F1-Score =  60.4 %\n"
     ]
    },
    {
     "data": {
      "text/plain": [
       "array([[30, 19],\n",
       "       [23, 32]], dtype=int64)"
      ]
     },
     "execution_count": 35,
     "metadata": {},
     "output_type": "execute_result"
    }
   ],
   "source": [
    "# Predict the test data\n",
    "y_predicted = log_clf_hyp.predict( xtest)\n",
    "\n",
    "print('\\nclassification report-logistic(enet)+SMOTE-test')\n",
    "print(classification_report(ytest, y_predicted)) # generate the precision, recall, f-1 score, num\n",
    "print('LogReg: ROC AUC = ',str(round(roc_auc_score(ytest, y_predicted)*100,1)), '%')\n",
    "print('LogReg: Precision = ',str(round(precision_score(ytest, y_predicted)*100,1)), '%')\n",
    "print('LogReg: Recall = ',str(round(recall_score(ytest, y_predicted)*100,1)), '%')\n",
    "print('LogReg: Accuracy = ',str(round(accuracy_score(ytest, y_predicted)*100,1)), '%')\n",
    "print('LogReg: F1-Score = ',str(round(f1_score(ytest, y_predicted)*100,1)), '%')\n",
    "confusion_matrix(ytest, y_predicted)"
   ]
  },
  {
   "cell_type": "code",
   "execution_count": 195,
   "id": "e4caf00d",
   "metadata": {},
   "outputs": [],
   "source": [
    "# filename = 'LR-Enet+SMOTE+FA-New.pkl'\n",
    "# pickle.dump(log_clf_hyp, open(filename, 'wb'))"
   ]
  },
  {
   "cell_type": "markdown",
   "id": "c85d5756",
   "metadata": {},
   "source": [
    "## SVM with hyperparameter tuning"
   ]
  },
  {
   "cell_type": "markdown",
   "id": "4514f1e4",
   "metadata": {},
   "source": [
    "### SVM"
   ]
  },
  {
   "cell_type": "code",
   "execution_count": 36,
   "id": "ed4ac6c0",
   "metadata": {},
   "outputs": [],
   "source": [
    "from sklearn.svm import SVC"
   ]
  },
  {
   "cell_type": "code",
   "execution_count": 87,
   "id": "055fc999",
   "metadata": {},
   "outputs": [
    {
     "name": "stdout",
     "output_type": "stream",
     "text": [
      "Fitting 30 folds for each of 8 candidates, totalling 240 fits\n"
     ]
    }
   ],
   "source": [
    "# define model\n",
    "model = SVC(random_state=42)\n",
    "\n",
    "# define grid search\n",
    "param_grid = [    \n",
    "    {'kernel' : ['poly', 'linear', 'rbf', 'sigmoid' ],\n",
    "     'degree' : [3],\n",
    "     'gamma' :['scale', 'auto' ],\n",
    "    'C': [1e-1]\n",
    " \n",
    "    }\n",
    "]\n",
    "\n",
    "cv = RepeatedStratifiedKFold(n_splits=10, n_repeats=3, random_state=1)\n",
    "grid_search = GridSearchCV(estimator=model, param_grid=param_grid, verbose=True, n_jobs=-1, cv=cv , scoring = 'f1', error_score=0)\n",
    "grid_result = grid_search.fit(xtrain_sm, ytrain_sm)"
   ]
  },
  {
   "cell_type": "code",
   "execution_count": 88,
   "id": "25c5398f",
   "metadata": {},
   "outputs": [
    {
     "data": {
      "text/plain": [
       "SVC(C=0.1, random_state=42)"
      ]
     },
     "execution_count": 88,
     "metadata": {},
     "output_type": "execute_result"
    }
   ],
   "source": [
    "grid_search.best_estimator_"
   ]
  },
  {
   "cell_type": "code",
   "execution_count": 89,
   "id": "6a454a28",
   "metadata": {},
   "outputs": [
    {
     "data": {
      "text/plain": [
       "({'C': 0.1, 'degree': 3, 'gamma': 'scale', 'kernel': 'rbf'},\n",
       " 0.5816852445543326)"
      ]
     },
     "execution_count": 89,
     "metadata": {},
     "output_type": "execute_result"
    }
   ],
   "source": [
    "grid_search.best_params_, grid_search.best_score_"
   ]
  },
  {
   "cell_type": "code",
   "execution_count": 90,
   "id": "d800b544",
   "metadata": {},
   "outputs": [
    {
     "name": "stdout",
     "output_type": "stream",
     "text": [
      "\n",
      "classification report- SVM+ SMOTE -Train\n",
      "\n",
      "\n",
      "\n",
      "              precision    recall  f1-score   support\n",
      "\n",
      "           0       0.59      0.51      0.55       243\n",
      "           1       0.57      0.65      0.61       243\n",
      "\n",
      "    accuracy                           0.58       486\n",
      "   macro avg       0.58      0.58      0.58       486\n",
      "weighted avg       0.58      0.58      0.58       486\n",
      "\n",
      " ROC AUC =  57.8 %\n",
      " Precision =  56.8 %\n",
      " Recall =  65.0 %\n",
      " Accuracy =  57.8 %\n",
      " F1-Score =  60.7 %\n"
     ]
    },
    {
     "data": {
      "text/plain": [
       "array([[123, 120],\n",
       "       [ 85, 158]], dtype=int64)"
      ]
     },
     "execution_count": 90,
     "metadata": {},
     "output_type": "execute_result"
    }
   ],
   "source": [
    "# Predict the train data\n",
    "y_predicted = grid_search.predict(xtrain_sm)\n",
    "\n",
    "print('\\nclassification report- SVM+ SMOTE -Train')\n",
    "print('\\n\\n')\n",
    "print(classification_report(ytrain_sm, y_predicted)) \n",
    "print(' ROC AUC = ',str(round(roc_auc_score(ytrain_sm, y_predicted)*100,1)), '%')\n",
    "print(' Precision = ',str(round(precision_score(ytrain_sm, y_predicted)*100,1)), '%')\n",
    "print(' Recall = ',str(round(recall_score(ytrain_sm, y_predicted)*100,1)), '%')\n",
    "print(' Accuracy = ',str(round(accuracy_score(ytrain_sm, y_predicted)*100,1)), '%')\n",
    "print(' F1-Score = ',str(round(f1_score(ytrain_sm, y_predicted)*100,1)), '%')\n",
    "confusion_matrix(ytrain_sm, y_predicted)"
   ]
  },
  {
   "cell_type": "code",
   "execution_count": 91,
   "id": "0d13a5eb",
   "metadata": {},
   "outputs": [
    {
     "name": "stdout",
     "output_type": "stream",
     "text": [
      "\n",
      "classification report- SVM+ SMOTE -Test\n",
      "\n",
      "\n",
      "\n",
      "              precision    recall  f1-score   support\n",
      "\n",
      "           0       0.54      0.51      0.53        49\n",
      "           1       0.59      0.62      0.60        55\n",
      "\n",
      "    accuracy                           0.57       104\n",
      "   macro avg       0.56      0.56      0.56       104\n",
      "weighted avg       0.57      0.57      0.57       104\n",
      "\n",
      " ROC AUC =  56.4 %\n",
      " Precision =  58.6 %\n",
      " Recall =  61.8 %\n",
      " Accuracy =  56.7 %\n",
      " F1-Score =  60.2 %\n"
     ]
    },
    {
     "data": {
      "text/plain": [
       "array([[25, 24],\n",
       "       [21, 34]], dtype=int64)"
      ]
     },
     "execution_count": 91,
     "metadata": {},
     "output_type": "execute_result"
    }
   ],
   "source": [
    "# Predict the test data\n",
    "y_predicted = grid_search.predict(xtest)\n",
    "\n",
    "print('\\nclassification report- SVM+ SMOTE -Test')\n",
    "print('\\n\\n')\n",
    "print(classification_report(ytest, y_predicted))  \n",
    "print(' ROC AUC = ',str(round(roc_auc_score(ytest, y_predicted)*100,1)), '%')\n",
    "print(' Precision = ',str(round(precision_score(ytest, y_predicted)*100,1)), '%')\n",
    "print(' Recall = ',str(round(recall_score(ytest, y_predicted)*100,1)), '%')\n",
    "print(' Accuracy = ',str(round(accuracy_score(ytest, y_predicted)*100,1)), '%')\n",
    "print(' F1-Score = ',str(round(f1_score(ytest, y_predicted)*100,1)), '%')\n",
    "confusion_matrix(ytest, y_predicted)"
   ]
  },
  {
   "cell_type": "code",
   "execution_count": 72,
   "id": "eacb6d9d",
   "metadata": {},
   "outputs": [],
   "source": [
    "# filename = 'SVM+SMOTE+FA-New.pkl'\n",
    "# pickle.dump(grid_search, open(filename, 'wb'))"
   ]
  },
  {
   "cell_type": "markdown",
   "id": "7a8e450e",
   "metadata": {},
   "source": [
    "## KNN"
   ]
  },
  {
   "cell_type": "code",
   "execution_count": 92,
   "id": "5a0b1210",
   "metadata": {},
   "outputs": [],
   "source": [
    "from sklearn.neighbors import KNeighborsClassifier # The k-nearest neighbor classifier\n",
    "from sklearn.feature_selection import VarianceThreshold # Feature selector\n",
    "from sklearn.pipeline import Pipeline # For setting up pipeline\n",
    "# Various pre-processing steps\n",
    "from sklearn.preprocessing import Normalizer, StandardScaler, MinMaxScaler, PowerTransformer, MaxAbsScaler, LabelEncoder\n",
    "from sklearn.model_selection import GridSearchCV # For optimization"
   ]
  },
  {
   "cell_type": "code",
   "execution_count": 93,
   "id": "bdb0ecf6",
   "metadata": {},
   "outputs": [],
   "source": [
    "pipe = Pipeline([\n",
    "('classifier', KNeighborsClassifier())\n",
    "])"
   ]
  },
  {
   "cell_type": "code",
   "execution_count": 200,
   "id": "d727fb00",
   "metadata": {},
   "outputs": [],
   "source": [
    "parameters = { \n",
    " 'classifier__n_neighbors': [17],\n",
    " 'classifier__p': [1, 2],\n",
    " 'classifier__leaf_size':   [1, 5, 10, 15],\n",
    " 'classifier__weights': ['uniform'  ],\n",
    " 'classifier__metric' : ['euclidean', 'manhattan', 'minkowski']\n",
    "}"
   ]
  },
  {
   "cell_type": "code",
   "execution_count": 201,
   "id": "5c3640ee",
   "metadata": {},
   "outputs": [
    {
     "name": "stdout",
     "output_type": "stream",
     "text": [
      "Fitting 30 folds for each of 24 candidates, totalling 720 fits\n"
     ]
    }
   ],
   "source": [
    "cv = RepeatedStratifiedKFold(n_splits=10, n_repeats=3, random_state=1)\n",
    "grid = GridSearchCV(pipe, parameters,verbose=True, n_jobs=-1, cv=cv , scoring = 'f1', error_score=0).fit(xtrain_sm  , ytrain_sm  )"
   ]
  },
  {
   "cell_type": "code",
   "execution_count": 202,
   "id": "6d5fbfe6",
   "metadata": {},
   "outputs": [
    {
     "data": {
      "text/plain": [
       "({'classifier__leaf_size': 1,\n",
       "  'classifier__metric': 'euclidean',\n",
       "  'classifier__n_neighbors': 17,\n",
       "  'classifier__p': 1,\n",
       "  'classifier__weights': 'uniform'},\n",
       " 0.5372225779807402)"
      ]
     },
     "execution_count": 202,
     "metadata": {},
     "output_type": "execute_result"
    }
   ],
   "source": [
    "grid.best_params_, grid.best_score_"
   ]
  },
  {
   "cell_type": "code",
   "execution_count": 203,
   "id": "f549cd3a",
   "metadata": {},
   "outputs": [
    {
     "name": "stdout",
     "output_type": "stream",
     "text": [
      "\n",
      "classification report -  RF+ SMOTE -Train\n",
      "\n",
      "\n",
      "\n",
      "              precision    recall  f1-score   support\n",
      "\n",
      "           0       0.62      0.67      0.64       243\n",
      "           1       0.64      0.59      0.62       243\n",
      "\n",
      "    accuracy                           0.63       486\n",
      "   macro avg       0.63      0.63      0.63       486\n",
      "weighted avg       0.63      0.63      0.63       486\n",
      "\n",
      " ROC AUC =  63.0 %\n",
      " Precision =  64.0 %\n",
      " Recall =  59.3 %\n",
      " Accuracy =  63.0 %\n",
      " F1-Score =  61.5 %\n"
     ]
    },
    {
     "data": {
      "text/plain": [
       "array([[162,  81],\n",
       "       [ 99, 144]], dtype=int64)"
      ]
     },
     "execution_count": 203,
     "metadata": {},
     "output_type": "execute_result"
    }
   ],
   "source": [
    "y_predicted = grid.predict(xtrain_sm)\n",
    "\n",
    "print('\\nclassification report -  RF+ SMOTE -Train')\n",
    "print('\\n\\n')\n",
    "print(classification_report(ytrain_sm, y_predicted)) # generate the precision, recall, f-1 score, num\n",
    "print(' ROC AUC = ',str(round(roc_auc_score(ytrain_sm, y_predicted)*100,1)), '%')\n",
    "print(' Precision = ',str(round(precision_score(ytrain_sm, y_predicted)*100,1)), '%')\n",
    "print(' Recall = ',str(round(recall_score(ytrain_sm, y_predicted)*100,1)), '%')\n",
    "print(' Accuracy = ',str(round(accuracy_score(ytrain_sm, y_predicted)*100,1)), '%')\n",
    "print(' F1-Score = ',str(round(f1_score(ytrain_sm, y_predicted)*100,1)), '%')\n",
    "confusion_matrix(ytrain_sm, y_predicted)"
   ]
  },
  {
   "cell_type": "code",
   "execution_count": 204,
   "id": "b94d54ed",
   "metadata": {},
   "outputs": [
    {
     "name": "stdout",
     "output_type": "stream",
     "text": [
      "\n",
      "classification report- RF+ SMOTE -Test\n",
      "\n",
      "\n",
      "\n",
      "              precision    recall  f1-score   support\n",
      "\n",
      "           0       0.57      0.67      0.62        49\n",
      "           1       0.65      0.55      0.59        55\n",
      "\n",
      "    accuracy                           0.61       104\n",
      "   macro avg       0.61      0.61      0.61       104\n",
      "weighted avg       0.61      0.61      0.60       104\n",
      "\n",
      "Random Forest: ROC AUC =  60.9 %\n",
      "Random Forest: Precision =  65.2 %\n",
      "Random Forest: Recall =  54.5 %\n",
      "Random Forest: Accuracy =  60.6 %\n",
      "Random Forest: F1-Score =  59.4 %\n"
     ]
    },
    {
     "data": {
      "text/plain": [
       "array([[33, 16],\n",
       "       [25, 30]], dtype=int64)"
      ]
     },
     "execution_count": 204,
     "metadata": {},
     "output_type": "execute_result"
    }
   ],
   "source": [
    "# Predict the test data\n",
    "y_predicted = grid.predict(xtest)\n",
    "\n",
    "print('\\nclassification report- RF+ SMOTE -Test')\n",
    "print('\\n\\n')\n",
    "print(classification_report(ytest, y_predicted)) # generate the precision, recall, f-1 score, num\n",
    "print('Random Forest: ROC AUC = ',str(round(roc_auc_score(ytest, y_predicted)*100,1)), '%')\n",
    "print('Random Forest: Precision = ',str(round(precision_score(ytest, y_predicted)*100,1)), '%')\n",
    "print('Random Forest: Recall = ',str(round(recall_score(ytest, y_predicted)*100,1)), '%')\n",
    "print('Random Forest: Accuracy = ',str(round(accuracy_score(ytest, y_predicted)*100,1)), '%')\n",
    "print('Random Forest: F1-Score = ',str(round(f1_score(ytest, y_predicted)*100,1)), '%')\n",
    "confusion_matrix(ytest, y_predicted)"
   ]
  },
  {
   "cell_type": "markdown",
   "id": "aec5ae1e",
   "metadata": {},
   "source": [
    "## GNB"
   ]
  },
  {
   "cell_type": "code",
   "execution_count": 240,
   "id": "02d42f12",
   "metadata": {},
   "outputs": [],
   "source": [
    "import random\n",
    "\n",
    "def set_random_seed(seed=100):\n",
    "  np.random.seed(seed)\n",
    "  random.seed(seed)\n",
    "    \n",
    "set_random_seed(100)"
   ]
  },
  {
   "cell_type": "code",
   "execution_count": 244,
   "id": "95bbff0f",
   "metadata": {},
   "outputs": [
    {
     "data": {
      "text/plain": [
       "GaussianNB(var_smoothing=100)"
      ]
     },
     "execution_count": 244,
     "metadata": {},
     "output_type": "execute_result"
    }
   ],
   "source": [
    "from sklearn.naive_bayes import GaussianNB\n",
    "\n",
    "gnb_clf_hyp = GaussianNB(var_smoothing=100) \n",
    "gnb_clf_hyp.fit(xtrain_sm, ytrain_sm)"
   ]
  },
  {
   "cell_type": "code",
   "execution_count": 245,
   "id": "2924d46c",
   "metadata": {},
   "outputs": [
    {
     "name": "stdout",
     "output_type": "stream",
     "text": [
      "\n",
      "classification report -  RF+ SMOTE -Train\n",
      "\n",
      "\n",
      "\n",
      "              precision    recall  f1-score   support\n",
      "\n",
      "           0       0.58      0.65      0.61       243\n",
      "           1       0.60      0.53      0.57       243\n",
      "\n",
      "    accuracy                           0.59       486\n",
      "   macro avg       0.59      0.59      0.59       486\n",
      "weighted avg       0.59      0.59      0.59       486\n",
      "\n",
      " ROC AUC =  59.3 %\n",
      " Precision =  60.5 %\n",
      " Recall =  53.5 %\n",
      " Accuracy =  59.3 %\n",
      " F1-Score =  56.8 %\n"
     ]
    },
    {
     "data": {
      "text/plain": [
       "array([[158,  85],\n",
       "       [113, 130]], dtype=int64)"
      ]
     },
     "execution_count": 245,
     "metadata": {},
     "output_type": "execute_result"
    }
   ],
   "source": [
    "y_predicted = gnb_clf_hyp.predict(xtrain_sm)\n",
    "\n",
    "print('\\nclassification report -  RF+ SMOTE -Train')\n",
    "print('\\n\\n')\n",
    "print(classification_report(ytrain_sm, y_predicted)) # generate the precision, recall, f-1 score, num\n",
    "print(' ROC AUC = ',str(round(roc_auc_score(ytrain_sm, y_predicted)*100,1)), '%')\n",
    "print(' Precision = ',str(round(precision_score(ytrain_sm, y_predicted)*100,1)), '%')\n",
    "print(' Recall = ',str(round(recall_score(ytrain_sm, y_predicted)*100,1)), '%')\n",
    "print(' Accuracy = ',str(round(accuracy_score(ytrain_sm, y_predicted)*100,1)), '%')\n",
    "print(' F1-Score = ',str(round(f1_score(ytrain_sm, y_predicted)*100,1)), '%')\n",
    "confusion_matrix(ytrain_sm, y_predicted)"
   ]
  },
  {
   "cell_type": "code",
   "execution_count": 246,
   "id": "b031bc09",
   "metadata": {},
   "outputs": [
    {
     "name": "stdout",
     "output_type": "stream",
     "text": [
      "\n",
      "classification report- RF+ SMOTE -Test\n",
      "\n",
      "\n",
      "\n",
      "              precision    recall  f1-score   support\n",
      "\n",
      "           0       0.54      0.61      0.57        49\n",
      "           1       0.60      0.53      0.56        55\n",
      "\n",
      "    accuracy                           0.57       104\n",
      "   macro avg       0.57      0.57      0.57       104\n",
      "weighted avg       0.57      0.57      0.57       104\n",
      "\n",
      "Random Forest: ROC AUC =  57.0 %\n",
      "Random Forest: Precision =  60.4 %\n",
      "Random Forest: Recall =  52.7 %\n",
      "Random Forest: Accuracy =  56.7 %\n",
      "Random Forest: F1-Score =  56.3 %\n"
     ]
    },
    {
     "data": {
      "text/plain": [
       "array([[30, 19],\n",
       "       [26, 29]], dtype=int64)"
      ]
     },
     "execution_count": 246,
     "metadata": {},
     "output_type": "execute_result"
    }
   ],
   "source": [
    "# Predict the test data\n",
    "y_predicted = gnb_clf_hyp.predict(xtest)\n",
    "\n",
    "print('\\nclassification report- RF+ SMOTE -Test')\n",
    "print('\\n\\n')\n",
    "print(classification_report(ytest, y_predicted)) # generate the precision, recall, f-1 score, num\n",
    "print('Random Forest: ROC AUC = ',str(round(roc_auc_score(ytest, y_predicted)*100,1)), '%')\n",
    "print('Random Forest: Precision = ',str(round(precision_score(ytest, y_predicted)*100,1)), '%')\n",
    "print('Random Forest: Recall = ',str(round(recall_score(ytest, y_predicted)*100,1)), '%')\n",
    "print('Random Forest: Accuracy = ',str(round(accuracy_score(ytest, y_predicted)*100,1)), '%')\n",
    "print('Random Forest: F1-Score = ',str(round(f1_score(ytest, y_predicted)*100,1)), '%')\n",
    "confusion_matrix(ytest, y_predicted)"
   ]
  },
  {
   "cell_type": "markdown",
   "id": "0b95de0f",
   "metadata": {},
   "source": [
    "## Random Forest"
   ]
  },
  {
   "cell_type": "markdown",
   "id": "61ff338c",
   "metadata": {},
   "source": [
    "## random forest - with hyperparameter tuning"
   ]
  },
  {
   "cell_type": "code",
   "execution_count": 277,
   "id": "4106ff42",
   "metadata": {},
   "outputs": [],
   "source": [
    "# xtrain = train.drop(['Winner', 'ID', 'Venue', \n",
    "#                        'T2_AvgRunsScored/Over', 'T2_Avg_Wkts_Lost', 'T2_Bound', \n",
    "#                        'T1_AvgRunsScored/Over', 'T1_Bound',\n",
    "#                        'T1_Mat',\n",
    "#                        'T1_W/L', 'T1_Avg_Wkts_Taken'],axis=1) \n",
    "# ytrain = train['Winner']\n",
    " \n",
    "# xtest = test.drop(['Winner', 'ID', 'Venue', \n",
    "#                       'T2_AvgRunsScored/Over', 'T2_Avg_Wkts_Lost', 'T2_Bound', \n",
    "#                        'T1_AvgRunsScored/Over', 'T1_Bound',\n",
    "#                        'T1_Mat',\n",
    "#                        'T1_W/L', 'T1_Avg_Wkts_Taken'],axis=1)  \n",
    "# ytest = test['Winner']\n",
    "\n",
    "# st = StandardScaler()\n",
    "# xtrain  = st.fit_transform( xtrain)\n",
    "# xtest = st.fit_transform( xtest)\n",
    "\n",
    "# sm = SMOTE(random_state=100)\n",
    "# xtrain_sm, ytrain_sm = sm.fit_resample(  xtrain,ytrain) "
   ]
  },
  {
   "cell_type": "code",
   "execution_count": 247,
   "id": "33b022ee",
   "metadata": {},
   "outputs": [],
   "source": [
    "# explore random forest bootstrap sample size on performance\n",
    "from numpy import mean\n",
    "from numpy import std\n",
    "from numpy import arange\n",
    "from sklearn.datasets import make_classification\n",
    "from sklearn.model_selection import cross_val_score\n",
    "from sklearn.model_selection import RepeatedStratifiedKFold\n",
    "from sklearn.ensemble import RandomForestClassifier\n",
    "from matplotlib import pyplot\n",
    "from sklearn.model_selection import GridSearchCV # For optimization"
   ]
  },
  {
   "cell_type": "code",
   "execution_count": 300,
   "id": "a989a479",
   "metadata": {},
   "outputs": [],
   "source": [
    "# define models and parameters\n",
    "model = RandomForestClassifier(random_state=42)\n",
    "param_grid = [    \n",
    "    {'n_estimators' : [2000],\n",
    "    'criterion': ['entropy'],\n",
    "    'max_features':[0.2], #0.2\n",
    "     'min_samples_leaf': [ 40 ], #70\n",
    "     'oob_score':[True],\n",
    "     'min_samples_split':[6] #6\n",
    "    }\n",
    "]\n",
    "cv = RepeatedStratifiedKFold(n_splits=10, n_repeats=3, random_state=1)\n",
    "grid_search = GridSearchCV(estimator=model, param_grid= param_grid, n_jobs=-1,  cv=cv, scoring='f1',error_score='raise')\n",
    "grid_result = grid_search.fit(xtrain_sm, ytrain_sm)"
   ]
  },
  {
   "cell_type": "code",
   "execution_count": 301,
   "id": "5bdeaa8c",
   "metadata": {},
   "outputs": [
    {
     "data": {
      "text/plain": [
       "RandomForestClassifier(criterion='entropy', max_features=0.2,\n",
       "                       min_samples_leaf=40, min_samples_split=6,\n",
       "                       n_estimators=2000, oob_score=True, random_state=42)"
      ]
     },
     "execution_count": 301,
     "metadata": {},
     "output_type": "execute_result"
    }
   ],
   "source": [
    "grid_search.best_estimator_"
   ]
  },
  {
   "cell_type": "code",
   "execution_count": 304,
   "id": "2a7db0a8",
   "metadata": {},
   "outputs": [
    {
     "name": "stdout",
     "output_type": "stream",
     "text": [
      "\n",
      "classification report -  RF+ SMOTE -Train\n",
      "\n",
      "\n",
      "\n",
      "              precision    recall  f1-score   support\n",
      "\n",
      "           0       0.62      0.57      0.60       243\n",
      "           1       0.60      0.65      0.63       243\n",
      "\n",
      "    accuracy                           0.61       486\n",
      "   macro avg       0.61      0.61      0.61       486\n",
      "weighted avg       0.61      0.61      0.61       486\n",
      "\n",
      " ROC AUC =  61.3 %\n",
      " Precision =  60.5 %\n",
      " Recall =  65.4 %\n",
      " Accuracy =  61.3 %\n",
      " F1-Score =  62.8 %\n"
     ]
    },
    {
     "data": {
      "text/plain": [
       "array([[139, 104],\n",
       "       [ 84, 159]], dtype=int64)"
      ]
     },
     "execution_count": 304,
     "metadata": {},
     "output_type": "execute_result"
    }
   ],
   "source": [
    "y_predicted = grid_search.predict(xtrain_sm)\n",
    "\n",
    "print('\\nclassification report -  RF+ SMOTE -Train')\n",
    "print('\\n\\n')\n",
    "print(classification_report(ytrain_sm, y_predicted)) # generate the precision, recall, f-1 score, num\n",
    "print(' ROC AUC = ',str(round(roc_auc_score(ytrain_sm, y_predicted)*100,1)), '%')\n",
    "print(' Precision = ',str(round(precision_score(ytrain_sm, y_predicted)*100,1)), '%')\n",
    "print(' Recall = ',str(round(recall_score(ytrain_sm, y_predicted)*100,1)), '%')\n",
    "print(' Accuracy = ',str(round(accuracy_score(ytrain_sm, y_predicted)*100,1)), '%')\n",
    "print(' F1-Score = ',str(round(f1_score(ytrain_sm, y_predicted)*100,1)), '%')\n",
    "confusion_matrix(ytrain_sm, y_predicted)"
   ]
  },
  {
   "cell_type": "code",
   "execution_count": 302,
   "id": "6040f649",
   "metadata": {},
   "outputs": [
    {
     "name": "stdout",
     "output_type": "stream",
     "text": [
      "\n",
      "classification report- RF+ SMOTE -Test\n",
      "\n",
      "\n",
      "\n",
      "              precision    recall  f1-score   support\n",
      "\n",
      "           0       0.58      0.59      0.59        49\n",
      "           1       0.63      0.62      0.62        55\n",
      "\n",
      "    accuracy                           0.61       104\n",
      "   macro avg       0.60      0.61      0.60       104\n",
      "weighted avg       0.61      0.61      0.61       104\n",
      "\n",
      "Random Forest: ROC AUC =  60.5 %\n",
      "Random Forest: Precision =  63.0 %\n",
      "Random Forest: Recall =  61.8 %\n",
      "Random Forest: Accuracy =  60.6 %\n",
      "Random Forest: F1-Score =  62.4 %\n"
     ]
    },
    {
     "data": {
      "text/plain": [
       "array([[29, 20],\n",
       "       [21, 34]], dtype=int64)"
      ]
     },
     "execution_count": 302,
     "metadata": {},
     "output_type": "execute_result"
    }
   ],
   "source": [
    "# Predict the test data\n",
    "y_predicted = grid_search.predict( xtest)\n",
    "\n",
    "print('\\nclassification report- RF+ SMOTE -Test')\n",
    "print('\\n\\n')\n",
    "print(classification_report(ytest, y_predicted)) # generate the precision, recall, f-1 score, num\n",
    "print('Random Forest: ROC AUC = ',str(round(roc_auc_score(ytest, y_predicted)*100,1)), '%')\n",
    "print('Random Forest: Precision = ',str(round(precision_score(ytest, y_predicted)*100,1)), '%')\n",
    "print('Random Forest: Recall = ',str(round(recall_score(ytest, y_predicted)*100,1)), '%')\n",
    "print('Random Forest: Accuracy = ',str(round(accuracy_score(ytest, y_predicted)*100,1)), '%')\n",
    "print('Random Forest: F1-Score = ',str(round(f1_score(ytest, y_predicted)*100,1)), '%')\n",
    "confusion_matrix(ytest, y_predicted)"
   ]
  },
  {
   "cell_type": "code",
   "execution_count": 303,
   "id": "4b4de2d3",
   "metadata": {},
   "outputs": [],
   "source": [
    "# filename = 'RF+SMOTE+FA-New.pkl'\n",
    "# pickle.dump(grid_search, open(filename, 'wb'))"
   ]
  },
  {
   "cell_type": "markdown",
   "id": "f14da7c7",
   "metadata": {},
   "source": [
    "## XGBoost"
   ]
  },
  {
   "cell_type": "code",
   "execution_count": 306,
   "id": "0c043f85",
   "metadata": {},
   "outputs": [],
   "source": [
    "import xgboost as xgb"
   ]
  },
  {
   "cell_type": "code",
   "execution_count": 307,
   "id": "570d68ba",
   "metadata": {},
   "outputs": [],
   "source": [
    "model = xgb.XGBClassifier(seed = 16) #16\n",
    "\n",
    "param_grid = [    \n",
    "    {'learning_rate' :[1e-4],# 4\n",
    "    'n_estimators':[2000],\n",
    " 'max_depth':[6], #6 2\n",
    " 'min_child_weight':[ 6 ], # 7 6\n",
    " 'gamma':[0],\n",
    " 'subsample':[    0.25 ], # 0.25\n",
    " 'colsample_bytree':[   0.4], #0.2 0.4\n",
    " 'objective': ['binary:logistic'],\n",
    " 'nthread':[4],\n",
    " 'reg_alpha':[1e-5 ]\n",
    "    }\n",
    "]\n",
    "cv = RepeatedStratifiedKFold(n_splits=10, n_repeats=3, random_state=1)\n",
    "grid_search = GridSearchCV(estimator=model, param_grid= param_grid,  cv=cv, n_jobs = -1, scoring='f1',error_score='raise' )\n",
    "grid_result = grid_search.fit(xtrain_sm, ytrain_sm)\n",
    "#,colsample_bytree':[ 0.1, 0.2 ]"
   ]
  },
  {
   "cell_type": "code",
   "execution_count": 308,
   "id": "67ceddb6",
   "metadata": {},
   "outputs": [
    {
     "data": {
      "text/plain": [
       "({'colsample_bytree': 0.4,\n",
       "  'gamma': 0,\n",
       "  'learning_rate': 0.0001,\n",
       "  'max_depth': 6,\n",
       "  'min_child_weight': 6,\n",
       "  'n_estimators': 2000,\n",
       "  'nthread': 4,\n",
       "  'objective': 'binary:logistic',\n",
       "  'reg_alpha': 1e-05,\n",
       "  'subsample': 0.25},\n",
       " 0.6000211119915657)"
      ]
     },
     "execution_count": 308,
     "metadata": {},
     "output_type": "execute_result"
    }
   ],
   "source": [
    "grid_search.best_params_, grid_search.best_score_"
   ]
  },
  {
   "cell_type": "code",
   "execution_count": 309,
   "id": "3b97b56a",
   "metadata": {},
   "outputs": [
    {
     "name": "stdout",
     "output_type": "stream",
     "text": [
      "\n",
      "classification report -  XG+ SMOTE -Train\n",
      "\n",
      "\n",
      "\n",
      "              precision    recall  f1-score   support\n",
      "\n",
      "           0       0.66      0.58      0.62       243\n",
      "           1       0.63      0.70      0.66       243\n",
      "\n",
      "    accuracy                           0.64       486\n",
      "   macro avg       0.64      0.64      0.64       486\n",
      "weighted avg       0.64      0.64      0.64       486\n",
      "\n",
      " ROC AUC =  64.0 %\n",
      " Precision =  62.6 %\n",
      " Recall =  69.5 %\n",
      " Accuracy =  64.0 %\n",
      " F1-Score =  65.9 %\n"
     ]
    },
    {
     "data": {
      "text/plain": [
       "array([[142, 101],\n",
       "       [ 74, 169]], dtype=int64)"
      ]
     },
     "execution_count": 309,
     "metadata": {},
     "output_type": "execute_result"
    }
   ],
   "source": [
    "y_predicted = grid_search.predict(xtrain_sm)\n",
    "\n",
    "print('\\nclassification report -  XG+ SMOTE -Train')\n",
    "print('\\n\\n')\n",
    "print(classification_report(ytrain_sm, y_predicted)) # generate the precision, recall, f-1 score, num\n",
    "print(' ROC AUC = ',str(round(roc_auc_score(ytrain_sm, y_predicted)*100,1)), '%')\n",
    "print(' Precision = ',str(round(precision_score(ytrain_sm, y_predicted)*100,1)), '%')\n",
    "print(' Recall = ',str(round(recall_score(ytrain_sm, y_predicted)*100,1)), '%')\n",
    "print(' Accuracy = ',str(round(accuracy_score(ytrain_sm, y_predicted)*100,1)), '%')\n",
    "print(' F1-Score = ',str(round(f1_score(ytrain_sm, y_predicted)*100,1)), '%')\n",
    "confusion_matrix(ytrain_sm, y_predicted)"
   ]
  },
  {
   "cell_type": "code",
   "execution_count": 310,
   "id": "ca16d954",
   "metadata": {},
   "outputs": [
    {
     "name": "stdout",
     "output_type": "stream",
     "text": [
      "\n",
      "classification report- XG+ SMOTE -Test\n",
      "\n",
      "\n",
      "\n",
      "              precision    recall  f1-score   support\n",
      "\n",
      "           0       0.60      0.53      0.57        49\n",
      "           1       0.62      0.69      0.66        55\n",
      "\n",
      "    accuracy                           0.62       104\n",
      "   macro avg       0.61      0.61      0.61       104\n",
      "weighted avg       0.61      0.62      0.61       104\n",
      "\n",
      " ROC AUC =  61.1 %\n",
      " Precision =  62.3 %\n",
      " Recall =  69.1 %\n",
      " Accuracy =  61.5 %\n",
      " F1-Score =  65.5 %\n"
     ]
    },
    {
     "data": {
      "text/plain": [
       "array([[26, 23],\n",
       "       [17, 38]], dtype=int64)"
      ]
     },
     "execution_count": 310,
     "metadata": {},
     "output_type": "execute_result"
    }
   ],
   "source": [
    "# Predict the test data\n",
    "y_predicted = grid_search.predict( xtest)\n",
    "\n",
    "print('\\nclassification report- XG+ SMOTE -Test')\n",
    "print('\\n\\n')\n",
    "print(classification_report(ytest, y_predicted)) # generate the precision, recall, f-1 score, num\n",
    "print(' ROC AUC = ',str(round(roc_auc_score(ytest, y_predicted)*100,1)), '%')\n",
    "print(' Precision = ',str(round(precision_score(ytest, y_predicted)*100,1)), '%')\n",
    "print(' Recall = ',str(round(recall_score(ytest, y_predicted)*100,1)), '%')\n",
    "print(' Accuracy = ',str(round(accuracy_score(ytest, y_predicted)*100,1)), '%')\n",
    "print(' F1-Score = ',str(round(f1_score(ytest, y_predicted)*100,1)), '%')\n",
    "confusion_matrix(ytest, y_predicted)"
   ]
  },
  {
   "cell_type": "code",
   "execution_count": 660,
   "id": "115534f2",
   "metadata": {},
   "outputs": [],
   "source": [
    "# 65.5%"
   ]
  }
 ],
 "metadata": {
  "kernelspec": {
   "display_name": "Python 3 (ipykernel)",
   "language": "python",
   "name": "python3"
  },
  "language_info": {
   "codemirror_mode": {
    "name": "ipython",
    "version": 3
   },
   "file_extension": ".py",
   "mimetype": "text/x-python",
   "name": "python",
   "nbconvert_exporter": "python",
   "pygments_lexer": "ipython3",
   "version": "3.9.13"
  }
 },
 "nbformat": 4,
 "nbformat_minor": 5
}
