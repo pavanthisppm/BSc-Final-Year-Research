{
 "cells": [
  {
   "cell_type": "code",
   "execution_count": 1,
   "id": "ee251412",
   "metadata": {},
   "outputs": [],
   "source": [
    "import warnings\n",
    "warnings.filterwarnings('ignore')\n",
    "import pandas as pd\n",
    "import numpy as np\n",
    "from sklearn.model_selection import train_test_split\n",
    "import matplotlib.pyplot as plt\n",
    "import seaborn as sns\n",
    "import prince\n",
    "import pickle\n",
    "\n",
    "from imblearn.over_sampling import SMOTE\n",
    "from imblearn.over_sampling import ADASYN\n",
    "from sklearn.preprocessing import RobustScaler\n",
    "from sklearn.preprocessing import StandardScaler\n",
    "from sklearn.model_selection import RepeatedStratifiedKFold\n",
    "from sklearn.model_selection import GridSearchCV\n",
    "from sklearn.linear_model import LogisticRegression\n",
    "from factor_analyzer import FactorAnalyzer\n",
    "\n",
    "from sklearn.metrics import classification_report\n",
    "from sklearn.metrics import roc_auc_score\n",
    "from sklearn.metrics import precision_score\n",
    "from sklearn.metrics import recall_score\n",
    "from sklearn.metrics import accuracy_score\n",
    "from sklearn.metrics import confusion_matrix\n",
    "from sklearn.metrics import f1_score"
   ]
  },
  {
   "cell_type": "code",
   "execution_count": 2,
   "id": "c5a38606",
   "metadata": {},
   "outputs": [
    {
     "data": {
      "text/html": [
       "<div>\n",
       "<style scoped>\n",
       "    .dataframe tbody tr th:only-of-type {\n",
       "        vertical-align: middle;\n",
       "    }\n",
       "\n",
       "    .dataframe tbody tr th {\n",
       "        vertical-align: top;\n",
       "    }\n",
       "\n",
       "    .dataframe thead th {\n",
       "        text-align: right;\n",
       "    }\n",
       "</style>\n",
       "<table border=\"1\" class=\"dataframe\">\n",
       "  <thead>\n",
       "    <tr style=\"text-align: right;\">\n",
       "      <th></th>\n",
       "      <th>ID</th>\n",
       "      <th>Venue</th>\n",
       "      <th>T1_Mat</th>\n",
       "      <th>T1_AvgRunsScored</th>\n",
       "      <th>T1_AvgRunsConceded</th>\n",
       "      <th>T1_AvgWktsTaken</th>\n",
       "      <th>T1_AvgWktsLost</th>\n",
       "      <th>T1_AvgBound</th>\n",
       "      <th>T1_W/L</th>\n",
       "      <th>T2_Mat</th>\n",
       "      <th>...</th>\n",
       "      <th>T2_AvgWktsLost</th>\n",
       "      <th>T2_AvgBound</th>\n",
       "      <th>T2_W/L</th>\n",
       "      <th>T1_TwitterVol</th>\n",
       "      <th>T2_TwitterVol</th>\n",
       "      <th>T1_FansSent</th>\n",
       "      <th>T2_FansSent</th>\n",
       "      <th>T1_FansPred</th>\n",
       "      <th>T2_FansPred</th>\n",
       "      <th>Winner</th>\n",
       "    </tr>\n",
       "  </thead>\n",
       "  <tbody>\n",
       "    <tr>\n",
       "      <th>0</th>\n",
       "      <td>1</td>\n",
       "      <td>Africa</td>\n",
       "      <td>34</td>\n",
       "      <td>7.10</td>\n",
       "      <td>7.27</td>\n",
       "      <td>0.33</td>\n",
       "      <td>0.32</td>\n",
       "      <td>0.85</td>\n",
       "      <td>1.833</td>\n",
       "      <td>22</td>\n",
       "      <td>...</td>\n",
       "      <td>0.32</td>\n",
       "      <td>0.95</td>\n",
       "      <td>1.000</td>\n",
       "      <td>0.571</td>\n",
       "      <td>0.429</td>\n",
       "      <td>0.571</td>\n",
       "      <td>0.381</td>\n",
       "      <td>0.000</td>\n",
       "      <td>0.000</td>\n",
       "      <td>0</td>\n",
       "    </tr>\n",
       "    <tr>\n",
       "      <th>1</th>\n",
       "      <td>2</td>\n",
       "      <td>Oceania</td>\n",
       "      <td>36</td>\n",
       "      <td>8.01</td>\n",
       "      <td>7.38</td>\n",
       "      <td>0.35</td>\n",
       "      <td>0.33</td>\n",
       "      <td>0.98</td>\n",
       "      <td>1.400</td>\n",
       "      <td>30</td>\n",
       "      <td>...</td>\n",
       "      <td>0.32</td>\n",
       "      <td>0.93</td>\n",
       "      <td>1.142</td>\n",
       "      <td>0.838</td>\n",
       "      <td>0.162</td>\n",
       "      <td>0.649</td>\n",
       "      <td>0.162</td>\n",
       "      <td>0.000</td>\n",
       "      <td>0.000</td>\n",
       "      <td>0</td>\n",
       "    </tr>\n",
       "    <tr>\n",
       "      <th>2</th>\n",
       "      <td>3</td>\n",
       "      <td>Oceania</td>\n",
       "      <td>37</td>\n",
       "      <td>8.00</td>\n",
       "      <td>7.39</td>\n",
       "      <td>0.35</td>\n",
       "      <td>0.33</td>\n",
       "      <td>0.98</td>\n",
       "      <td>1.312</td>\n",
       "      <td>31</td>\n",
       "      <td>...</td>\n",
       "      <td>0.33</td>\n",
       "      <td>0.93</td>\n",
       "      <td>1.214</td>\n",
       "      <td>0.357</td>\n",
       "      <td>0.643</td>\n",
       "      <td>0.299</td>\n",
       "      <td>0.535</td>\n",
       "      <td>0.333</td>\n",
       "      <td>0.667</td>\n",
       "      <td>1</td>\n",
       "    </tr>\n",
       "    <tr>\n",
       "      <th>3</th>\n",
       "      <td>4</td>\n",
       "      <td>America</td>\n",
       "      <td>38</td>\n",
       "      <td>7.14</td>\n",
       "      <td>7.18</td>\n",
       "      <td>0.33</td>\n",
       "      <td>0.34</td>\n",
       "      <td>0.84</td>\n",
       "      <td>1.235</td>\n",
       "      <td>24</td>\n",
       "      <td>...</td>\n",
       "      <td>0.36</td>\n",
       "      <td>0.89</td>\n",
       "      <td>0.714</td>\n",
       "      <td>0.464</td>\n",
       "      <td>0.536</td>\n",
       "      <td>0.464</td>\n",
       "      <td>0.464</td>\n",
       "      <td>0.000</td>\n",
       "      <td>0.000</td>\n",
       "      <td>0</td>\n",
       "    </tr>\n",
       "    <tr>\n",
       "      <th>4</th>\n",
       "      <td>5</td>\n",
       "      <td>America</td>\n",
       "      <td>23</td>\n",
       "      <td>7.71</td>\n",
       "      <td>7.94</td>\n",
       "      <td>0.28</td>\n",
       "      <td>0.32</td>\n",
       "      <td>0.96</td>\n",
       "      <td>1.090</td>\n",
       "      <td>25</td>\n",
       "      <td>...</td>\n",
       "      <td>0.36</td>\n",
       "      <td>0.89</td>\n",
       "      <td>0.785</td>\n",
       "      <td>0.696</td>\n",
       "      <td>0.304</td>\n",
       "      <td>0.565</td>\n",
       "      <td>0.283</td>\n",
       "      <td>0.000</td>\n",
       "      <td>0.000</td>\n",
       "      <td>1</td>\n",
       "    </tr>\n",
       "  </tbody>\n",
       "</table>\n",
       "<p>5 rows × 23 columns</p>\n",
       "</div>"
      ],
      "text/plain": [
       "   ID    Venue  T1_Mat  T1_AvgRunsScored  T1_AvgRunsConceded  T1_AvgWktsTaken  \\\n",
       "0   1   Africa      34              7.10                7.27             0.33   \n",
       "1   2  Oceania      36              8.01                7.38             0.35   \n",
       "2   3  Oceania      37              8.00                7.39             0.35   \n",
       "3   4  America      38              7.14                7.18             0.33   \n",
       "4   5  America      23              7.71                7.94             0.28   \n",
       "\n",
       "   T1_AvgWktsLost  T1_AvgBound  T1_W/L  T2_Mat  ...  T2_AvgWktsLost  \\\n",
       "0            0.32         0.85   1.833      22  ...            0.32   \n",
       "1            0.33         0.98   1.400      30  ...            0.32   \n",
       "2            0.33         0.98   1.312      31  ...            0.33   \n",
       "3            0.34         0.84   1.235      24  ...            0.36   \n",
       "4            0.32         0.96   1.090      25  ...            0.36   \n",
       "\n",
       "   T2_AvgBound  T2_W/L  T1_TwitterVol  T2_TwitterVol  T1_FansSent  \\\n",
       "0         0.95   1.000          0.571          0.429        0.571   \n",
       "1         0.93   1.142          0.838          0.162        0.649   \n",
       "2         0.93   1.214          0.357          0.643        0.299   \n",
       "3         0.89   0.714          0.464          0.536        0.464   \n",
       "4         0.89   0.785          0.696          0.304        0.565   \n",
       "\n",
       "   T2_FansSent  T1_FansPred  T2_FansPred  Winner  \n",
       "0        0.381        0.000        0.000       0  \n",
       "1        0.162        0.000        0.000       0  \n",
       "2        0.535        0.333        0.667       1  \n",
       "3        0.464        0.000        0.000       0  \n",
       "4        0.283        0.000        0.000       1  \n",
       "\n",
       "[5 rows x 23 columns]"
      ]
     },
     "execution_count": 2,
     "metadata": {},
     "output_type": "execute_result"
    }
   ],
   "source": [
    "data = pd.read_csv(\"historical&twitter-featured.csv\")\n",
    "data = data.drop('Unnamed: 0', axis=1)\n",
    "data.head()"
   ]
  },
  {
   "cell_type": "code",
   "execution_count": 36,
   "id": "0c1dfc4c",
   "metadata": {},
   "outputs": [
    {
     "data": {
      "text/plain": [
       "Index(['T1_Mat', 'T1_AvgBound', 'T2_AvgRunsConceded', 'T2_AvgBound', 'T2_W/L',\n",
       "       'T1_FansSent', 'T2_FansSent', 'Winner'],\n",
       "      dtype='object')"
      ]
     },
     "execution_count": 36,
     "metadata": {},
     "output_type": "execute_result"
    }
   ],
   "source": [
    "data.columns"
   ]
  },
  {
   "cell_type": "code",
   "execution_count": 4,
   "id": "53aef415",
   "metadata": {},
   "outputs": [
    {
     "data": {
      "text/plain": [
       "(519, 23)"
      ]
     },
     "execution_count": 4,
     "metadata": {},
     "output_type": "execute_result"
    }
   ],
   "source": [
    "data.shape"
   ]
  },
  {
   "cell_type": "code",
   "execution_count": null,
   "id": "d160b68a",
   "metadata": {},
   "outputs": [],
   "source": [
    "# 'T2_Mat', 'T1_AvgRunsScored/Over', 'T1_Avg_Wkts_Lost', 'T1_Bound', 'T1_Avg_Wkts_Taken', \n",
    "#                   'T2_AvgRunsScored/Over', 'T2_Avg_Wkts_Lost', 'T2_Bound', 'T1_W/L', \n",
    "#                   'T2_Twitter_Vol','T2_Fans_Sent', 'T1_Fans_Pred', 'T2_Fans_Pred'"
   ]
  },
  {
   "cell_type": "code",
   "execution_count": 3,
   "id": "cc55f591",
   "metadata": {},
   "outputs": [],
   "source": [
    "data = data.drop([ 'ID', 'Venue', 'T1_AvgRunsScored', 'T1_AvgRunsConceded', 'T1_AvgWktsTaken', 'T1_AvgWktsLost',\n",
    "                  'T1_W/L', 'T2_Mat', 'T2_AvgRunsScored', 'T2_AvgWktsTaken', 'T2_AvgWktsLost',  \n",
    "                  'T1_FansPred', 'T2_FansPred', 'T1_TwitterVol', 'T2_TwitterVol'\n",
    "                   ],axis=1)"
   ]
  },
  {
   "cell_type": "code",
   "execution_count": 19,
   "id": "77735f77",
   "metadata": {},
   "outputs": [],
   "source": [
    "# train test split\n",
    "train, test= train_test_split(data, test_size = 0.2, random_state = 100)"
   ]
  },
  {
   "cell_type": "code",
   "execution_count": 20,
   "id": "295f88f1",
   "metadata": {},
   "outputs": [
    {
     "data": {
      "text/plain": [
       "((415, 8), (104, 8))"
      ]
     },
     "execution_count": 20,
     "metadata": {},
     "output_type": "execute_result"
    }
   ],
   "source": [
    "train.shape, test.shape"
   ]
  },
  {
   "cell_type": "code",
   "execution_count": 8,
   "id": "1d9e2e0f",
   "metadata": {},
   "outputs": [
    {
     "data": {
      "text/plain": [
       "Index(['T1_Mat', 'T1_AvgBound', 'T2_AvgRunsConceded', 'T2_AvgBound', 'T2_W/L',\n",
       "       'T1_FansSent', 'T2_FansSent', 'Winner'],\n",
       "      dtype='object')"
      ]
     },
     "execution_count": 8,
     "metadata": {},
     "output_type": "execute_result"
    }
   ],
   "source": [
    "train.columns"
   ]
  },
  {
   "cell_type": "code",
   "execution_count": 9,
   "id": "48c21a61",
   "metadata": {},
   "outputs": [
    {
     "data": {
      "text/plain": [
       "T1_Mat                  int64\n",
       "T1_AvgBound           float64\n",
       "T2_AvgRunsConceded    float64\n",
       "T2_AvgBound           float64\n",
       "T2_W/L                float64\n",
       "T1_FansSent           float64\n",
       "T2_FansSent           float64\n",
       "Winner                  int64\n",
       "dtype: object"
      ]
     },
     "execution_count": 9,
     "metadata": {},
     "output_type": "execute_result"
    }
   ],
   "source": [
    "train.dtypes"
   ]
  },
  {
   "cell_type": "code",
   "execution_count": 10,
   "id": "79111e28",
   "metadata": {},
   "outputs": [
    {
     "data": {
      "text/plain": [
       "Index(['T1_Mat', 'T1_AvgBound', 'T2_AvgRunsConceded', 'T2_AvgBound', 'T2_W/L',\n",
       "       'T1_FansSent', 'T2_FansSent', 'Winner'],\n",
       "      dtype='object')"
      ]
     },
     "execution_count": 10,
     "metadata": {},
     "output_type": "execute_result"
    }
   ],
   "source": [
    "num = train.select_dtypes(include='number')\n",
    "num.columns"
   ]
  },
  {
   "cell_type": "code",
   "execution_count": 11,
   "id": "a66d478c",
   "metadata": {},
   "outputs": [
    {
     "data": {
      "image/png": "[encoded data removed]",
      "text/plain": [
       "<Figure size 640x480 with 2 Axes>"
      ]
     },
     "metadata": {},
     "output_type": "display_data"
    },
    {
     "data": {
      "text/plain": [
       "{'corr':                       T1_Mat  T1_AvgBound  T2_AvgRunsConceded  T2_AvgBound  \\\n",
       " T1_Mat              1.000000     0.332670            0.372535     0.284516   \n",
       " T1_AvgBound         0.332670     1.000000            0.111365     0.118902   \n",
       " T2_AvgRunsConceded  0.372535     0.111365            1.000000     0.065965   \n",
       " T2_AvgBound         0.284516     0.118902            0.065965     1.000000   \n",
       " T2_W/L             -0.012655     0.016882           -0.622058     0.657734   \n",
       " T1_FansSent         0.145690     0.069642            0.087904     0.073357   \n",
       " T2_FansSent        -0.234994    -0.099140           -0.133754    -0.068358   \n",
       " \n",
       "                       T2_W/L  T1_FansSent  T2_FansSent  \n",
       " T1_Mat             -0.012655     0.145690    -0.234994  \n",
       " T1_AvgBound         0.016882     0.069642    -0.099140  \n",
       " T2_AvgRunsConceded -0.622058     0.087904    -0.133754  \n",
       " T2_AvgBound         0.657734     0.073357    -0.068358  \n",
       " T2_W/L              1.000000    -0.021159     0.061437  \n",
       " T1_FansSent        -0.021159     1.000000    -0.901774  \n",
       " T2_FansSent         0.061437    -0.901774     1.000000  ,\n",
       " 'ax': <Axes: >}"
      ]
     },
     "execution_count": 11,
     "metadata": {},
     "output_type": "execute_result"
    }
   ],
   "source": [
    "# dython - all the variables\n",
    "from dython.nominal import associations\n",
    "associations(train.drop('Winner', axis=1), fmt='.1f', cmap='Blues_r')"
   ]
  },
  {
   "cell_type": "markdown",
   "id": "d680d959",
   "metadata": {},
   "source": [
    "## Model training"
   ]
  },
  {
   "cell_type": "code",
   "execution_count": 38,
   "id": "4b826368",
   "metadata": {},
   "outputs": [
    {
     "data": {
      "text/plain": [
       "((415, 7), (104, 7), (415,), (104,))"
      ]
     },
     "execution_count": 38,
     "metadata": {},
     "output_type": "execute_result"
    }
   ],
   "source": [
    "xtrain = train.drop(['Winner' ],axis=1) \n",
    "ytrain = train['Winner']\n",
    " \n",
    "xtest = test.drop(['Winner'  ],axis=1)  \n",
    "ytest = test['Winner']\n",
    "\n",
    "xtrain.shape, xtest.shape, ytrain.shape, ytest.shape"
   ]
  },
  {
   "cell_type": "code",
   "execution_count": 22,
   "id": "d5b8ea96",
   "metadata": {},
   "outputs": [],
   "source": [
    "# # Converting categorical features using OneHotEncoding method\n",
    "# encoded_xtrain = pd.get_dummies(data= xtrain, columns=[ 'Venue'])\n",
    "# encoded_xtest = pd.get_dummies(data= xtest, columns=['Venue' ])\n",
    "\n",
    "# encoded_xtrain.shape, encoded_xtest.shape"
   ]
  },
  {
   "cell_type": "code",
   "execution_count": 39,
   "id": "d3997a3c",
   "metadata": {},
   "outputs": [],
   "source": [
    "st = StandardScaler()\n",
    "xtrain  = st.fit_transform( xtrain)\n",
    "xtest = st.fit_transform( xtest)"
   ]
  },
  {
   "cell_type": "code",
   "execution_count": 40,
   "id": "6aa7f738",
   "metadata": {},
   "outputs": [
    {
     "data": {
      "text/plain": [
       "((486, 7), (486,))"
      ]
     },
     "execution_count": 40,
     "metadata": {},
     "output_type": "execute_result"
    }
   ],
   "source": [
    "sm = SMOTE(random_state=42)\n",
    "xtrain_sm, ytrain_sm = sm.fit_resample(  xtrain,ytrain) \n",
    " \n",
    "xtrain_sm.shape, ytrain_sm.shape "
   ]
  },
  {
   "cell_type": "markdown",
   "id": "995ba16e",
   "metadata": {},
   "source": [
    "## Logistic regression - with hyperparameter tuning"
   ]
  },
  {
   "cell_type": "markdown",
   "id": "dc7c0ed0",
   "metadata": {},
   "source": [
    "### Lasso penalty"
   ]
  },
  {
   "cell_type": "code",
   "execution_count": 52,
   "id": "05a7218b",
   "metadata": {},
   "outputs": [],
   "source": [
    "from sklearn.model_selection import RepeatedStratifiedKFold"
   ]
  },
  {
   "cell_type": "code",
   "execution_count": 53,
   "id": "f3f25b5c",
   "metadata": {},
   "outputs": [
    {
     "name": "stdout",
     "output_type": "stream",
     "text": [
      "Fitting 30 folds for each of 5 candidates, totalling 150 fits\n"
     ]
    }
   ],
   "source": [
    "logModel  = LogisticRegression(random_state=42)\n",
    "param_grid = [    \n",
    "    {'solver' : [ 'newton-cg', 'lbfgs', 'liblinear', 'sag' , 'newton-cholesky'],\n",
    "    'penalty' : [   'l1'  ], #'None', 'l1', 'l2', 'elasticnet'\n",
    "    'C' :  [ 0.1 ],\n",
    "    'max_iter': [2000]\n",
    "    }\n",
    "]\n",
    "\n",
    "cv = RepeatedStratifiedKFold(n_splits=10, n_repeats=3, random_state=42)\n",
    "log_grid = GridSearchCV(logModel, param_grid = param_grid , verbose=True, n_jobs=-1, cv=cv , scoring='f1')\n",
    "log_clf_hyp = log_grid.fit(xtrain_sm,ytrain_sm)"
   ]
  },
  {
   "cell_type": "code",
   "execution_count": 54,
   "id": "ea11975c",
   "metadata": {},
   "outputs": [
    {
     "data": {
      "text/plain": [
       "LogisticRegression(C=0.1, max_iter=2000, penalty='l1', random_state=42,\n",
       "                   solver='liblinear')"
      ]
     },
     "execution_count": 54,
     "metadata": {},
     "output_type": "execute_result"
    }
   ],
   "source": [
    "log_clf_hyp.best_estimator_"
   ]
  },
  {
   "cell_type": "code",
   "execution_count": 55,
   "id": "2927d6bd",
   "metadata": {},
   "outputs": [
    {
     "name": "stdout",
     "output_type": "stream",
     "text": [
      "\n",
      "classification report - logistice (l1) - train\n",
      "              precision    recall  f1-score   support\n",
      "\n",
      "           0       0.65      0.61      0.63       243\n",
      "           1       0.63      0.67      0.65       243\n",
      "\n",
      "    accuracy                           0.64       486\n",
      "   macro avg       0.64      0.64      0.64       486\n",
      "weighted avg       0.64      0.64      0.64       486\n",
      "\n",
      "LogReg: ROC AUC =  64.0 %\n",
      "LogReg: Precision =  63.2 %\n",
      "LogReg: Recall =  67.1 %\n",
      "LogReg: Accuracy =  64.0 %\n",
      "LogReg: F1-Score =  65.1 %\n"
     ]
    },
    {
     "data": {
      "text/plain": [
       "array([[148,  95],\n",
       "       [ 80, 163]], dtype=int64)"
      ]
     },
     "execution_count": 55,
     "metadata": {},
     "output_type": "execute_result"
    }
   ],
   "source": [
    "# Predict the train data\n",
    "y_predicted = log_clf_hyp.predict(xtrain_sm)\n",
    "\n",
    "print('\\nclassification report - logistice (l1) - train')\n",
    "print(classification_report(ytrain_sm, y_predicted)) # generate the precision, recall, f-1 score, num\n",
    "print('LogReg: ROC AUC = ',str(round(roc_auc_score(ytrain_sm, y_predicted)*100,1)), '%')\n",
    "print('LogReg: Precision = ',str(round(precision_score(ytrain_sm, y_predicted)*100,1)), '%')\n",
    "print('LogReg: Recall = ',str(round(recall_score(ytrain_sm, y_predicted)*100,1)), '%')\n",
    "print('LogReg: Accuracy = ',str(round(accuracy_score(ytrain_sm, y_predicted)*100,1)), '%')\n",
    "print('LogReg: F1-Score = ',str(round(f1_score(ytrain_sm, y_predicted)*100,1)), '%')\n",
    "confusion_matrix(ytrain_sm, y_predicted)"
   ]
  },
  {
   "cell_type": "code",
   "execution_count": 56,
   "id": "6125f5a0",
   "metadata": {},
   "outputs": [
    {
     "name": "stdout",
     "output_type": "stream",
     "text": [
      "\n",
      "classification report - logistic(l2)+SMOTE - test \n",
      "              precision    recall  f1-score   support\n",
      "\n",
      "           0       0.60      0.61      0.61        49\n",
      "           1       0.65      0.64      0.64        55\n",
      "\n",
      "    accuracy                           0.62       104\n",
      "   macro avg       0.62      0.62      0.62       104\n",
      "weighted avg       0.63      0.62      0.63       104\n",
      "\n",
      "LogReg: ROC AUC =  62.4 %\n",
      "LogReg: Precision =  64.8 %\n",
      "LogReg: Recall =  63.6 %\n",
      "LogReg: Accuracy =  62.5 %\n",
      "LogReg: F1-Score =  64.2 %\n"
     ]
    },
    {
     "data": {
      "text/plain": [
       "array([[30, 19],\n",
       "       [20, 35]], dtype=int64)"
      ]
     },
     "execution_count": 56,
     "metadata": {},
     "output_type": "execute_result"
    }
   ],
   "source": [
    "# Predict the test data\n",
    "y_predicted = log_clf_hyp.predict( xtest)\n",
    "\n",
    "print('\\nclassification report - logistic(l2)+SMOTE - test ')\n",
    "print(classification_report(ytest, y_predicted)) # generate the precision, recall, f-1 score, num\n",
    "print('LogReg: ROC AUC = ',str(round(roc_auc_score(ytest, y_predicted)*100,1)), '%')\n",
    "print('LogReg: Precision = ',str(round(precision_score(ytest, y_predicted)*100,1)), '%')\n",
    "print('LogReg: Recall = ',str(round(recall_score(ytest, y_predicted)*100,1)), '%')\n",
    "print('LogReg: Accuracy = ',str(round(accuracy_score(ytest, y_predicted)*100,1)), '%')\n",
    "print('LogReg: F1-Score = ',str(round(f1_score(ytest, y_predicted)*100,1)), '%')\n",
    "confusion_matrix(ytest, y_predicted)"
   ]
  },
  {
   "cell_type": "code",
   "execution_count": 23,
   "id": "fdc03318",
   "metadata": {},
   "outputs": [],
   "source": [
    "# filename = 'LR-Lasso+SMOTE.pkl'\n",
    "# pickle.dump(log_clf_hyp, open(filename, 'wb'))"
   ]
  },
  {
   "cell_type": "markdown",
   "id": "13472d40",
   "metadata": {},
   "source": [
    "### Ridge penalty"
   ]
  },
  {
   "cell_type": "code",
   "execution_count": 560,
   "id": "d94dd183",
   "metadata": {},
   "outputs": [
    {
     "name": "stdout",
     "output_type": "stream",
     "text": [
      "Fitting 30 folds for each of 6 candidates, totalling 180 fits\n"
     ]
    }
   ],
   "source": [
    "logModel  = LogisticRegression(random_state=42)\n",
    "param_grid = [    \n",
    "    {'solver' : [ 'newton-cg', 'lbfgs', 'liblinear', 'sag', 'saga', 'newton-cholesky'],\n",
    "    'penalty' : [   'l2'  ], #'None', 'l1', 'l2', 'elasticnet'\n",
    "    'C' :  [ 0.0001],\n",
    "    'max_iter': [2000]\n",
    "    }\n",
    "]\n",
    "\n",
    "cv = RepeatedStratifiedKFold(n_splits=10, n_repeats=3, random_state=42)\n",
    "log_grid = GridSearchCV(logModel, param_grid = param_grid , verbose=True, n_jobs=-1, cv=cv , scoring='f1')\n",
    "log_clf_hyp = log_grid.fit(xtrain_sm,ytrain_sm)"
   ]
  },
  {
   "cell_type": "code",
   "execution_count": 561,
   "id": "e8f5e643",
   "metadata": {},
   "outputs": [
    {
     "data": {
      "text/plain": [
       "LogisticRegression(C=0.0001, max_iter=2000, random_state=42, solver='liblinear')"
      ]
     },
     "execution_count": 561,
     "metadata": {},
     "output_type": "execute_result"
    }
   ],
   "source": [
    "log_clf_hyp.best_estimator_"
   ]
  },
  {
   "cell_type": "code",
   "execution_count": 562,
   "id": "8e1adc54",
   "metadata": {},
   "outputs": [
    {
     "name": "stdout",
     "output_type": "stream",
     "text": [
      "\n",
      "classification report-logistic(l2)+SMOTE-train\n",
      "              precision    recall  f1-score   support\n",
      "\n",
      "           0       0.65      0.64      0.65       243\n",
      "           1       0.65      0.66      0.65       243\n",
      "\n",
      "    accuracy                           0.65       486\n",
      "   macro avg       0.65      0.65      0.65       486\n",
      "weighted avg       0.65      0.65      0.65       486\n",
      "\n",
      "LogReg: ROC AUC =  65.0 %\n",
      "LogReg: Precision =  64.8 %\n",
      "LogReg: Recall =  65.8 %\n",
      "LogReg: Accuracy =  65.0 %\n",
      "LogReg: F1-Score =  65.3 %\n"
     ]
    },
    {
     "data": {
      "text/plain": [
       "array([[156,  87],\n",
       "       [ 83, 160]], dtype=int64)"
      ]
     },
     "execution_count": 562,
     "metadata": {},
     "output_type": "execute_result"
    }
   ],
   "source": [
    "# Predict the train data\n",
    "y_predicted = log_clf_hyp.predict(xtrain_sm)\n",
    "\n",
    "print('\\nclassification report-logistic(l2)+SMOTE-train')\n",
    "print(classification_report(ytrain_sm, y_predicted)) # generate the precision, recall, f-1 score, num\n",
    "print('LogReg: ROC AUC = ',str(round(roc_auc_score(ytrain_sm, y_predicted)*100,1)), '%')\n",
    "print('LogReg: Precision = ',str(round(precision_score(ytrain_sm, y_predicted)*100,1)), '%')\n",
    "print('LogReg: Recall = ',str(round(recall_score(ytrain_sm, y_predicted)*100,1)), '%')\n",
    "print('LogReg: Accuracy = ',str(round(accuracy_score(ytrain_sm, y_predicted)*100,1)), '%')\n",
    "print('LogReg: F1-Score = ',str(round(f1_score(ytrain_sm, y_predicted)*100,1)), '%')\n",
    "confusion_matrix(ytrain_sm, y_predicted)"
   ]
  },
  {
   "cell_type": "code",
   "execution_count": 563,
   "id": "5bfcc43e",
   "metadata": {},
   "outputs": [
    {
     "name": "stdout",
     "output_type": "stream",
     "text": [
      "\n",
      "classification report-logistic(l2)+SMOTE-test\n",
      "              precision    recall  f1-score   support\n",
      "\n",
      "           0       0.61      0.61      0.61        49\n",
      "           1       0.65      0.65      0.65        55\n",
      "\n",
      "    accuracy                           0.63       104\n",
      "   macro avg       0.63      0.63      0.63       104\n",
      "weighted avg       0.63      0.63      0.63       104\n",
      "\n",
      "LogReg: ROC AUC =  63.3 %\n",
      "LogReg: Precision =  65.5 %\n",
      "LogReg: Recall =  65.5 %\n",
      "LogReg: Accuracy =  63.5 %\n",
      "LogReg: F1-Score =  65.5 %\n"
     ]
    },
    {
     "data": {
      "text/plain": [
       "array([[30, 19],\n",
       "       [19, 36]], dtype=int64)"
      ]
     },
     "execution_count": 563,
     "metadata": {},
     "output_type": "execute_result"
    }
   ],
   "source": [
    "# Predict the test data\n",
    "y_predicted = log_clf_hyp.predict( xtest)\n",
    "\n",
    "print('\\nclassification report-logistic(l2)+SMOTE-test')\n",
    "print(classification_report(ytest, y_predicted)) # generate the precision, recall, f-1 score, num\n",
    "print('LogReg: ROC AUC = ',str(round(roc_auc_score(ytest, y_predicted)*100,1)), '%')\n",
    "print('LogReg: Precision = ',str(round(precision_score(ytest, y_predicted)*100,1)), '%')\n",
    "print('LogReg: Recall = ',str(round(recall_score(ytest, y_predicted)*100,1)), '%')\n",
    "print('LogReg: Accuracy = ',str(round(accuracy_score(ytest, y_predicted)*100,1)), '%')\n",
    "print('LogReg: F1-Score = ',str(round(f1_score(ytest, y_predicted)*100,1)), '%')\n",
    "confusion_matrix(ytest, y_predicted)"
   ]
  },
  {
   "cell_type": "code",
   "execution_count": 272,
   "id": "b94ed3f0",
   "metadata": {},
   "outputs": [],
   "source": [
    "# filename = 'LR-Ridge+SMOTE.pkl'\n",
    "# pickle.dump(log_clf_hyp, open(filename, 'wb'))"
   ]
  },
  {
   "cell_type": "markdown",
   "id": "794fc9fb",
   "metadata": {},
   "source": [
    "### elasticnet"
   ]
  },
  {
   "cell_type": "code",
   "execution_count": 35,
   "id": "34413a6a",
   "metadata": {},
   "outputs": [
    {
     "name": "stdout",
     "output_type": "stream",
     "text": [
      "Fitting 30 folds for each of 9 candidates, totalling 270 fits\n"
     ]
    }
   ],
   "source": [
    "logModel  = LogisticRegression(random_state=42)\n",
    "param_grid = [    \n",
    "    {'solver' : [ 'saga'],\n",
    "    'penalty' : [   'elasticnet'  ], #'None', 'l1', 'l2', 'elasticnet'\n",
    "    'C' :  [ 0.01],\n",
    "    'max_iter': [2000],\n",
    "    'l1_ratio': [0.1,0.2,0.3,0.4,0.5,0.6,0.7,0.8,0.9]\n",
    "    }\n",
    "]\n",
    "\n",
    "cv = RepeatedStratifiedKFold(n_splits=10, n_repeats=3, random_state=42)\n",
    "log_grid = GridSearchCV(logModel, param_grid = param_grid , verbose=True, n_jobs=-1, cv=cv , scoring='f1')\n",
    "log_clf = log_grid.fit(xtrain_sm,ytrain_sm)"
   ]
  },
  {
   "cell_type": "code",
   "execution_count": 36,
   "id": "5a18d0f6",
   "metadata": {},
   "outputs": [
    {
     "data": {
      "text/plain": [
       "LogisticRegression(C=0.01, l1_ratio=0.2, max_iter=2000, penalty='elasticnet',\n",
       "                   random_state=42, solver='saga')"
      ]
     },
     "execution_count": 36,
     "metadata": {},
     "output_type": "execute_result"
    }
   ],
   "source": [
    "log_clf.best_estimator_"
   ]
  },
  {
   "cell_type": "code",
   "execution_count": 37,
   "id": "aa8b2467",
   "metadata": {},
   "outputs": [
    {
     "name": "stdout",
     "output_type": "stream",
     "text": [
      "\n",
      "classification report-logistic(enet)+SMOTE-train\n",
      "              precision    recall  f1-score   support\n",
      "\n",
      "           0       0.67      0.57      0.62       243\n",
      "           1       0.62      0.71      0.67       243\n",
      "\n",
      "    accuracy                           0.64       486\n",
      "   macro avg       0.64      0.64      0.64       486\n",
      "weighted avg       0.64      0.64      0.64       486\n",
      "\n",
      "LogReg: ROC AUC =  64.2 %\n",
      "LogReg: Precision =  62.5 %\n",
      "LogReg: Recall =  71.2 %\n",
      "LogReg: Accuracy =  64.2 %\n",
      "LogReg: F1-Score =  66.5 %\n"
     ]
    },
    {
     "data": {
      "text/plain": [
       "array([[139, 104],\n",
       "       [ 70, 173]], dtype=int64)"
      ]
     },
     "execution_count": 37,
     "metadata": {},
     "output_type": "execute_result"
    }
   ],
   "source": [
    "# Predict the train data\n",
    "y_predicted = log_clf.predict(xtrain_sm)\n",
    "\n",
    "print('\\nclassification report-logistic(enet)+SMOTE-train')\n",
    "print(classification_report(ytrain_sm, y_predicted)) # generate the precision, recall, f-1 score, num\n",
    "print('LogReg: ROC AUC = ',str(round(roc_auc_score(ytrain_sm, y_predicted)*100,1)), '%')\n",
    "print('LogReg: Precision = ',str(round(precision_score(ytrain_sm, y_predicted)*100,1)), '%')\n",
    "print('LogReg: Recall = ',str(round(recall_score(ytrain_sm, y_predicted)*100,1)), '%')\n",
    "print('LogReg: Accuracy = ',str(round(accuracy_score(ytrain_sm, y_predicted)*100,1)), '%')\n",
    "print('LogReg: F1-Score = ',str(round(f1_score(ytrain_sm, y_predicted)*100,1)), '%')\n",
    "confusion_matrix(ytrain_sm, y_predicted)"
   ]
  },
  {
   "cell_type": "code",
   "execution_count": 38,
   "id": "b8d56c6c",
   "metadata": {},
   "outputs": [
    {
     "name": "stdout",
     "output_type": "stream",
     "text": [
      "\n",
      "classification report-logistic(enet)+SMOTE-test\n",
      "              precision    recall  f1-score   support\n",
      "\n",
      "           0       0.62      0.61      0.62        49\n",
      "           1       0.66      0.67      0.67        55\n",
      "\n",
      "    accuracy                           0.64       104\n",
      "   macro avg       0.64      0.64      0.64       104\n",
      "weighted avg       0.64      0.64      0.64       104\n",
      "\n",
      "LogReg: ROC AUC =  64.2 %\n",
      "LogReg: Precision =  66.1 %\n",
      "LogReg: Recall =  67.3 %\n",
      "LogReg: Accuracy =  64.4 %\n",
      "LogReg: F1-Score =  66.7 %\n"
     ]
    },
    {
     "data": {
      "text/plain": [
       "array([[30, 19],\n",
       "       [18, 37]], dtype=int64)"
      ]
     },
     "execution_count": 38,
     "metadata": {},
     "output_type": "execute_result"
    }
   ],
   "source": [
    "# Predict the test data\n",
    "y_predicted = log_clf.predict( xtest)\n",
    "\n",
    "print('\\nclassification report-logistic(enet)+SMOTE-test')\n",
    "print(classification_report(ytest, y_predicted)) # generate the precision, recall, f-1 score, num\n",
    "print('LogReg: ROC AUC = ',str(round(roc_auc_score(ytest, y_predicted)*100,1)), '%')\n",
    "print('LogReg: Precision = ',str(round(precision_score(ytest, y_predicted)*100,1)), '%')\n",
    "print('LogReg: Recall = ',str(round(recall_score(ytest, y_predicted)*100,1)), '%')\n",
    "print('LogReg: Accuracy = ',str(round(accuracy_score(ytest, y_predicted)*100,1)), '%')\n",
    "print('LogReg: F1-Score = ',str(round(f1_score(ytest, y_predicted)*100,1)), '%')\n",
    "confusion_matrix(ytest, y_predicted)"
   ]
  },
  {
   "cell_type": "code",
   "execution_count": 1016,
   "id": "cdbe87d2",
   "metadata": {},
   "outputs": [],
   "source": [
    "# filename = 'LR-Enet+SMOTE.pkl'\n",
    "# pickle.dump(log_clf_hyp, open(filename, 'wb'))"
   ]
  },
  {
   "cell_type": "markdown",
   "id": "c85d5756",
   "metadata": {},
   "source": [
    "## SVM with hyperparameter tuning"
   ]
  },
  {
   "cell_type": "markdown",
   "id": "4514f1e4",
   "metadata": {},
   "source": [
    "### SVM"
   ]
  },
  {
   "cell_type": "code",
   "execution_count": 39,
   "id": "ed4ac6c0",
   "metadata": {},
   "outputs": [],
   "source": [
    "from sklearn.svm import SVC"
   ]
  },
  {
   "cell_type": "code",
   "execution_count": 168,
   "id": "a85150cd",
   "metadata": {},
   "outputs": [],
   "source": [
    "# model = SVC(random_state=42)\n",
    "# parameters = [{'C': [  0.1], 'kernel': ['linear']},\n",
    "#               {'C': [  0.1], 'kernel': ['rbf'], 'gamma': [0.1, 0.2, 0.3, 0.4, 0.5, 0.6, 0.7, 0.8, 0.9]}]\n",
    "# cv = RepeatedStratifiedKFold(n_splits=10, n_repeats=3, random_state=1)\n",
    "# grid_search = GridSearchCV(estimator = model,\n",
    "#                            param_grid = parameters,\n",
    "#                            scoring = 'f1',\n",
    "#                            cv = cv,\n",
    "#                            n_jobs = -1)\n",
    "# grid_search = grid_search.fit(xtrain_sm, ytrain_sm)"
   ]
  },
  {
   "cell_type": "code",
   "execution_count": 40,
   "id": "055fc999",
   "metadata": {},
   "outputs": [
    {
     "name": "stdout",
     "output_type": "stream",
     "text": [
      "Fitting 30 folds for each of 4 candidates, totalling 120 fits\n"
     ]
    }
   ],
   "source": [
    "# define model\n",
    "model = SVC(random_state=42, probability=True)\n",
    "\n",
    "# define grid search\n",
    "param_grid = [    \n",
    "{'kernel' : [ 'rbf',  'linear' ],\n",
    "     'gamma' :['scale', 'auto' ],\n",
    "    'C': [0.006  ] # 4e-2 \n",
    " \n",
    "    }\n",
    "]\n",
    "\n",
    "cv = RepeatedStratifiedKFold(n_splits=10, n_repeats=3, random_state=1)\n",
    "grid_search = GridSearchCV(estimator=model, param_grid=param_grid, verbose=True, n_jobs=-1, cv=cv , scoring = 'f1', error_score=0)\n",
    "svm_clf = grid_search.fit(xtrain_sm, ytrain_sm)"
   ]
  },
  {
   "cell_type": "code",
   "execution_count": 41,
   "id": "25c5398f",
   "metadata": {},
   "outputs": [
    {
     "data": {
      "text/plain": [
       "SVC(C=0.006, kernel='linear', probability=True, random_state=42)"
      ]
     },
     "execution_count": 41,
     "metadata": {},
     "output_type": "execute_result"
    }
   ],
   "source": [
    "svm_clf.best_estimator_"
   ]
  },
  {
   "cell_type": "code",
   "execution_count": 42,
   "id": "0a60cee9",
   "metadata": {},
   "outputs": [
    {
     "data": {
      "text/plain": [
       "({'C': 0.006, 'gamma': 'scale', 'kernel': 'linear'}, 0.6586197589134035)"
      ]
     },
     "execution_count": 42,
     "metadata": {},
     "output_type": "execute_result"
    }
   ],
   "source": [
    "svm_clf.best_params_, svm_clf.best_score_"
   ]
  },
  {
   "cell_type": "code",
   "execution_count": 43,
   "id": "d800b544",
   "metadata": {},
   "outputs": [
    {
     "name": "stdout",
     "output_type": "stream",
     "text": [
      "\n",
      "classification report- SVM+ SMOTE -Train\n",
      "\n",
      "\n",
      "\n",
      "              precision    recall  f1-score   support\n",
      "\n",
      "           0       0.67      0.61      0.64       243\n",
      "           1       0.64      0.70      0.67       243\n",
      "\n",
      "    accuracy                           0.65       486\n",
      "   macro avg       0.66      0.65      0.65       486\n",
      "weighted avg       0.66      0.65      0.65       486\n",
      "\n",
      " ROC AUC =  65.4 %\n",
      " Precision =  64.3 %\n",
      " Recall =  69.5 %\n",
      " Accuracy =  65.4 %\n",
      " F1-Score =  66.8 %\n"
     ]
    },
    {
     "data": {
      "text/plain": [
       "array([[149,  94],\n",
       "       [ 74, 169]], dtype=int64)"
      ]
     },
     "execution_count": 43,
     "metadata": {},
     "output_type": "execute_result"
    }
   ],
   "source": [
    "# Predict the train data\n",
    "y_predicted = svm_clf.predict(xtrain_sm)\n",
    "\n",
    "print('\\nclassification report- SVM+ SMOTE -Train')\n",
    "print('\\n\\n')\n",
    "print(classification_report(ytrain_sm, y_predicted)) \n",
    "print(' ROC AUC = ',str(round(roc_auc_score(ytrain_sm, y_predicted)*100,1)), '%')\n",
    "print(' Precision = ',str(round(precision_score(ytrain_sm, y_predicted)*100,1)), '%')\n",
    "print(' Recall = ',str(round(recall_score(ytrain_sm, y_predicted)*100,1)), '%')\n",
    "print(' Accuracy = ',str(round(accuracy_score(ytrain_sm, y_predicted)*100,1)), '%')\n",
    "print(' F1-Score = ',str(round(f1_score(ytrain_sm, y_predicted)*100,1)), '%')\n",
    "confusion_matrix(ytrain_sm, y_predicted)"
   ]
  },
  {
   "cell_type": "code",
   "execution_count": 44,
   "id": "0d13a5eb",
   "metadata": {},
   "outputs": [
    {
     "name": "stdout",
     "output_type": "stream",
     "text": [
      "\n",
      "classification report- SVM+ SMOTE -Test\n",
      "\n",
      "\n",
      "\n",
      "              precision    recall  f1-score   support\n",
      "\n",
      "           0       0.62      0.59      0.60        49\n",
      "           1       0.65      0.67      0.66        55\n",
      "\n",
      "    accuracy                           0.63       104\n",
      "   macro avg       0.63      0.63      0.63       104\n",
      "weighted avg       0.63      0.63      0.63       104\n",
      "\n",
      " ROC AUC =  63.2 %\n",
      " Precision =  64.9 %\n",
      " Recall =  67.3 %\n",
      " Accuracy =  63.5 %\n",
      " F1-Score =  66.1 %\n"
     ]
    },
    {
     "data": {
      "text/plain": [
       "array([[29, 20],\n",
       "       [18, 37]], dtype=int64)"
      ]
     },
     "execution_count": 44,
     "metadata": {},
     "output_type": "execute_result"
    }
   ],
   "source": [
    "# Predict the test data\n",
    "y_predicted = svm_clf.predict(xtest)\n",
    "\n",
    "print('\\nclassification report- SVM+ SMOTE -Test')\n",
    "print('\\n\\n')\n",
    "print(classification_report(ytest, y_predicted))  \n",
    "print(' ROC AUC = ',str(round(roc_auc_score(ytest, y_predicted)*100,1)), '%')\n",
    "print(' Precision = ',str(round(precision_score(ytest, y_predicted)*100,1)), '%')\n",
    "print(' Recall = ',str(round(recall_score(ytest, y_predicted)*100,1)), '%')\n",
    "print(' Accuracy = ',str(round(accuracy_score(ytest, y_predicted)*100,1)), '%')\n",
    "print(' F1-Score = ',str(round(f1_score(ytest, y_predicted)*100,1)), '%')\n",
    "confusion_matrix(ytest, y_predicted)"
   ]
  },
  {
   "cell_type": "code",
   "execution_count": 1355,
   "id": "d2d6ad6c",
   "metadata": {},
   "outputs": [],
   "source": [
    "# filename = 'SVM+SMOTE.pkl'\n",
    "# pickle.dump(grid_search, open(filename, 'wb'))"
   ]
  },
  {
   "cell_type": "markdown",
   "id": "e99f1cd7",
   "metadata": {},
   "source": [
    "## KNN"
   ]
  },
  {
   "cell_type": "code",
   "execution_count": 20,
   "id": "f5fee01e",
   "metadata": {},
   "outputs": [],
   "source": [
    "from sklearn.neighbors import KNeighborsClassifier # The k-nearest neighbor classifier\n",
    "from sklearn.feature_selection import VarianceThreshold # Feature selector\n",
    "from sklearn.pipeline import Pipeline # For setting up pipeline\n",
    "from sklearn.preprocessing import Normalizer, StandardScaler, MinMaxScaler, PowerTransformer, MaxAbsScaler, LabelEncoder\n",
    "from sklearn.model_selection import GridSearchCV # For optimization"
   ]
  },
  {
   "cell_type": "code",
   "execution_count": 16,
   "id": "198ba5b5",
   "metadata": {},
   "outputs": [],
   "source": [
    "pipe = Pipeline([\n",
    "('classifier', KNeighborsClassifier())\n",
    "])"
   ]
  },
  {
   "cell_type": "code",
   "execution_count": 48,
   "id": "5d21b792",
   "metadata": {},
   "outputs": [],
   "source": [
    "parameters = { \n",
    " 'classifier__n_neighbors': [ 55],\n",
    " 'classifier__p': [1, 2],\n",
    " 'classifier__leaf_size':   [1, 5, 10, 15],\n",
    " 'classifier__weights': ['uniform'  ],\n",
    " 'classifier__metric' : [ 'manhattan', 'minkowski', 'euclidean']\n",
    "}"
   ]
  },
  {
   "cell_type": "code",
   "execution_count": 49,
   "id": "b8fe5ee3",
   "metadata": {},
   "outputs": [
    {
     "name": "stdout",
     "output_type": "stream",
     "text": [
      "Fitting 30 folds for each of 24 candidates, totalling 720 fits\n"
     ]
    }
   ],
   "source": [
    "cv = RepeatedStratifiedKFold(n_splits=10, n_repeats=3, random_state=1)\n",
    "grid = GridSearchCV(pipe, parameters,verbose=True, n_jobs=-1, cv=cv , scoring = 'f1', error_score=0).fit(xtrain_sm  , ytrain_sm  )"
   ]
  },
  {
   "cell_type": "code",
   "execution_count": 50,
   "id": "da6ec3d8",
   "metadata": {},
   "outputs": [
    {
     "data": {
      "text/plain": [
       "({'classifier__leaf_size': 1,\n",
       "  'classifier__metric': 'minkowski',\n",
       "  'classifier__n_neighbors': 55,\n",
       "  'classifier__p': 2,\n",
       "  'classifier__weights': 'uniform'},\n",
       " 0.6203674680942283)"
      ]
     },
     "execution_count": 50,
     "metadata": {},
     "output_type": "execute_result"
    }
   ],
   "source": [
    "grid.best_params_, grid.best_score_"
   ]
  },
  {
   "cell_type": "code",
   "execution_count": 51,
   "id": "a4934438",
   "metadata": {},
   "outputs": [
    {
     "name": "stdout",
     "output_type": "stream",
     "text": [
      "\n",
      "classification report -  RF+ SMOTE -Train\n",
      "\n",
      "\n",
      "\n",
      "              precision    recall  f1-score   support\n",
      "\n",
      "           0       0.64      0.64      0.64       243\n",
      "           1       0.64      0.64      0.64       243\n",
      "\n",
      "    accuracy                           0.64       486\n",
      "   macro avg       0.64      0.64      0.64       486\n",
      "weighted avg       0.64      0.64      0.64       486\n",
      "\n",
      " ROC AUC =  63.8 %\n",
      " Precision =  63.8 %\n",
      " Recall =  63.8 %\n",
      " Accuracy =  63.8 %\n",
      " F1-Score =  63.8 %\n"
     ]
    },
    {
     "data": {
      "text/plain": [
       "array([[155,  88],\n",
       "       [ 88, 155]], dtype=int64)"
      ]
     },
     "execution_count": 51,
     "metadata": {},
     "output_type": "execute_result"
    }
   ],
   "source": [
    "y_predicted = grid.predict(xtrain_sm)\n",
    "\n",
    "print('\\nclassification report -  RF+ SMOTE -Train')\n",
    "print('\\n\\n')\n",
    "print(classification_report(ytrain_sm, y_predicted)) # generate the precision, recall, f-1 score, num\n",
    "print(' ROC AUC = ',str(round(roc_auc_score(ytrain_sm, y_predicted)*100,1)), '%')\n",
    "print(' Precision = ',str(round(precision_score(ytrain_sm, y_predicted)*100,1)), '%')\n",
    "print(' Recall = ',str(round(recall_score(ytrain_sm, y_predicted)*100,1)), '%')\n",
    "print(' Accuracy = ',str(round(accuracy_score(ytrain_sm, y_predicted)*100,1)), '%')\n",
    "print(' F1-Score = ',str(round(f1_score(ytrain_sm, y_predicted)*100,1)), '%')\n",
    "confusion_matrix(ytrain_sm, y_predicted)"
   ]
  },
  {
   "cell_type": "code",
   "execution_count": 52,
   "id": "50a686a4",
   "metadata": {},
   "outputs": [
    {
     "name": "stdout",
     "output_type": "stream",
     "text": [
      "\n",
      "classification report- RF+ SMOTE -Test\n",
      "\n",
      "\n",
      "\n",
      "              precision    recall  f1-score   support\n",
      "\n",
      "           0       0.58      0.59      0.59        49\n",
      "           1       0.63      0.62      0.62        55\n",
      "\n",
      "    accuracy                           0.61       104\n",
      "   macro avg       0.60      0.61      0.60       104\n",
      "weighted avg       0.61      0.61      0.61       104\n",
      "\n",
      "Random Forest: ROC AUC =  60.5 %\n",
      "Random Forest: Precision =  63.0 %\n",
      "Random Forest: Recall =  61.8 %\n",
      "Random Forest: Accuracy =  60.6 %\n",
      "Random Forest: F1-Score =  62.4 %\n"
     ]
    },
    {
     "data": {
      "text/plain": [
       "array([[29, 20],\n",
       "       [21, 34]], dtype=int64)"
      ]
     },
     "execution_count": 52,
     "metadata": {},
     "output_type": "execute_result"
    }
   ],
   "source": [
    "# Predict the test data\n",
    "y_predicted = grid.predict(xtest)\n",
    "\n",
    "print('\\nclassification report- RF+ SMOTE -Test')\n",
    "print('\\n\\n')\n",
    "print(classification_report(ytest, y_predicted)) # generate the precision, recall, f-1 score, num\n",
    "print('Random Forest: ROC AUC = ',str(round(roc_auc_score(ytest, y_predicted)*100,1)), '%')\n",
    "print('Random Forest: Precision = ',str(round(precision_score(ytest, y_predicted)*100,1)), '%')\n",
    "print('Random Forest: Recall = ',str(round(recall_score(ytest, y_predicted)*100,1)), '%')\n",
    "print('Random Forest: Accuracy = ',str(round(accuracy_score(ytest, y_predicted)*100,1)), '%')\n",
    "print('Random Forest: F1-Score = ',str(round(f1_score(ytest, y_predicted)*100,1)), '%')\n",
    "confusion_matrix(ytest, y_predicted)"
   ]
  },
  {
   "cell_type": "markdown",
   "id": "43937e9f",
   "metadata": {},
   "source": [
    "## GNB"
   ]
  },
  {
   "cell_type": "code",
   "execution_count": 45,
   "id": "5a1b4b4d",
   "metadata": {},
   "outputs": [],
   "source": [
    "import random\n",
    "\n",
    "def set_random_seed(seed=100):\n",
    "  np.random.seed(seed)\n",
    "  random.seed(seed)\n",
    "    \n",
    "set_random_seed(100)"
   ]
  },
  {
   "cell_type": "code",
   "execution_count": 46,
   "id": "bdc51b9c",
   "metadata": {},
   "outputs": [
    {
     "data": {
      "text/plain": [
       "GaussianNB(var_smoothing=0.1)"
      ]
     },
     "execution_count": 46,
     "metadata": {},
     "output_type": "execute_result"
    }
   ],
   "source": [
    "from sklearn.naive_bayes import GaussianNB\n",
    "\n",
    "gnb_clf  = GaussianNB(var_smoothing=10e-2 ) \n",
    "gnb_clf.fit(xtrain_sm, ytrain_sm)"
   ]
  },
  {
   "cell_type": "code",
   "execution_count": 47,
   "id": "439fc784",
   "metadata": {},
   "outputs": [
    {
     "name": "stdout",
     "output_type": "stream",
     "text": [
      "\n",
      "classification report -  RF+ SMOTE -Train\n",
      "\n",
      "\n",
      "\n",
      "              precision    recall  f1-score   support\n",
      "\n",
      "           0       0.65      0.61      0.63       243\n",
      "           1       0.63      0.68      0.66       243\n",
      "\n",
      "    accuracy                           0.64       486\n",
      "   macro avg       0.64      0.64      0.64       486\n",
      "weighted avg       0.64      0.64      0.64       486\n",
      "\n",
      " ROC AUC =  64.4 %\n",
      " Precision =  63.5 %\n",
      " Recall =  67.9 %\n",
      " Accuracy =  64.4 %\n",
      " F1-Score =  65.6 %\n"
     ]
    },
    {
     "data": {
      "text/plain": [
       "array([[148,  95],\n",
       "       [ 78, 165]], dtype=int64)"
      ]
     },
     "execution_count": 47,
     "metadata": {},
     "output_type": "execute_result"
    }
   ],
   "source": [
    "y_predicted = gnb_clf.predict(xtrain_sm)\n",
    "\n",
    "print('\\nclassification report -  RF+ SMOTE -Train')\n",
    "print('\\n\\n')\n",
    "print(classification_report(ytrain_sm, y_predicted)) # generate the precision, recall, f-1 score, num\n",
    "print(' ROC AUC = ',str(round(roc_auc_score(ytrain_sm, y_predicted)*100,1)), '%')\n",
    "print(' Precision = ',str(round(precision_score(ytrain_sm, y_predicted)*100,1)), '%')\n",
    "print(' Recall = ',str(round(recall_score(ytrain_sm, y_predicted)*100,1)), '%')\n",
    "print(' Accuracy = ',str(round(accuracy_score(ytrain_sm, y_predicted)*100,1)), '%')\n",
    "print(' F1-Score = ',str(round(f1_score(ytrain_sm, y_predicted)*100,1)), '%')\n",
    "confusion_matrix(ytrain_sm, y_predicted)"
   ]
  },
  {
   "cell_type": "code",
   "execution_count": 48,
   "id": "47418ef9",
   "metadata": {},
   "outputs": [
    {
     "name": "stdout",
     "output_type": "stream",
     "text": [
      "\n",
      "classification report- RF+ SMOTE -Test\n",
      "\n",
      "\n",
      "\n",
      "              precision    recall  f1-score   support\n",
      "\n",
      "           0       0.61      0.61      0.61        49\n",
      "           1       0.65      0.65      0.65        55\n",
      "\n",
      "    accuracy                           0.63       104\n",
      "   macro avg       0.63      0.63      0.63       104\n",
      "weighted avg       0.63      0.63      0.63       104\n",
      "\n",
      "Random Forest: ROC AUC =  63.3 %\n",
      "Random Forest: Precision =  65.5 %\n",
      "Random Forest: Recall =  65.5 %\n",
      "Random Forest: Accuracy =  63.5 %\n",
      "Random Forest: F1-Score =  65.5 %\n"
     ]
    },
    {
     "data": {
      "text/plain": [
       "array([[30, 19],\n",
       "       [19, 36]], dtype=int64)"
      ]
     },
     "execution_count": 48,
     "metadata": {},
     "output_type": "execute_result"
    }
   ],
   "source": [
    "# Predict the test data\n",
    "y_predicted = gnb_clf.predict(xtest)\n",
    "\n",
    "print('\\nclassification report- RF+ SMOTE -Test')\n",
    "print('\\n\\n')\n",
    "print(classification_report(ytest, y_predicted)) # generate the precision, recall, f-1 score, num\n",
    "print('Random Forest: ROC AUC = ',str(round(roc_auc_score(ytest, y_predicted)*100,1)), '%')\n",
    "print('Random Forest: Precision = ',str(round(precision_score(ytest, y_predicted)*100,1)), '%')\n",
    "print('Random Forest: Recall = ',str(round(recall_score(ytest, y_predicted)*100,1)), '%')\n",
    "print('Random Forest: Accuracy = ',str(round(accuracy_score(ytest, y_predicted)*100,1)), '%')\n",
    "print('Random Forest: F1-Score = ',str(round(f1_score(ytest, y_predicted)*100,1)), '%')\n",
    "confusion_matrix(ytest, y_predicted)"
   ]
  },
  {
   "cell_type": "markdown",
   "id": "0b95de0f",
   "metadata": {},
   "source": [
    "## Random Forest"
   ]
  },
  {
   "cell_type": "markdown",
   "id": "61ff338c",
   "metadata": {},
   "source": [
    "## random forest - with hyperparameter tuning"
   ]
  },
  {
   "cell_type": "code",
   "execution_count": 21,
   "id": "33b022ee",
   "metadata": {},
   "outputs": [],
   "source": [
    "# explore random forest bootstrap sample size on performance\n",
    "from numpy import mean\n",
    "from numpy import std\n",
    "from numpy import arange\n",
    "from sklearn.datasets import make_classification\n",
    "from sklearn.model_selection import cross_val_score\n",
    "from sklearn.model_selection import RepeatedStratifiedKFold\n",
    "from sklearn.ensemble import RandomForestClassifier\n",
    "from matplotlib import pyplot\n",
    "from sklearn.model_selection import GridSearchCV # For optimization"
   ]
  },
  {
   "cell_type": "code",
   "execution_count": 51,
   "id": "a989a479",
   "metadata": {},
   "outputs": [],
   "source": [
    "# define models and parameters\n",
    "model = RandomForestClassifier(random_state=42)\n",
    "param_grid = [    \n",
    "    {'n_estimators' : [2000],\n",
    "    'criterion': [ 'entropy'],\n",
    "    'max_features':[0.2], #0.2\n",
    "     'min_samples_leaf': [35], #90\n",
    "     'oob_score':[True],\n",
    "     'min_samples_split':[6]\n",
    "    }\n",
    "]\n",
    "cv = RepeatedStratifiedKFold(n_splits=10, n_repeats=3, random_state=1)\n",
    "grid_search = GridSearchCV(estimator=model, param_grid= param_grid, n_jobs=-1,  cv=cv, scoring='f1',error_score='raise')\n",
    "rf_clf = grid_search.fit(xtrain_sm, ytrain_sm)"
   ]
  },
  {
   "cell_type": "code",
   "execution_count": 53,
   "id": "5bdeaa8c",
   "metadata": {},
   "outputs": [
    {
     "data": {
      "text/plain": [
       "RandomForestClassifier(criterion='entropy', max_features=0.2,\n",
       "                       min_samples_leaf=35, min_samples_split=6,\n",
       "                       n_estimators=2000, oob_score=True, random_state=42)"
      ]
     },
     "execution_count": 53,
     "metadata": {},
     "output_type": "execute_result"
    }
   ],
   "source": [
    "rf_clf.best_estimator_"
   ]
  },
  {
   "cell_type": "code",
   "execution_count": 54,
   "id": "26ce6af9",
   "metadata": {},
   "outputs": [
    {
     "data": {
      "text/plain": [
       "({'criterion': 'entropy',\n",
       "  'max_features': 0.2,\n",
       "  'min_samples_leaf': 35,\n",
       "  'min_samples_split': 6,\n",
       "  'n_estimators': 2000,\n",
       "  'oob_score': True},\n",
       " 0.6214550290193049)"
      ]
     },
     "execution_count": 54,
     "metadata": {},
     "output_type": "execute_result"
    }
   ],
   "source": [
    "rf_clf.best_params_, rf_clf.best_score_"
   ]
  },
  {
   "cell_type": "code",
   "execution_count": 52,
   "id": "2a7db0a8",
   "metadata": {},
   "outputs": [
    {
     "name": "stdout",
     "output_type": "stream",
     "text": [
      "\n",
      "classification report -  RF+ SMOTE -Train\n",
      "\n",
      "\n",
      "\n",
      "              precision    recall  f1-score   support\n",
      "\n",
      "           0       0.69      0.70      0.70       243\n",
      "           1       0.70      0.69      0.69       243\n",
      "\n",
      "    accuracy                           0.70       486\n",
      "   macro avg       0.70      0.70      0.70       486\n",
      "weighted avg       0.70      0.70      0.70       486\n",
      "\n",
      " ROC AUC =  69.5 %\n",
      " Precision =  69.9 %\n",
      " Recall =  68.7 %\n",
      " Accuracy =  69.5 %\n",
      " F1-Score =  69.3 %\n"
     ]
    },
    {
     "data": {
      "text/plain": [
       "array([[171,  72],\n",
       "       [ 76, 167]], dtype=int64)"
      ]
     },
     "execution_count": 52,
     "metadata": {},
     "output_type": "execute_result"
    }
   ],
   "source": [
    "y_predicted = rf_clf.predict(xtrain_sm)\n",
    "\n",
    "print('\\nclassification report -  RF+ SMOTE -Train')\n",
    "print('\\n\\n')\n",
    "print(classification_report(ytrain_sm, y_predicted)) # generate the precision, recall, f-1 score, num\n",
    "print(' ROC AUC = ',str(round(roc_auc_score(ytrain_sm, y_predicted)*100,1)), '%')\n",
    "print(' Precision = ',str(round(precision_score(ytrain_sm, y_predicted)*100,1)), '%')\n",
    "print(' Recall = ',str(round(recall_score(ytrain_sm, y_predicted)*100,1)), '%')\n",
    "print(' Accuracy = ',str(round(accuracy_score(ytrain_sm, y_predicted)*100,1)), '%')\n",
    "print(' F1-Score = ',str(round(f1_score(ytrain_sm, y_predicted)*100,1)), '%')\n",
    "confusion_matrix(ytrain_sm, y_predicted)"
   ]
  },
  {
   "cell_type": "code",
   "execution_count": 55,
   "id": "6040f649",
   "metadata": {},
   "outputs": [
    {
     "name": "stdout",
     "output_type": "stream",
     "text": [
      "\n",
      "classification report- RF+ SMOTE -Test\n",
      "\n",
      "\n",
      "\n",
      "              precision    recall  f1-score   support\n",
      "\n",
      "           0       0.63      0.69      0.66        49\n",
      "           1       0.70      0.64      0.67        55\n",
      "\n",
      "    accuracy                           0.66       104\n",
      "   macro avg       0.66      0.67      0.66       104\n",
      "weighted avg       0.67      0.66      0.66       104\n",
      "\n",
      "Random Forest: ROC AUC =  66.5 %\n",
      "Random Forest: Precision =  70.0 %\n",
      "Random Forest: Recall =  63.6 %\n",
      "Random Forest: Accuracy =  66.3 %\n",
      "Random Forest: F1-Score =  66.7 %\n"
     ]
    },
    {
     "data": {
      "text/plain": [
       "array([[34, 15],\n",
       "       [20, 35]], dtype=int64)"
      ]
     },
     "execution_count": 55,
     "metadata": {},
     "output_type": "execute_result"
    }
   ],
   "source": [
    "# Predict the test data\n",
    "y_predicted = rf_clf.predict(xtest)\n",
    "\n",
    "print('\\nclassification report- RF+ SMOTE -Test')\n",
    "print('\\n\\n')\n",
    "print(classification_report(ytest, y_predicted)) # generate the precision, recall, f-1 score, num\n",
    "print('Random Forest: ROC AUC = ',str(round(roc_auc_score(ytest, y_predicted)*100,1)), '%')\n",
    "print('Random Forest: Precision = ',str(round(precision_score(ytest, y_predicted)*100,1)), '%')\n",
    "print('Random Forest: Recall = ',str(round(recall_score(ytest, y_predicted)*100,1)), '%')\n",
    "print('Random Forest: Accuracy = ',str(round(accuracy_score(ytest, y_predicted)*100,1)), '%')\n",
    "print('Random Forest: F1-Score = ',str(round(f1_score(ytest, y_predicted)*100,1)), '%')\n",
    "confusion_matrix(ytest, y_predicted)"
   ]
  },
  {
   "cell_type": "code",
   "execution_count": 1091,
   "id": "4f1f981e",
   "metadata": {},
   "outputs": [],
   "source": [
    "# 67.3"
   ]
  },
  {
   "cell_type": "code",
   "execution_count": 317,
   "id": "bc39bd61",
   "metadata": {},
   "outputs": [],
   "source": [
    "# filename = 'RF+SMOTE.pkl'\n",
    "# pickle.dump(grid_search, open(filename, 'wb'))"
   ]
  },
  {
   "cell_type": "code",
   "execution_count": null,
   "id": "72d51d2b",
   "metadata": {},
   "outputs": [],
   "source": [
    "# Venue, T1_Avg_Wkts_Taken, T1_Avg_Wkts_Lost, T1_W/L, T1_AvgRunsScored/Over, T2_Bound, T_Bound, T2_Mat, T1_Mat \n",
    "# T1_AvgRunsConceded/Over"
   ]
  },
  {
   "cell_type": "markdown",
   "id": "17cce1d2",
   "metadata": {},
   "source": [
    "## BOOSTING"
   ]
  },
  {
   "cell_type": "markdown",
   "id": "35d6eb18",
   "metadata": {},
   "source": [
    "## Gradient Boosting With XGBoost"
   ]
  },
  {
   "cell_type": "code",
   "execution_count": 41,
   "id": "71a7aae3",
   "metadata": {},
   "outputs": [],
   "source": [
    "import xgboost as xgb"
   ]
  },
  {
   "cell_type": "code",
   "execution_count": 42,
   "id": "d230dc5d",
   "metadata": {},
   "outputs": [],
   "source": [
    "model = xgb.XGBClassifier(seed = 42)\n",
    "param_grid = [    \n",
    "   {'learning_rate' :[1e-4],# 8 #6 #4\n",
    "    'n_estimators':[2000],\n",
    " 'max_depth':[7], # 7\n",
    " 'min_child_weight':[ 1 ], #8 2 1\n",
    " 'gamma':[0],\n",
    " 'subsample':[0.25 ],  # 0.15 0.25\n",
    " 'colsample_bytree':[ 0.2],  #0.2\n",
    " 'objective': ['binary:logistic'],\n",
    " 'nthread':[4],\n",
    " 'scale_pos_weight':[1],\n",
    " 'reg_alpha':[1e-5 ]\n",
    "    }\n",
    "]\n",
    "cv = RepeatedStratifiedKFold(n_splits=10, n_repeats=3, random_state=1)\n",
    "grid_search = GridSearchCV(estimator=model, param_grid= param_grid,  cv=cv, n_jobs = -1, scoring='f1',error_score='raise', verbose=0 )\n",
    "xgb_clf = grid_search.fit(xtrain_sm, ytrain_sm)\n",
    "#,colsample_bytree':[ 0.1, 0.2 ]"
   ]
  },
  {
   "cell_type": "code",
   "execution_count": 44,
   "id": "a60d87b5",
   "metadata": {
    "scrolled": true
   },
   "outputs": [
    {
     "data": {
      "text/plain": [
       "XGBClassifier(base_score=0.5, booster='gbtree', callbacks=None,\n",
       "              colsample_bylevel=1, colsample_bynode=1, colsample_bytree=0.2,\n",
       "              early_stopping_rounds=None, enable_categorical=False,\n",
       "              eval_metric=None, feature_types=None, gamma=0, gpu_id=-1,\n",
       "              grow_policy='depthwise', importance_type=None,\n",
       "              interaction_constraints='', learning_rate=0.0001, max_bin=256,\n",
       "              max_cat_threshold=64, max_cat_to_onehot=4, max_delta_step=0,\n",
       "              max_depth=7, max_leaves=0, min_child_weight=1, missing=nan,\n",
       "              monotone_constraints='()', n_estimators=2000, n_jobs=4, nthread=4,\n",
       "              num_parallel_tree=1, predictor='auto', ...)"
      ]
     },
     "execution_count": 44,
     "metadata": {},
     "output_type": "execute_result"
    }
   ],
   "source": [
    "xgb_clf.best_estimator_"
   ]
  },
  {
   "cell_type": "code",
   "execution_count": 45,
   "id": "af510878",
   "metadata": {},
   "outputs": [
    {
     "data": {
      "text/plain": [
       "({'colsample_bytree': 0.2,\n",
       "  'gamma': 0,\n",
       "  'learning_rate': 0.0001,\n",
       "  'max_depth': 7,\n",
       "  'min_child_weight': 1,\n",
       "  'n_estimators': 2000,\n",
       "  'nthread': 4,\n",
       "  'objective': 'binary:logistic',\n",
       "  'reg_alpha': 1e-05,\n",
       "  'scale_pos_weight': 1,\n",
       "  'subsample': 0.25},\n",
       " 0.6050907009327908)"
      ]
     },
     "execution_count": 45,
     "metadata": {},
     "output_type": "execute_result"
    }
   ],
   "source": [
    "xgb_clf.best_params_, xgb_clf.best_score_"
   ]
  },
  {
   "cell_type": "code",
   "execution_count": 46,
   "id": "6fade77d",
   "metadata": {},
   "outputs": [
    {
     "name": "stdout",
     "output_type": "stream",
     "text": [
      "\n",
      "classification report -  XG+ SMOTE -Train\n",
      "\n",
      "\n",
      "\n",
      "              precision    recall  f1-score   support\n",
      "\n",
      "           0       0.77      0.75      0.76       243\n",
      "           1       0.76      0.78      0.77       243\n",
      "\n",
      "    accuracy                           0.77       486\n",
      "   macro avg       0.77      0.77      0.77       486\n",
      "weighted avg       0.77      0.77      0.77       486\n",
      "\n",
      " ROC AUC =  76.5 %\n",
      " Precision =  75.9 %\n",
      " Recall =  77.8 %\n",
      " Accuracy =  76.5 %\n",
      " F1-Score =  76.8 %\n"
     ]
    },
    {
     "data": {
      "text/plain": [
       "array([[183,  60],\n",
       "       [ 54, 189]], dtype=int64)"
      ]
     },
     "execution_count": 46,
     "metadata": {},
     "output_type": "execute_result"
    }
   ],
   "source": [
    "y_predicted = grid_search.predict(xtrain_sm)\n",
    "\n",
    "print('\\nclassification report -  XG+ SMOTE -Train')\n",
    "print('\\n\\n')\n",
    "print(classification_report(ytrain_sm, y_predicted)) # generate the precision, recall, f-1 score, num\n",
    "print(' ROC AUC = ',str(round(roc_auc_score(ytrain_sm, y_predicted)*100,1)), '%')\n",
    "print(' Precision = ',str(round(precision_score(ytrain_sm, y_predicted)*100,1)), '%')\n",
    "print(' Recall = ',str(round(recall_score(ytrain_sm, y_predicted)*100,1)), '%')\n",
    "print(' Accuracy = ',str(round(accuracy_score(ytrain_sm, y_predicted)*100,1)), '%')\n",
    "print(' F1-Score = ',str(round(f1_score(ytrain_sm, y_predicted)*100,1)), '%')\n",
    "confusion_matrix(ytrain_sm, y_predicted)"
   ]
  },
  {
   "cell_type": "code",
   "execution_count": 47,
   "id": "3a16b0f5",
   "metadata": {},
   "outputs": [
    {
     "name": "stdout",
     "output_type": "stream",
     "text": [
      "\n",
      "classification report- RF+ SMOTE -Test\n",
      "\n",
      "\n",
      "\n",
      "              precision    recall  f1-score   support\n",
      "\n",
      "           0       0.71      0.65      0.68        49\n",
      "           1       0.71      0.76      0.74        55\n",
      "\n",
      "    accuracy                           0.71       104\n",
      "   macro avg       0.71      0.71      0.71       104\n",
      "weighted avg       0.71      0.71      0.71       104\n",
      "\n",
      "Random Forest: ROC AUC =  70.8 %\n",
      "Random Forest: Precision =  71.2 %\n",
      "Random Forest: Recall =  76.4 %\n",
      "Random Forest: Accuracy =  71.2 %\n",
      "Random Forest: F1-Score =  73.7 %\n"
     ]
    },
    {
     "data": {
      "text/plain": [
       "array([[32, 17],\n",
       "       [13, 42]], dtype=int64)"
      ]
     },
     "execution_count": 47,
     "metadata": {},
     "output_type": "execute_result"
    }
   ],
   "source": [
    "# Predict the test data\n",
    "y_predicted =grid_search.predict( xtest)\n",
    "\n",
    "print('\\nclassification report- RF+ SMOTE -Test')\n",
    "print('\\n\\n')\n",
    "print(classification_report(ytest, y_predicted)) # generate the precision, recall, f-1 score, num\n",
    "print('Random Forest: ROC AUC = ',str(round(roc_auc_score(ytest, y_predicted)*100,1)), '%')\n",
    "print('Random Forest: Precision = ',str(round(precision_score(ytest, y_predicted)*100,1)), '%')\n",
    "print('Random Forest: Recall = ',str(round(recall_score(ytest, y_predicted)*100,1)), '%')\n",
    "print('Random Forest: Accuracy = ',str(round(accuracy_score(ytest, y_predicted)*100,1)), '%')\n",
    "print('Random Forest: F1-Score = ',str(round(f1_score(ytest, y_predicted)*100,1)), '%')\n",
    "confusion_matrix(ytest, y_predicted)"
   ]
  },
  {
   "cell_type": "code",
   "execution_count": 32,
   "id": "9319dd7b",
   "metadata": {},
   "outputs": [
    {
     "data": {
      "text/plain": [
       "(7,)"
      ]
     },
     "execution_count": 32,
     "metadata": {},
     "output_type": "execute_result"
    }
   ],
   "source": [
    "importance = grid_search.best_estimator_.feature_importances_\n",
    "importance.shape"
   ]
  },
  {
   "cell_type": "code",
   "execution_count": 33,
   "id": "d4d9679e",
   "metadata": {},
   "outputs": [
    {
     "data": {
      "text/plain": [
       "(415, 8)"
      ]
     },
     "execution_count": 33,
     "metadata": {},
     "output_type": "execute_result"
    }
   ],
   "source": [
    "train.shape"
   ]
  },
  {
   "cell_type": "code",
   "execution_count": 21,
   "id": "59bc37bf",
   "metadata": {},
   "outputs": [
    {
     "data": {
      "image/png": "[encoded data removed]",
      "text/plain": [
       "<Figure size 1000x500 with 1 Axes>"
      ]
     },
     "metadata": {},
     "output_type": "display_data"
    }
   ],
   "source": [
    "# get importance\n",
    "importance = grid_search.best_estimator_.feature_importances_\n",
    "#Important variables\n",
    "importances_rf = pd.DataFrame(data = {'Attribute': train.drop(['Winner' ],axis=1).columns, 'Importance': grid_search.best_estimator_.feature_importances_})\n",
    "importances_rf = importances_rf.sort_values(by='Importance', ascending = False)\n",
    "#plot\n",
    "plt.figure(figsize=(10,5))\n",
    "plt.bar(x=importances_rf['Attribute'], height = importances_rf['Importance'], color = '#087E8B')\n",
    "plt.title('Feature Importance - XGBoost')\n",
    "plt.xticks(rotation='vertical')\n",
    "plt.show()"
   ]
  },
  {
   "cell_type": "code",
   "execution_count": 36,
   "id": "c4320951",
   "metadata": {},
   "outputs": [
    {
     "data": {
      "image/png": "[encoded data removed]",
      "text/plain": [
       "<Figure size 300x300 with 2 Axes>"
      ]
     },
     "metadata": {},
     "output_type": "display_data"
    }
   ],
   "source": [
    "cols_to_use = ['T1_Mat', 'T1_AvgBound', 'T2_AvgRunsConceded', 'T2_AvgBound', 'T2_W/L',\n",
    "       'T1_FansSent', 'T2_FansSent', 'Winner']\n",
    "fig, ax = plt.subplots(figsize=(3,3))\n",
    "display = PartialDependenceDisplay.from_estimator(grid_search,  xtrain_sm,   grid_resolution=11,  features=[4], \n",
    "                                                feature_names=cols_to_use,\n",
    "                                   percentiles=(0, 0.6), ax=ax)"
   ]
  },
  {
   "cell_type": "markdown",
   "id": "8bf0dd96",
   "metadata": {},
   "source": [
    "## Voting Classifier"
   ]
  },
  {
   "cell_type": "code",
   "execution_count": 74,
   "id": "7d5bac1f",
   "metadata": {},
   "outputs": [],
   "source": [
    "from sklearn.ensemble import VotingClassifier\n",
    "from sklearn import model_selection"
   ]
  },
  {
   "cell_type": "code",
   "execution_count": 85,
   "id": "5021ab24",
   "metadata": {},
   "outputs": [
    {
     "name": "stdout",
     "output_type": "stream",
     "text": [
      "Fitting 30 folds for each of 9 candidates, totalling 270 fits\n",
      "Fitting 30 folds for each of 4 candidates, totalling 120 fits\n"
     ]
    },
    {
     "data": {
      "text/plain": [
       "VotingClassifier(estimators=[('lr',\n",
       "                              GridSearchCV(cv=RepeatedStratifiedKFold(n_repeats=3, n_splits=10, random_state=42),\n",
       "                                           estimator=LogisticRegression(random_state=42),\n",
       "                                           n_jobs=-1,\n",
       "                                           param_grid=[{'C': [0.01],\n",
       "                                                        'l1_ratio': [0.1, 0.2,\n",
       "                                                                     0.3, 0.4,\n",
       "                                                                     0.5, 0.6,\n",
       "                                                                     0.7, 0.8,\n",
       "                                                                     0.9],\n",
       "                                                        'max_iter': [2000],\n",
       "                                                        'penalty': ['elasticnet'],\n",
       "                                                        'solver': ['saga']}],\n",
       "                                           scoring='f1', verbose=True)),\n",
       "                             ('rf',\n",
       "                              GridSear...\n",
       "                                                                   n_estimators=100,\n",
       "                                                                   n_jobs=None,\n",
       "                                                                   num_parallel_tree=None,\n",
       "                                                                   predictor=None,\n",
       "                                                                   random_state=None, ...),\n",
       "                                           n_jobs=-1,\n",
       "                                           param_grid=[{'colsample_bytree': [0.2],\n",
       "                                                        'gamma': [0],\n",
       "                                                        'learning_rate': [0.0001],\n",
       "                                                        'max_depth': [7],\n",
       "                                                        'min_child_weight': [1],\n",
       "                                                        'n_estimators': [2000],\n",
       "                                                        'nthread': [4],\n",
       "                                                        'objective': ['binary:logistic'],\n",
       "                                                        'reg_alpha': [1e-05],\n",
       "                                                        'scale_pos_weight': [1],\n",
       "                                                        'subsample': [0.25]}],\n",
       "                                           scoring='f1'))])"
      ]
     },
     "execution_count": 85,
     "metadata": {},
     "output_type": "execute_result"
    }
   ],
   "source": [
    "voting_clf = VotingClassifier(\n",
    " estimators=[('lr', log_clf), ('rf', rf_clf), ('svc', svm_clf), ('xgb', xgb_clf) ],\n",
    " voting='hard')\n",
    "voting_clf.fit(xtrain_sm, ytrain_sm ) "
   ]
  },
  {
   "cell_type": "code",
   "execution_count": 87,
   "id": "02c1c8b9",
   "metadata": {},
   "outputs": [
    {
     "name": "stdout",
     "output_type": "stream",
     "text": [
      "\n",
      "classification report -  XG+ SMOTE -Train\n",
      "\n",
      "\n",
      "\n",
      "              precision    recall  f1-score   support\n",
      "\n",
      "           0       0.70      0.70      0.70       243\n",
      "           1       0.70      0.70      0.70       243\n",
      "\n",
      "    accuracy                           0.70       486\n",
      "   macro avg       0.70      0.70      0.70       486\n",
      "weighted avg       0.70      0.70      0.70       486\n",
      "\n",
      " ROC AUC =  70.0 %\n",
      " Precision =  70.1 %\n",
      " Recall =  69.5 %\n",
      " Accuracy =  70.0 %\n",
      " F1-Score =  69.8 %\n"
     ]
    },
    {
     "data": {
      "text/plain": [
       "array([[171,  72],\n",
       "       [ 74, 169]], dtype=int64)"
      ]
     },
     "execution_count": 87,
     "metadata": {},
     "output_type": "execute_result"
    }
   ],
   "source": [
    "y_predicted = voting_clf.predict(xtrain_sm)\n",
    "\n",
    "print('\\nclassification report -  XG+ SMOTE -Train')\n",
    "print('\\n\\n')\n",
    "print(classification_report(ytrain_sm, y_predicted)) # generate the precision, recall, f-1 score, num\n",
    "print(' ROC AUC = ',str(round(roc_auc_score(ytrain_sm, y_predicted)*100,1)), '%')\n",
    "print(' Precision = ',str(round(precision_score(ytrain_sm, y_predicted)*100,1)), '%')\n",
    "print(' Recall = ',str(round(recall_score(ytrain_sm, y_predicted)*100,1)), '%')\n",
    "print(' Accuracy = ',str(round(accuracy_score(ytrain_sm, y_predicted)*100,1)), '%')\n",
    "print(' F1-Score = ',str(round(f1_score(ytrain_sm, y_predicted)*100,1)), '%')\n",
    "confusion_matrix(ytrain_sm, y_predicted)"
   ]
  },
  {
   "cell_type": "code",
   "execution_count": 88,
   "id": "1bf3c9d6",
   "metadata": {},
   "outputs": [
    {
     "name": "stdout",
     "output_type": "stream",
     "text": [
      "\n",
      "classification report- RF+ SMOTE -Test\n",
      "\n",
      "\n",
      "\n",
      "              precision    recall  f1-score   support\n",
      "\n",
      "           0       0.65      0.65      0.65        49\n",
      "           1       0.69      0.69      0.69        55\n",
      "\n",
      "    accuracy                           0.67       104\n",
      "   macro avg       0.67      0.67      0.67       104\n",
      "weighted avg       0.67      0.67      0.67       104\n",
      "\n",
      "Random Forest: ROC AUC =  67.2 %\n",
      "Random Forest: Precision =  69.1 %\n",
      "Random Forest: Recall =  69.1 %\n",
      "Random Forest: Accuracy =  67.3 %\n",
      "Random Forest: F1-Score =  69.1 %\n"
     ]
    },
    {
     "data": {
      "text/plain": [
       "array([[32, 17],\n",
       "       [17, 38]], dtype=int64)"
      ]
     },
     "execution_count": 88,
     "metadata": {},
     "output_type": "execute_result"
    }
   ],
   "source": [
    "# Predict the test data\n",
    "y_predicted =voting_clf.predict( xtest)\n",
    "\n",
    "print('\\nclassification report- RF+ SMOTE -Test')\n",
    "print('\\n\\n')\n",
    "print(classification_report(ytest, y_predicted)) # generate the precision, recall, f-1 score, num\n",
    "print('Random Forest: ROC AUC = ',str(round(roc_auc_score(ytest, y_predicted)*100,1)), '%')\n",
    "print('Random Forest: Precision = ',str(round(precision_score(ytest, y_predicted)*100,1)), '%')\n",
    "print('Random Forest: Recall = ',str(round(recall_score(ytest, y_predicted)*100,1)), '%')\n",
    "print('Random Forest: Accuracy = ',str(round(accuracy_score(ytest, y_predicted)*100,1)), '%')\n",
    "print('Random Forest: F1-Score = ',str(round(f1_score(ytest, y_predicted)*100,1)), '%')\n",
    "confusion_matrix(ytest, y_predicted)"
   ]
  },
  {
   "cell_type": "markdown",
   "id": "fea37fe2",
   "metadata": {},
   "source": [
    "## Stacking Classifier"
   ]
  },
  {
   "cell_type": "code",
   "execution_count": 99,
   "id": "31a7a786",
   "metadata": {},
   "outputs": [
    {
     "name": "stdout",
     "output_type": "stream",
     "text": [
      "Fitting 30 folds for each of 9 candidates, totalling 270 fits\n",
      "Fitting 30 folds for each of 4 candidates, totalling 120 fits\n",
      "Fitting 30 folds for each of 9 candidates, totalling 270 fits\n",
      "Fitting 30 folds for each of 9 candidates, totalling 270 fits\n",
      "Fitting 30 folds for each of 9 candidates, totalling 270 fits\n",
      "Fitting 30 folds for each of 9 candidates, totalling 270 fits\n",
      "Fitting 30 folds for each of 9 candidates, totalling 270 fits\n",
      "Fitting 30 folds for each of 4 candidates, totalling 120 fits\n",
      "Fitting 30 folds for each of 4 candidates, totalling 120 fits\n",
      "Fitting 30 folds for each of 4 candidates, totalling 120 fits\n",
      "Fitting 30 folds for each of 4 candidates, totalling 120 fits\n",
      "Fitting 30 folds for each of 4 candidates, totalling 120 fits\n"
     ]
    },
    {
     "data": {
      "text/plain": [
       "StackingClassifier(estimators=[('lr',\n",
       "                                GridSearchCV(cv=RepeatedStratifiedKFold(n_repeats=3, n_splits=10, random_state=42),\n",
       "                                             estimator=LogisticRegression(random_state=42),\n",
       "                                             n_jobs=-1,\n",
       "                                             param_grid=[{'C': [0.01],\n",
       "                                                          'l1_ratio': [0.1, 0.2,\n",
       "                                                                       0.3, 0.4,\n",
       "                                                                       0.5, 0.6,\n",
       "                                                                       0.7, 0.8,\n",
       "                                                                       0.9],\n",
       "                                                          'max_iter': [2000],\n",
       "                                                          'penalty': ['elasticnet'],\n",
       "                                                          'solver': ['saga']}],\n",
       "                                             scoring='f1', verbose=True)),\n",
       "                               ('rf',\n",
       "                                GridSe...\n",
       "                                                                     num_parallel_tree=None,\n",
       "                                                                     predictor=None,\n",
       "                                                                     random_state=None, ...),\n",
       "                                             n_jobs=-1,\n",
       "                                             param_grid=[{'colsample_bytree': [0.2],\n",
       "                                                          'gamma': [0],\n",
       "                                                          'learning_rate': [0.0001],\n",
       "                                                          'max_depth': [7],\n",
       "                                                          'min_child_weight': [1],\n",
       "                                                          'n_estimators': [2000],\n",
       "                                                          'nthread': [4],\n",
       "                                                          'objective': ['binary:logistic'],\n",
       "                                                          'reg_alpha': [1e-05],\n",
       "                                                          'scale_pos_weight': [1],\n",
       "                                                          'subsample': [0.25]}],\n",
       "                                             scoring='f1'))],\n",
       "                   final_estimator=LogisticRegression())"
      ]
     },
     "execution_count": 99,
     "metadata": {},
     "output_type": "execute_result"
    }
   ],
   "source": [
    "# Define estimators\n",
    "from sklearn.ensemble import StackingClassifier\n",
    "from sklearn.linear_model import LogisticRegression\n",
    "\n",
    "estimator_list = [\n",
    "    ('lr', log_clf), ('rf', rf_clf), ('svc', svm_clf), ('xgb', xgb_clf)  ]\n",
    "\n",
    "# Build stack model\n",
    "stack_clf = StackingClassifier(\n",
    "    estimators=estimator_list, final_estimator=LogisticRegression()\n",
    ")\n",
    "stack_clf.fit(xtrain_sm, ytrain_sm ) "
   ]
  },
  {
   "cell_type": "code",
   "execution_count": 100,
   "id": "df2a346b",
   "metadata": {},
   "outputs": [
    {
     "name": "stdout",
     "output_type": "stream",
     "text": [
      "\n",
      "classification report -  XG+ SMOTE -Train\n",
      "\n",
      "\n",
      "\n",
      "              precision    recall  f1-score   support\n",
      "\n",
      "           0       0.68      0.66      0.67       243\n",
      "           1       0.67      0.70      0.68       243\n",
      "\n",
      "    accuracy                           0.68       486\n",
      "   macro avg       0.68      0.68      0.68       486\n",
      "weighted avg       0.68      0.68      0.68       486\n",
      "\n",
      " ROC AUC =  67.7 %\n",
      " Precision =  67.1 %\n",
      " Recall =  69.5 %\n",
      " Accuracy =  67.7 %\n",
      " F1-Score =  68.3 %\n"
     ]
    },
    {
     "data": {
      "text/plain": [
       "array([[160,  83],\n",
       "       [ 74, 169]], dtype=int64)"
      ]
     },
     "execution_count": 100,
     "metadata": {},
     "output_type": "execute_result"
    }
   ],
   "source": [
    "y_predicted = stack_clf.predict(xtrain_sm)\n",
    "\n",
    "print('\\nclassification report -  XG+ SMOTE -Train')\n",
    "print('\\n\\n')\n",
    "print(classification_report(ytrain_sm, y_predicted)) # generate the precision, recall, f-1 score, num\n",
    "print(' ROC AUC = ',str(round(roc_auc_score(ytrain_sm, y_predicted)*100,1)), '%')\n",
    "print(' Precision = ',str(round(precision_score(ytrain_sm, y_predicted)*100,1)), '%')\n",
    "print(' Recall = ',str(round(recall_score(ytrain_sm, y_predicted)*100,1)), '%')\n",
    "print(' Accuracy = ',str(round(accuracy_score(ytrain_sm, y_predicted)*100,1)), '%')\n",
    "print(' F1-Score = ',str(round(f1_score(ytrain_sm, y_predicted)*100,1)), '%')\n",
    "confusion_matrix(ytrain_sm, y_predicted)"
   ]
  },
  {
   "cell_type": "code",
   "execution_count": 101,
   "id": "94590b5e",
   "metadata": {},
   "outputs": [
    {
     "name": "stdout",
     "output_type": "stream",
     "text": [
      "\n",
      "classification report- RF+ SMOTE -Test\n",
      "\n",
      "\n",
      "\n",
      "              precision    recall  f1-score   support\n",
      "\n",
      "           0       0.64      0.61      0.62        49\n",
      "           1       0.67      0.69      0.68        55\n",
      "\n",
      "    accuracy                           0.65       104\n",
      "   macro avg       0.65      0.65      0.65       104\n",
      "weighted avg       0.65      0.65      0.65       104\n",
      "\n",
      "Random Forest: ROC AUC =  65.2 %\n",
      "Random Forest: Precision =  66.7 %\n",
      "Random Forest: Recall =  69.1 %\n",
      "Random Forest: Accuracy =  65.4 %\n",
      "Random Forest: F1-Score =  67.9 %\n"
     ]
    },
    {
     "data": {
      "text/plain": [
       "array([[30, 19],\n",
       "       [17, 38]], dtype=int64)"
      ]
     },
     "execution_count": 101,
     "metadata": {},
     "output_type": "execute_result"
    }
   ],
   "source": [
    "# Predict the test data\n",
    "y_predicted =stack_clf.predict( xtest)\n",
    "\n",
    "print('\\nclassification report- RF+ SMOTE -Test')\n",
    "print('\\n\\n')\n",
    "print(classification_report(ytest, y_predicted)) # generate the precision, recall, f-1 score, num\n",
    "print('Random Forest: ROC AUC = ',str(round(roc_auc_score(ytest, y_predicted)*100,1)), '%')\n",
    "print('Random Forest: Precision = ',str(round(precision_score(ytest, y_predicted)*100,1)), '%')\n",
    "print('Random Forest: Recall = ',str(round(recall_score(ytest, y_predicted)*100,1)), '%')\n",
    "print('Random Forest: Accuracy = ',str(round(accuracy_score(ytest, y_predicted)*100,1)), '%')\n",
    "print('Random Forest: F1-Score = ',str(round(f1_score(ytest, y_predicted)*100,1)), '%')\n",
    "confusion_matrix(ytest, y_predicted)"
   ]
  },
  {
   "cell_type": "markdown",
   "id": "3891b85b",
   "metadata": {},
   "source": [
    "### Partial Dependency Plot"
   ]
  },
  {
   "cell_type": "code",
   "execution_count": 48,
   "id": "cb4c21c7",
   "metadata": {},
   "outputs": [],
   "source": [
    "from sklearn.inspection import plot_partial_dependence, PartialDependenceDisplay"
   ]
  },
  {
   "cell_type": "code",
   "execution_count": 49,
   "id": "3d404eb4",
   "metadata": {},
   "outputs": [
    {
     "data": {
      "image/png": "[encoded data removed]",
      "text/plain": [
       "<Figure size 300x300 with 2 Axes>"
      ]
     },
     "metadata": {},
     "output_type": "display_data"
    }
   ],
   "source": [
    "cols_to_use = ['T1_Mat', 'T1_AvgBound', 'T2_AvgRunsConceded', 'T2_AvgBound', 'T2_W/L',\n",
    "       'T1_FansSent', 'T2_FansSent', 'Winner']\n",
    "fig, ax = plt.subplots(figsize=(3,3))\n",
    "display = PartialDependenceDisplay.from_estimator(grid_search,  xtrain_sm,   grid_resolution=10,  features=[5], #, 6 ,3\n",
    "                                                feature_names=cols_to_use,\n",
    "                                   percentiles=(0, 1), ax=ax)\n"
   ]
  },
  {
   "cell_type": "code",
   "execution_count": 50,
   "id": "fc90e777",
   "metadata": {},
   "outputs": [
    {
     "data": {
      "image/png": "[encoded data removed]",
      "text/plain": [
       "<Figure size 300x300 with 2 Axes>"
      ]
     },
     "metadata": {},
     "output_type": "display_data"
    }
   ],
   "source": [
    "cols_to_use = ['T1_Mat', 'T1_AvgBound', 'T2_AvgRunsConceded', 'T2_AvgBound', 'T2_W/L',\n",
    "       'T1_FansSent', 'T2_FansSent', 'Winner']\n",
    "fig, ax = plt.subplots(figsize=(3,3))\n",
    "display = PartialDependenceDisplay.from_estimator(grid_search,  xtrain_sm,   grid_resolution=10,  features=[6], #5, 6 ,3\n",
    "                                                feature_names=cols_to_use,\n",
    "                                   percentiles=(0, 1), ax=ax)"
   ]
  },
  {
   "cell_type": "code",
   "execution_count": 51,
   "id": "bfec8330",
   "metadata": {},
   "outputs": [
    {
     "data": {
      "image/png": "[encoded data removed]",
      "text/plain": [
       "<Figure size 300x300 with 2 Axes>"
      ]
     },
     "metadata": {},
     "output_type": "display_data"
    }
   ],
   "source": [
    "cols_to_use = ['T1_Mat', 'T1_AvgBound', 'T2_AvgRunsConceded', 'T2_AvgBound', 'T2_W/L',\n",
    "       'T1_FansSent', 'T2_FansSent', 'Winner']\n",
    "fig, ax = plt.subplots(figsize=(3,3))\n",
    "display = PartialDependenceDisplay.from_estimator(grid_search,  xtrain_sm,   grid_resolution=10,  features=[3], #5, 6 ,3\n",
    "                                                feature_names=cols_to_use,\n",
    "                                   percentiles=(0, 1), ax=ax)"
   ]
  }
 ],
 "metadata": {
  "kernelspec": {
   "display_name": "Python 3 (ipykernel)",
   "language": "python",
   "name": "python3"
  },
  "language_info": {
   "codemirror_mode": {
    "name": "ipython",
    "version": 3
   },
   "file_extension": ".py",
   "mimetype": "text/x-python",
   "name": "python",
   "nbconvert_exporter": "python",
   "pygments_lexer": "ipython3",
   "version": "3.9.13"
  }
 },
 "nbformat": 4,
 "nbformat_minor": 5
}
