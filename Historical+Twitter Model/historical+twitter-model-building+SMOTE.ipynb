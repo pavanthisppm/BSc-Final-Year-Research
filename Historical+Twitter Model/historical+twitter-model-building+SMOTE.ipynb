{
 "cells": [
  {
   "cell_type": "code",
   "execution_count": 1,
   "id": "ee251412",
   "metadata": {},
   "outputs": [],
   "source": [
    "import warnings\n",
    "warnings.filterwarnings('ignore')\n",
    "import pandas as pd\n",
    "import numpy as np\n",
    "from sklearn.model_selection import train_test_split\n",
    "import matplotlib.pyplot as plt\n",
    "import seaborn as sns\n",
    "import prince\n",
    "import pickle\n",
    "\n",
    "from imblearn.over_sampling import SMOTE\n",
    "from imblearn.over_sampling import ADASYN\n",
    "from sklearn.preprocessing import RobustScaler\n",
    "from sklearn.preprocessing import StandardScaler\n",
    "from sklearn.model_selection import RepeatedStratifiedKFold\n",
    "from sklearn.model_selection import GridSearchCV\n",
    "from sklearn.linear_model import LogisticRegression\n",
    "\n",
    "from sklearn.metrics import classification_report\n",
    "from sklearn.metrics import roc_auc_score\n",
    "from sklearn.metrics import precision_score\n",
    "from sklearn.metrics import recall_score\n",
    "from sklearn.metrics import accuracy_score\n",
    "from sklearn.metrics import confusion_matrix\n",
    "from sklearn.metrics import f1_score"
   ]
  },
  {
   "cell_type": "code",
   "execution_count": 2,
   "id": "c5a38606",
   "metadata": {},
   "outputs": [
    {
     "data": {
      "text/html": [
       "<div>\n",
       "<style scoped>\n",
       "    .dataframe tbody tr th:only-of-type {\n",
       "        vertical-align: middle;\n",
       "    }\n",
       "\n",
       "    .dataframe tbody tr th {\n",
       "        vertical-align: top;\n",
       "    }\n",
       "\n",
       "    .dataframe thead th {\n",
       "        text-align: right;\n",
       "    }\n",
       "</style>\n",
       "<table border=\"1\" class=\"dataframe\">\n",
       "  <thead>\n",
       "    <tr style=\"text-align: right;\">\n",
       "      <th></th>\n",
       "      <th>ID</th>\n",
       "      <th>Venue</th>\n",
       "      <th>T1_Mat</th>\n",
       "      <th>T1_AvgRunsScored</th>\n",
       "      <th>T1_AvgRunsConceded</th>\n",
       "      <th>T1_AvgWktsTaken</th>\n",
       "      <th>T1_AvgWktsLost</th>\n",
       "      <th>T1_AvgBound</th>\n",
       "      <th>T1_W/L</th>\n",
       "      <th>T2_Mat</th>\n",
       "      <th>...</th>\n",
       "      <th>T2_AvgWktsLost</th>\n",
       "      <th>T2_AvgBound</th>\n",
       "      <th>T2_W/L</th>\n",
       "      <th>T1_TwitterVol</th>\n",
       "      <th>T2_TwitterVol</th>\n",
       "      <th>T1_FansSent</th>\n",
       "      <th>T2_FansSent</th>\n",
       "      <th>T1_FansPred</th>\n",
       "      <th>T2_FansPred</th>\n",
       "      <th>Winner</th>\n",
       "    </tr>\n",
       "  </thead>\n",
       "  <tbody>\n",
       "    <tr>\n",
       "      <th>0</th>\n",
       "      <td>1</td>\n",
       "      <td>Africa</td>\n",
       "      <td>34</td>\n",
       "      <td>7.10</td>\n",
       "      <td>7.27</td>\n",
       "      <td>0.33</td>\n",
       "      <td>0.32</td>\n",
       "      <td>0.85</td>\n",
       "      <td>1.833</td>\n",
       "      <td>22</td>\n",
       "      <td>...</td>\n",
       "      <td>0.32</td>\n",
       "      <td>0.95</td>\n",
       "      <td>1.000</td>\n",
       "      <td>0.571</td>\n",
       "      <td>0.429</td>\n",
       "      <td>0.571</td>\n",
       "      <td>0.381</td>\n",
       "      <td>0.000</td>\n",
       "      <td>0.000</td>\n",
       "      <td>0</td>\n",
       "    </tr>\n",
       "    <tr>\n",
       "      <th>1</th>\n",
       "      <td>2</td>\n",
       "      <td>Oceania</td>\n",
       "      <td>36</td>\n",
       "      <td>8.01</td>\n",
       "      <td>7.38</td>\n",
       "      <td>0.35</td>\n",
       "      <td>0.33</td>\n",
       "      <td>0.98</td>\n",
       "      <td>1.400</td>\n",
       "      <td>30</td>\n",
       "      <td>...</td>\n",
       "      <td>0.32</td>\n",
       "      <td>0.93</td>\n",
       "      <td>1.142</td>\n",
       "      <td>0.838</td>\n",
       "      <td>0.162</td>\n",
       "      <td>0.649</td>\n",
       "      <td>0.162</td>\n",
       "      <td>0.000</td>\n",
       "      <td>0.000</td>\n",
       "      <td>0</td>\n",
       "    </tr>\n",
       "    <tr>\n",
       "      <th>2</th>\n",
       "      <td>3</td>\n",
       "      <td>Oceania</td>\n",
       "      <td>37</td>\n",
       "      <td>8.00</td>\n",
       "      <td>7.39</td>\n",
       "      <td>0.35</td>\n",
       "      <td>0.33</td>\n",
       "      <td>0.98</td>\n",
       "      <td>1.312</td>\n",
       "      <td>31</td>\n",
       "      <td>...</td>\n",
       "      <td>0.33</td>\n",
       "      <td>0.93</td>\n",
       "      <td>1.214</td>\n",
       "      <td>0.357</td>\n",
       "      <td>0.643</td>\n",
       "      <td>0.299</td>\n",
       "      <td>0.535</td>\n",
       "      <td>0.333</td>\n",
       "      <td>0.667</td>\n",
       "      <td>1</td>\n",
       "    </tr>\n",
       "    <tr>\n",
       "      <th>3</th>\n",
       "      <td>4</td>\n",
       "      <td>America</td>\n",
       "      <td>38</td>\n",
       "      <td>7.14</td>\n",
       "      <td>7.18</td>\n",
       "      <td>0.33</td>\n",
       "      <td>0.34</td>\n",
       "      <td>0.84</td>\n",
       "      <td>1.235</td>\n",
       "      <td>24</td>\n",
       "      <td>...</td>\n",
       "      <td>0.36</td>\n",
       "      <td>0.89</td>\n",
       "      <td>0.714</td>\n",
       "      <td>0.464</td>\n",
       "      <td>0.536</td>\n",
       "      <td>0.464</td>\n",
       "      <td>0.464</td>\n",
       "      <td>0.000</td>\n",
       "      <td>0.000</td>\n",
       "      <td>0</td>\n",
       "    </tr>\n",
       "    <tr>\n",
       "      <th>4</th>\n",
       "      <td>5</td>\n",
       "      <td>America</td>\n",
       "      <td>23</td>\n",
       "      <td>7.71</td>\n",
       "      <td>7.94</td>\n",
       "      <td>0.28</td>\n",
       "      <td>0.32</td>\n",
       "      <td>0.96</td>\n",
       "      <td>1.090</td>\n",
       "      <td>25</td>\n",
       "      <td>...</td>\n",
       "      <td>0.36</td>\n",
       "      <td>0.89</td>\n",
       "      <td>0.785</td>\n",
       "      <td>0.696</td>\n",
       "      <td>0.304</td>\n",
       "      <td>0.565</td>\n",
       "      <td>0.283</td>\n",
       "      <td>0.000</td>\n",
       "      <td>0.000</td>\n",
       "      <td>1</td>\n",
       "    </tr>\n",
       "  </tbody>\n",
       "</table>\n",
       "<p>5 rows × 23 columns</p>\n",
       "</div>"
      ],
      "text/plain": [
       "   ID    Venue  T1_Mat  T1_AvgRunsScored  T1_AvgRunsConceded  T1_AvgWktsTaken  \\\n",
       "0   1   Africa      34              7.10                7.27             0.33   \n",
       "1   2  Oceania      36              8.01                7.38             0.35   \n",
       "2   3  Oceania      37              8.00                7.39             0.35   \n",
       "3   4  America      38              7.14                7.18             0.33   \n",
       "4   5  America      23              7.71                7.94             0.28   \n",
       "\n",
       "   T1_AvgWktsLost  T1_AvgBound  T1_W/L  T2_Mat  ...  T2_AvgWktsLost  \\\n",
       "0            0.32         0.85   1.833      22  ...            0.32   \n",
       "1            0.33         0.98   1.400      30  ...            0.32   \n",
       "2            0.33         0.98   1.312      31  ...            0.33   \n",
       "3            0.34         0.84   1.235      24  ...            0.36   \n",
       "4            0.32         0.96   1.090      25  ...            0.36   \n",
       "\n",
       "   T2_AvgBound  T2_W/L  T1_TwitterVol  T2_TwitterVol  T1_FansSent  \\\n",
       "0         0.95   1.000          0.571          0.429        0.571   \n",
       "1         0.93   1.142          0.838          0.162        0.649   \n",
       "2         0.93   1.214          0.357          0.643        0.299   \n",
       "3         0.89   0.714          0.464          0.536        0.464   \n",
       "4         0.89   0.785          0.696          0.304        0.565   \n",
       "\n",
       "   T2_FansSent  T1_FansPred  T2_FansPred  Winner  \n",
       "0        0.381        0.000        0.000       0  \n",
       "1        0.162        0.000        0.000       0  \n",
       "2        0.535        0.333        0.667       1  \n",
       "3        0.464        0.000        0.000       0  \n",
       "4        0.283        0.000        0.000       1  \n",
       "\n",
       "[5 rows x 23 columns]"
      ]
     },
     "execution_count": 2,
     "metadata": {},
     "output_type": "execute_result"
    }
   ],
   "source": [
    "data = pd.read_csv(\"historical&twitter-featured.csv\")\n",
    "data = data.drop('Unnamed: 0', axis=1)\n",
    "data.head()"
   ]
  },
  {
   "cell_type": "code",
   "execution_count": 3,
   "id": "f2a45a31",
   "metadata": {},
   "outputs": [
    {
     "data": {
      "text/plain": [
       "(519, 23)"
      ]
     },
     "execution_count": 3,
     "metadata": {},
     "output_type": "execute_result"
    }
   ],
   "source": [
    "data.shape"
   ]
  },
  {
   "cell_type": "code",
   "execution_count": 3,
   "id": "77735f77",
   "metadata": {},
   "outputs": [],
   "source": [
    "# train test split\n",
    "train, test= train_test_split(data, test_size = 0.2, random_state = 100)"
   ]
  },
  {
   "cell_type": "code",
   "execution_count": 4,
   "id": "295f88f1",
   "metadata": {},
   "outputs": [
    {
     "data": {
      "text/plain": [
       "((415, 23), (104, 23))"
      ]
     },
     "execution_count": 4,
     "metadata": {},
     "output_type": "execute_result"
    }
   ],
   "source": [
    "train.shape, test.shape"
   ]
  },
  {
   "cell_type": "code",
   "execution_count": 5,
   "id": "1d9e2e0f",
   "metadata": {},
   "outputs": [
    {
     "data": {
      "text/plain": [
       "Index(['ID', 'Venue', 'T1_Mat', 'T1_AvgRunsScored', 'T1_AvgRunsConceded',\n",
       "       'T1_AvgWktsTaken', 'T1_AvgWktsLost', 'T1_AvgBound', 'T1_W/L', 'T2_Mat',\n",
       "       'T2_AvgRunsScored', 'T2_AvgRunsConceded', 'T2_AvgWktsTaken',\n",
       "       'T2_AvgWktsLost', 'T2_AvgBound', 'T2_W/L', 'T1_TwitterVol',\n",
       "       'T2_TwitterVol', 'T1_FansSent', 'T2_FansSent', 'T1_FansPred',\n",
       "       'T2_FansPred', 'Winner'],\n",
       "      dtype='object')"
      ]
     },
     "execution_count": 5,
     "metadata": {},
     "output_type": "execute_result"
    }
   ],
   "source": [
    "train.columns"
   ]
  },
  {
   "cell_type": "code",
   "execution_count": 6,
   "id": "48c21a61",
   "metadata": {},
   "outputs": [
    {
     "data": {
      "text/plain": [
       "ID                      int64\n",
       "Venue                  object\n",
       "T1_Mat                  int64\n",
       "T1_AvgRunsScored      float64\n",
       "T1_AvgRunsConceded    float64\n",
       "T1_AvgWktsTaken       float64\n",
       "T1_AvgWktsLost        float64\n",
       "T1_AvgBound           float64\n",
       "T1_W/L                float64\n",
       "T2_Mat                  int64\n",
       "T2_AvgRunsScored      float64\n",
       "T2_AvgRunsConceded    float64\n",
       "T2_AvgWktsTaken       float64\n",
       "T2_AvgWktsLost        float64\n",
       "T2_AvgBound           float64\n",
       "T2_W/L                float64\n",
       "T1_TwitterVol         float64\n",
       "T2_TwitterVol         float64\n",
       "T1_FansSent           float64\n",
       "T2_FansSent           float64\n",
       "T1_FansPred           float64\n",
       "T2_FansPred           float64\n",
       "Winner                  int64\n",
       "dtype: object"
      ]
     },
     "execution_count": 6,
     "metadata": {},
     "output_type": "execute_result"
    }
   ],
   "source": [
    "train.dtypes"
   ]
  },
  {
   "cell_type": "code",
   "execution_count": 7,
   "id": "79111e28",
   "metadata": {},
   "outputs": [
    {
     "data": {
      "text/plain": [
       "Index(['ID', 'T1_Mat', 'T1_AvgRunsScored', 'T1_AvgRunsConceded',\n",
       "       'T1_AvgWktsTaken', 'T1_AvgWktsLost', 'T1_AvgBound', 'T1_W/L', 'T2_Mat',\n",
       "       'T2_AvgRunsScored', 'T2_AvgRunsConceded', 'T2_AvgWktsTaken',\n",
       "       'T2_AvgWktsLost', 'T2_AvgBound', 'T2_W/L', 'T1_TwitterVol',\n",
       "       'T2_TwitterVol', 'T1_FansSent', 'T2_FansSent', 'T1_FansPred',\n",
       "       'T2_FansPred', 'Winner'],\n",
       "      dtype='object')"
      ]
     },
     "execution_count": 7,
     "metadata": {},
     "output_type": "execute_result"
    }
   ],
   "source": [
    "num = train.select_dtypes(include='number')\n",
    "num.columns"
   ]
  },
  {
   "cell_type": "markdown",
   "id": "d680d959",
   "metadata": {},
   "source": [
    "## Model training"
   ]
  },
  {
   "cell_type": "code",
   "execution_count": 8,
   "id": "4b826368",
   "metadata": {},
   "outputs": [
    {
     "data": {
      "text/plain": [
       "((415, 21), (104, 21), (415,), (104,))"
      ]
     },
     "execution_count": 8,
     "metadata": {},
     "output_type": "execute_result"
    }
   ],
   "source": [
    "xtrain = train.drop(['Winner', 'ID'],axis=1) \n",
    "ytrain = train['Winner']\n",
    " \n",
    "xtest = test.drop(['Winner', 'ID' ],axis=1)  \n",
    "ytest = test['Winner']\n",
    "\n",
    "xtrain.shape, xtest.shape, ytrain.shape, ytest.shape"
   ]
  },
  {
   "cell_type": "code",
   "execution_count": 9,
   "id": "d5b8ea96",
   "metadata": {},
   "outputs": [
    {
     "data": {
      "text/plain": [
       "((415, 25), (104, 25))"
      ]
     },
     "execution_count": 9,
     "metadata": {},
     "output_type": "execute_result"
    }
   ],
   "source": [
    "# Converting categorical features using OneHotEncoding method\n",
    "encoded_xtrain = pd.get_dummies(data= xtrain, columns=[ 'Venue'])\n",
    "encoded_xtest = pd.get_dummies(data= xtest, columns=['Venue' ])\n",
    "\n",
    "encoded_xtrain.shape, encoded_xtest.shape"
   ]
  },
  {
   "cell_type": "code",
   "execution_count": 10,
   "id": "d3997a3c",
   "metadata": {},
   "outputs": [],
   "source": [
    "st = StandardScaler()\n",
    "xtrain  = st.fit_transform( encoded_xtrain)\n",
    "xtest = st.fit_transform( encoded_xtest)"
   ]
  },
  {
   "cell_type": "code",
   "execution_count": 11,
   "id": "34d1a9a1",
   "metadata": {},
   "outputs": [
    {
     "data": {
      "text/plain": [
       "((486, 25), (486,))"
      ]
     },
     "execution_count": 11,
     "metadata": {},
     "output_type": "execute_result"
    }
   ],
   "source": [
    "sm = SMOTE(random_state=42)\n",
    "xtrain_sm, ytrain_sm = sm.fit_resample(  xtrain,ytrain) \n",
    " \n",
    "xtrain_sm.shape, ytrain_sm.shape "
   ]
  },
  {
   "cell_type": "markdown",
   "id": "bd86a7ec",
   "metadata": {},
   "source": [
    "## Logistic regression - with hyperparameter tuning"
   ]
  },
  {
   "cell_type": "markdown",
   "id": "dc7c0ed0",
   "metadata": {},
   "source": [
    "### Lasso penalty"
   ]
  },
  {
   "cell_type": "code",
   "execution_count": 189,
   "id": "05a7218b",
   "metadata": {},
   "outputs": [],
   "source": [
    "from sklearn.model_selection import RepeatedStratifiedKFold"
   ]
  },
  {
   "cell_type": "code",
   "execution_count": 190,
   "id": "f3f25b5c",
   "metadata": {},
   "outputs": [
    {
     "name": "stdout",
     "output_type": "stream",
     "text": [
      "Fitting 30 folds for each of 6 candidates, totalling 180 fits\n"
     ]
    }
   ],
   "source": [
    "logModel  = LogisticRegression(random_state=42)\n",
    "param_grid = [    \n",
    "    {'solver' : [ 'newton-cg', 'lbfgs', 'liblinear', 'sag', 'saga', 'newton-cholesky'],\n",
    "    'penalty' : [   'l1'  ], #'None', 'l1', 'l2', 'elasticnet'\n",
    "    'C' :  [10 ],#1\n",
    "    'max_iter': [2000]\n",
    "    }\n",
    "]\n",
    "\n",
    "cv = RepeatedStratifiedKFold(n_splits=10, n_repeats=3, random_state=42)\n",
    "log_grid = GridSearchCV(logModel, param_grid = param_grid , verbose=True, n_jobs=-1, cv=cv , scoring='f1')\n",
    "log_clf_hyp = log_grid.fit(xtrain_sm,ytrain_sm)"
   ]
  },
  {
   "cell_type": "code",
   "execution_count": 191,
   "id": "ea11975c",
   "metadata": {},
   "outputs": [
    {
     "data": {
      "text/plain": [
       "LogisticRegression(C=10, max_iter=2000, penalty='l1', random_state=42,\n",
       "                   solver='liblinear')"
      ]
     },
     "execution_count": 191,
     "metadata": {},
     "output_type": "execute_result"
    }
   ],
   "source": [
    "log_clf_hyp.best_estimator_"
   ]
  },
  {
   "cell_type": "code",
   "execution_count": 192,
   "id": "2927d6bd",
   "metadata": {},
   "outputs": [
    {
     "name": "stdout",
     "output_type": "stream",
     "text": [
      "\n",
      "classification report - logistice (l1) - train\n",
      "              precision    recall  f1-score   support\n",
      "\n",
      "           0       0.72      0.70      0.71       243\n",
      "           1       0.71      0.72      0.72       243\n",
      "\n",
      "    accuracy                           0.71       486\n",
      "   macro avg       0.71      0.71      0.71       486\n",
      "weighted avg       0.71      0.71      0.71       486\n",
      "\n",
      "LogReg: ROC AUC =  71.2 %\n",
      "LogReg: Precision =  70.7 %\n",
      "LogReg: Recall =  72.4 %\n",
      "LogReg: Accuracy =  71.2 %\n",
      "LogReg: F1-Score =  71.5 %\n"
     ]
    },
    {
     "data": {
      "text/plain": [
       "array([[170,  73],\n",
       "       [ 67, 176]], dtype=int64)"
      ]
     },
     "execution_count": 192,
     "metadata": {},
     "output_type": "execute_result"
    }
   ],
   "source": [
    "# Predict the train data\n",
    "y_predicted = log_clf_hyp.predict(xtrain_sm)\n",
    "\n",
    "print('\\nclassification report - logistice (l1) - train')\n",
    "print(classification_report(ytrain_sm, y_predicted)) # generate the precision, recall, f-1 score, num\n",
    "print('LogReg: ROC AUC = ',str(round(roc_auc_score(ytrain_sm, y_predicted)*100,1)), '%')\n",
    "print('LogReg: Precision = ',str(round(precision_score(ytrain_sm, y_predicted)*100,1)), '%')\n",
    "print('LogReg: Recall = ',str(round(recall_score(ytrain_sm, y_predicted)*100,1)), '%')\n",
    "print('LogReg: Accuracy = ',str(round(accuracy_score(ytrain_sm, y_predicted)*100,1)), '%')\n",
    "print('LogReg: F1-Score = ',str(round(f1_score(ytrain_sm, y_predicted)*100,1)), '%')\n",
    "confusion_matrix(ytrain_sm, y_predicted)"
   ]
  },
  {
   "cell_type": "code",
   "execution_count": 193,
   "id": "6125f5a0",
   "metadata": {},
   "outputs": [
    {
     "name": "stdout",
     "output_type": "stream",
     "text": [
      "\n",
      "classification report - logistic(l2)+SMOTE - test \n",
      "              precision    recall  f1-score   support\n",
      "\n",
      "           0       0.67      0.65      0.66        49\n",
      "           1       0.70      0.71      0.70        55\n",
      "\n",
      "    accuracy                           0.68       104\n",
      "   macro avg       0.68      0.68      0.68       104\n",
      "weighted avg       0.68      0.68      0.68       104\n",
      "\n",
      "LogReg: ROC AUC =  68.1 %\n",
      "LogReg: Precision =  69.6 %\n",
      "LogReg: Recall =  70.9 %\n",
      "LogReg: Accuracy =  68.3 %\n",
      "LogReg: F1-Score =  70.3 %\n"
     ]
    },
    {
     "data": {
      "text/plain": [
       "array([[32, 17],\n",
       "       [16, 39]], dtype=int64)"
      ]
     },
     "execution_count": 193,
     "metadata": {},
     "output_type": "execute_result"
    }
   ],
   "source": [
    "# Predict the test data\n",
    "y_predicted = log_clf_hyp.predict( xtest)\n",
    "\n",
    "print('\\nclassification report - logistic(l2)+SMOTE - test ')\n",
    "print(classification_report(ytest, y_predicted)) # generate the precision, recall, f-1 score, num\n",
    "print('LogReg: ROC AUC = ',str(round(roc_auc_score(ytest, y_predicted)*100,1)), '%')\n",
    "print('LogReg: Precision = ',str(round(precision_score(ytest, y_predicted)*100,1)), '%')\n",
    "print('LogReg: Recall = ',str(round(recall_score(ytest, y_predicted)*100,1)), '%')\n",
    "print('LogReg: Accuracy = ',str(round(accuracy_score(ytest, y_predicted)*100,1)), '%')\n",
    "print('LogReg: F1-Score = ',str(round(f1_score(ytest, y_predicted)*100,1)), '%')\n",
    "confusion_matrix(ytest, y_predicted)"
   ]
  },
  {
   "cell_type": "code",
   "execution_count": 100,
   "id": "fdc03318",
   "metadata": {},
   "outputs": [],
   "source": [
    "# filename = 'LR-Lasso+SMOTE.pkl'\n",
    "# pickle.dump(log_clf_hyp, open(filename, 'wb'))"
   ]
  },
  {
   "cell_type": "markdown",
   "id": "13472d40",
   "metadata": {},
   "source": [
    "### Ridge penalty"
   ]
  },
  {
   "cell_type": "code",
   "execution_count": 194,
   "id": "d94dd183",
   "metadata": {},
   "outputs": [
    {
     "name": "stdout",
     "output_type": "stream",
     "text": [
      "Fitting 30 folds for each of 18 candidates, totalling 540 fits\n"
     ]
    }
   ],
   "source": [
    "logModel  = LogisticRegression(random_state=42)\n",
    "param_grid = [    \n",
    "    {'solver' : [ 'newton-cg', 'lbfgs', 'liblinear', 'sag', 'saga', 'newton-cholesky'],\n",
    "    'penalty' : [   'l2'  ], #'None', 'l1', 'l2', 'elasticnet'\n",
    "    'C' :  [  1e-2, 1e-1, 1 ],\n",
    "    'max_iter': [2000]\n",
    "    }\n",
    "]\n",
    "\n",
    "cv = RepeatedStratifiedKFold(n_splits=10, n_repeats=3, random_state=42)\n",
    "log_grid = GridSearchCV(logModel, param_grid = param_grid , verbose=True, n_jobs=-1, cv=cv , scoring='f1')\n",
    "log_clf_hyp = log_grid.fit(xtrain_sm,ytrain_sm)"
   ]
  },
  {
   "cell_type": "code",
   "execution_count": 195,
   "id": "e8f5e643",
   "metadata": {},
   "outputs": [
    {
     "data": {
      "text/plain": [
       "LogisticRegression(C=1, max_iter=2000, random_state=42, solver='newton-cg')"
      ]
     },
     "execution_count": 195,
     "metadata": {},
     "output_type": "execute_result"
    }
   ],
   "source": [
    "log_clf_hyp.best_estimator_"
   ]
  },
  {
   "cell_type": "code",
   "execution_count": 196,
   "id": "8e1adc54",
   "metadata": {},
   "outputs": [
    {
     "name": "stdout",
     "output_type": "stream",
     "text": [
      "\n",
      "classification report-logistic(l2)+SMOTE-train\n",
      "              precision    recall  f1-score   support\n",
      "\n",
      "           0       0.70      0.69      0.69       243\n",
      "           1       0.69      0.70      0.70       243\n",
      "\n",
      "    accuracy                           0.70       486\n",
      "   macro avg       0.70      0.70      0.70       486\n",
      "weighted avg       0.70      0.70      0.70       486\n",
      "\n",
      "LogReg: ROC AUC =  69.5 %\n",
      "LogReg: Precision =  69.2 %\n",
      "LogReg: Recall =  70.4 %\n",
      "LogReg: Accuracy =  69.5 %\n",
      "LogReg: F1-Score =  69.8 %\n"
     ]
    },
    {
     "data": {
      "text/plain": [
       "array([[167,  76],\n",
       "       [ 72, 171]], dtype=int64)"
      ]
     },
     "execution_count": 196,
     "metadata": {},
     "output_type": "execute_result"
    }
   ],
   "source": [
    "# Predict the train data\n",
    "y_predicted = log_clf_hyp.predict(xtrain_sm)\n",
    "\n",
    "print('\\nclassification report-logistic(l2)+SMOTE-train')\n",
    "print(classification_report(ytrain_sm, y_predicted)) # generate the precision, recall, f-1 score, num\n",
    "print('LogReg: ROC AUC = ',str(round(roc_auc_score(ytrain_sm, y_predicted)*100,1)), '%')\n",
    "print('LogReg: Precision = ',str(round(precision_score(ytrain_sm, y_predicted)*100,1)), '%')\n",
    "print('LogReg: Recall = ',str(round(recall_score(ytrain_sm, y_predicted)*100,1)), '%')\n",
    "print('LogReg: Accuracy = ',str(round(accuracy_score(ytrain_sm, y_predicted)*100,1)), '%')\n",
    "print('LogReg: F1-Score = ',str(round(f1_score(ytrain_sm, y_predicted)*100,1)), '%')\n",
    "confusion_matrix(ytrain_sm, y_predicted)"
   ]
  },
  {
   "cell_type": "code",
   "execution_count": 197,
   "id": "5bfcc43e",
   "metadata": {},
   "outputs": [
    {
     "name": "stdout",
     "output_type": "stream",
     "text": [
      "\n",
      "classification report-logistic(l2)+SMOTE-test\n",
      "              precision    recall  f1-score   support\n",
      "\n",
      "           0       0.65      0.61      0.63        49\n",
      "           1       0.67      0.71      0.69        55\n",
      "\n",
      "    accuracy                           0.66       104\n",
      "   macro avg       0.66      0.66      0.66       104\n",
      "weighted avg       0.66      0.66      0.66       104\n",
      "\n",
      "LogReg: ROC AUC =  66.1 %\n",
      "LogReg: Precision =  67.2 %\n",
      "LogReg: Recall =  70.9 %\n",
      "LogReg: Accuracy =  66.3 %\n",
      "LogReg: F1-Score =  69.0 %\n"
     ]
    },
    {
     "data": {
      "text/plain": [
       "array([[30, 19],\n",
       "       [16, 39]], dtype=int64)"
      ]
     },
     "execution_count": 197,
     "metadata": {},
     "output_type": "execute_result"
    }
   ],
   "source": [
    "# Predict the test data\n",
    "y_predicted = log_clf_hyp.predict( xtest)\n",
    "\n",
    "print('\\nclassification report-logistic(l2)+SMOTE-test')\n",
    "print(classification_report(ytest, y_predicted)) # generate the precision, recall, f-1 score, num\n",
    "print('LogReg: ROC AUC = ',str(round(roc_auc_score(ytest, y_predicted)*100,1)), '%')\n",
    "print('LogReg: Precision = ',str(round(precision_score(ytest, y_predicted)*100,1)), '%')\n",
    "print('LogReg: Recall = ',str(round(recall_score(ytest, y_predicted)*100,1)), '%')\n",
    "print('LogReg: Accuracy = ',str(round(accuracy_score(ytest, y_predicted)*100,1)), '%')\n",
    "print('LogReg: F1-Score = ',str(round(f1_score(ytest, y_predicted)*100,1)), '%')\n",
    "confusion_matrix(ytest, y_predicted)"
   ]
  },
  {
   "cell_type": "code",
   "execution_count": 34,
   "id": "b94ed3f0",
   "metadata": {},
   "outputs": [],
   "source": [
    "# filename = 'LR-Ridge+SMOTE.pkl'\n",
    "# pickle.dump(log_clf_hyp, open(filename, 'wb'))"
   ]
  },
  {
   "cell_type": "markdown",
   "id": "794fc9fb",
   "metadata": {},
   "source": [
    "### elasticnet"
   ]
  },
  {
   "cell_type": "code",
   "execution_count": 62,
   "id": "34413a6a",
   "metadata": {},
   "outputs": [
    {
     "name": "stdout",
     "output_type": "stream",
     "text": [
      "Fitting 30 folds for each of 9 candidates, totalling 270 fits\n"
     ]
    }
   ],
   "source": [
    "logModel  = LogisticRegression(random_state=42)\n",
    "param_grid = [    \n",
    "    {'solver' : [ 'saga'],\n",
    "    'penalty' : [   'elasticnet'  ], #'None', 'l1', 'l2', 'elasticnet'\n",
    "    'C' :  [10],\n",
    "    'max_iter': [2000],\n",
    "    'l1_ratio': [0.1,0.2,0.3,0.4,0.5,0.6,0.7,0.8,0.9]\n",
    "    }\n",
    "]\n",
    "\n",
    "cv = RepeatedStratifiedKFold(n_splits=10, n_repeats=3, random_state=42)\n",
    "log_grid = GridSearchCV(logModel, param_grid = param_grid , verbose=True, n_jobs=-1, cv=cv , scoring='f1')\n",
    "log_clf_hyp = log_grid.fit(xtrain_sm,ytrain_sm)"
   ]
  },
  {
   "cell_type": "code",
   "execution_count": 63,
   "id": "5a18d0f6",
   "metadata": {},
   "outputs": [
    {
     "data": {
      "text/plain": [
       "LogisticRegression(C=10, l1_ratio=0.8, max_iter=2000, penalty='elasticnet',\n",
       "                   random_state=42, solver='saga')"
      ]
     },
     "execution_count": 63,
     "metadata": {},
     "output_type": "execute_result"
    }
   ],
   "source": [
    "log_clf_hyp.best_estimator_"
   ]
  },
  {
   "cell_type": "code",
   "execution_count": 64,
   "id": "aa8b2467",
   "metadata": {},
   "outputs": [
    {
     "name": "stdout",
     "output_type": "stream",
     "text": [
      "\n",
      "classification report-logistic(enet)+SMOTE-train\n",
      "              precision    recall  f1-score   support\n",
      "\n",
      "           0       0.72      0.70      0.71       243\n",
      "           1       0.71      0.72      0.72       243\n",
      "\n",
      "    accuracy                           0.71       486\n",
      "   macro avg       0.71      0.71      0.71       486\n",
      "weighted avg       0.71      0.71      0.71       486\n",
      "\n",
      "LogReg: ROC AUC =  71.2 %\n",
      "LogReg: Precision =  70.7 %\n",
      "LogReg: Recall =  72.4 %\n",
      "LogReg: Accuracy =  71.2 %\n",
      "LogReg: F1-Score =  71.5 %\n"
     ]
    },
    {
     "data": {
      "text/plain": [
       "array([[170,  73],\n",
       "       [ 67, 176]], dtype=int64)"
      ]
     },
     "execution_count": 64,
     "metadata": {},
     "output_type": "execute_result"
    }
   ],
   "source": [
    "# Predict the train data\n",
    "y_predicted = log_clf_hyp.predict(xtrain_sm)\n",
    "\n",
    "print('\\nclassification report-logistic(enet)+SMOTE-train')\n",
    "print(classification_report(ytrain_sm, y_predicted)) # generate the precision, recall, f-1 score, num\n",
    "print('LogReg: ROC AUC = ',str(round(roc_auc_score(ytrain_sm, y_predicted)*100,1)), '%')\n",
    "print('LogReg: Precision = ',str(round(precision_score(ytrain_sm, y_predicted)*100,1)), '%')\n",
    "print('LogReg: Recall = ',str(round(recall_score(ytrain_sm, y_predicted)*100,1)), '%')\n",
    "print('LogReg: Accuracy = ',str(round(accuracy_score(ytrain_sm, y_predicted)*100,1)), '%')\n",
    "print('LogReg: F1-Score = ',str(round(f1_score(ytrain_sm, y_predicted)*100,1)), '%')\n",
    "confusion_matrix(ytrain_sm, y_predicted)"
   ]
  },
  {
   "cell_type": "code",
   "execution_count": 65,
   "id": "b8d56c6c",
   "metadata": {},
   "outputs": [
    {
     "name": "stdout",
     "output_type": "stream",
     "text": [
      "\n",
      "classification report-logistic(enet)+SMOTE-test\n",
      "              precision    recall  f1-score   support\n",
      "\n",
      "           0       0.67      0.65      0.66        49\n",
      "           1       0.70      0.71      0.70        55\n",
      "\n",
      "    accuracy                           0.68       104\n",
      "   macro avg       0.68      0.68      0.68       104\n",
      "weighted avg       0.68      0.68      0.68       104\n",
      "\n",
      "LogReg: ROC AUC =  68.1 %\n",
      "LogReg: Precision =  69.6 %\n",
      "LogReg: Recall =  70.9 %\n",
      "LogReg: Accuracy =  68.3 %\n",
      "LogReg: F1-Score =  70.3 %\n"
     ]
    },
    {
     "data": {
      "text/plain": [
       "array([[32, 17],\n",
       "       [16, 39]], dtype=int64)"
      ]
     },
     "execution_count": 65,
     "metadata": {},
     "output_type": "execute_result"
    }
   ],
   "source": [
    "# Predict the test data\n",
    "y_predicted = log_clf_hyp.predict( xtest)\n",
    "\n",
    "print('\\nclassification report-logistic(enet)+SMOTE-test')\n",
    "print(classification_report(ytest, y_predicted)) # generate the precision, recall, f-1 score, num\n",
    "print('LogReg: ROC AUC = ',str(round(roc_auc_score(ytest, y_predicted)*100,1)), '%')\n",
    "print('LogReg: Precision = ',str(round(precision_score(ytest, y_predicted)*100,1)), '%')\n",
    "print('LogReg: Recall = ',str(round(recall_score(ytest, y_predicted)*100,1)), '%')\n",
    "print('LogReg: Accuracy = ',str(round(accuracy_score(ytest, y_predicted)*100,1)), '%')\n",
    "print('LogReg: F1-Score = ',str(round(f1_score(ytest, y_predicted)*100,1)), '%')\n",
    "confusion_matrix(ytest, y_predicted)"
   ]
  },
  {
   "cell_type": "code",
   "execution_count": 40,
   "id": "cdbe87d2",
   "metadata": {},
   "outputs": [],
   "source": [
    "# filename = 'LR-Enet+SMOTE.pkl'\n",
    "# pickle.dump(log_clf_hyp, open(filename, 'wb'))"
   ]
  },
  {
   "cell_type": "markdown",
   "id": "c85d5756",
   "metadata": {},
   "source": [
    "## SVM with hyperparameter tuning"
   ]
  },
  {
   "cell_type": "markdown",
   "id": "4514f1e4",
   "metadata": {},
   "source": [
    "### SVM - poly"
   ]
  },
  {
   "cell_type": "code",
   "execution_count": 14,
   "id": "ed4ac6c0",
   "metadata": {},
   "outputs": [],
   "source": [
    "from sklearn.svm import SVC"
   ]
  },
  {
   "cell_type": "code",
   "execution_count": 766,
   "id": "3aa3f81f",
   "metadata": {},
   "outputs": [],
   "source": [
    "model = SVC(random_state=42)\n",
    "parameters = [\n",
    "              {'C': [ 1e-2 ], 'kernel': ['poly'], 'coef0': [1], 'degree':[3, 4]}]\n",
    "cv = RepeatedStratifiedKFold(n_splits=10, n_repeats=3, random_state=1)\n",
    "grid_search = GridSearchCV(estimator = model,\n",
    "                           param_grid = parameters,\n",
    "                           scoring = 'f1',\n",
    "                           cv = cv,\n",
    "                           n_jobs = -1)\n",
    "grid_search = grid_search.fit(xtrain_sm, ytrain_sm)\n",
    "# {'C': [10, 1, 1e-1], 'kernel': ['linear']},\n",
    "# degree=3, coef0=1, C=5)"
   ]
  },
  {
   "cell_type": "code",
   "execution_count": 767,
   "id": "25c5398f",
   "metadata": {},
   "outputs": [
    {
     "data": {
      "text/plain": [
       "SVC(C=0.01, coef0=1, kernel='poly', random_state=42)"
      ]
     },
     "execution_count": 767,
     "metadata": {},
     "output_type": "execute_result"
    }
   ],
   "source": [
    "grid_search.best_estimator_"
   ]
  },
  {
   "cell_type": "code",
   "execution_count": 768,
   "id": "0a60cee9",
   "metadata": {},
   "outputs": [
    {
     "data": {
      "text/plain": [
       "({'C': 0.01, 'coef0': 1, 'degree': 3, 'kernel': 'poly'}, 0.6286729377700891)"
      ]
     },
     "execution_count": 768,
     "metadata": {},
     "output_type": "execute_result"
    }
   ],
   "source": [
    "grid_search.best_params_, grid_search.best_score_"
   ]
  },
  {
   "cell_type": "code",
   "execution_count": 769,
   "id": "d800b544",
   "metadata": {},
   "outputs": [
    {
     "name": "stdout",
     "output_type": "stream",
     "text": [
      "\n",
      "classification report- SVM+ SMOTE -Train\n",
      "\n",
      "\n",
      "\n",
      "              precision    recall  f1-score   support\n",
      "\n",
      "           0       0.67      0.65      0.66       243\n",
      "           1       0.66      0.69      0.67       243\n",
      "\n",
      "    accuracy                           0.67       486\n",
      "   macro avg       0.67      0.67      0.67       486\n",
      "weighted avg       0.67      0.67      0.67       486\n",
      "\n",
      " ROC AUC =  66.7 %\n",
      " Precision =  66.0 %\n",
      " Recall =  68.7 %\n",
      " Accuracy =  66.7 %\n",
      " F1-Score =  67.3 %\n"
     ]
    },
    {
     "data": {
      "text/plain": [
       "array([[157,  86],\n",
       "       [ 76, 167]], dtype=int64)"
      ]
     },
     "execution_count": 769,
     "metadata": {},
     "output_type": "execute_result"
    }
   ],
   "source": [
    "# Predict the train data\n",
    "y_predicted = grid_search.predict(xtrain_sm)\n",
    "\n",
    "print('\\nclassification report- SVM+ SMOTE -Train')\n",
    "print('\\n\\n')\n",
    "print(classification_report(ytrain_sm, y_predicted)) \n",
    "print(' ROC AUC = ',str(round(roc_auc_score(ytrain_sm, y_predicted)*100,1)), '%')\n",
    "print(' Precision = ',str(round(precision_score(ytrain_sm, y_predicted)*100,1)), '%')\n",
    "print(' Recall = ',str(round(recall_score(ytrain_sm, y_predicted)*100,1)), '%')\n",
    "print(' Accuracy = ',str(round(accuracy_score(ytrain_sm, y_predicted)*100,1)), '%')\n",
    "print(' F1-Score = ',str(round(f1_score(ytrain_sm, y_predicted)*100,1)), '%')\n",
    "confusion_matrix(ytrain_sm, y_predicted)"
   ]
  },
  {
   "cell_type": "code",
   "execution_count": 770,
   "id": "0d13a5eb",
   "metadata": {},
   "outputs": [
    {
     "name": "stdout",
     "output_type": "stream",
     "text": [
      "\n",
      "classification report- SVM+ SMOTE -Test\n",
      "\n",
      "\n",
      "\n",
      "              precision    recall  f1-score   support\n",
      "\n",
      "           0       0.63      0.67      0.65        49\n",
      "           1       0.69      0.65      0.67        55\n",
      "\n",
      "    accuracy                           0.66       104\n",
      "   macro avg       0.66      0.66      0.66       104\n",
      "weighted avg       0.67      0.66      0.66       104\n",
      "\n",
      " ROC AUC =  66.4 %\n",
      " Precision =  69.2 %\n",
      " Recall =  65.5 %\n",
      " Accuracy =  66.3 %\n",
      " F1-Score =  67.3 %\n"
     ]
    },
    {
     "data": {
      "text/plain": [
       "array([[33, 16],\n",
       "       [19, 36]], dtype=int64)"
      ]
     },
     "execution_count": 770,
     "metadata": {},
     "output_type": "execute_result"
    }
   ],
   "source": [
    "# Predict the test data\n",
    "y_predicted = grid_search.predict(xtest)\n",
    "\n",
    "print('\\nclassification report- SVM+ SMOTE -Test')\n",
    "print('\\n\\n')\n",
    "print(classification_report(ytest, y_predicted))  \n",
    "print(' ROC AUC = ',str(round(roc_auc_score(ytest, y_predicted)*100,1)), '%')\n",
    "print(' Precision = ',str(round(precision_score(ytest, y_predicted)*100,1)), '%')\n",
    "print(' Recall = ',str(round(recall_score(ytest, y_predicted)*100,1)), '%')\n",
    "print(' Accuracy = ',str(round(accuracy_score(ytest, y_predicted)*100,1)), '%')\n",
    "print(' F1-Score = ',str(round(f1_score(ytest, y_predicted)*100,1)), '%')\n",
    "confusion_matrix(ytest, y_predicted)"
   ]
  },
  {
   "cell_type": "markdown",
   "id": "34b5b8ee",
   "metadata": {},
   "source": [
    "### SVM-rbf"
   ]
  },
  {
   "cell_type": "code",
   "execution_count": 53,
   "id": "a85150cd",
   "metadata": {},
   "outputs": [],
   "source": [
    "model = SVC(random_state=42)\n",
    "parameters = [\n",
    "              {'C': [ 1e5 ], 'kernel': ['rbf'], 'gamma': [1e-5], 'degree':[3]}]\n",
    "cv = RepeatedStratifiedKFold(n_splits=10, n_repeats=3, random_state=1)\n",
    "grid_search = GridSearchCV(estimator = model,\n",
    "                           param_grid = parameters,\n",
    "                           scoring = 'f1',\n",
    "                           cv = cv,\n",
    "                           n_jobs = -1)\n",
    "grid_search = grid_search.fit(xtrain_sm, ytrain_sm)\n",
    "# # {'C': [10, 1, 1e-1], 'kernel': ['linear']},"
   ]
  },
  {
   "cell_type": "code",
   "execution_count": 54,
   "id": "4d424cef",
   "metadata": {},
   "outputs": [
    {
     "data": {
      "text/plain": [
       "({'C': 100000.0, 'degree': 3, 'gamma': 1e-05, 'kernel': 'rbf'},\n",
       " 0.6614121675233177)"
      ]
     },
     "execution_count": 54,
     "metadata": {},
     "output_type": "execute_result"
    }
   ],
   "source": [
    "grid_search.best_params_, grid_search.best_score_"
   ]
  },
  {
   "cell_type": "code",
   "execution_count": 55,
   "id": "f32d2b92",
   "metadata": {},
   "outputs": [
    {
     "name": "stdout",
     "output_type": "stream",
     "text": [
      "\n",
      "classification report- SVM+ SMOTE -Train\n",
      "\n",
      "\n",
      "\n",
      "              precision    recall  f1-score   support\n",
      "\n",
      "           0       0.71      0.73      0.72       243\n",
      "           1       0.72      0.70      0.71       243\n",
      "\n",
      "    accuracy                           0.72       486\n",
      "   macro avg       0.72      0.72      0.72       486\n",
      "weighted avg       0.72      0.72      0.72       486\n",
      "\n",
      " ROC AUC =  71.6 %\n",
      " Precision =  72.3 %\n",
      " Recall =  70.0 %\n",
      " Accuracy =  71.6 %\n",
      " F1-Score =  71.1 %\n"
     ]
    },
    {
     "data": {
      "text/plain": [
       "array([[178,  65],\n",
       "       [ 73, 170]], dtype=int64)"
      ]
     },
     "execution_count": 55,
     "metadata": {},
     "output_type": "execute_result"
    }
   ],
   "source": [
    "# Predict the train data\n",
    "y_predicted = grid_search.predict(xtrain_sm)\n",
    "\n",
    "print('\\nclassification report- SVM+ SMOTE -Train')\n",
    "print('\\n\\n')\n",
    "print(classification_report(ytrain_sm, y_predicted)) \n",
    "print(' ROC AUC = ',str(round(roc_auc_score(ytrain_sm, y_predicted)*100,1)), '%')\n",
    "print(' Precision = ',str(round(precision_score(ytrain_sm, y_predicted)*100,1)), '%')\n",
    "print(' Recall = ',str(round(recall_score(ytrain_sm, y_predicted)*100,1)), '%')\n",
    "print(' Accuracy = ',str(round(accuracy_score(ytrain_sm, y_predicted)*100,1)), '%')\n",
    "print(' F1-Score = ',str(round(f1_score(ytrain_sm, y_predicted)*100,1)), '%')\n",
    "confusion_matrix(ytrain_sm, y_predicted)"
   ]
  },
  {
   "cell_type": "code",
   "execution_count": 56,
   "id": "3172085a",
   "metadata": {},
   "outputs": [
    {
     "name": "stdout",
     "output_type": "stream",
     "text": [
      "\n",
      "classification report- SVM+ SMOTE -Test\n",
      "\n",
      "\n",
      "\n",
      "              precision    recall  f1-score   support\n",
      "\n",
      "           0       0.67      0.65      0.66        49\n",
      "           1       0.70      0.71      0.70        55\n",
      "\n",
      "    accuracy                           0.68       104\n",
      "   macro avg       0.68      0.68      0.68       104\n",
      "weighted avg       0.68      0.68      0.68       104\n",
      "\n",
      " ROC AUC =  68.1 %\n",
      " Precision =  69.6 %\n",
      " Recall =  70.9 %\n",
      " Accuracy =  68.3 %\n",
      " F1-Score =  70.3 %\n"
     ]
    },
    {
     "data": {
      "text/plain": [
       "array([[32, 17],\n",
       "       [16, 39]], dtype=int64)"
      ]
     },
     "execution_count": 56,
     "metadata": {},
     "output_type": "execute_result"
    }
   ],
   "source": [
    "# Predict the test data\n",
    "y_predicted = grid_search.predict(xtest)\n",
    "\n",
    "print('\\nclassification report- SVM+ SMOTE -Test')\n",
    "print('\\n\\n')\n",
    "print(classification_report(ytest, y_predicted))  \n",
    "print(' ROC AUC = ',str(round(roc_auc_score(ytest, y_predicted)*100,1)), '%')\n",
    "print(' Precision = ',str(round(precision_score(ytest, y_predicted)*100,1)), '%')\n",
    "print(' Recall = ',str(round(recall_score(ytest, y_predicted)*100,1)), '%')\n",
    "print(' Accuracy = ',str(round(accuracy_score(ytest, y_predicted)*100,1)), '%')\n",
    "print(' F1-Score = ',str(round(f1_score(ytest, y_predicted)*100,1)), '%')\n",
    "confusion_matrix(ytest, y_predicted)"
   ]
  },
  {
   "cell_type": "markdown",
   "id": "25d6a8cd",
   "metadata": {},
   "source": [
    "### SVM-linear"
   ]
  },
  {
   "cell_type": "code",
   "execution_count": 15,
   "id": "055fc999",
   "metadata": {},
   "outputs": [
    {
     "name": "stdout",
     "output_type": "stream",
     "text": [
      "Fitting 30 folds for each of 8 candidates, totalling 240 fits\n"
     ]
    }
   ],
   "source": [
    "# define model\n",
    "model = SVC(random_state=42)\n",
    "\n",
    "# define grid search\n",
    "param_grid = [    \n",
    "{'kernel' : ['poly', 'rbf', 'sigmoid', 'linear' ], #linear\n",
    "     'gamma' :['scale', 'auto' ], #'scale'\n",
    "    'C': [10] #10\n",
    " \n",
    "    }\n",
    "]\n",
    "\n",
    "cv = RepeatedStratifiedKFold(n_splits=10, n_repeats=3, random_state=1)\n",
    "grid_search = GridSearchCV(estimator=model, param_grid=param_grid, verbose=True, n_jobs=-1, cv=cv , scoring = 'f1', error_score=0)\n",
    "grid_result = grid_search.fit(xtrain_sm, ytrain_sm)"
   ]
  },
  {
   "cell_type": "code",
   "execution_count": 16,
   "id": "4feea67c",
   "metadata": {},
   "outputs": [
    {
     "data": {
      "text/plain": [
       "({'C': 10, 'gamma': 'scale', 'kernel': 'linear'}, 0.6733645763680387)"
      ]
     },
     "execution_count": 16,
     "metadata": {},
     "output_type": "execute_result"
    }
   ],
   "source": [
    "grid_search.best_params_, grid_search.best_score_"
   ]
  },
  {
   "cell_type": "code",
   "execution_count": 17,
   "id": "3eebc84b",
   "metadata": {},
   "outputs": [
    {
     "name": "stdout",
     "output_type": "stream",
     "text": [
      "\n",
      "classification report- SVM+ SMOTE -Train\n",
      "\n",
      "\n",
      "\n",
      "              precision    recall  f1-score   support\n",
      "\n",
      "           0       0.72      0.72      0.72       243\n",
      "           1       0.72      0.71      0.72       243\n",
      "\n",
      "    accuracy                           0.72       486\n",
      "   macro avg       0.72      0.72      0.72       486\n",
      "weighted avg       0.72      0.72      0.72       486\n",
      "\n",
      " ROC AUC =  71.8 %\n",
      " Precision =  72.1 %\n",
      " Recall =  71.2 %\n",
      " Accuracy =  71.8 %\n",
      " F1-Score =  71.6 %\n"
     ]
    },
    {
     "data": {
      "text/plain": [
       "array([[176,  67],\n",
       "       [ 70, 173]], dtype=int64)"
      ]
     },
     "execution_count": 17,
     "metadata": {},
     "output_type": "execute_result"
    }
   ],
   "source": [
    "# Predict the train data\n",
    "y_predicted = grid_search.predict(xtrain_sm)\n",
    "\n",
    "print('\\nclassification report- SVM+ SMOTE -Train')\n",
    "print('\\n\\n')\n",
    "print(classification_report(ytrain_sm, y_predicted)) \n",
    "print(' ROC AUC = ',str(round(roc_auc_score(ytrain_sm, y_predicted)*100,1)), '%')\n",
    "print(' Precision = ',str(round(precision_score(ytrain_sm, y_predicted)*100,1)), '%')\n",
    "print(' Recall = ',str(round(recall_score(ytrain_sm, y_predicted)*100,1)), '%')\n",
    "print(' Accuracy = ',str(round(accuracy_score(ytrain_sm, y_predicted)*100,1)), '%')\n",
    "print(' F1-Score = ',str(round(f1_score(ytrain_sm, y_predicted)*100,1)), '%')\n",
    "confusion_matrix(ytrain_sm, y_predicted)"
   ]
  },
  {
   "cell_type": "code",
   "execution_count": 18,
   "id": "3813c586",
   "metadata": {},
   "outputs": [
    {
     "name": "stdout",
     "output_type": "stream",
     "text": [
      "\n",
      "classification report- SVM+ SMOTE -Test\n",
      "\n",
      "\n",
      "\n",
      "              precision    recall  f1-score   support\n",
      "\n",
      "           0       0.68      0.65      0.67        49\n",
      "           1       0.70      0.73      0.71        55\n",
      "\n",
      "    accuracy                           0.69       104\n",
      "   macro avg       0.69      0.69      0.69       104\n",
      "weighted avg       0.69      0.69      0.69       104\n",
      "\n",
      " ROC AUC =  69.0 %\n",
      " Precision =  70.2 %\n",
      " Recall =  72.7 %\n",
      " Accuracy =  69.2 %\n",
      " F1-Score =  71.4 %\n"
     ]
    },
    {
     "data": {
      "text/plain": [
       "array([[32, 17],\n",
       "       [15, 40]], dtype=int64)"
      ]
     },
     "execution_count": 18,
     "metadata": {},
     "output_type": "execute_result"
    }
   ],
   "source": [
    "# Predict the test data\n",
    "y_predicted = grid_search.predict(xtest)\n",
    "\n",
    "print('\\nclassification report- SVM+ SMOTE -Test')\n",
    "print('\\n\\n')\n",
    "print(classification_report(ytest, y_predicted))  \n",
    "print(' ROC AUC = ',str(round(roc_auc_score(ytest, y_predicted)*100,1)), '%')\n",
    "print(' Precision = ',str(round(precision_score(ytest, y_predicted)*100,1)), '%')\n",
    "print(' Recall = ',str(round(recall_score(ytest, y_predicted)*100,1)), '%')\n",
    "print(' Accuracy = ',str(round(accuracy_score(ytest, y_predicted)*100,1)), '%')\n",
    "print(' F1-Score = ',str(round(f1_score(ytest, y_predicted)*100,1)), '%')\n",
    "confusion_matrix(ytest, y_predicted)"
   ]
  },
  {
   "cell_type": "code",
   "execution_count": 19,
   "id": "ac04676a",
   "metadata": {},
   "outputs": [
    {
     "data": {
      "text/plain": [
       "array([[ 0.26250062, -0.7737131 , -0.39934115,  0.06063559, -0.79469857,\n",
       "         0.85084078, -0.96602718,  0.05785168, -0.212831  ,  0.29161686,\n",
       "        -0.15506754,  0.17809691, -0.46944365,  0.64142571, -1.37783891,\n",
       "         1.2886022 ,  1.38939729, -2.03007686,  0.1881013 , -0.02944931,\n",
       "        -0.04447755, -0.03448686, -0.03697907, -0.10854007,  0.18272623]])"
      ]
     },
     "execution_count": 19,
     "metadata": {},
     "output_type": "execute_result"
    }
   ],
   "source": [
    "importance = grid_search.best_estimator_.coef_\n",
    "importance"
   ]
  },
  {
   "cell_type": "code",
   "execution_count": 20,
   "id": "0d11a828",
   "metadata": {},
   "outputs": [],
   "source": [
    "importance =  [ 0.26250062, -0.7737131 , -0.39934115,  0.06063559, -0.79469857,\n",
    "         0.85084078, -0.96602718,  0.05785168, -0.212831  ,  0.29161686,\n",
    "        -0.15506754,  0.17809691, -0.46944365,  0.64142571, -1.37783891,\n",
    "         1.2886022 ,  1.38939729, -2.03007686,  0.1881013 , -0.02944931,\n",
    "        -0.04447755, -0.03448686, -0.03697907, -0.10854007,  0.18272623]"
   ]
  },
  {
   "cell_type": "code",
   "execution_count": 21,
   "id": "bd43c18d",
   "metadata": {},
   "outputs": [],
   "source": [
    "importance_abs = [abs(i) for i in importance]"
   ]
  },
  {
   "cell_type": "code",
   "execution_count": 22,
   "id": "23e525b8",
   "metadata": {},
   "outputs": [
    {
     "data": {
      "text/html": [
       "<div>\n",
       "<style scoped>\n",
       "    .dataframe tbody tr th:only-of-type {\n",
       "        vertical-align: middle;\n",
       "    }\n",
       "\n",
       "    .dataframe tbody tr th {\n",
       "        vertical-align: top;\n",
       "    }\n",
       "\n",
       "    .dataframe thead th {\n",
       "        text-align: right;\n",
       "    }\n",
       "</style>\n",
       "<table border=\"1\" class=\"dataframe\">\n",
       "  <thead>\n",
       "    <tr style=\"text-align: right;\">\n",
       "      <th></th>\n",
       "      <th>Attribute</th>\n",
       "      <th>Importance</th>\n",
       "    </tr>\n",
       "  </thead>\n",
       "  <tbody>\n",
       "    <tr>\n",
       "      <th>0</th>\n",
       "      <td>T1_Mat</td>\n",
       "      <td>0.262501</td>\n",
       "    </tr>\n",
       "    <tr>\n",
       "      <th>1</th>\n",
       "      <td>T1_AvgRunsScored</td>\n",
       "      <td>-0.773713</td>\n",
       "    </tr>\n",
       "    <tr>\n",
       "      <th>2</th>\n",
       "      <td>T1_AvgRunsConceded</td>\n",
       "      <td>-0.399341</td>\n",
       "    </tr>\n",
       "    <tr>\n",
       "      <th>3</th>\n",
       "      <td>T1_AvgWktsTaken</td>\n",
       "      <td>0.060636</td>\n",
       "    </tr>\n",
       "    <tr>\n",
       "      <th>4</th>\n",
       "      <td>T1_AvgWktsLost</td>\n",
       "      <td>-0.794699</td>\n",
       "    </tr>\n",
       "    <tr>\n",
       "      <th>5</th>\n",
       "      <td>T1_AvgBound</td>\n",
       "      <td>0.850841</td>\n",
       "    </tr>\n",
       "    <tr>\n",
       "      <th>6</th>\n",
       "      <td>T1_W/L</td>\n",
       "      <td>-0.966027</td>\n",
       "    </tr>\n",
       "    <tr>\n",
       "      <th>7</th>\n",
       "      <td>T2_Mat</td>\n",
       "      <td>0.057852</td>\n",
       "    </tr>\n",
       "    <tr>\n",
       "      <th>8</th>\n",
       "      <td>T2_AvgRunsScored</td>\n",
       "      <td>-0.212831</td>\n",
       "    </tr>\n",
       "    <tr>\n",
       "      <th>9</th>\n",
       "      <td>T2_AvgRunsConceded</td>\n",
       "      <td>0.291617</td>\n",
       "    </tr>\n",
       "    <tr>\n",
       "      <th>10</th>\n",
       "      <td>T2_AvgWktsTaken</td>\n",
       "      <td>-0.155068</td>\n",
       "    </tr>\n",
       "    <tr>\n",
       "      <th>11</th>\n",
       "      <td>T2_AvgWktsLost</td>\n",
       "      <td>0.178097</td>\n",
       "    </tr>\n",
       "    <tr>\n",
       "      <th>12</th>\n",
       "      <td>T2_AvgBound</td>\n",
       "      <td>-0.469444</td>\n",
       "    </tr>\n",
       "    <tr>\n",
       "      <th>13</th>\n",
       "      <td>T2_W/L</td>\n",
       "      <td>0.641426</td>\n",
       "    </tr>\n",
       "    <tr>\n",
       "      <th>14</th>\n",
       "      <td>T1_TwitterVol</td>\n",
       "      <td>-1.377839</td>\n",
       "    </tr>\n",
       "    <tr>\n",
       "      <th>15</th>\n",
       "      <td>T2_TwitterVol</td>\n",
       "      <td>1.288602</td>\n",
       "    </tr>\n",
       "    <tr>\n",
       "      <th>16</th>\n",
       "      <td>T1_FansSent</td>\n",
       "      <td>1.389397</td>\n",
       "    </tr>\n",
       "    <tr>\n",
       "      <th>17</th>\n",
       "      <td>T2_FansSent</td>\n",
       "      <td>-2.030077</td>\n",
       "    </tr>\n",
       "    <tr>\n",
       "      <th>18</th>\n",
       "      <td>T1_FansPred</td>\n",
       "      <td>0.188101</td>\n",
       "    </tr>\n",
       "    <tr>\n",
       "      <th>19</th>\n",
       "      <td>T2_FansPred</td>\n",
       "      <td>-0.029449</td>\n",
       "    </tr>\n",
       "    <tr>\n",
       "      <th>20</th>\n",
       "      <td>Venue_Africa</td>\n",
       "      <td>-0.044478</td>\n",
       "    </tr>\n",
       "    <tr>\n",
       "      <th>21</th>\n",
       "      <td>Venue_America</td>\n",
       "      <td>-0.034487</td>\n",
       "    </tr>\n",
       "    <tr>\n",
       "      <th>22</th>\n",
       "      <td>Venue_Asia</td>\n",
       "      <td>-0.036979</td>\n",
       "    </tr>\n",
       "    <tr>\n",
       "      <th>23</th>\n",
       "      <td>Venue_Europe</td>\n",
       "      <td>-0.108540</td>\n",
       "    </tr>\n",
       "    <tr>\n",
       "      <th>24</th>\n",
       "      <td>Venue_Oceania</td>\n",
       "      <td>0.182726</td>\n",
       "    </tr>\n",
       "  </tbody>\n",
       "</table>\n",
       "</div>"
      ],
      "text/plain": [
       "             Attribute  Importance \n",
       "0               T1_Mat     0.262501\n",
       "1     T1_AvgRunsScored    -0.773713\n",
       "2   T1_AvgRunsConceded    -0.399341\n",
       "3      T1_AvgWktsTaken     0.060636\n",
       "4       T1_AvgWktsLost    -0.794699\n",
       "5          T1_AvgBound     0.850841\n",
       "6               T1_W/L    -0.966027\n",
       "7               T2_Mat     0.057852\n",
       "8     T2_AvgRunsScored    -0.212831\n",
       "9   T2_AvgRunsConceded     0.291617\n",
       "10     T2_AvgWktsTaken    -0.155068\n",
       "11      T2_AvgWktsLost     0.178097\n",
       "12         T2_AvgBound    -0.469444\n",
       "13              T2_W/L     0.641426\n",
       "14       T1_TwitterVol    -1.377839\n",
       "15       T2_TwitterVol     1.288602\n",
       "16         T1_FansSent     1.389397\n",
       "17         T2_FansSent    -2.030077\n",
       "18         T1_FansPred     0.188101\n",
       "19         T2_FansPred    -0.029449\n",
       "20        Venue_Africa    -0.044478\n",
       "21       Venue_America    -0.034487\n",
       "22          Venue_Asia    -0.036979\n",
       "23        Venue_Europe    -0.108540\n",
       "24       Venue_Oceania     0.182726"
      ]
     },
     "execution_count": 22,
     "metadata": {},
     "output_type": "execute_result"
    }
   ],
   "source": [
    "#Important variables\n",
    "importances_rf = pd.DataFrame(data = {'Attribute': encoded_xtrain.columns, 'Importance ': importance })\n",
    "importances_rf"
   ]
  },
  {
   "cell_type": "code",
   "execution_count": 23,
   "id": "89e85c43",
   "metadata": {},
   "outputs": [
    {
     "data": {
      "image/png": "[encoded data removed]",
      "text/plain": [
       "<Figure size 1000x500 with 1 Axes>"
      ]
     },
     "metadata": {},
     "output_type": "display_data"
    }
   ],
   "source": [
    "#plot\n",
    "importances_rf = importances_rf.sort_values(by='Importance ', ascending = False)\n",
    "plt.figure(figsize=(10,5))\n",
    "plt.bar(x=importances_rf['Attribute'], height = importances_rf['Importance '], color = '#087E8B')\n",
    "plt.title('Feature Importance - SVM')\n",
    "plt.xticks(rotation='vertical')\n",
    "plt.show()"
   ]
  },
  {
   "cell_type": "code",
   "execution_count": 24,
   "id": "fcae9507",
   "metadata": {},
   "outputs": [
    {
     "data": {
      "text/html": [
       "<div>\n",
       "<style scoped>\n",
       "    .dataframe tbody tr th:only-of-type {\n",
       "        vertical-align: middle;\n",
       "    }\n",
       "\n",
       "    .dataframe tbody tr th {\n",
       "        vertical-align: top;\n",
       "    }\n",
       "\n",
       "    .dataframe thead th {\n",
       "        text-align: right;\n",
       "    }\n",
       "</style>\n",
       "<table border=\"1\" class=\"dataframe\">\n",
       "  <thead>\n",
       "    <tr style=\"text-align: right;\">\n",
       "      <th></th>\n",
       "      <th>Attribute</th>\n",
       "      <th>Importance-abs</th>\n",
       "    </tr>\n",
       "  </thead>\n",
       "  <tbody>\n",
       "    <tr>\n",
       "      <th>0</th>\n",
       "      <td>T1_Mat</td>\n",
       "      <td>0.262501</td>\n",
       "    </tr>\n",
       "    <tr>\n",
       "      <th>1</th>\n",
       "      <td>T1_AvgRunsScored</td>\n",
       "      <td>0.773713</td>\n",
       "    </tr>\n",
       "    <tr>\n",
       "      <th>2</th>\n",
       "      <td>T1_AvgRunsConceded</td>\n",
       "      <td>0.399341</td>\n",
       "    </tr>\n",
       "    <tr>\n",
       "      <th>3</th>\n",
       "      <td>T1_AvgWktsTaken</td>\n",
       "      <td>0.060636</td>\n",
       "    </tr>\n",
       "    <tr>\n",
       "      <th>4</th>\n",
       "      <td>T1_AvgWktsLost</td>\n",
       "      <td>0.794699</td>\n",
       "    </tr>\n",
       "    <tr>\n",
       "      <th>5</th>\n",
       "      <td>T1_AvgBound</td>\n",
       "      <td>0.850841</td>\n",
       "    </tr>\n",
       "    <tr>\n",
       "      <th>6</th>\n",
       "      <td>T1_W/L</td>\n",
       "      <td>0.966027</td>\n",
       "    </tr>\n",
       "    <tr>\n",
       "      <th>7</th>\n",
       "      <td>T2_Mat</td>\n",
       "      <td>0.057852</td>\n",
       "    </tr>\n",
       "    <tr>\n",
       "      <th>8</th>\n",
       "      <td>T2_AvgRunsScored</td>\n",
       "      <td>0.212831</td>\n",
       "    </tr>\n",
       "    <tr>\n",
       "      <th>9</th>\n",
       "      <td>T2_AvgRunsConceded</td>\n",
       "      <td>0.291617</td>\n",
       "    </tr>\n",
       "    <tr>\n",
       "      <th>10</th>\n",
       "      <td>T2_AvgWktsTaken</td>\n",
       "      <td>0.155068</td>\n",
       "    </tr>\n",
       "    <tr>\n",
       "      <th>11</th>\n",
       "      <td>T2_AvgWktsLost</td>\n",
       "      <td>0.178097</td>\n",
       "    </tr>\n",
       "    <tr>\n",
       "      <th>12</th>\n",
       "      <td>T2_AvgBound</td>\n",
       "      <td>0.469444</td>\n",
       "    </tr>\n",
       "    <tr>\n",
       "      <th>13</th>\n",
       "      <td>T2_W/L</td>\n",
       "      <td>0.641426</td>\n",
       "    </tr>\n",
       "    <tr>\n",
       "      <th>14</th>\n",
       "      <td>T1_TwitterVol</td>\n",
       "      <td>1.377839</td>\n",
       "    </tr>\n",
       "    <tr>\n",
       "      <th>15</th>\n",
       "      <td>T2_TwitterVol</td>\n",
       "      <td>1.288602</td>\n",
       "    </tr>\n",
       "    <tr>\n",
       "      <th>16</th>\n",
       "      <td>T1_FansSent</td>\n",
       "      <td>1.389397</td>\n",
       "    </tr>\n",
       "    <tr>\n",
       "      <th>17</th>\n",
       "      <td>T2_FansSent</td>\n",
       "      <td>2.030077</td>\n",
       "    </tr>\n",
       "    <tr>\n",
       "      <th>18</th>\n",
       "      <td>T1_FansPred</td>\n",
       "      <td>0.188101</td>\n",
       "    </tr>\n",
       "    <tr>\n",
       "      <th>19</th>\n",
       "      <td>T2_FansPred</td>\n",
       "      <td>0.029449</td>\n",
       "    </tr>\n",
       "    <tr>\n",
       "      <th>20</th>\n",
       "      <td>Venue_Africa</td>\n",
       "      <td>0.044478</td>\n",
       "    </tr>\n",
       "    <tr>\n",
       "      <th>21</th>\n",
       "      <td>Venue_America</td>\n",
       "      <td>0.034487</td>\n",
       "    </tr>\n",
       "    <tr>\n",
       "      <th>22</th>\n",
       "      <td>Venue_Asia</td>\n",
       "      <td>0.036979</td>\n",
       "    </tr>\n",
       "    <tr>\n",
       "      <th>23</th>\n",
       "      <td>Venue_Europe</td>\n",
       "      <td>0.108540</td>\n",
       "    </tr>\n",
       "    <tr>\n",
       "      <th>24</th>\n",
       "      <td>Venue_Oceania</td>\n",
       "      <td>0.182726</td>\n",
       "    </tr>\n",
       "  </tbody>\n",
       "</table>\n",
       "</div>"
      ],
      "text/plain": [
       "             Attribute  Importance-abs\n",
       "0               T1_Mat        0.262501\n",
       "1     T1_AvgRunsScored        0.773713\n",
       "2   T1_AvgRunsConceded        0.399341\n",
       "3      T1_AvgWktsTaken        0.060636\n",
       "4       T1_AvgWktsLost        0.794699\n",
       "5          T1_AvgBound        0.850841\n",
       "6               T1_W/L        0.966027\n",
       "7               T2_Mat        0.057852\n",
       "8     T2_AvgRunsScored        0.212831\n",
       "9   T2_AvgRunsConceded        0.291617\n",
       "10     T2_AvgWktsTaken        0.155068\n",
       "11      T2_AvgWktsLost        0.178097\n",
       "12         T2_AvgBound        0.469444\n",
       "13              T2_W/L        0.641426\n",
       "14       T1_TwitterVol        1.377839\n",
       "15       T2_TwitterVol        1.288602\n",
       "16         T1_FansSent        1.389397\n",
       "17         T2_FansSent        2.030077\n",
       "18         T1_FansPred        0.188101\n",
       "19         T2_FansPred        0.029449\n",
       "20        Venue_Africa        0.044478\n",
       "21       Venue_America        0.034487\n",
       "22          Venue_Asia        0.036979\n",
       "23        Venue_Europe        0.108540\n",
       "24       Venue_Oceania        0.182726"
      ]
     },
     "execution_count": 24,
     "metadata": {},
     "output_type": "execute_result"
    }
   ],
   "source": [
    "#Important variables\n",
    "importances_rf = pd.DataFrame(data = {'Attribute': encoded_xtrain.columns, 'Importance-abs': importance_abs })\n",
    "importances_rf"
   ]
  },
  {
   "cell_type": "code",
   "execution_count": 25,
   "id": "50edc027",
   "metadata": {},
   "outputs": [
    {
     "data": {
      "image/png": "[encoded data removed]",
      "text/plain": [
       "<Figure size 1000x500 with 1 Axes>"
      ]
     },
     "metadata": {},
     "output_type": "display_data"
    }
   ],
   "source": [
    "#plot\n",
    "importances_rf = importances_rf.sort_values(by='Importance-abs', ascending = False)\n",
    "plt.figure(figsize=(10,5))\n",
    "plt.bar(x=importances_rf['Attribute'], height = importances_rf['Importance-abs'], color = '#087E8B' )\n",
    "plt.title('Feature Importance - SVM')\n",
    "plt.xticks(rotation='vertical')\n",
    "plt.show()"
   ]
  },
  {
   "cell_type": "markdown",
   "id": "30af8438",
   "metadata": {},
   "source": [
    "## SVM - T2_Mat - T2_FansPred"
   ]
  },
  {
   "cell_type": "code",
   "execution_count": 29,
   "id": "3b36289b",
   "metadata": {},
   "outputs": [],
   "source": [
    "xtrain = train.drop(['Winner', 'ID',  \n",
    " 'T2_Mat',  'T2_FansPred'  ],axis=1) \n",
    "ytrain = train['Winner']\n",
    " \n",
    "xtest = test.drop(['Winner', 'ID',    \n",
    " 'T2_Mat',  'T2_FansPred'  ],axis=1)  \n",
    "ytest = test['Winner']\n",
    "\n",
    "# Converting categorical features using OneHotEncoding method\n",
    "encoded_xtrain = pd.get_dummies(data= xtrain, columns=[ 'Venue'])\n",
    "encoded_xtest = pd.get_dummies(data= xtest, columns=['Venue' ])\n",
    "\n",
    "st = StandardScaler()\n",
    "xtrain  = st.fit_transform(   encoded_xtrain)\n",
    "xtest = st.fit_transform(   encoded_xtest)\n",
    "\n",
    "sm = SMOTE(random_state=42)\n",
    "xtrain_sm, ytrain_sm = sm.fit_resample(  xtrain,ytrain) "
   ]
  },
  {
   "cell_type": "code",
   "execution_count": 30,
   "id": "0daffa6b",
   "metadata": {},
   "outputs": [
    {
     "name": "stdout",
     "output_type": "stream",
     "text": [
      "Fitting 30 folds for each of 1 candidates, totalling 30 fits\n"
     ]
    }
   ],
   "source": [
    "# define model\n",
    "model = SVC(random_state=42)\n",
    "\n",
    "# define grid search\n",
    "param_grid = [    \n",
    "{'kernel' : [ 'linear' ], #linear\n",
    "    'C': [100], #10,\n",
    "   'probability':[True]\n",
    " \n",
    " \n",
    " \n",
    "    }\n",
    "]\n",
    "\n",
    "cv = RepeatedStratifiedKFold(n_splits=10, n_repeats=3, random_state=1)\n",
    "grid_search = GridSearchCV(estimator=model, param_grid=param_grid, verbose=True, n_jobs=-1, cv=cv , scoring = 'f1', error_score=0)\n",
    "grid_result = grid_search.fit(xtrain_sm, ytrain_sm)"
   ]
  },
  {
   "cell_type": "code",
   "execution_count": 31,
   "id": "36f1174d",
   "metadata": {},
   "outputs": [
    {
     "data": {
      "text/plain": [
       "({'C': 100, 'kernel': 'linear', 'probability': True}, 0.6606894183718719)"
      ]
     },
     "execution_count": 31,
     "metadata": {},
     "output_type": "execute_result"
    }
   ],
   "source": [
    "grid_search.best_params_, grid_search.best_score_"
   ]
  },
  {
   "cell_type": "code",
   "execution_count": 32,
   "id": "e5f80ccf",
   "metadata": {},
   "outputs": [
    {
     "name": "stdout",
     "output_type": "stream",
     "text": [
      "\n",
      "classification report- SVM+ SMOTE -Train\n",
      "\n",
      "\n",
      "\n",
      "              precision    recall  f1-score   support\n",
      "\n",
      "           0       0.70      0.72      0.71       243\n",
      "           1       0.71      0.70      0.70       243\n",
      "\n",
      "    accuracy                           0.71       486\n",
      "   macro avg       0.71      0.71      0.71       486\n",
      "weighted avg       0.71      0.71      0.71       486\n",
      "\n",
      " ROC AUC =  70.6 %\n",
      " Precision =  71.0 %\n",
      " Recall =  69.5 %\n",
      " Accuracy =  70.6 %\n",
      " F1-Score =  70.3 %\n"
     ]
    },
    {
     "data": {
      "text/plain": [
       "array([[174,  69],\n",
       "       [ 74, 169]], dtype=int64)"
      ]
     },
     "execution_count": 32,
     "metadata": {},
     "output_type": "execute_result"
    }
   ],
   "source": [
    "# Predict the train data\n",
    "y_predicted = grid_search.predict(xtrain_sm)\n",
    "\n",
    "print('\\nclassification report- SVM+ SMOTE -Train')\n",
    "print('\\n\\n')\n",
    "print(classification_report(ytrain_sm, y_predicted)) \n",
    "print(' ROC AUC = ',str(round(roc_auc_score(ytrain_sm, y_predicted)*100,1)), '%')\n",
    "print(' Precision = ',str(round(precision_score(ytrain_sm, y_predicted)*100,1)), '%')\n",
    "print(' Recall = ',str(round(recall_score(ytrain_sm, y_predicted)*100,1)), '%')\n",
    "print(' Accuracy = ',str(round(accuracy_score(ytrain_sm, y_predicted)*100,1)), '%')\n",
    "print(' F1-Score = ',str(round(f1_score(ytrain_sm, y_predicted)*100,1)), '%')\n",
    "confusion_matrix(ytrain_sm, y_predicted)"
   ]
  },
  {
   "cell_type": "code",
   "execution_count": 33,
   "id": "30e6f405",
   "metadata": {},
   "outputs": [
    {
     "name": "stdout",
     "output_type": "stream",
     "text": [
      "\n",
      "classification report- SVM+ SMOTE -Test\n",
      "\n",
      "\n",
      "\n",
      "              precision    recall  f1-score   support\n",
      "\n",
      "           0       0.67      0.61      0.64        49\n",
      "           1       0.68      0.73      0.70        55\n",
      "\n",
      "    accuracy                           0.67       104\n",
      "   macro avg       0.67      0.67      0.67       104\n",
      "weighted avg       0.67      0.67      0.67       104\n",
      "\n",
      " ROC AUC =  67.0 %\n",
      " Precision =  67.8 %\n",
      " Recall =  72.7 %\n",
      " Accuracy =  67.3 %\n",
      " F1-Score =  70.2 %\n"
     ]
    },
    {
     "data": {
      "text/plain": [
       "array([[30, 19],\n",
       "       [15, 40]], dtype=int64)"
      ]
     },
     "execution_count": 33,
     "metadata": {},
     "output_type": "execute_result"
    }
   ],
   "source": [
    "# Predict the test data\n",
    "y_predicted = grid_search.predict(xtest)\n",
    "\n",
    "print('\\nclassification report- SVM+ SMOTE -Test')\n",
    "print('\\n\\n')\n",
    "print(classification_report(ytest, y_predicted))  \n",
    "print(' ROC AUC = ',str(round(roc_auc_score(ytest, y_predicted)*100,1)), '%')\n",
    "print(' Precision = ',str(round(precision_score(ytest, y_predicted)*100,1)), '%')\n",
    "print(' Recall = ',str(round(recall_score(ytest, y_predicted)*100,1)), '%')\n",
    "print(' Accuracy = ',str(round(accuracy_score(ytest, y_predicted)*100,1)), '%')\n",
    "print(' F1-Score = ',str(round(f1_score(ytest, y_predicted)*100,1)), '%')\n",
    "confusion_matrix(ytest, y_predicted)"
   ]
  },
  {
   "cell_type": "code",
   "execution_count": 34,
   "id": "24543d7a",
   "metadata": {},
   "outputs": [
    {
     "data": {
      "text/plain": [
       "array([[ 0.28733179, -0.93307326, -0.55315871,  0.03526347, -0.87302217,\n",
       "         1.10990184, -1.10280703, -0.02103441,  0.17689054, -0.32748365,\n",
       "         0.1160237 , -0.54576699,  0.59861487, -1.5642085 ,  1.04681054,\n",
       "         1.29829778, -2.13892711,  0.22480604, -0.04086955, -0.04387937,\n",
       "        -0.07576191, -0.06569437,  0.20653279]])"
      ]
     },
     "execution_count": 34,
     "metadata": {},
     "output_type": "execute_result"
    }
   ],
   "source": [
    "importance = grid_search.best_estimator_.coef_\n",
    "importance"
   ]
  },
  {
   "cell_type": "code",
   "execution_count": 38,
   "id": "242fc2ef",
   "metadata": {},
   "outputs": [],
   "source": [
    "importance =  [ 0.28733179, -0.93307326, -0.55315871,  0.03526347, -0.87302217,\n",
    "         1.10990184, -1.10280703, -0.02103441,  0.17689054, -0.32748365,\n",
    "         0.1160237 , -0.54576699,  0.59861487, -1.5642085 ,  1.04681054,\n",
    "         1.29829778, -2.13892711,  0.22480604, -0.04086955, -0.04387937,\n",
    "        -0.07576191, -0.06569437,  0.20653279]\n",
    "importance_abs = [abs(i) for i in importance]"
   ]
  },
  {
   "cell_type": "code",
   "execution_count": 39,
   "id": "08d99bbb",
   "metadata": {},
   "outputs": [
    {
     "data": {
      "text/html": [
       "<div>\n",
       "<style scoped>\n",
       "    .dataframe tbody tr th:only-of-type {\n",
       "        vertical-align: middle;\n",
       "    }\n",
       "\n",
       "    .dataframe tbody tr th {\n",
       "        vertical-align: top;\n",
       "    }\n",
       "\n",
       "    .dataframe thead th {\n",
       "        text-align: right;\n",
       "    }\n",
       "</style>\n",
       "<table border=\"1\" class=\"dataframe\">\n",
       "  <thead>\n",
       "    <tr style=\"text-align: right;\">\n",
       "      <th></th>\n",
       "      <th>Attribute</th>\n",
       "      <th>Importance-abs</th>\n",
       "    </tr>\n",
       "  </thead>\n",
       "  <tbody>\n",
       "    <tr>\n",
       "      <th>0</th>\n",
       "      <td>T1_Mat</td>\n",
       "      <td>0.287332</td>\n",
       "    </tr>\n",
       "    <tr>\n",
       "      <th>1</th>\n",
       "      <td>T1_AvgRunsScored</td>\n",
       "      <td>0.933073</td>\n",
       "    </tr>\n",
       "    <tr>\n",
       "      <th>2</th>\n",
       "      <td>T1_AvgRunsConceded</td>\n",
       "      <td>0.553159</td>\n",
       "    </tr>\n",
       "    <tr>\n",
       "      <th>3</th>\n",
       "      <td>T1_AvgWktsTaken</td>\n",
       "      <td>0.035263</td>\n",
       "    </tr>\n",
       "    <tr>\n",
       "      <th>4</th>\n",
       "      <td>T1_AvgWktsLost</td>\n",
       "      <td>0.873022</td>\n",
       "    </tr>\n",
       "    <tr>\n",
       "      <th>5</th>\n",
       "      <td>T1_AvgBound</td>\n",
       "      <td>1.109902</td>\n",
       "    </tr>\n",
       "    <tr>\n",
       "      <th>6</th>\n",
       "      <td>T1_W/L</td>\n",
       "      <td>1.102807</td>\n",
       "    </tr>\n",
       "    <tr>\n",
       "      <th>7</th>\n",
       "      <td>T2_AvgRunsScored</td>\n",
       "      <td>0.021034</td>\n",
       "    </tr>\n",
       "    <tr>\n",
       "      <th>8</th>\n",
       "      <td>T2_AvgRunsConceded</td>\n",
       "      <td>0.176891</td>\n",
       "    </tr>\n",
       "    <tr>\n",
       "      <th>9</th>\n",
       "      <td>T2_AvgWktsTaken</td>\n",
       "      <td>0.327484</td>\n",
       "    </tr>\n",
       "    <tr>\n",
       "      <th>10</th>\n",
       "      <td>T2_AvgWktsLost</td>\n",
       "      <td>0.116024</td>\n",
       "    </tr>\n",
       "    <tr>\n",
       "      <th>11</th>\n",
       "      <td>T2_AvgBound</td>\n",
       "      <td>0.545767</td>\n",
       "    </tr>\n",
       "    <tr>\n",
       "      <th>12</th>\n",
       "      <td>T2_W/L</td>\n",
       "      <td>0.598615</td>\n",
       "    </tr>\n",
       "    <tr>\n",
       "      <th>13</th>\n",
       "      <td>T1_TwitterVol</td>\n",
       "      <td>1.564208</td>\n",
       "    </tr>\n",
       "    <tr>\n",
       "      <th>14</th>\n",
       "      <td>T2_TwitterVol</td>\n",
       "      <td>1.046811</td>\n",
       "    </tr>\n",
       "    <tr>\n",
       "      <th>15</th>\n",
       "      <td>T1_FansSent</td>\n",
       "      <td>1.298298</td>\n",
       "    </tr>\n",
       "    <tr>\n",
       "      <th>16</th>\n",
       "      <td>T2_FansSent</td>\n",
       "      <td>2.138927</td>\n",
       "    </tr>\n",
       "    <tr>\n",
       "      <th>17</th>\n",
       "      <td>T1_FansPred</td>\n",
       "      <td>0.224806</td>\n",
       "    </tr>\n",
       "    <tr>\n",
       "      <th>18</th>\n",
       "      <td>Venue_Africa</td>\n",
       "      <td>0.040870</td>\n",
       "    </tr>\n",
       "    <tr>\n",
       "      <th>19</th>\n",
       "      <td>Venue_America</td>\n",
       "      <td>0.043879</td>\n",
       "    </tr>\n",
       "    <tr>\n",
       "      <th>20</th>\n",
       "      <td>Venue_Asia</td>\n",
       "      <td>0.075762</td>\n",
       "    </tr>\n",
       "    <tr>\n",
       "      <th>21</th>\n",
       "      <td>Venue_Europe</td>\n",
       "      <td>0.065694</td>\n",
       "    </tr>\n",
       "    <tr>\n",
       "      <th>22</th>\n",
       "      <td>Venue_Oceania</td>\n",
       "      <td>0.206533</td>\n",
       "    </tr>\n",
       "  </tbody>\n",
       "</table>\n",
       "</div>"
      ],
      "text/plain": [
       "             Attribute  Importance-abs\n",
       "0               T1_Mat        0.287332\n",
       "1     T1_AvgRunsScored        0.933073\n",
       "2   T1_AvgRunsConceded        0.553159\n",
       "3      T1_AvgWktsTaken        0.035263\n",
       "4       T1_AvgWktsLost        0.873022\n",
       "5          T1_AvgBound        1.109902\n",
       "6               T1_W/L        1.102807\n",
       "7     T2_AvgRunsScored        0.021034\n",
       "8   T2_AvgRunsConceded        0.176891\n",
       "9      T2_AvgWktsTaken        0.327484\n",
       "10      T2_AvgWktsLost        0.116024\n",
       "11         T2_AvgBound        0.545767\n",
       "12              T2_W/L        0.598615\n",
       "13       T1_TwitterVol        1.564208\n",
       "14       T2_TwitterVol        1.046811\n",
       "15         T1_FansSent        1.298298\n",
       "16         T2_FansSent        2.138927\n",
       "17         T1_FansPred        0.224806\n",
       "18        Venue_Africa        0.040870\n",
       "19       Venue_America        0.043879\n",
       "20          Venue_Asia        0.075762\n",
       "21        Venue_Europe        0.065694\n",
       "22       Venue_Oceania        0.206533"
      ]
     },
     "execution_count": 39,
     "metadata": {},
     "output_type": "execute_result"
    }
   ],
   "source": [
    "#Important variables\n",
    "importances_rf = pd.DataFrame(data = {'Attribute': encoded_xtrain.columns, 'Importance-abs': importance_abs })\n",
    "importances_rf"
   ]
  },
  {
   "cell_type": "code",
   "execution_count": 40,
   "id": "9bc07bb7",
   "metadata": {},
   "outputs": [
    {
     "data": {
      "image/png": "[encoded data removed]",
      "text/plain": [
       "<Figure size 1000x500 with 1 Axes>"
      ]
     },
     "metadata": {},
     "output_type": "display_data"
    }
   ],
   "source": [
    "#plot\n",
    "importances_rf = importances_rf.sort_values(by='Importance-abs', ascending = False)\n",
    "plt.figure(figsize=(10,5))\n",
    "plt.bar(x=importances_rf['Attribute'], height = importances_rf['Importance-abs'], color = '#087E8B' )\n",
    "plt.title('Feature Importance - SVM')\n",
    "plt.xticks(rotation='vertical')\n",
    "plt.show()"
   ]
  },
  {
   "cell_type": "code",
   "execution_count": 705,
   "id": "d2d6ad6c",
   "metadata": {},
   "outputs": [],
   "source": [
    "# filename = 'SVM+SMOTE.pkl'\n",
    "# pickle.dump(grid_search, open(filename, 'wb'))"
   ]
  },
  {
   "cell_type": "markdown",
   "id": "27d503d3",
   "metadata": {},
   "source": [
    "## KNN"
   ]
  },
  {
   "cell_type": "code",
   "execution_count": 12,
   "id": "db7a27a3",
   "metadata": {},
   "outputs": [],
   "source": [
    "from sklearn.neighbors import KNeighborsClassifier # The k-nearest neighbor classifier\n",
    "from sklearn.feature_selection import VarianceThreshold # Feature selector\n",
    "from sklearn.pipeline import Pipeline # For setting up pipeline\n",
    "# Various pre-processing steps\n",
    "from sklearn.preprocessing import Normalizer, StandardScaler, MinMaxScaler, PowerTransformer, MaxAbsScaler, LabelEncoder\n",
    "from sklearn.model_selection import GridSearchCV # For optimization"
   ]
  },
  {
   "cell_type": "code",
   "execution_count": 13,
   "id": "96a48952",
   "metadata": {},
   "outputs": [],
   "source": [
    "pipe = Pipeline([\n",
    "('classifier', KNeighborsClassifier())\n",
    "])"
   ]
  },
  {
   "cell_type": "code",
   "execution_count": 128,
   "id": "a3a4ffa1",
   "metadata": {},
   "outputs": [],
   "source": [
    "parameters = { \n",
    " 'classifier__n_neighbors': [ 45],\n",
    " 'classifier__p': [1, 2],\n",
    " 'classifier__leaf_size':   [1, 5, 10, 15],\n",
    " 'classifier__weights': ['uniform'  ],\n",
    " 'classifier__metric' : [ 'manhattan', 'minkowski', 'euclidean']\n",
    "}"
   ]
  },
  {
   "cell_type": "code",
   "execution_count": 129,
   "id": "a308abaa",
   "metadata": {},
   "outputs": [
    {
     "name": "stdout",
     "output_type": "stream",
     "text": [
      "Fitting 30 folds for each of 24 candidates, totalling 720 fits\n"
     ]
    }
   ],
   "source": [
    "cv = RepeatedStratifiedKFold(n_splits=10, n_repeats=3, random_state=1)\n",
    "grid = GridSearchCV(pipe, parameters,verbose=True, n_jobs=-1, cv=cv , scoring = 'f1', error_score=0).fit(xtrain_sm  , ytrain_sm  )"
   ]
  },
  {
   "cell_type": "code",
   "execution_count": 130,
   "id": "b14ff294",
   "metadata": {},
   "outputs": [
    {
     "data": {
      "text/plain": [
       "({'classifier__leaf_size': 1,\n",
       "  'classifier__metric': 'manhattan',\n",
       "  'classifier__n_neighbors': 45,\n",
       "  'classifier__p': 1,\n",
       "  'classifier__weights': 'uniform'},\n",
       " 0.6245363889454479)"
      ]
     },
     "execution_count": 130,
     "metadata": {},
     "output_type": "execute_result"
    }
   ],
   "source": [
    "grid.best_params_, grid.best_score_"
   ]
  },
  {
   "cell_type": "code",
   "execution_count": 131,
   "id": "08004ca7",
   "metadata": {},
   "outputs": [
    {
     "name": "stdout",
     "output_type": "stream",
     "text": [
      "\n",
      "classification report -  RF+ SMOTE -Train\n",
      "\n",
      "\n",
      "\n",
      "              precision    recall  f1-score   support\n",
      "\n",
      "           0       0.63      0.63      0.63       243\n",
      "           1       0.63      0.64      0.64       243\n",
      "\n",
      "    accuracy                           0.63       486\n",
      "   macro avg       0.63      0.63      0.63       486\n",
      "weighted avg       0.63      0.63      0.63       486\n",
      "\n",
      " ROC AUC =  63.4 %\n",
      " Precision =  63.3 %\n",
      " Recall =  63.8 %\n",
      " Accuracy =  63.4 %\n",
      " F1-Score =  63.5 %\n"
     ]
    },
    {
     "data": {
      "text/plain": [
       "array([[153,  90],\n",
       "       [ 88, 155]], dtype=int64)"
      ]
     },
     "execution_count": 131,
     "metadata": {},
     "output_type": "execute_result"
    }
   ],
   "source": [
    "y_predicted = grid.predict(xtrain_sm)\n",
    "\n",
    "print('\\nclassification report -  RF+ SMOTE -Train')\n",
    "print('\\n\\n')\n",
    "print(classification_report(ytrain_sm, y_predicted)) # generate the precision, recall, f-1 score, num\n",
    "print(' ROC AUC = ',str(round(roc_auc_score(ytrain_sm, y_predicted)*100,1)), '%')\n",
    "print(' Precision = ',str(round(precision_score(ytrain_sm, y_predicted)*100,1)), '%')\n",
    "print(' Recall = ',str(round(recall_score(ytrain_sm, y_predicted)*100,1)), '%')\n",
    "print(' Accuracy = ',str(round(accuracy_score(ytrain_sm, y_predicted)*100,1)), '%')\n",
    "print(' F1-Score = ',str(round(f1_score(ytrain_sm, y_predicted)*100,1)), '%')\n",
    "confusion_matrix(ytrain_sm, y_predicted)"
   ]
  },
  {
   "cell_type": "code",
   "execution_count": 132,
   "id": "8c7d4a3f",
   "metadata": {},
   "outputs": [
    {
     "name": "stdout",
     "output_type": "stream",
     "text": [
      "\n",
      "classification report- RF+ SMOTE -Test\n",
      "\n",
      "\n",
      "\n",
      "              precision    recall  f1-score   support\n",
      "\n",
      "           0       0.60      0.69      0.64        49\n",
      "           1       0.68      0.58      0.63        55\n",
      "\n",
      "    accuracy                           0.63       104\n",
      "   macro avg       0.64      0.64      0.63       104\n",
      "weighted avg       0.64      0.63      0.63       104\n",
      "\n",
      "Random Forest: ROC AUC =  63.8 %\n",
      "Random Forest: Precision =  68.1 %\n",
      "Random Forest: Recall =  58.2 %\n",
      "Random Forest: Accuracy =  63.5 %\n",
      "Random Forest: F1-Score =  62.7 %\n"
     ]
    },
    {
     "data": {
      "text/plain": [
       "array([[34, 15],\n",
       "       [23, 32]], dtype=int64)"
      ]
     },
     "execution_count": 132,
     "metadata": {},
     "output_type": "execute_result"
    }
   ],
   "source": [
    "# Predict the test data\n",
    "y_predicted = grid.predict(xtest)\n",
    "\n",
    "print('\\nclassification report- RF+ SMOTE -Test')\n",
    "print('\\n\\n')\n",
    "print(classification_report(ytest, y_predicted)) # generate the precision, recall, f-1 score, num\n",
    "print('Random Forest: ROC AUC = ',str(round(roc_auc_score(ytest, y_predicted)*100,1)), '%')\n",
    "print('Random Forest: Precision = ',str(round(precision_score(ytest, y_predicted)*100,1)), '%')\n",
    "print('Random Forest: Recall = ',str(round(recall_score(ytest, y_predicted)*100,1)), '%')\n",
    "print('Random Forest: Accuracy = ',str(round(accuracy_score(ytest, y_predicted)*100,1)), '%')\n",
    "print('Random Forest: F1-Score = ',str(round(f1_score(ytest, y_predicted)*100,1)), '%')\n",
    "confusion_matrix(ytest, y_predicted)"
   ]
  },
  {
   "cell_type": "markdown",
   "id": "6c5a0ecb",
   "metadata": {},
   "source": [
    "## GNB"
   ]
  },
  {
   "cell_type": "code",
   "execution_count": 84,
   "id": "14ea3aa0",
   "metadata": {},
   "outputs": [],
   "source": [
    "import random\n",
    "\n",
    "def set_random_seed(seed=100):\n",
    "  np.random.seed(seed)\n",
    "  random.seed(seed)\n",
    "    \n",
    "set_random_seed(100)"
   ]
  },
  {
   "cell_type": "code",
   "execution_count": 125,
   "id": "1c5da799",
   "metadata": {},
   "outputs": [
    {
     "data": {
      "text/plain": [
       "GaussianNB(var_smoothing=1.0)"
      ]
     },
     "execution_count": 125,
     "metadata": {},
     "output_type": "execute_result"
    }
   ],
   "source": [
    "from sklearn.naive_bayes import GaussianNB\n",
    "\n",
    "gnb_clf_hyp = GaussianNB(var_smoothing=10e-1 ) \n",
    "gnb_clf_hyp.fit(xtrain_sm, ytrain_sm)"
   ]
  },
  {
   "cell_type": "code",
   "execution_count": 126,
   "id": "ba95f498",
   "metadata": {},
   "outputs": [
    {
     "name": "stdout",
     "output_type": "stream",
     "text": [
      "\n",
      "classification report -  RF+ SMOTE -Train\n",
      "\n",
      "\n",
      "\n",
      "              precision    recall  f1-score   support\n",
      "\n",
      "           0       0.66      0.60      0.63       243\n",
      "           1       0.63      0.69      0.66       243\n",
      "\n",
      "    accuracy                           0.64       486\n",
      "   macro avg       0.65      0.64      0.64       486\n",
      "weighted avg       0.65      0.64      0.64       486\n",
      "\n",
      " ROC AUC =  64.4 %\n",
      " Precision =  63.2 %\n",
      " Recall =  69.1 %\n",
      " Accuracy =  64.4 %\n",
      " F1-Score =  66.0 %\n"
     ]
    },
    {
     "data": {
      "text/plain": [
       "array([[145,  98],\n",
       "       [ 75, 168]], dtype=int64)"
      ]
     },
     "execution_count": 126,
     "metadata": {},
     "output_type": "execute_result"
    }
   ],
   "source": [
    "y_predicted = gnb_clf_hyp.predict(xtrain_sm)\n",
    "\n",
    "print('\\nclassification report -  RF+ SMOTE -Train')\n",
    "print('\\n\\n')\n",
    "print(classification_report(ytrain_sm, y_predicted)) # generate the precision, recall, f-1 score, num\n",
    "print(' ROC AUC = ',str(round(roc_auc_score(ytrain_sm, y_predicted)*100,1)), '%')\n",
    "print(' Precision = ',str(round(precision_score(ytrain_sm, y_predicted)*100,1)), '%')\n",
    "print(' Recall = ',str(round(recall_score(ytrain_sm, y_predicted)*100,1)), '%')\n",
    "print(' Accuracy = ',str(round(accuracy_score(ytrain_sm, y_predicted)*100,1)), '%')\n",
    "print(' F1-Score = ',str(round(f1_score(ytrain_sm, y_predicted)*100,1)), '%')\n",
    "confusion_matrix(ytrain_sm, y_predicted)"
   ]
  },
  {
   "cell_type": "code",
   "execution_count": 127,
   "id": "f24551b8",
   "metadata": {},
   "outputs": [
    {
     "name": "stdout",
     "output_type": "stream",
     "text": [
      "\n",
      "classification report- RF+ SMOTE -Test\n",
      "\n",
      "\n",
      "\n",
      "              precision    recall  f1-score   support\n",
      "\n",
      "           0       0.63      0.59      0.61        49\n",
      "           1       0.66      0.69      0.67        55\n",
      "\n",
      "    accuracy                           0.64       104\n",
      "   macro avg       0.64      0.64      0.64       104\n",
      "weighted avg       0.64      0.64      0.64       104\n",
      "\n",
      "Random Forest: ROC AUC =  64.1 %\n",
      "Random Forest: Precision =  65.5 %\n",
      "Random Forest: Recall =  69.1 %\n",
      "Random Forest: Accuracy =  64.4 %\n",
      "Random Forest: F1-Score =  67.3 %\n"
     ]
    },
    {
     "data": {
      "text/plain": [
       "array([[29, 20],\n",
       "       [17, 38]], dtype=int64)"
      ]
     },
     "execution_count": 127,
     "metadata": {},
     "output_type": "execute_result"
    }
   ],
   "source": [
    "# Predict the test data\n",
    "y_predicted = gnb_clf_hyp.predict(xtest)\n",
    "\n",
    "print('\\nclassification report- RF+ SMOTE -Test')\n",
    "print('\\n\\n')\n",
    "print(classification_report(ytest, y_predicted)) # generate the precision, recall, f-1 score, num\n",
    "print('Random Forest: ROC AUC = ',str(round(roc_auc_score(ytest, y_predicted)*100,1)), '%')\n",
    "print('Random Forest: Precision = ',str(round(precision_score(ytest, y_predicted)*100,1)), '%')\n",
    "print('Random Forest: Recall = ',str(round(recall_score(ytest, y_predicted)*100,1)), '%')\n",
    "print('Random Forest: Accuracy = ',str(round(accuracy_score(ytest, y_predicted)*100,1)), '%')\n",
    "print('Random Forest: F1-Score = ',str(round(f1_score(ytest, y_predicted)*100,1)), '%')\n",
    "confusion_matrix(ytest, y_predicted)"
   ]
  },
  {
   "cell_type": "markdown",
   "id": "0b95de0f",
   "metadata": {},
   "source": [
    "## Random Forest"
   ]
  },
  {
   "cell_type": "markdown",
   "id": "61ff338c",
   "metadata": {},
   "source": [
    "## random forest - with hyperparameter tuning"
   ]
  },
  {
   "cell_type": "code",
   "execution_count": 13,
   "id": "33b022ee",
   "metadata": {},
   "outputs": [],
   "source": [
    "from numpy import mean\n",
    "from numpy import std\n",
    "from numpy import arange\n",
    "from sklearn.datasets import make_classification\n",
    "from sklearn.model_selection import cross_val_score\n",
    "from sklearn.model_selection import RepeatedStratifiedKFold\n",
    "from sklearn.ensemble import RandomForestClassifier\n",
    "from matplotlib import pyplot\n",
    "from sklearn.model_selection import GridSearchCV  "
   ]
  },
  {
   "cell_type": "code",
   "execution_count": 655,
   "id": "a989a479",
   "metadata": {},
   "outputs": [],
   "source": [
    "# define models and parameters\n",
    "model = RandomForestClassifier(random_state=42)\n",
    "param_grid = [    \n",
    "    {'n_estimators' : [2000],\n",
    "    'criterion': [ 'gini'], #gini\n",
    "    'max_features':['sqrt'], #0.2\n",
    "     'min_samples_leaf': [  120  ], #120\n",
    "     'oob_score':[True],\n",
    "     'min_samples_split':[6] #6\n",
    "    }\n",
    "]\n",
    "cv = RepeatedStratifiedKFold(n_splits=10, n_repeats=3, random_state=1)\n",
    "grid_search = GridSearchCV(estimator=model, param_grid= param_grid, n_jobs=-1,  cv=cv, scoring='f1',error_score='raise')\n",
    "grid_result = grid_search.fit(xtrain_sm, ytrain_sm)"
   ]
  },
  {
   "cell_type": "code",
   "execution_count": 656,
   "id": "5bdeaa8c",
   "metadata": {},
   "outputs": [
    {
     "data": {
      "text/plain": [
       "RandomForestClassifier(max_features='sqrt', min_samples_leaf=120,\n",
       "                       min_samples_split=6, n_estimators=2000, oob_score=True,\n",
       "                       random_state=42)"
      ]
     },
     "execution_count": 656,
     "metadata": {},
     "output_type": "execute_result"
    }
   ],
   "source": [
    "grid_search.best_estimator_"
   ]
  },
  {
   "cell_type": "code",
   "execution_count": 657,
   "id": "26ce6af9",
   "metadata": {},
   "outputs": [
    {
     "data": {
      "text/plain": [
       "({'criterion': 'gini',\n",
       "  'max_features': 'sqrt',\n",
       "  'min_samples_leaf': 120,\n",
       "  'min_samples_split': 6,\n",
       "  'n_estimators': 2000,\n",
       "  'oob_score': True},\n",
       " 0.6452997193284952)"
      ]
     },
     "execution_count": 657,
     "metadata": {},
     "output_type": "execute_result"
    }
   ],
   "source": [
    "grid_search.best_params_, grid_search.best_score_"
   ]
  },
  {
   "cell_type": "code",
   "execution_count": 659,
   "id": "2a7db0a8",
   "metadata": {},
   "outputs": [
    {
     "name": "stdout",
     "output_type": "stream",
     "text": [
      "\n",
      "classification report -  RF+ SMOTE -Train\n",
      "\n",
      "\n",
      "\n",
      "              precision    recall  f1-score   support\n",
      "\n",
      "           0       0.67      0.63      0.65       243\n",
      "           1       0.65      0.68      0.67       243\n",
      "\n",
      "    accuracy                           0.66       486\n",
      "   macro avg       0.66      0.66      0.66       486\n",
      "weighted avg       0.66      0.66      0.66       486\n",
      "\n",
      " ROC AUC =  65.8 %\n",
      " Precision =  65.1 %\n",
      " Recall =  68.3 %\n",
      " Accuracy =  65.8 %\n",
      " F1-Score =  66.7 %\n"
     ]
    },
    {
     "data": {
      "text/plain": [
       "array([[154,  89],\n",
       "       [ 77, 166]], dtype=int64)"
      ]
     },
     "execution_count": 659,
     "metadata": {},
     "output_type": "execute_result"
    }
   ],
   "source": [
    "y_predicted = grid_search.predict(xtrain_sm)\n",
    "\n",
    "print('\\nclassification report -  RF+ SMOTE -Train')\n",
    "print('\\n\\n')\n",
    "print(classification_report(ytrain_sm, y_predicted)) # generate the precision, recall, f-1 score, num\n",
    "print(' ROC AUC = ',str(round(roc_auc_score(ytrain_sm, y_predicted)*100,1)), '%')\n",
    "print(' Precision = ',str(round(precision_score(ytrain_sm, y_predicted)*100,1)), '%')\n",
    "print(' Recall = ',str(round(recall_score(ytrain_sm, y_predicted)*100,1)), '%')\n",
    "print(' Accuracy = ',str(round(accuracy_score(ytrain_sm, y_predicted)*100,1)), '%')\n",
    "print(' F1-Score = ',str(round(f1_score(ytrain_sm, y_predicted)*100,1)), '%')\n",
    "confusion_matrix(ytrain_sm, y_predicted)"
   ]
  },
  {
   "cell_type": "code",
   "execution_count": 660,
   "id": "6040f649",
   "metadata": {},
   "outputs": [
    {
     "name": "stdout",
     "output_type": "stream",
     "text": [
      "\n",
      "classification report- RF+ SMOTE -Test\n",
      "\n",
      "\n",
      "\n",
      "              precision    recall  f1-score   support\n",
      "\n",
      "           0       0.62      0.67      0.65        49\n",
      "           1       0.69      0.64      0.66        55\n",
      "\n",
      "    accuracy                           0.65       104\n",
      "   macro avg       0.65      0.65      0.65       104\n",
      "weighted avg       0.66      0.65      0.65       104\n",
      "\n",
      "Random Forest: ROC AUC =  65.5 %\n",
      "Random Forest: Precision =  68.6 %\n",
      "Random Forest: Recall =  63.6 %\n",
      "Random Forest: Accuracy =  65.4 %\n",
      "Random Forest: F1-Score =  66.0 %\n"
     ]
    },
    {
     "data": {
      "text/plain": [
       "array([[33, 16],\n",
       "       [20, 35]], dtype=int64)"
      ]
     },
     "execution_count": 660,
     "metadata": {},
     "output_type": "execute_result"
    }
   ],
   "source": [
    "# Predict the test data\n",
    "y_predicted = grid_search.predict(xtest)\n",
    "\n",
    "print('\\nclassification report- RF+ SMOTE -Test')\n",
    "print('\\n\\n')\n",
    "print(classification_report(ytest, y_predicted)) # generate the precision, recall, f-1 score, num\n",
    "print('Random Forest: ROC AUC = ',str(round(roc_auc_score(ytest, y_predicted)*100,1)), '%')\n",
    "print('Random Forest: Precision = ',str(round(precision_score(ytest, y_predicted)*100,1)), '%')\n",
    "print('Random Forest: Recall = ',str(round(recall_score(ytest, y_predicted)*100,1)), '%')\n",
    "print('Random Forest: Accuracy = ',str(round(accuracy_score(ytest, y_predicted)*100,1)), '%')\n",
    "print('Random Forest: F1-Score = ',str(round(f1_score(ytest, y_predicted)*100,1)), '%')\n",
    "confusion_matrix(ytest, y_predicted)"
   ]
  },
  {
   "cell_type": "code",
   "execution_count": 438,
   "id": "bc39bd61",
   "metadata": {},
   "outputs": [],
   "source": [
    "# filename = 'RF+SMOTE.pkl'\n",
    "# pickle.dump(grid_search, open(filename, 'wb'))"
   ]
  },
  {
   "cell_type": "code",
   "execution_count": 661,
   "id": "6cd3bf8c",
   "metadata": {},
   "outputs": [
    {
     "data": {
      "image/png": "[encoded data removed]",
      "text/plain": [
       "<Figure size 1000x500 with 1 Axes>"
      ]
     },
     "metadata": {},
     "output_type": "display_data"
    }
   ],
   "source": [
    "# get importance\n",
    "importance = grid_search.best_estimator_.feature_importances_\n",
    "#Important variables\n",
    "importances_rf = pd.DataFrame(data = {'Attribute': encoded_xtrain.columns, 'Importance': grid_search.best_estimator_.feature_importances_})\n",
    "importances_rf = importances_rf.sort_values(by='Importance', ascending = False)\n",
    "#plot\n",
    "plt.figure(figsize=(10,5))\n",
    "plt.bar(x=importances_rf['Attribute'], height = importances_rf['Importance'], color = '#087E8B')\n",
    "plt.title('Feature Importance - RF')\n",
    "plt.xticks(rotation='vertical')\n",
    "plt.show()"
   ]
  },
  {
   "cell_type": "code",
   "execution_count": 665,
   "id": "20b1d3b1",
   "metadata": {},
   "outputs": [
    {
     "data": {
      "text/plain": [
       "['T1_AvgRunsScored/Over',\n",
       " 'T2_Bound',\n",
       " 'T1_Avg_Wkts_Taken',\n",
       " 'T1_W/L',\n",
       " 'Venue_Asia',\n",
       " 'T1_Avg_Wkts_Lost',\n",
       " 'Venue_Africa',\n",
       " 'Venue_America',\n",
       " 'Venue_Europe',\n",
       " 'Venue_Oceania']"
      ]
     },
     "execution_count": 665,
     "metadata": {},
     "output_type": "execute_result"
    }
   ],
   "source": [
    "list(importances_rf['Attribute'])[-10:]"
   ]
  },
  {
   "cell_type": "code",
   "execution_count": null,
   "id": "72d51d2b",
   "metadata": {},
   "outputs": [],
   "source": [
    "# Venue, T1_Avg_Wkts_Taken, T1_Avg_Wkts_Lost, T1_W/L, T1_AvgRunsScored/Over, T2_Bound, T_Bound, T2_Mat, T1_Mat \n",
    "# T1_AvgRunsConceded/Over"
   ]
  },
  {
   "cell_type": "markdown",
   "id": "17cce1d2",
   "metadata": {},
   "source": [
    "## BOOSTING"
   ]
  },
  {
   "cell_type": "markdown",
   "id": "35d6eb18",
   "metadata": {},
   "source": [
    "## Gradient Boosting With XGBoost"
   ]
  },
  {
   "cell_type": "code",
   "execution_count": 383,
   "id": "71a7aae3",
   "metadata": {},
   "outputs": [],
   "source": [
    "import xgboost as xgb"
   ]
  },
  {
   "cell_type": "code",
   "execution_count": 98,
   "id": "aa20545e",
   "metadata": {},
   "outputs": [],
   "source": [
    "# {'learning_rate' :[1e-8],# 8\n",
    "#     'n_estimators':[2000],\n",
    "#  'max_depth':[ 2 ], #3 #4 #8\n",
    "#  'min_child_weight':[ 10 ], #10\n",
    "#  'gamma':[0],\n",
    "#  'subsample':[    0.2], #0.2\n",
    "#  'colsample_bytree':[ 0.85 ], #0.85\n",
    "#  'objective': ['binary:logistic'],\n",
    "#  'nthread':[4],\n",
    "#  'scale_pos_weight':[1],\n",
    "#  'reg_alpha':[1e-5 ]\n",
    "#     }"
   ]
  },
  {
   "cell_type": "code",
   "execution_count": 666,
   "id": "d230dc5d",
   "metadata": {},
   "outputs": [],
   "source": [
    "model = xgb.XGBClassifier(seed = 42)\n",
    "param_grid = [    \n",
    "    {'learning_rate' :[1e-8],# 8 #6\n",
    "    'n_estimators':[2000],\n",
    " 'max_depth':[  2 ], # 2#3 #4 #8\n",
    " 'min_child_weight':[7], #10 #7\n",
    " 'gamma':[0],\n",
    " 'subsample':[0.15 ], #0.2 #0.15\n",
    " 'colsample_bytree':[   0.85 ], #0.85\n",
    " 'objective': ['binary:logistic'],\n",
    " 'nthread':[4],\n",
    " 'scale_pos_weight':[1],\n",
    " 'reg_alpha':[1e-5 ]\n",
    "    }\n",
    "]\n",
    "cv = RepeatedStratifiedKFold(n_splits=10, n_repeats=3, random_state=1)\n",
    "grid_search = GridSearchCV(estimator=model, param_grid= param_grid,  cv=cv, n_jobs = -1, scoring='f1',error_score='raise', verbose=0 )\n",
    "grid_result = grid_search.fit(xtrain_sm, ytrain_sm)\n",
    "#,colsample_bytree':[ 0.1, 0.2 ]"
   ]
  },
  {
   "cell_type": "code",
   "execution_count": 667,
   "id": "a60d87b5",
   "metadata": {
    "scrolled": true
   },
   "outputs": [
    {
     "data": {
      "text/plain": [
       "XGBClassifier(base_score=0.5, booster='gbtree', callbacks=None,\n",
       "              colsample_bylevel=1, colsample_bynode=1, colsample_bytree=0.85,\n",
       "              early_stopping_rounds=None, enable_categorical=False,\n",
       "              eval_metric=None, feature_types=None, gamma=0, gpu_id=-1,\n",
       "              grow_policy='depthwise', importance_type=None,\n",
       "              interaction_constraints='', learning_rate=1e-08, max_bin=256,\n",
       "              max_cat_threshold=64, max_cat_to_onehot=4, max_delta_step=0,\n",
       "              max_depth=2, max_leaves=0, min_child_weight=7, missing=nan,\n",
       "              monotone_constraints='()', n_estimators=2000, n_jobs=4, nthread=4,\n",
       "              num_parallel_tree=1, predictor='auto', ...)"
      ]
     },
     "execution_count": 667,
     "metadata": {},
     "output_type": "execute_result"
    }
   ],
   "source": [
    "grid_search.best_estimator_"
   ]
  },
  {
   "cell_type": "code",
   "execution_count": 668,
   "id": "af510878",
   "metadata": {},
   "outputs": [
    {
     "data": {
      "text/plain": [
       "({'colsample_bytree': 0.85,\n",
       "  'gamma': 0,\n",
       "  'learning_rate': 1e-08,\n",
       "  'max_depth': 2,\n",
       "  'min_child_weight': 7,\n",
       "  'n_estimators': 2000,\n",
       "  'nthread': 4,\n",
       "  'objective': 'binary:logistic',\n",
       "  'reg_alpha': 1e-05,\n",
       "  'scale_pos_weight': 1,\n",
       "  'subsample': 0.15},\n",
       " 0.6532434381286981)"
      ]
     },
     "execution_count": 668,
     "metadata": {},
     "output_type": "execute_result"
    }
   ],
   "source": [
    "grid_search.best_params_, grid_search.best_score_"
   ]
  },
  {
   "cell_type": "code",
   "execution_count": 634,
   "id": "4b96e62f",
   "metadata": {},
   "outputs": [],
   "source": [
    "# {'n_estimators' : [ 2000],\n",
    "#     'max_depth': [1,2 ],\n",
    "#     'learning_rate' : [0.0001, 0.001 ],\n",
    "#      'subsample': [ 0.1, 0.2 ]\n",
    "#     }"
   ]
  },
  {
   "cell_type": "code",
   "execution_count": 669,
   "id": "6fade77d",
   "metadata": {},
   "outputs": [
    {
     "name": "stdout",
     "output_type": "stream",
     "text": [
      "\n",
      "classification report -  XG+ SMOTE -Train\n",
      "\n",
      "\n",
      "\n",
      "              precision    recall  f1-score   support\n",
      "\n",
      "           0       0.68      0.64      0.66       243\n",
      "           1       0.66      0.70      0.68       243\n",
      "\n",
      "    accuracy                           0.67       486\n",
      "   macro avg       0.67      0.67      0.67       486\n",
      "weighted avg       0.67      0.67      0.67       486\n",
      "\n",
      " ROC AUC =  66.9 %\n",
      " Precision =  66.0 %\n",
      " Recall =  69.5 %\n",
      " Accuracy =  66.9 %\n",
      " F1-Score =  67.7 %\n"
     ]
    },
    {
     "data": {
      "text/plain": [
       "array([[156,  87],\n",
       "       [ 74, 169]], dtype=int64)"
      ]
     },
     "execution_count": 669,
     "metadata": {},
     "output_type": "execute_result"
    }
   ],
   "source": [
    "y_predicted = grid_search.predict(xtrain_sm)\n",
    "\n",
    "print('\\nclassification report -  XG+ SMOTE -Train')\n",
    "print('\\n\\n')\n",
    "print(classification_report(ytrain_sm, y_predicted)) # generate the precision, recall, f-1 score, num\n",
    "print(' ROC AUC = ',str(round(roc_auc_score(ytrain_sm, y_predicted)*100,1)), '%')\n",
    "print(' Precision = ',str(round(precision_score(ytrain_sm, y_predicted)*100,1)), '%')\n",
    "print(' Recall = ',str(round(recall_score(ytrain_sm, y_predicted)*100,1)), '%')\n",
    "print(' Accuracy = ',str(round(accuracy_score(ytrain_sm, y_predicted)*100,1)), '%')\n",
    "print(' F1-Score = ',str(round(f1_score(ytrain_sm, y_predicted)*100,1)), '%')\n",
    "confusion_matrix(ytrain_sm, y_predicted)"
   ]
  },
  {
   "cell_type": "code",
   "execution_count": 670,
   "id": "3a16b0f5",
   "metadata": {},
   "outputs": [
    {
     "name": "stdout",
     "output_type": "stream",
     "text": [
      "\n",
      "classification report- RF+ SMOTE -Test\n",
      "\n",
      "\n",
      "\n",
      "              precision    recall  f1-score   support\n",
      "\n",
      "           0       0.62      0.67      0.65        49\n",
      "           1       0.69      0.64      0.66        55\n",
      "\n",
      "    accuracy                           0.65       104\n",
      "   macro avg       0.65      0.65      0.65       104\n",
      "weighted avg       0.66      0.65      0.65       104\n",
      "\n",
      "Random Forest: ROC AUC =  65.5 %\n",
      "Random Forest: Precision =  68.6 %\n",
      "Random Forest: Recall =  63.6 %\n",
      "Random Forest: Accuracy =  65.4 %\n",
      "Random Forest: F1-Score =  66.0 %\n"
     ]
    },
    {
     "data": {
      "text/plain": [
       "array([[33, 16],\n",
       "       [20, 35]], dtype=int64)"
      ]
     },
     "execution_count": 670,
     "metadata": {},
     "output_type": "execute_result"
    }
   ],
   "source": [
    "# Predict the test data\n",
    "y_predicted = grid_search.predict( xtest)\n",
    "\n",
    "print('\\nclassification report- RF+ SMOTE -Test')\n",
    "print('\\n\\n')\n",
    "print(classification_report(ytest, y_predicted)) # generate the precision, recall, f-1 score, num\n",
    "print('Random Forest: ROC AUC = ',str(round(roc_auc_score(ytest, y_predicted)*100,1)), '%')\n",
    "print('Random Forest: Precision = ',str(round(precision_score(ytest, y_predicted)*100,1)), '%')\n",
    "print('Random Forest: Recall = ',str(round(recall_score(ytest, y_predicted)*100,1)), '%')\n",
    "print('Random Forest: Accuracy = ',str(round(accuracy_score(ytest, y_predicted)*100,1)), '%')\n",
    "print('Random Forest: F1-Score = ',str(round(f1_score(ytest, y_predicted)*100,1)), '%')\n",
    "confusion_matrix(ytest, y_predicted)"
   ]
  },
  {
   "cell_type": "code",
   "execution_count": 75,
   "id": "26e3e626",
   "metadata": {},
   "outputs": [],
   "source": [
    "# filename = 'XGBoost+SMOTE.pkl'\n",
    "# pickle.dump(grid_search, open(filename, 'wb'))"
   ]
  },
  {
   "cell_type": "code",
   "execution_count": 671,
   "id": "e8017a7a",
   "metadata": {},
   "outputs": [
    {
     "data": {
      "image/png": "[encoded data removed]",
      "text/plain": [
       "<Figure size 1000x500 with 1 Axes>"
      ]
     },
     "metadata": {},
     "output_type": "display_data"
    }
   ],
   "source": [
    "# get importance\n",
    "importance = grid_search.best_estimator_.feature_importances_\n",
    "#Important variables\n",
    "importances_rf = pd.DataFrame(data = {'Attribute': encoded_xtrain.columns, 'Importance': grid_search.best_estimator_.feature_importances_})\n",
    "importances_rf = importances_rf.sort_values(by='Importance', ascending = False)\n",
    "#plot\n",
    "plt.figure(figsize=(10,5))\n",
    "plt.bar(x=importances_rf['Attribute'], height = importances_rf['Importance'], color = '#087E8B')\n",
    "plt.title('Feature Importance - XGBoost')\n",
    "plt.xticks(rotation='vertical')\n",
    "plt.show()"
   ]
  }
 ],
 "metadata": {
  "kernelspec": {
   "display_name": "Python 3 (ipykernel)",
   "language": "python",
   "name": "python3"
  },
  "language_info": {
   "codemirror_mode": {
    "name": "ipython",
    "version": 3
   },
   "file_extension": ".py",
   "mimetype": "text/x-python",
   "name": "python",
   "nbconvert_exporter": "python",
   "pygments_lexer": "ipython3",
   "version": "3.9.13"
  }
 },
 "nbformat": 4,
 "nbformat_minor": 5
}
