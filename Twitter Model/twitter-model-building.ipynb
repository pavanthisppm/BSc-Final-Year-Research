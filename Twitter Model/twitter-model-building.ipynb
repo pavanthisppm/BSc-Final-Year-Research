{
 "cells": [
  {
   "cell_type": "code",
   "execution_count": 1,
   "id": "debab146",
   "metadata": {},
   "outputs": [],
   "source": [
    "import warnings\n",
    "warnings.filterwarnings('ignore')\n",
    "import pandas as pd\n",
    "import numpy as np\n",
    "from sklearn.model_selection import train_test_split\n",
    "import matplotlib.pyplot as plt\n",
    "import seaborn as sns\n",
    "import prince\n",
    "import factor_analyzer\n",
    "import pickle\n",
    "\n",
    "from imblearn.over_sampling import SMOTE\n",
    "from imblearn.over_sampling import ADASYN\n",
    "from sklearn.preprocessing import RobustScaler\n",
    "from sklearn.preprocessing import StandardScaler\n",
    "from factor_analyzer import FactorAnalyzer\n",
    "from sklearn.decomposition import PCA\n",
    "from sklearn.model_selection import RepeatedStratifiedKFold\n",
    "\n",
    "from sklearn.metrics import classification_report\n",
    "from sklearn.metrics import roc_auc_score\n",
    "from sklearn.metrics import precision_score\n",
    "from sklearn.metrics import recall_score\n",
    "from sklearn.metrics import accuracy_score\n",
    "from sklearn.metrics import confusion_matrix\n",
    "from sklearn.metrics import f1_score\n",
    "\n",
    "import plotly.express as px\n",
    "from sklearn.decomposition import PCA\n",
    "from sklearn.pipeline import Pipeline\n",
    "\n",
    " \n",
    "from numpy import mean\n",
    "from numpy import std\n",
    "from numpy import arange\n",
    "from sklearn.datasets import make_classification\n",
    "from sklearn.model_selection import cross_val_score\n",
    "from sklearn.model_selection import RepeatedStratifiedKFold\n",
    "from sklearn.ensemble import RandomForestClassifier\n",
    "from matplotlib import pyplot\n",
    "from sklearn.model_selection import GridSearchCV # For optimization\n",
    "\n",
    "import warnings\n",
    "warnings.filterwarnings('ignore')\n",
    "import pandas as pd\n",
    "import numpy as np\n",
    "from sklearn.model_selection import train_test_split\n",
    "import matplotlib.pyplot as plt\n",
    "import seaborn as sns\n",
    "import prince\n",
    "import pickle\n",
    "\n",
    "from imblearn.over_sampling import SMOTE\n",
    "from imblearn.over_sampling import ADASYN\n",
    "from sklearn.preprocessing import RobustScaler\n",
    "from sklearn.preprocessing import StandardScaler\n",
    "from sklearn.model_selection import RepeatedStratifiedKFold\n",
    "from sklearn.model_selection import GridSearchCV\n",
    "from sklearn.linear_model import LogisticRegression\n",
    "\n",
    "from sklearn.metrics import classification_report\n",
    "from sklearn.metrics import roc_auc_score\n",
    "from sklearn.metrics import precision_score\n",
    "from sklearn.metrics import recall_score\n",
    "from sklearn.metrics import accuracy_score\n",
    "from sklearn.metrics import confusion_matrix\n",
    "from sklearn.metrics import f1_score"
   ]
  },
  {
   "cell_type": "code",
   "execution_count": 2,
   "id": "e05fb910",
   "metadata": {},
   "outputs": [
    {
     "data": {
      "text/html": [
       "<div>\n",
       "<style scoped>\n",
       "    .dataframe tbody tr th:only-of-type {\n",
       "        vertical-align: middle;\n",
       "    }\n",
       "\n",
       "    .dataframe tbody tr th {\n",
       "        vertical-align: top;\n",
       "    }\n",
       "\n",
       "    .dataframe thead th {\n",
       "        text-align: right;\n",
       "    }\n",
       "</style>\n",
       "<table border=\"1\" class=\"dataframe\">\n",
       "  <thead>\n",
       "    <tr style=\"text-align: right;\">\n",
       "      <th></th>\n",
       "      <th>Winner</th>\n",
       "      <th>T1_TwitterVol</th>\n",
       "      <th>T2_TwitterVol</th>\n",
       "      <th>T1_FansSent</th>\n",
       "      <th>T2_FansSent</th>\n",
       "      <th>T1_FansPred</th>\n",
       "      <th>T2_FansPred</th>\n",
       "    </tr>\n",
       "  </thead>\n",
       "  <tbody>\n",
       "    <tr>\n",
       "      <th>0</th>\n",
       "      <td>0</td>\n",
       "      <td>0.571429</td>\n",
       "      <td>0.428571</td>\n",
       "      <td>0.571429</td>\n",
       "      <td>0.380952</td>\n",
       "      <td>0.000000</td>\n",
       "      <td>0.000000</td>\n",
       "    </tr>\n",
       "    <tr>\n",
       "      <th>1</th>\n",
       "      <td>0</td>\n",
       "      <td>0.837838</td>\n",
       "      <td>0.162162</td>\n",
       "      <td>0.648649</td>\n",
       "      <td>0.162162</td>\n",
       "      <td>0.000000</td>\n",
       "      <td>0.000000</td>\n",
       "    </tr>\n",
       "    <tr>\n",
       "      <th>2</th>\n",
       "      <td>1</td>\n",
       "      <td>0.356688</td>\n",
       "      <td>0.643312</td>\n",
       "      <td>0.299363</td>\n",
       "      <td>0.535032</td>\n",
       "      <td>0.333333</td>\n",
       "      <td>0.666667</td>\n",
       "    </tr>\n",
       "    <tr>\n",
       "      <th>3</th>\n",
       "      <td>0</td>\n",
       "      <td>0.464286</td>\n",
       "      <td>0.535714</td>\n",
       "      <td>0.464286</td>\n",
       "      <td>0.464286</td>\n",
       "      <td>0.000000</td>\n",
       "      <td>0.000000</td>\n",
       "    </tr>\n",
       "    <tr>\n",
       "      <th>4</th>\n",
       "      <td>1</td>\n",
       "      <td>0.695652</td>\n",
       "      <td>0.304348</td>\n",
       "      <td>0.565217</td>\n",
       "      <td>0.282609</td>\n",
       "      <td>0.000000</td>\n",
       "      <td>0.000000</td>\n",
       "    </tr>\n",
       "  </tbody>\n",
       "</table>\n",
       "</div>"
      ],
      "text/plain": [
       "   Winner  T1_TwitterVol  T2_TwitterVol  T1_FansSent  T2_FansSent  \\\n",
       "0       0       0.571429       0.428571     0.571429     0.380952   \n",
       "1       0       0.837838       0.162162     0.648649     0.162162   \n",
       "2       1       0.356688       0.643312     0.299363     0.535032   \n",
       "3       0       0.464286       0.535714     0.464286     0.464286   \n",
       "4       1       0.695652       0.304348     0.565217     0.282609   \n",
       "\n",
       "   T1_FansPred  T2_FansPred  \n",
       "0     0.000000     0.000000  \n",
       "1     0.000000     0.000000  \n",
       "2     0.333333     0.666667  \n",
       "3     0.000000     0.000000  \n",
       "4     0.000000     0.000000  "
      ]
     },
     "execution_count": 2,
     "metadata": {},
     "output_type": "execute_result"
    }
   ],
   "source": [
    "data = pd.read_csv(\"twitter-featured.csv\")\n",
    "data = data.drop('Unnamed: 0', axis=1)\n",
    "data.head()"
   ]
  },
  {
   "cell_type": "code",
   "execution_count": 3,
   "id": "9aee6206",
   "metadata": {},
   "outputs": [],
   "source": [
    "# train test split\n",
    "train, test= train_test_split(data, test_size = 0.2, random_state = 100)"
   ]
  },
  {
   "cell_type": "code",
   "execution_count": 4,
   "id": "2df735e1",
   "metadata": {},
   "outputs": [
    {
     "data": {
      "text/plain": [
       "((415, 7), (104, 7))"
      ]
     },
     "execution_count": 4,
     "metadata": {},
     "output_type": "execute_result"
    }
   ],
   "source": [
    "train.shape, test.shape"
   ]
  },
  {
   "cell_type": "code",
   "execution_count": 5,
   "id": "e90a09fa",
   "metadata": {},
   "outputs": [
    {
     "data": {
      "text/plain": [
       "Index(['Winner', 'T1_TwitterVol', 'T2_TwitterVol', 'T1_FansSent',\n",
       "       'T2_FansSent', 'T1_FansPred', 'T2_FansPred'],\n",
       "      dtype='object')"
      ]
     },
     "execution_count": 5,
     "metadata": {},
     "output_type": "execute_result"
    }
   ],
   "source": [
    "train.columns"
   ]
  },
  {
   "cell_type": "code",
   "execution_count": 6,
   "id": "3373279c",
   "metadata": {},
   "outputs": [
    {
     "data": {
      "text/plain": [
       "{'T1_FansSent', 'T2_FansSent', 'T2_TwitterVol'}"
      ]
     },
     "execution_count": 6,
     "metadata": {},
     "output_type": "execute_result"
    }
   ],
   "source": [
    "# find and remove correlated features\n",
    "def correlation(dataset, threshold):\n",
    "    col_corr = set()   \n",
    "    corr_matrix = dataset.corr()\n",
    "    for i in range(len(corr_matrix.columns)):\n",
    "        for j in range(i):\n",
    "            if abs(corr_matrix.iloc[i, j]) > threshold:  \n",
    "                colname = corr_matrix.columns[i]   \n",
    "                col_corr.add(colname)\n",
    "    return col_corr\n",
    "\n",
    "correlation(train.iloc[:,:-1],0.8)"
   ]
  },
  {
   "cell_type": "code",
   "execution_count": 7,
   "id": "452902f2",
   "metadata": {},
   "outputs": [
    {
     "data": {
      "text/plain": [
       "((415, 6), (104, 6), (415,), (104,))"
      ]
     },
     "execution_count": 7,
     "metadata": {},
     "output_type": "execute_result"
    }
   ],
   "source": [
    "xtrain = train.drop(['Winner'],axis=1) \n",
    "ytrain = train['Winner']\n",
    " \n",
    "xtest = test.drop(['Winner'],axis=1)  \n",
    "ytest = test['Winner']\n",
    "\n",
    "xtrain.shape, xtest.shape, ytrain.shape, ytest.shape"
   ]
  },
  {
   "cell_type": "code",
   "execution_count": 8,
   "id": "425be890",
   "metadata": {},
   "outputs": [],
   "source": [
    "st = StandardScaler()\n",
    "xtrain  = st.fit_transform(xtrain)\n",
    "xtest = st.fit_transform(xtest)"
   ]
  },
  {
   "cell_type": "code",
   "execution_count": 9,
   "id": "bac6ced3",
   "metadata": {},
   "outputs": [
    {
     "data": {
      "text/plain": [
       "((486, 6), (486,))"
      ]
     },
     "execution_count": 9,
     "metadata": {},
     "output_type": "execute_result"
    }
   ],
   "source": [
    "sm = SMOTE(random_state=100)\n",
    "xtrain_sm, ytrain_sm = sm.fit_resample(  xtrain,ytrain) \n",
    " \n",
    "xtrain_sm.shape, ytrain_sm.shape "
   ]
  },
  {
   "cell_type": "markdown",
   "id": "4e9f161e",
   "metadata": {},
   "source": [
    "## Logistic regression - with hyperparameter tuning"
   ]
  },
  {
   "cell_type": "markdown",
   "id": "0659c565",
   "metadata": {},
   "source": [
    "### Laasso penalty"
   ]
  },
  {
   "cell_type": "code",
   "execution_count": 20,
   "id": "fa4f68b3",
   "metadata": {},
   "outputs": [
    {
     "name": "stdout",
     "output_type": "stream",
     "text": [
      "Fitting 30 folds for each of 30 candidates, totalling 900 fits\n"
     ]
    }
   ],
   "source": [
    "logModel  = LogisticRegression(random_state=42)\n",
    "\n",
    "param_grid = [    \n",
    "    {'solver' : [ 'newton-cg', 'lbfgs', 'liblinear', 'sag', 'saga', 'newton-cholesky'],\n",
    "    'penalty' : [   'l1'  ], #'None', 'l1', 'l2', 'elasticnet'\n",
    "    'C' :  [1e-5, 1e-4, 1e-3, 1e-2, 1e-1 ],\n",
    "    'max_iter': [2000]\n",
    "    }\n",
    "]\n",
    "\n",
    "cv = RepeatedStratifiedKFold(n_splits=10, n_repeats=3, random_state=42)\n",
    "log_grid = GridSearchCV(logModel, param_grid = param_grid , verbose=True, n_jobs=-1, cv=cv , scoring='f1')\n",
    "log_clf_hyp = log_grid.fit(xtrain_sm,ytrain_sm)"
   ]
  },
  {
   "cell_type": "code",
   "execution_count": 21,
   "id": "782036ec",
   "metadata": {},
   "outputs": [
    {
     "data": {
      "text/plain": [
       "LogisticRegression(C=0.1, max_iter=2000, penalty='l1', random_state=42,\n",
       "                   solver='saga')"
      ]
     },
     "execution_count": 21,
     "metadata": {},
     "output_type": "execute_result"
    }
   ],
   "source": [
    "log_clf_hyp.best_estimator_"
   ]
  },
  {
   "cell_type": "code",
   "execution_count": 22,
   "id": "ff0328df",
   "metadata": {},
   "outputs": [
    {
     "data": {
      "text/plain": [
       "({'C': 0.1, 'max_iter': 2000, 'penalty': 'l1', 'solver': 'saga'},\n",
       " 0.631139025394043)"
      ]
     },
     "execution_count": 22,
     "metadata": {},
     "output_type": "execute_result"
    }
   ],
   "source": [
    "log_clf_hyp.best_params_, log_clf_hyp.best_score_"
   ]
  },
  {
   "cell_type": "code",
   "execution_count": 23,
   "id": "1a02b0c2",
   "metadata": {},
   "outputs": [
    {
     "name": "stdout",
     "output_type": "stream",
     "text": [
      "\n",
      "classification report - logistice (l1) - train\n",
      "              precision    recall  f1-score   support\n",
      "\n",
      "           0       0.65      0.58      0.61       243\n",
      "           1       0.62      0.68      0.65       243\n",
      "\n",
      "    accuracy                           0.63       486\n",
      "   macro avg       0.63      0.63      0.63       486\n",
      "weighted avg       0.63      0.63      0.63       486\n",
      "\n",
      "LogReg: ROC AUC =  63.2 %\n",
      "LogReg: Precision =  61.9 %\n",
      "LogReg: Recall =  68.3 %\n",
      "LogReg: Accuracy =  63.2 %\n",
      "LogReg: F1-Score =  65.0 %\n"
     ]
    },
    {
     "data": {
      "text/plain": [
       "array([[141, 102],\n",
       "       [ 77, 166]], dtype=int64)"
      ]
     },
     "execution_count": 23,
     "metadata": {},
     "output_type": "execute_result"
    }
   ],
   "source": [
    "# Predict the train data\n",
    "y_predicted = log_clf_hyp.predict(xtrain_sm)\n",
    "\n",
    "print('\\nclassification report - logistice (l1) - train')\n",
    "print(classification_report(ytrain_sm, y_predicted)) # generate the precision, recall, f-1 score, num\n",
    "print('LogReg: ROC AUC = ',str(round(roc_auc_score(ytrain_sm, y_predicted)*100,1)), '%')\n",
    "print('LogReg: Precision = ',str(round(precision_score(ytrain_sm, y_predicted)*100,1)), '%')\n",
    "print('LogReg: Recall = ',str(round(recall_score(ytrain_sm, y_predicted)*100,1)), '%')\n",
    "print('LogReg: Accuracy = ',str(round(accuracy_score(ytrain_sm, y_predicted)*100,1)), '%')\n",
    "print('LogReg: F1-Score = ',str(round(f1_score(ytrain_sm, y_predicted)*100,1)), '%')\n",
    "confusion_matrix(ytrain_sm, y_predicted)"
   ]
  },
  {
   "cell_type": "code",
   "execution_count": 24,
   "id": "e2166b93",
   "metadata": {},
   "outputs": [
    {
     "name": "stdout",
     "output_type": "stream",
     "text": [
      "\n",
      "classification report - logistic(l2)+SMOTE - test \n",
      "              precision    recall  f1-score   support\n",
      "\n",
      "           0       0.55      0.55      0.55        49\n",
      "           1       0.60      0.60      0.60        55\n",
      "\n",
      "    accuracy                           0.58       104\n",
      "   macro avg       0.58      0.58      0.58       104\n",
      "weighted avg       0.58      0.58      0.58       104\n",
      "\n",
      "LogReg: ROC AUC =  57.6 %\n",
      "LogReg: Precision =  60.0 %\n",
      "LogReg: Recall =  60.0 %\n",
      "LogReg: Accuracy =  57.7 %\n",
      "LogReg: F1-Score =  60.0 %\n"
     ]
    },
    {
     "data": {
      "text/plain": [
       "array([[27, 22],\n",
       "       [22, 33]], dtype=int64)"
      ]
     },
     "execution_count": 24,
     "metadata": {},
     "output_type": "execute_result"
    }
   ],
   "source": [
    "# Predict the test data\n",
    "y_predicted = log_clf_hyp.predict( xtest)\n",
    "\n",
    "print('\\nclassification report - logistic(l2)+SMOTE - test ')\n",
    "print(classification_report(ytest, y_predicted)) # generate the precision, recall, f-1 score, num\n",
    "print('LogReg: ROC AUC = ',str(round(roc_auc_score(ytest, y_predicted)*100,1)), '%')\n",
    "print('LogReg: Precision = ',str(round(precision_score(ytest, y_predicted)*100,1)), '%')\n",
    "print('LogReg: Recall = ',str(round(recall_score(ytest, y_predicted)*100,1)), '%')\n",
    "print('LogReg: Accuracy = ',str(round(accuracy_score(ytest, y_predicted)*100,1)), '%')\n",
    "print('LogReg: F1-Score = ',str(round(f1_score(ytest, y_predicted)*100,1)), '%')\n",
    "confusion_matrix(ytest, y_predicted)"
   ]
  },
  {
   "cell_type": "code",
   "execution_count": 266,
   "id": "04cdadb7",
   "metadata": {},
   "outputs": [],
   "source": [
    "# filename = 'LR-Lasso+SMOTE.pkl'\n",
    "# pickle.dump(log_clf_hyp, open(filename, 'wb'))"
   ]
  },
  {
   "cell_type": "markdown",
   "id": "9dd1aa0f",
   "metadata": {},
   "source": [
    "## ridge penalty"
   ]
  },
  {
   "cell_type": "code",
   "execution_count": 30,
   "id": "ed42cce5",
   "metadata": {},
   "outputs": [
    {
     "name": "stdout",
     "output_type": "stream",
     "text": [
      "Fitting 30 folds for each of 30 candidates, totalling 900 fits\n"
     ]
    }
   ],
   "source": [
    "logModel  = LogisticRegression(random_state=42)\n",
    "\n",
    "param_grid = [    \n",
    "    {'solver' : [ 'newton-cg', 'lbfgs', 'liblinear', 'sag', 'saga', 'newton-cholesky'],\n",
    "    'penalty' : [   'l2'  ], #'None', 'l1', 'l2', 'elasticnet'\n",
    "    'C' :  [1e-5, 1e-4, 1e-3, 1e-2, 1e-1   ],\n",
    "    'max_iter': [2000]\n",
    "    }\n",
    "]\n",
    "\n",
    "cv = RepeatedStratifiedKFold(n_splits=10, n_repeats=3, random_state=42)\n",
    "log_grid = GridSearchCV(logModel, param_grid = param_grid , verbose=True, n_jobs=-1, cv=cv , scoring='f1')\n",
    "log_clf_hyp = log_grid.fit(xtrain_sm,ytrain_sm)"
   ]
  },
  {
   "cell_type": "code",
   "execution_count": 31,
   "id": "db8bb3ff",
   "metadata": {},
   "outputs": [
    {
     "data": {
      "text/plain": [
       "LogisticRegression(C=0.001, max_iter=2000, random_state=42, solver='newton-cg')"
      ]
     },
     "execution_count": 31,
     "metadata": {},
     "output_type": "execute_result"
    }
   ],
   "source": [
    "log_clf_hyp.best_estimator_"
   ]
  },
  {
   "cell_type": "code",
   "execution_count": 32,
   "id": "dedab83f",
   "metadata": {},
   "outputs": [
    {
     "data": {
      "text/plain": [
       "({'C': 0.001, 'max_iter': 2000, 'penalty': 'l2', 'solver': 'newton-cg'},\n",
       " 0.6397182630386344)"
      ]
     },
     "execution_count": 32,
     "metadata": {},
     "output_type": "execute_result"
    }
   ],
   "source": [
    "log_clf_hyp.best_params_, log_clf_hyp.best_score_"
   ]
  },
  {
   "cell_type": "code",
   "execution_count": 33,
   "id": "ac082eca",
   "metadata": {},
   "outputs": [
    {
     "name": "stdout",
     "output_type": "stream",
     "text": [
      "\n",
      "classification report-logistic(l2)+SMOTE-train\n",
      "              precision    recall  f1-score   support\n",
      "\n",
      "           0       0.64      0.57      0.60       243\n",
      "           1       0.61      0.68      0.64       243\n",
      "\n",
      "    accuracy                           0.62       486\n",
      "   macro avg       0.62      0.62      0.62       486\n",
      "weighted avg       0.62      0.62      0.62       486\n",
      "\n",
      "LogReg: ROC AUC =  62.3 %\n",
      "LogReg: Precision =  61.1 %\n",
      "LogReg: Recall =  67.9 %\n",
      "LogReg: Accuracy =  62.3 %\n",
      "LogReg: F1-Score =  64.3 %\n"
     ]
    },
    {
     "data": {
      "text/plain": [
       "array([[138, 105],\n",
       "       [ 78, 165]], dtype=int64)"
      ]
     },
     "execution_count": 33,
     "metadata": {},
     "output_type": "execute_result"
    }
   ],
   "source": [
    "# Predict the train data\n",
    "y_predicted = log_clf_hyp.predict(xtrain_sm)\n",
    "\n",
    "print('\\nclassification report-logistic(l2)+SMOTE-train')\n",
    "print(classification_report(ytrain_sm, y_predicted)) # generate the precision, recall, f-1 score, num\n",
    "print('LogReg: ROC AUC = ',str(round(roc_auc_score(ytrain_sm, y_predicted)*100,1)), '%')\n",
    "print('LogReg: Precision = ',str(round(precision_score(ytrain_sm, y_predicted)*100,1)), '%')\n",
    "print('LogReg: Recall = ',str(round(recall_score(ytrain_sm, y_predicted)*100,1)), '%')\n",
    "print('LogReg: Accuracy = ',str(round(accuracy_score(ytrain_sm, y_predicted)*100,1)), '%')\n",
    "print('LogReg: F1-Score = ',str(round(f1_score(ytrain_sm, y_predicted)*100,1)), '%')\n",
    "confusion_matrix(ytrain_sm, y_predicted)"
   ]
  },
  {
   "cell_type": "code",
   "execution_count": 34,
   "id": "52818355",
   "metadata": {},
   "outputs": [
    {
     "name": "stdout",
     "output_type": "stream",
     "text": [
      "\n",
      "classification report-logistic(l2)+SMOTE-test\n",
      "              precision    recall  f1-score   support\n",
      "\n",
      "           0       0.56      0.55      0.56        49\n",
      "           1       0.61      0.62      0.61        55\n",
      "\n",
      "    accuracy                           0.59       104\n",
      "   macro avg       0.58      0.58      0.58       104\n",
      "weighted avg       0.59      0.59      0.59       104\n",
      "\n",
      "LogReg: ROC AUC =  58.5 %\n",
      "LogReg: Precision =  60.7 %\n",
      "LogReg: Recall =  61.8 %\n",
      "LogReg: Accuracy =  58.7 %\n",
      "LogReg: F1-Score =  61.3 %\n"
     ]
    },
    {
     "data": {
      "text/plain": [
       "array([[27, 22],\n",
       "       [21, 34]], dtype=int64)"
      ]
     },
     "execution_count": 34,
     "metadata": {},
     "output_type": "execute_result"
    }
   ],
   "source": [
    "# Predict the test data\n",
    "y_predicted = log_clf_hyp.predict( xtest)\n",
    "\n",
    "print('\\nclassification report-logistic(l2)+SMOTE-test')\n",
    "print(classification_report(ytest, y_predicted)) # generate the precision, recall, f-1 score, num\n",
    "print('LogReg: ROC AUC = ',str(round(roc_auc_score(ytest, y_predicted)*100,1)), '%')\n",
    "print('LogReg: Precision = ',str(round(precision_score(ytest, y_predicted)*100,1)), '%')\n",
    "print('LogReg: Recall = ',str(round(recall_score(ytest, y_predicted)*100,1)), '%')\n",
    "print('LogReg: Accuracy = ',str(round(accuracy_score(ytest, y_predicted)*100,1)), '%')\n",
    "print('LogReg: F1-Score = ',str(round(f1_score(ytest, y_predicted)*100,1)), '%')\n",
    "confusion_matrix(ytest, y_predicted)"
   ]
  },
  {
   "cell_type": "code",
   "execution_count": 287,
   "id": "69be574f",
   "metadata": {},
   "outputs": [],
   "source": [
    "# filename = 'LR-Ridge+SMOTE.pkl'\n",
    "# pickle.dump(log_clf_hyp, open(filename, 'wb'))"
   ]
  },
  {
   "cell_type": "markdown",
   "id": "d9fd8cce",
   "metadata": {},
   "source": [
    "## elasticnet"
   ]
  },
  {
   "cell_type": "code",
   "execution_count": 35,
   "id": "ffc9749e",
   "metadata": {},
   "outputs": [
    {
     "name": "stdout",
     "output_type": "stream",
     "text": [
      "Fitting 30 folds for each of 45 candidates, totalling 1350 fits\n"
     ]
    }
   ],
   "source": [
    "logModel  = LogisticRegression(random_state=42)\n",
    "\n",
    "param_grid = [    \n",
    "    {'solver' : [ 'saga'],\n",
    "    'penalty' : [   'elasticnet'  ], #'None', 'l1', 'l2', 'elasticnet'\n",
    "    'C' :  [1e-5, 1e-4, 1e-3, 1e-2, 1e-1 ],\n",
    "    'max_iter': [2000],\n",
    "    'l1_ratio': [0.1, 0.2, 0.3,0.4,0.5,0.6,0.7,0.8,0.9]\n",
    "    }\n",
    "]\n",
    "\n",
    "cv = RepeatedStratifiedKFold(n_splits=10, n_repeats=3, random_state=42)\n",
    "log_grid = GridSearchCV(logModel, param_grid = param_grid , verbose=True, n_jobs=-1, cv=cv , scoring='f1')\n",
    "log_clf_hyp = log_grid.fit(xtrain_sm,ytrain_sm)"
   ]
  },
  {
   "cell_type": "code",
   "execution_count": 36,
   "id": "e19057f4",
   "metadata": {},
   "outputs": [
    {
     "data": {
      "text/plain": [
       "LogisticRegression(C=0.1, l1_ratio=0.1, max_iter=2000, penalty='elasticnet',\n",
       "                   random_state=42, solver='saga')"
      ]
     },
     "execution_count": 36,
     "metadata": {},
     "output_type": "execute_result"
    }
   ],
   "source": [
    "log_clf_hyp.best_estimator_"
   ]
  },
  {
   "cell_type": "code",
   "execution_count": 37,
   "id": "1c6af7be",
   "metadata": {},
   "outputs": [
    {
     "data": {
      "text/plain": [
       "({'C': 0.1,\n",
       "  'l1_ratio': 0.1,\n",
       "  'max_iter': 2000,\n",
       "  'penalty': 'elasticnet',\n",
       "  'solver': 'saga'},\n",
       " 0.6355505726775295)"
      ]
     },
     "execution_count": 37,
     "metadata": {},
     "output_type": "execute_result"
    }
   ],
   "source": [
    "log_clf_hyp.best_params_, log_clf_hyp.best_score_"
   ]
  },
  {
   "cell_type": "code",
   "execution_count": 38,
   "id": "637e30ba",
   "metadata": {},
   "outputs": [
    {
     "name": "stdout",
     "output_type": "stream",
     "text": [
      "\n",
      "classification report-logistic(enet)+SMOTE-train\n",
      "              precision    recall  f1-score   support\n",
      "\n",
      "           0       0.65      0.60      0.62       243\n",
      "           1       0.63      0.67      0.65       243\n",
      "\n",
      "    accuracy                           0.64       486\n",
      "   macro avg       0.64      0.64      0.64       486\n",
      "weighted avg       0.64      0.64      0.64       486\n",
      "\n",
      "LogReg: ROC AUC =  63.6 %\n",
      "LogReg: Precision =  62.6 %\n",
      "LogReg: Recall =  67.5 %\n",
      "LogReg: Accuracy =  63.6 %\n",
      "LogReg: F1-Score =  65.0 %\n"
     ]
    },
    {
     "data": {
      "text/plain": [
       "array([[145,  98],\n",
       "       [ 79, 164]], dtype=int64)"
      ]
     },
     "execution_count": 38,
     "metadata": {},
     "output_type": "execute_result"
    }
   ],
   "source": [
    "# Predict the train data\n",
    "y_predicted = log_clf_hyp.predict(xtrain_sm)\n",
    "\n",
    "print('\\nclassification report-logistic(enet)+SMOTE-train')\n",
    "print(classification_report(ytrain_sm, y_predicted)) # generate the precision, recall, f-1 score, num\n",
    "print('LogReg: ROC AUC = ',str(round(roc_auc_score(ytrain_sm, y_predicted)*100,1)), '%')\n",
    "print('LogReg: Precision = ',str(round(precision_score(ytrain_sm, y_predicted)*100,1)), '%')\n",
    "print('LogReg: Recall = ',str(round(recall_score(ytrain_sm, y_predicted)*100,1)), '%')\n",
    "print('LogReg: Accuracy = ',str(round(accuracy_score(ytrain_sm, y_predicted)*100,1)), '%')\n",
    "print('LogReg: F1-Score = ',str(round(f1_score(ytrain_sm, y_predicted)*100,1)), '%')\n",
    "confusion_matrix(ytrain_sm, y_predicted)"
   ]
  },
  {
   "cell_type": "code",
   "execution_count": 39,
   "id": "b4e71f8c",
   "metadata": {},
   "outputs": [
    {
     "name": "stdout",
     "output_type": "stream",
     "text": [
      "\n",
      "classification report-logistic(enet)+SMOTE-test\n",
      "              precision    recall  f1-score   support\n",
      "\n",
      "           0       0.58      0.59      0.59        49\n",
      "           1       0.63      0.62      0.62        55\n",
      "\n",
      "    accuracy                           0.61       104\n",
      "   macro avg       0.60      0.61      0.60       104\n",
      "weighted avg       0.61      0.61      0.61       104\n",
      "\n",
      "LogReg: ROC AUC =  60.5 %\n",
      "LogReg: Precision =  63.0 %\n",
      "LogReg: Recall =  61.8 %\n",
      "LogReg: Accuracy =  60.6 %\n",
      "LogReg: F1-Score =  62.4 %\n"
     ]
    },
    {
     "data": {
      "text/plain": [
       "array([[29, 20],\n",
       "       [21, 34]], dtype=int64)"
      ]
     },
     "execution_count": 39,
     "metadata": {},
     "output_type": "execute_result"
    }
   ],
   "source": [
    "# Predict the test data\n",
    "y_predicted = log_clf_hyp.predict( xtest)\n",
    "\n",
    "print('\\nclassification report-logistic(enet)+SMOTE-test')\n",
    "print(classification_report(ytest, y_predicted)) # generate the precision, recall, f-1 score, num\n",
    "print('LogReg: ROC AUC = ',str(round(roc_auc_score(ytest, y_predicted)*100,1)), '%')\n",
    "print('LogReg: Precision = ',str(round(precision_score(ytest, y_predicted)*100,1)), '%')\n",
    "print('LogReg: Recall = ',str(round(recall_score(ytest, y_predicted)*100,1)), '%')\n",
    "print('LogReg: Accuracy = ',str(round(accuracy_score(ytest, y_predicted)*100,1)), '%')\n",
    "print('LogReg: F1-Score = ',str(round(f1_score(ytest, y_predicted)*100,1)), '%')\n",
    "confusion_matrix(ytest, y_predicted)"
   ]
  },
  {
   "cell_type": "code",
   "execution_count": 293,
   "id": "bf4c40e5",
   "metadata": {},
   "outputs": [],
   "source": [
    "# filename = 'LR-Enet+SMOTE.pkl'\n",
    "# pickle.dump(log_clf_hyp, open(filename, 'wb'))"
   ]
  },
  {
   "cell_type": "markdown",
   "id": "bb67619f",
   "metadata": {},
   "source": [
    "## SVM1"
   ]
  },
  {
   "cell_type": "code",
   "execution_count": 294,
   "id": "163c205e",
   "metadata": {},
   "outputs": [],
   "source": [
    "from sklearn.svm import SVC"
   ]
  },
  {
   "cell_type": "code",
   "execution_count": 310,
   "id": "93ce3fe4",
   "metadata": {},
   "outputs": [
    {
     "name": "stdout",
     "output_type": "stream",
     "text": [
      "Fitting 30 folds for each of 8 candidates, totalling 240 fits\n"
     ]
    }
   ],
   "source": [
    "# define model\n",
    "model = SVC(random_state=42)\n",
    "\n",
    "# define grid search\n",
    "param_grid = [    \n",
    "    {'kernel' : ['poly', 'rbf'  ],\n",
    "     'gamma' :['scale', 'auto' ],\n",
    "    'C': [ 1, 10 ]\n",
    " \n",
    "    }\n",
    "]\n",
    "\n",
    "cv = RepeatedStratifiedKFold(n_splits=10, n_repeats=3, random_state=1)\n",
    "grid_search = GridSearchCV(estimator=model, param_grid=param_grid, verbose=True, n_jobs=-1, cv=cv , scoring = 'f1', error_score=0)\n",
    "grid_result = grid_search.fit(xtrain_sm, ytrain_sm)"
   ]
  },
  {
   "cell_type": "code",
   "execution_count": 311,
   "id": "96289da9",
   "metadata": {},
   "outputs": [
    {
     "data": {
      "text/plain": [
       "SVC(C=1, random_state=42)"
      ]
     },
     "execution_count": 311,
     "metadata": {},
     "output_type": "execute_result"
    }
   ],
   "source": [
    "grid_search.best_estimator_"
   ]
  },
  {
   "cell_type": "code",
   "execution_count": 312,
   "id": "6a102907",
   "metadata": {},
   "outputs": [
    {
     "data": {
      "text/plain": [
       "({'C': 1, 'gamma': 'scale', 'kernel': 'rbf'}, 0.6486721008058829)"
      ]
     },
     "execution_count": 312,
     "metadata": {},
     "output_type": "execute_result"
    }
   ],
   "source": [
    "grid_search.best_params_, grid_search.best_score_"
   ]
  },
  {
   "cell_type": "code",
   "execution_count": 313,
   "id": "4f2f4e1f",
   "metadata": {},
   "outputs": [
    {
     "name": "stdout",
     "output_type": "stream",
     "text": [
      "\n",
      "classification report- SVM+ SMOTE -Train\n",
      "\n",
      "\n",
      "\n",
      "              precision    recall  f1-score   support\n",
      "\n",
      "           0       0.70      0.57      0.63       243\n",
      "           1       0.64      0.75      0.69       243\n",
      "\n",
      "    accuracy                           0.66       486\n",
      "   macro avg       0.67      0.66      0.66       486\n",
      "weighted avg       0.67      0.66      0.66       486\n",
      "\n",
      " ROC AUC =  66.0 %\n",
      " Precision =  63.5 %\n",
      " Recall =  75.3 %\n",
      " Accuracy =  66.0 %\n",
      " F1-Score =  68.9 %\n"
     ]
    },
    {
     "data": {
      "text/plain": [
       "array([[138, 105],\n",
       "       [ 60, 183]], dtype=int64)"
      ]
     },
     "execution_count": 313,
     "metadata": {},
     "output_type": "execute_result"
    }
   ],
   "source": [
    "# Predict the train data\n",
    "y_predicted = grid_search.predict(xtrain_sm)\n",
    "\n",
    "print('\\nclassification report- SVM+ SMOTE -Train')\n",
    "print('\\n\\n')\n",
    "print(classification_report(ytrain_sm, y_predicted)) \n",
    "print(' ROC AUC = ',str(round(roc_auc_score(ytrain_sm, y_predicted)*100,1)), '%')\n",
    "print(' Precision = ',str(round(precision_score(ytrain_sm, y_predicted)*100,1)), '%')\n",
    "print(' Recall = ',str(round(recall_score(ytrain_sm, y_predicted)*100,1)), '%')\n",
    "print(' Accuracy = ',str(round(accuracy_score(ytrain_sm, y_predicted)*100,1)), '%')\n",
    "print(' F1-Score = ',str(round(f1_score(ytrain_sm, y_predicted)*100,1)), '%')\n",
    "confusion_matrix(ytrain_sm, y_predicted)"
   ]
  },
  {
   "cell_type": "code",
   "execution_count": 314,
   "id": "16e9664e",
   "metadata": {},
   "outputs": [
    {
     "name": "stdout",
     "output_type": "stream",
     "text": [
      "\n",
      "classification report- SVM+ SMOTE -Test\n",
      "\n",
      "\n",
      "\n",
      "              precision    recall  f1-score   support\n",
      "\n",
      "           0       0.58      0.51      0.54        49\n",
      "           1       0.61      0.67      0.64        55\n",
      "\n",
      "    accuracy                           0.60       104\n",
      "   macro avg       0.59      0.59      0.59       104\n",
      "weighted avg       0.59      0.60      0.59       104\n",
      "\n",
      " ROC AUC =  59.1 %\n",
      " Precision =  60.7 %\n",
      " Recall =  67.3 %\n",
      " Accuracy =  59.6 %\n",
      " F1-Score =  63.8 %\n"
     ]
    },
    {
     "data": {
      "text/plain": [
       "array([[25, 24],\n",
       "       [18, 37]], dtype=int64)"
      ]
     },
     "execution_count": 314,
     "metadata": {},
     "output_type": "execute_result"
    }
   ],
   "source": [
    "# Predict the test data\n",
    "y_predicted = grid_search.predict(xtest)\n",
    "\n",
    "print('\\nclassification report- SVM+ SMOTE -Test')\n",
    "print('\\n\\n')\n",
    "print(classification_report(ytest, y_predicted))  \n",
    "print(' ROC AUC = ',str(round(roc_auc_score(ytest, y_predicted)*100,1)), '%')\n",
    "print(' Precision = ',str(round(precision_score(ytest, y_predicted)*100,1)), '%')\n",
    "print(' Recall = ',str(round(recall_score(ytest, y_predicted)*100,1)), '%')\n",
    "print(' Accuracy = ',str(round(accuracy_score(ytest, y_predicted)*100,1)), '%')\n",
    "print(' F1-Score = ',str(round(f1_score(ytest, y_predicted)*100,1)), '%')\n",
    "confusion_matrix(ytest, y_predicted)"
   ]
  },
  {
   "cell_type": "code",
   "execution_count": 315,
   "id": "de806fbd",
   "metadata": {},
   "outputs": [],
   "source": [
    "# filename = 'SVM+SMOTE.pkl'\n",
    "# pickle.dump(grid_search, open(filename, 'wb'))"
   ]
  },
  {
   "cell_type": "markdown",
   "id": "9b5fc06b",
   "metadata": {},
   "source": [
    "## KNN"
   ]
  },
  {
   "cell_type": "code",
   "execution_count": 10,
   "id": "b66e3c03",
   "metadata": {},
   "outputs": [],
   "source": [
    "from sklearn.neighbors import KNeighborsClassifier # The k-nearest neighbor classifier\n",
    "from sklearn.feature_selection import VarianceThreshold # Feature selector\n",
    "from sklearn.pipeline import Pipeline # For setting up pipeline\n",
    "# Various pre-processing steps\n",
    "from sklearn.preprocessing import Normalizer, StandardScaler, MinMaxScaler, PowerTransformer, MaxAbsScaler, LabelEncoder\n",
    "from sklearn.model_selection import GridSearchCV # For optimization"
   ]
  },
  {
   "cell_type": "code",
   "execution_count": 38,
   "id": "a8a9b3eb",
   "metadata": {},
   "outputs": [],
   "source": [
    "pipe = Pipeline([\n",
    "('classifier', KNeighborsClassifier())\n",
    "])"
   ]
  },
  {
   "cell_type": "code",
   "execution_count": 180,
   "id": "7ade62a5",
   "metadata": {},
   "outputs": [],
   "source": [
    "parameters = { \n",
    " 'classifier__n_neighbors': [  55 ],\n",
    " 'classifier__p': [1,2],\n",
    " 'classifier__leaf_size':   [1, 5, 10, 15],\n",
    " 'classifier__weights': ['uniform'  ],\n",
    " 'classifier__metric' : [ 'manhattan', 'minkowski', 'euclidean' ]\n",
    "}"
   ]
  },
  {
   "cell_type": "code",
   "execution_count": 181,
   "id": "dd1d828c",
   "metadata": {},
   "outputs": [
    {
     "name": "stdout",
     "output_type": "stream",
     "text": [
      "Fitting 30 folds for each of 24 candidates, totalling 720 fits\n"
     ]
    }
   ],
   "source": [
    "cv = RepeatedStratifiedKFold(n_splits=10, n_repeats=3, random_state=1)\n",
    "grid = GridSearchCV(pipe, parameters,verbose=True, n_jobs=-1, cv=cv , scoring = 'f1', error_score=0).fit(xtrain_sm  , ytrain_sm  )"
   ]
  },
  {
   "cell_type": "code",
   "execution_count": 182,
   "id": "bebecf38",
   "metadata": {},
   "outputs": [
    {
     "data": {
      "text/plain": [
       "({'classifier__leaf_size': 1,\n",
       "  'classifier__metric': 'manhattan',\n",
       "  'classifier__n_neighbors': 55,\n",
       "  'classifier__p': 1,\n",
       "  'classifier__weights': 'uniform'},\n",
       " 0.6315797125628416)"
      ]
     },
     "execution_count": 182,
     "metadata": {},
     "output_type": "execute_result"
    }
   ],
   "source": [
    "grid.best_params_, grid.best_score_"
   ]
  },
  {
   "cell_type": "code",
   "execution_count": 183,
   "id": "08cdb50b",
   "metadata": {},
   "outputs": [
    {
     "name": "stdout",
     "output_type": "stream",
     "text": [
      "\n",
      "classification report -  RF+ SMOTE -Train\n",
      "\n",
      "\n",
      "\n",
      "              precision    recall  f1-score   support\n",
      "\n",
      "           0       0.64      0.52      0.57       243\n",
      "           1       0.59      0.70      0.64       243\n",
      "\n",
      "    accuracy                           0.61       486\n",
      "   macro avg       0.62      0.61      0.61       486\n",
      "weighted avg       0.62      0.61      0.61       486\n",
      "\n",
      " ROC AUC =  61.1 %\n",
      " Precision =  59.4 %\n",
      " Recall =  70.4 %\n",
      " Accuracy =  61.1 %\n",
      " F1-Score =  64.4 %\n"
     ]
    },
    {
     "data": {
      "text/plain": [
       "array([[126, 117],\n",
       "       [ 72, 171]], dtype=int64)"
      ]
     },
     "execution_count": 183,
     "metadata": {},
     "output_type": "execute_result"
    }
   ],
   "source": [
    "y_predicted = grid.predict(xtrain_sm)\n",
    "\n",
    "print('\\nclassification report -  RF+ SMOTE -Train')\n",
    "print('\\n\\n')\n",
    "print(classification_report(ytrain_sm, y_predicted)) # generate the precision, recall, f-1 score, num\n",
    "print(' ROC AUC = ',str(round(roc_auc_score(ytrain_sm, y_predicted)*100,1)), '%')\n",
    "print(' Precision = ',str(round(precision_score(ytrain_sm, y_predicted)*100,1)), '%')\n",
    "print(' Recall = ',str(round(recall_score(ytrain_sm, y_predicted)*100,1)), '%')\n",
    "print(' Accuracy = ',str(round(accuracy_score(ytrain_sm, y_predicted)*100,1)), '%')\n",
    "print(' F1-Score = ',str(round(f1_score(ytrain_sm, y_predicted)*100,1)), '%')\n",
    "confusion_matrix(ytrain_sm, y_predicted)"
   ]
  },
  {
   "cell_type": "code",
   "execution_count": 184,
   "id": "e2df55d7",
   "metadata": {},
   "outputs": [
    {
     "name": "stdout",
     "output_type": "stream",
     "text": [
      "\n",
      "classification report- RF+ SMOTE -Test\n",
      "\n",
      "\n",
      "\n",
      "              precision    recall  f1-score   support\n",
      "\n",
      "           0       0.58      0.57      0.58        49\n",
      "           1       0.62      0.64      0.63        55\n",
      "\n",
      "    accuracy                           0.61       104\n",
      "   macro avg       0.60      0.60      0.60       104\n",
      "weighted avg       0.61      0.61      0.61       104\n",
      "\n",
      "Random Forest: ROC AUC =  60.4 %\n",
      "Random Forest: Precision =  62.5 %\n",
      "Random Forest: Recall =  63.6 %\n",
      "Random Forest: Accuracy =  60.6 %\n",
      "Random Forest: F1-Score =  63.1 %\n"
     ]
    },
    {
     "data": {
      "text/plain": [
       "array([[28, 21],\n",
       "       [20, 35]], dtype=int64)"
      ]
     },
     "execution_count": 184,
     "metadata": {},
     "output_type": "execute_result"
    }
   ],
   "source": [
    "# Predict the test data\n",
    "y_predicted = grid.predict(xtest)\n",
    "\n",
    "print('\\nclassification report- RF+ SMOTE -Test')\n",
    "print('\\n\\n')\n",
    "print(classification_report(ytest, y_predicted)) # generate the precision, recall, f-1 score, num\n",
    "print('Random Forest: ROC AUC = ',str(round(roc_auc_score(ytest, y_predicted)*100,1)), '%')\n",
    "print('Random Forest: Precision = ',str(round(precision_score(ytest, y_predicted)*100,1)), '%')\n",
    "print('Random Forest: Recall = ',str(round(recall_score(ytest, y_predicted)*100,1)), '%')\n",
    "print('Random Forest: Accuracy = ',str(round(accuracy_score(ytest, y_predicted)*100,1)), '%')\n",
    "print('Random Forest: F1-Score = ',str(round(f1_score(ytest, y_predicted)*100,1)), '%')\n",
    "confusion_matrix(ytest, y_predicted)"
   ]
  },
  {
   "cell_type": "markdown",
   "id": "72d8f578",
   "metadata": {},
   "source": [
    "## GNB"
   ]
  },
  {
   "cell_type": "code",
   "execution_count": 40,
   "id": "ad846122",
   "metadata": {},
   "outputs": [],
   "source": [
    "import random\n",
    "\n",
    "def set_random_seed(seed=100):\n",
    "  np.random.seed(seed)\n",
    "  random.seed(seed)\n",
    "    \n",
    "set_random_seed(100)"
   ]
  },
  {
   "cell_type": "code",
   "execution_count": 44,
   "id": "c9a68a5f",
   "metadata": {},
   "outputs": [
    {
     "data": {
      "text/plain": [
       "GaussianNB(var_smoothing=1)"
      ]
     },
     "execution_count": 44,
     "metadata": {},
     "output_type": "execute_result"
    }
   ],
   "source": [
    "from sklearn.naive_bayes import GaussianNB\n",
    "\n",
    "gnb_clf_hyp = GaussianNB(var_smoothing=1 ) \n",
    "gnb_clf_hyp.fit(xtrain_sm, ytrain_sm)"
   ]
  },
  {
   "cell_type": "code",
   "execution_count": 45,
   "id": "d95def18",
   "metadata": {},
   "outputs": [
    {
     "name": "stdout",
     "output_type": "stream",
     "text": [
      "\n",
      "classification report -  RF+ SMOTE -Train\n",
      "\n",
      "\n",
      "\n",
      "              precision    recall  f1-score   support\n",
      "\n",
      "           0       0.66      0.50      0.57       243\n",
      "           1       0.60      0.74      0.66       243\n",
      "\n",
      "    accuracy                           0.62       486\n",
      "   macro avg       0.63      0.62      0.62       486\n",
      "weighted avg       0.63      0.62      0.62       486\n",
      "\n",
      " ROC AUC =  62.1 %\n",
      " Precision =  59.8 %\n",
      " Recall =  74.1 %\n",
      " Accuracy =  62.1 %\n",
      " F1-Score =  66.2 %\n"
     ]
    },
    {
     "data": {
      "text/plain": [
       "array([[122, 121],\n",
       "       [ 63, 180]], dtype=int64)"
      ]
     },
     "execution_count": 45,
     "metadata": {},
     "output_type": "execute_result"
    }
   ],
   "source": [
    "y_predicted = gnb_clf_hyp.predict(xtrain_sm)\n",
    "\n",
    "print('\\nclassification report -  RF+ SMOTE -Train')\n",
    "print('\\n\\n')\n",
    "print(classification_report(ytrain_sm, y_predicted)) # generate the precision, recall, f-1 score, num\n",
    "print(' ROC AUC = ',str(round(roc_auc_score(ytrain_sm, y_predicted)*100,1)), '%')\n",
    "print(' Precision = ',str(round(precision_score(ytrain_sm, y_predicted)*100,1)), '%')\n",
    "print(' Recall = ',str(round(recall_score(ytrain_sm, y_predicted)*100,1)), '%')\n",
    "print(' Accuracy = ',str(round(accuracy_score(ytrain_sm, y_predicted)*100,1)), '%')\n",
    "print(' F1-Score = ',str(round(f1_score(ytrain_sm, y_predicted)*100,1)), '%')\n",
    "confusion_matrix(ytrain_sm, y_predicted)"
   ]
  },
  {
   "cell_type": "code",
   "execution_count": 46,
   "id": "64a5438b",
   "metadata": {},
   "outputs": [
    {
     "name": "stdout",
     "output_type": "stream",
     "text": [
      "\n",
      "classification report- RF+ SMOTE -Test\n",
      "\n",
      "\n",
      "\n",
      "              precision    recall  f1-score   support\n",
      "\n",
      "           0       0.59      0.49      0.53        49\n",
      "           1       0.60      0.69      0.64        55\n",
      "\n",
      "    accuracy                           0.60       104\n",
      "   macro avg       0.59      0.59      0.59       104\n",
      "weighted avg       0.59      0.60      0.59       104\n",
      "\n",
      "Random Forest: ROC AUC =  59.0 %\n",
      "Random Forest: Precision =  60.3 %\n",
      "Random Forest: Recall =  69.1 %\n",
      "Random Forest: Accuracy =  59.6 %\n",
      "Random Forest: F1-Score =  64.4 %\n"
     ]
    },
    {
     "data": {
      "text/plain": [
       "array([[24, 25],\n",
       "       [17, 38]], dtype=int64)"
      ]
     },
     "execution_count": 46,
     "metadata": {},
     "output_type": "execute_result"
    }
   ],
   "source": [
    "# Predict the test data\n",
    "y_predicted = gnb_clf_hyp.predict(xtest)\n",
    "\n",
    "print('\\nclassification report- RF+ SMOTE -Test')\n",
    "print('\\n\\n')\n",
    "print(classification_report(ytest, y_predicted)) # generate the precision, recall, f-1 score, num\n",
    "print('Random Forest: ROC AUC = ',str(round(roc_auc_score(ytest, y_predicted)*100,1)), '%')\n",
    "print('Random Forest: Precision = ',str(round(precision_score(ytest, y_predicted)*100,1)), '%')\n",
    "print('Random Forest: Recall = ',str(round(recall_score(ytest, y_predicted)*100,1)), '%')\n",
    "print('Random Forest: Accuracy = ',str(round(accuracy_score(ytest, y_predicted)*100,1)), '%')\n",
    "print('Random Forest: F1-Score = ',str(round(f1_score(ytest, y_predicted)*100,1)), '%')\n",
    "confusion_matrix(ytest, y_predicted)"
   ]
  },
  {
   "cell_type": "markdown",
   "id": "ff68209a",
   "metadata": {},
   "source": [
    "## Random Forest"
   ]
  },
  {
   "cell_type": "code",
   "execution_count": 53,
   "id": "ab845fb3",
   "metadata": {},
   "outputs": [],
   "source": [
    "# define models and parameters\n",
    "model = RandomForestClassifier(random_state = 42)\n",
    "param_grid = [    \n",
    "    {'n_estimators' : [2000],\n",
    "    'criterion': [ 'gini' ],\n",
    "    'max_features':[ 'sqrt'],\n",
    "     'min_samples_leaf': [  90], #50\n",
    "     'oob_score':[True],\n",
    "     'min_samples_split':[6]\n",
    "    }\n",
    "]\n",
    "cv = RepeatedStratifiedKFold(n_splits=10, n_repeats=3, random_state=1)\n",
    "grid_search = GridSearchCV(estimator=model, param_grid= param_grid, n_jobs=-1,  cv=cv, scoring='f1',error_score='raise')\n",
    "grid_result = grid_search.fit(xtrain_sm, ytrain_sm)"
   ]
  },
  {
   "cell_type": "code",
   "execution_count": 54,
   "id": "687b3a4b",
   "metadata": {},
   "outputs": [
    {
     "data": {
      "text/plain": [
       "RandomForestClassifier(max_features='sqrt', min_samples_leaf=90,\n",
       "                       min_samples_split=6, n_estimators=2000, oob_score=True,\n",
       "                       random_state=42)"
      ]
     },
     "execution_count": 54,
     "metadata": {},
     "output_type": "execute_result"
    }
   ],
   "source": [
    "grid_search.best_estimator_"
   ]
  },
  {
   "cell_type": "code",
   "execution_count": 55,
   "id": "13428f8e",
   "metadata": {},
   "outputs": [
    {
     "data": {
      "text/plain": [
       "({'criterion': 'gini',\n",
       "  'max_features': 'sqrt',\n",
       "  'min_samples_leaf': 90,\n",
       "  'min_samples_split': 6,\n",
       "  'n_estimators': 2000,\n",
       "  'oob_score': True},\n",
       " 0.6542068599392388)"
      ]
     },
     "execution_count": 55,
     "metadata": {},
     "output_type": "execute_result"
    }
   ],
   "source": [
    "grid_search.best_params_, grid_search.best_score_"
   ]
  },
  {
   "cell_type": "code",
   "execution_count": 56,
   "id": "77b551b5",
   "metadata": {},
   "outputs": [
    {
     "name": "stdout",
     "output_type": "stream",
     "text": [
      "\n",
      "classification report -  RF+ SMOTE -Train\n",
      "\n",
      "\n",
      "\n",
      "              precision    recall  f1-score   support\n",
      "\n",
      "           0       0.67      0.50      0.57       243\n",
      "           1       0.60      0.75      0.67       243\n",
      "\n",
      "    accuracy                           0.63       486\n",
      "   macro avg       0.64      0.63      0.62       486\n",
      "weighted avg       0.64      0.63      0.62       486\n",
      "\n",
      " ROC AUC =  62.8 %\n",
      " Precision =  60.2 %\n",
      " Recall =  75.3 %\n",
      " Accuracy =  62.8 %\n",
      " F1-Score =  66.9 %\n"
     ]
    },
    {
     "data": {
      "text/plain": [
       "array([[122, 121],\n",
       "       [ 60, 183]], dtype=int64)"
      ]
     },
     "execution_count": 56,
     "metadata": {},
     "output_type": "execute_result"
    }
   ],
   "source": [
    "y_predicted = grid_search.predict(xtrain_sm)\n",
    "\n",
    "print('\\nclassification report -  RF+ SMOTE -Train')\n",
    "print('\\n\\n')\n",
    "print(classification_report(ytrain_sm, y_predicted)) # generate the precision, recall, f-1 score, num\n",
    "print(' ROC AUC = ',str(round(roc_auc_score(ytrain_sm, y_predicted)*100,1)), '%')\n",
    "print(' Precision = ',str(round(precision_score(ytrain_sm, y_predicted)*100,1)), '%')\n",
    "print(' Recall = ',str(round(recall_score(ytrain_sm, y_predicted)*100,1)), '%')\n",
    "print(' Accuracy = ',str(round(accuracy_score(ytrain_sm, y_predicted)*100,1)), '%')\n",
    "print(' F1-Score = ',str(round(f1_score(ytrain_sm, y_predicted)*100,1)), '%')\n",
    "confusion_matrix(ytrain_sm, y_predicted)"
   ]
  },
  {
   "cell_type": "code",
   "execution_count": 57,
   "id": "e86bcd53",
   "metadata": {},
   "outputs": [
    {
     "name": "stdout",
     "output_type": "stream",
     "text": [
      "\n",
      "classification report- RF+ SMOTE -Test\n",
      "\n",
      "\n",
      "\n",
      "              precision    recall  f1-score   support\n",
      "\n",
      "           0       0.59      0.47      0.52        49\n",
      "           1       0.60      0.71      0.65        55\n",
      "\n",
      "    accuracy                           0.60       104\n",
      "   macro avg       0.59      0.59      0.59       104\n",
      "weighted avg       0.60      0.60      0.59       104\n",
      "\n",
      "Random Forest: ROC AUC =  58.9 %\n",
      "Random Forest: Precision =  60.0 %\n",
      "Random Forest: Recall =  70.9 %\n",
      "Random Forest: Accuracy =  59.6 %\n",
      "Random Forest: F1-Score =  65.0 %\n"
     ]
    },
    {
     "data": {
      "text/plain": [
       "array([[23, 26],\n",
       "       [16, 39]], dtype=int64)"
      ]
     },
     "execution_count": 57,
     "metadata": {},
     "output_type": "execute_result"
    }
   ],
   "source": [
    "# Predict the test data\n",
    "y_predicted = grid_search.predict( xtest)\n",
    "\n",
    "print('\\nclassification report- RF+ SMOTE -Test')\n",
    "print('\\n\\n')\n",
    "print(classification_report(ytest, y_predicted)) # generate the precision, recall, f-1 score, num\n",
    "print('Random Forest: ROC AUC = ',str(round(roc_auc_score(ytest, y_predicted)*100,1)), '%')\n",
    "print('Random Forest: Precision = ',str(round(precision_score(ytest, y_predicted)*100,1)), '%')\n",
    "print('Random Forest: Recall = ',str(round(recall_score(ytest, y_predicted)*100,1)), '%')\n",
    "print('Random Forest: Accuracy = ',str(round(accuracy_score(ytest, y_predicted)*100,1)), '%')\n",
    "print('Random Forest: F1-Score = ',str(round(f1_score(ytest, y_predicted)*100,1)), '%')\n",
    "confusion_matrix(ytest, y_predicted)"
   ]
  },
  {
   "cell_type": "code",
   "execution_count": 397,
   "id": "3b62c35b",
   "metadata": {},
   "outputs": [],
   "source": [
    "# filename = 'RF+SMOTE.pkl'\n",
    "# pickle.dump(grid_search, open(filename, 'wb'))"
   ]
  },
  {
   "cell_type": "code",
   "execution_count": 58,
   "id": "ddcbf98a",
   "metadata": {},
   "outputs": [
    {
     "data": {
      "image/png": "[encoded data removed]",
      "text/plain": [
       "<Figure size 1000x500 with 1 Axes>"
      ]
     },
     "metadata": {},
     "output_type": "display_data"
    }
   ],
   "source": [
    "# get importance\n",
    "importance = grid_search.best_estimator_.feature_importances_\n",
    "#Important variables\n",
    "importances_rf = pd.DataFrame(data = {'Attribute': train.drop('Winner', axis=1).columns, 'Importance': grid_search.best_estimator_.feature_importances_})\n",
    "importances_rf = importances_rf.sort_values(by='Importance', ascending = False)\n",
    "#plot\n",
    "plt.figure(figsize=(10,5))\n",
    "plt.bar(x=importances_rf['Attribute'], height = importances_rf['Importance'], color = '#087E8B')\n",
    "plt.title('Feature Importance - RF')\n",
    "plt.xticks(rotation='vertical')\n",
    "plt.show()"
   ]
  },
  {
   "cell_type": "markdown",
   "id": "156e3954",
   "metadata": {},
   "source": [
    "## XGBoost"
   ]
  },
  {
   "cell_type": "code",
   "execution_count": 59,
   "id": "a8564db1",
   "metadata": {},
   "outputs": [],
   "source": [
    "import xgboost as xgb"
   ]
  },
  {
   "cell_type": "code",
   "execution_count": 526,
   "id": "6d4f9e5b",
   "metadata": {},
   "outputs": [],
   "source": [
    "# {'n_estimators' : [ 2000],\n",
    "#     'max_depth': [  2 ],# 1,2\n",
    "#     'min_child_weight' : [17 ],\n",
    "#     'gamma' : [  1],\n",
    "#     'learning_rate' : [ 1e-8 ],\n",
    "#     'subsample': [    0.4 ], # 0.35 \n",
    "#     'colsample_bytree':[ 0.35 ],\n",
    "#     'reg_alpha':[  0.0005 ] \n",
    "#     }"
   ]
  },
  {
   "cell_type": "code",
   "execution_count": 60,
   "id": "52b2bc47",
   "metadata": {},
   "outputs": [],
   "source": [
    "model = xgb.XGBClassifier(random_state = 42)\n",
    "\n",
    "param_grid = [    \n",
    "     {'learning_rate' :[1e-4],# 8\n",
    "    'n_estimators':[2000],\n",
    " 'max_depth':[ 3  ], #3 #4 #8\n",
    " 'min_child_weight':[1],\n",
    " 'gamma':[0],\n",
    " 'subsample':[   0.3  ], #0.3\n",
    " 'colsample_bytree':[   0.35  ], #0.35\n",
    " 'objective': ['binary:logistic'],\n",
    " 'nthread':[4],\n",
    " 'scale_pos_weight':[1],\n",
    " 'reg_alpha':[1e-5 ]\n",
    "    }\n",
    "]\n",
    "cv = RepeatedStratifiedKFold(n_splits=10, n_repeats=3, random_state=1)\n",
    "grid_search = GridSearchCV(estimator=model, param_grid= param_grid,  cv=cv, n_jobs = -1, scoring='f1',error_score='raise', verbose=0 )\n",
    "grid_result = grid_search.fit(xtrain_sm, ytrain_sm)"
   ]
  },
  {
   "cell_type": "code",
   "execution_count": 61,
   "id": "0e0c8bd8",
   "metadata": {},
   "outputs": [
    {
     "data": {
      "text/plain": [
       "XGBClassifier(base_score=0.5, booster='gbtree', callbacks=None,\n",
       "              colsample_bylevel=1, colsample_bynode=1, colsample_bytree=0.35,\n",
       "              early_stopping_rounds=None, enable_categorical=False,\n",
       "              eval_metric=None, feature_types=None, gamma=0, gpu_id=-1,\n",
       "              grow_policy='depthwise', importance_type=None,\n",
       "              interaction_constraints='', learning_rate=0.0001, max_bin=256,\n",
       "              max_cat_threshold=64, max_cat_to_onehot=4, max_delta_step=0,\n",
       "              max_depth=3, max_leaves=0, min_child_weight=1, missing=nan,\n",
       "              monotone_constraints='()', n_estimators=2000, n_jobs=4, nthread=4,\n",
       "              num_parallel_tree=1, predictor='auto', ...)"
      ]
     },
     "execution_count": 61,
     "metadata": {},
     "output_type": "execute_result"
    }
   ],
   "source": [
    "grid_search.best_estimator_"
   ]
  },
  {
   "cell_type": "code",
   "execution_count": 62,
   "id": "96e60e46",
   "metadata": {},
   "outputs": [
    {
     "data": {
      "text/plain": [
       "({'colsample_bytree': 0.35,\n",
       "  'gamma': 0,\n",
       "  'learning_rate': 0.0001,\n",
       "  'max_depth': 3,\n",
       "  'min_child_weight': 1,\n",
       "  'n_estimators': 2000,\n",
       "  'nthread': 4,\n",
       "  'objective': 'binary:logistic',\n",
       "  'reg_alpha': 1e-05,\n",
       "  'scale_pos_weight': 1,\n",
       "  'subsample': 0.3},\n",
       " 0.6695758730907084)"
      ]
     },
     "execution_count": 62,
     "metadata": {},
     "output_type": "execute_result"
    }
   ],
   "source": [
    "grid_search.best_params_, grid_search.best_score_"
   ]
  },
  {
   "cell_type": "code",
   "execution_count": 63,
   "id": "ae8aca7e",
   "metadata": {},
   "outputs": [
    {
     "name": "stdout",
     "output_type": "stream",
     "text": [
      "\n",
      "classification report -  XG+ SMOTE -Train\n",
      "\n",
      "\n",
      "\n",
      "              precision    recall  f1-score   support\n",
      "\n",
      "           0       0.72      0.58      0.64       243\n",
      "           1       0.65      0.77      0.70       243\n",
      "\n",
      "    accuracy                           0.67       486\n",
      "   macro avg       0.68      0.67      0.67       486\n",
      "weighted avg       0.68      0.67      0.67       486\n",
      "\n",
      " ROC AUC =  67.5 %\n",
      " Precision =  64.6 %\n",
      " Recall =  77.4 %\n",
      " Accuracy =  67.5 %\n",
      " F1-Score =  70.4 %\n"
     ]
    },
    {
     "data": {
      "text/plain": [
       "array([[140, 103],\n",
       "       [ 55, 188]], dtype=int64)"
      ]
     },
     "execution_count": 63,
     "metadata": {},
     "output_type": "execute_result"
    }
   ],
   "source": [
    "y_predicted = grid_search.predict(xtrain_sm)\n",
    "\n",
    "print('\\nclassification report -  XG+ SMOTE -Train')\n",
    "print('\\n\\n')\n",
    "print(classification_report(ytrain_sm, y_predicted)) # generate the precision, recall, f-1 score, num\n",
    "print(' ROC AUC = ',str(round(roc_auc_score(ytrain_sm, y_predicted)*100,1)), '%')\n",
    "print(' Precision = ',str(round(precision_score(ytrain_sm, y_predicted)*100,1)), '%')\n",
    "print(' Recall = ',str(round(recall_score(ytrain_sm, y_predicted)*100,1)), '%')\n",
    "print(' Accuracy = ',str(round(accuracy_score(ytrain_sm, y_predicted)*100,1)), '%')\n",
    "print(' F1-Score = ',str(round(f1_score(ytrain_sm, y_predicted)*100,1)), '%')\n",
    "confusion_matrix(ytrain_sm, y_predicted)"
   ]
  },
  {
   "cell_type": "code",
   "execution_count": 64,
   "id": "34f49c58",
   "metadata": {},
   "outputs": [
    {
     "name": "stdout",
     "output_type": "stream",
     "text": [
      "\n",
      "classification report- XG+ SMOTE -Test\n",
      "\n",
      "\n",
      "\n",
      "              precision    recall  f1-score   support\n",
      "\n",
      "           0       0.61      0.51      0.56        49\n",
      "           1       0.62      0.71      0.66        55\n",
      "\n",
      "    accuracy                           0.62       104\n",
      "   macro avg       0.61      0.61      0.61       104\n",
      "weighted avg       0.61      0.62      0.61       104\n",
      "\n",
      "Random Forest: ROC AUC =  61.0 %\n",
      "Random Forest: Precision =  61.9 %\n",
      "Random Forest: Recall =  70.9 %\n",
      "Random Forest: Accuracy =  61.5 %\n",
      "Random Forest: F1-Score =  66.1 %\n"
     ]
    },
    {
     "data": {
      "text/plain": [
       "array([[25, 24],\n",
       "       [16, 39]], dtype=int64)"
      ]
     },
     "execution_count": 64,
     "metadata": {},
     "output_type": "execute_result"
    }
   ],
   "source": [
    "# Predict the test data\n",
    "y_predicted = grid_search.predict( xtest)\n",
    "\n",
    "print('\\nclassification report- XG+ SMOTE -Test')\n",
    "print('\\n\\n')\n",
    "print(classification_report(ytest, y_predicted)) # generate the precision, recall, f-1 score, num\n",
    "print('Random Forest: ROC AUC = ',str(round(roc_auc_score(ytest, y_predicted)*100,1)), '%')\n",
    "print('Random Forest: Precision = ',str(round(precision_score(ytest, y_predicted)*100,1)), '%')\n",
    "print('Random Forest: Recall = ',str(round(recall_score(ytest, y_predicted)*100,1)), '%')\n",
    "print('Random Forest: Accuracy = ',str(round(accuracy_score(ytest, y_predicted)*100,1)), '%')\n",
    "print('Random Forest: F1-Score = ',str(round(f1_score(ytest, y_predicted)*100,1)), '%')\n",
    "confusion_matrix(ytest, y_predicted)"
   ]
  },
  {
   "cell_type": "code",
   "execution_count": 553,
   "id": "382fc24b",
   "metadata": {},
   "outputs": [],
   "source": [
    "# filename = 'XG+SMOTE.pkl'\n",
    "# pickle.dump(grid_search, open(filename, 'wb'))"
   ]
  },
  {
   "cell_type": "code",
   "execution_count": 65,
   "id": "3adb957f",
   "metadata": {},
   "outputs": [
    {
     "data": {
      "image/png": "[encoded data removed]",
      "text/plain": [
       "<Figure size 1000x500 with 1 Axes>"
      ]
     },
     "metadata": {},
     "output_type": "display_data"
    }
   ],
   "source": [
    "# get importance\n",
    "importance = grid_search.best_estimator_.feature_importances_\n",
    "#Important variables\n",
    "importances_rf = pd.DataFrame(data = {'Attribute': train.drop('Winner', axis=1).columns, 'Importance': grid_search.best_estimator_.feature_importances_})\n",
    "importances_rf = importances_rf.sort_values(by='Importance', ascending = False)\n",
    "#plot\n",
    "plt.figure(figsize=(10,5))\n",
    "plt.bar(x=importances_rf['Attribute'], height = importances_rf['Importance'], color = '#087E8B')\n",
    "plt.title('Feature Importance - XGBoost')\n",
    "plt.xticks(rotation='vertical')\n",
    "plt.show()"
   ]
  },
  {
   "cell_type": "markdown",
   "id": "f1d29129",
   "metadata": {},
   "source": [
    "## RF-Pred"
   ]
  },
  {
   "cell_type": "code",
   "execution_count": 67,
   "id": "b1b968d4",
   "metadata": {},
   "outputs": [
    {
     "data": {
      "text/plain": [
       "((486, 4), (486,))"
      ]
     },
     "execution_count": 67,
     "metadata": {},
     "output_type": "execute_result"
    }
   ],
   "source": [
    "xtrain = train.drop(['Winner',   'T2_FansPred', 'T1_FansPred' ],\n",
    "                    axis=1)\n",
    "ytrain = train['Winner']\n",
    " \n",
    "xtest = test.drop(['Winner', 'T2_FansPred', 'T1_FansPred' ], axis=1)\n",
    "ytest = test['Winner']\n",
    "\n",
    "st = StandardScaler()\n",
    "xtrain  = st.fit_transform(xtrain)\n",
    "xtest = st.fit_transform(xtest)\n",
    "\n",
    "sm = SMOTE(random_state=100)\n",
    "xtrain_sm, ytrain_sm = sm.fit_resample(  xtrain,ytrain) \n",
    " \n",
    "xtrain_sm.shape, ytrain_sm.shape "
   ]
  },
  {
   "cell_type": "code",
   "execution_count": 68,
   "id": "6a2cce6a",
   "metadata": {},
   "outputs": [],
   "source": [
    "# define models and parameters\n",
    "model = RandomForestClassifier(random_state = 42)\n",
    "param_grid = [    \n",
    "    {'n_estimators' : [2000],\n",
    "    'criterion': [ 'gini'  ],\n",
    "    'max_features':[   0.2 ],\n",
    "     'min_samples_leaf': [ 35, 40, 45], #60\n",
    "     'oob_score':[True],\n",
    "     'min_samples_split':[6]\n",
    "    }\n",
    "]\n",
    "cv = RepeatedStratifiedKFold(n_splits=10, n_repeats=3, random_state=1)\n",
    "grid_search = GridSearchCV(estimator=model, param_grid= param_grid, n_jobs=-1,  cv=cv, scoring='f1',error_score='raise')\n",
    "grid_result = grid_search.fit(xtrain_sm, ytrain_sm)"
   ]
  },
  {
   "cell_type": "code",
   "execution_count": 69,
   "id": "d8d660f1",
   "metadata": {},
   "outputs": [
    {
     "data": {
      "text/plain": [
       "({'criterion': 'gini',\n",
       "  'max_features': 0.2,\n",
       "  'min_samples_leaf': 40,\n",
       "  'min_samples_split': 6,\n",
       "  'n_estimators': 2000,\n",
       "  'oob_score': True},\n",
       " 0.6586346252663398)"
      ]
     },
     "execution_count": 69,
     "metadata": {},
     "output_type": "execute_result"
    }
   ],
   "source": [
    "grid_search.best_params_, grid_search.best_score_"
   ]
  },
  {
   "cell_type": "code",
   "execution_count": 70,
   "id": "2bc21b76",
   "metadata": {},
   "outputs": [
    {
     "name": "stdout",
     "output_type": "stream",
     "text": [
      "\n",
      "classification report -  RF+ SMOTE -Train\n",
      "\n",
      "\n",
      "\n",
      "              precision    recall  f1-score   support\n",
      "\n",
      "           0       0.68      0.49      0.57       243\n",
      "           1       0.60      0.77      0.68       243\n",
      "\n",
      "    accuracy                           0.63       486\n",
      "   macro avg       0.64      0.63      0.62       486\n",
      "weighted avg       0.64      0.63      0.62       486\n",
      "\n",
      " ROC AUC =  63.0 %\n",
      " Precision =  60.1 %\n",
      " Recall =  77.0 %\n",
      " Accuracy =  63.0 %\n",
      " F1-Score =  67.5 %\n"
     ]
    },
    {
     "data": {
      "text/plain": [
       "array([[119, 124],\n",
       "       [ 56, 187]], dtype=int64)"
      ]
     },
     "execution_count": 70,
     "metadata": {},
     "output_type": "execute_result"
    }
   ],
   "source": [
    "y_predicted = grid_search.predict(xtrain_sm)\n",
    "\n",
    "print('\\nclassification report -  RF+ SMOTE -Train')\n",
    "print('\\n\\n')\n",
    "print(classification_report(ytrain_sm, y_predicted)) # generate the precision, recall, f-1 score, num\n",
    "print(' ROC AUC = ',str(round(roc_auc_score(ytrain_sm, y_predicted)*100,1)), '%')\n",
    "print(' Precision = ',str(round(precision_score(ytrain_sm, y_predicted)*100,1)), '%')\n",
    "print(' Recall = ',str(round(recall_score(ytrain_sm, y_predicted)*100,1)), '%')\n",
    "print(' Accuracy = ',str(round(accuracy_score(ytrain_sm, y_predicted)*100,1)), '%')\n",
    "print(' F1-Score = ',str(round(f1_score(ytrain_sm, y_predicted)*100,1)), '%')\n",
    "confusion_matrix(ytrain_sm, y_predicted)"
   ]
  },
  {
   "cell_type": "code",
   "execution_count": 71,
   "id": "dba5ad87",
   "metadata": {},
   "outputs": [
    {
     "name": "stdout",
     "output_type": "stream",
     "text": [
      "\n",
      "classification report- RF+ SMOTE -Test\n",
      "\n",
      "\n",
      "\n",
      "              precision    recall  f1-score   support\n",
      "\n",
      "           0       0.61      0.47      0.53        49\n",
      "           1       0.61      0.73      0.66        55\n",
      "\n",
      "    accuracy                           0.61       104\n",
      "   macro avg       0.61      0.60      0.59       104\n",
      "weighted avg       0.61      0.61      0.60       104\n",
      "\n",
      "Random Forest: ROC AUC =  59.8 %\n",
      "Random Forest: Precision =  60.6 %\n",
      "Random Forest: Recall =  72.7 %\n",
      "Random Forest: Accuracy =  60.6 %\n",
      "Random Forest: F1-Score =  66.1 %\n"
     ]
    },
    {
     "data": {
      "text/plain": [
       "array([[23, 26],\n",
       "       [15, 40]], dtype=int64)"
      ]
     },
     "execution_count": 71,
     "metadata": {},
     "output_type": "execute_result"
    }
   ],
   "source": [
    "# Predict the test data\n",
    "y_predicted = grid_search.predict( xtest)\n",
    "\n",
    "print('\\nclassification report- RF+ SMOTE -Test')\n",
    "print('\\n\\n')\n",
    "print(classification_report(ytest, y_predicted)) # generate the precision, recall, f-1 score, num\n",
    "print('Random Forest: ROC AUC = ',str(round(roc_auc_score(ytest, y_predicted)*100,1)), '%')\n",
    "print('Random Forest: Precision = ',str(round(precision_score(ytest, y_predicted)*100,1)), '%')\n",
    "print('Random Forest: Recall = ',str(round(recall_score(ytest, y_predicted)*100,1)), '%')\n",
    "print('Random Forest: Accuracy = ',str(round(accuracy_score(ytest, y_predicted)*100,1)), '%')\n",
    "print('Random Forest: F1-Score = ',str(round(f1_score(ytest, y_predicted)*100,1)), '%')\n",
    "confusion_matrix(ytest, y_predicted)"
   ]
  },
  {
   "cell_type": "code",
   "execution_count": 72,
   "id": "da27f271",
   "metadata": {},
   "outputs": [],
   "source": [
    "# filename = 'RF-Pred+SMOTE.pkl'\n",
    "# pickle.dump(grid_search, open(filename, 'wb'))"
   ]
  },
  {
   "cell_type": "markdown",
   "id": "09bd4241",
   "metadata": {},
   "source": [
    "## XGB-Pred"
   ]
  },
  {
   "cell_type": "code",
   "execution_count": 74,
   "id": "e238ff0d",
   "metadata": {},
   "outputs": [
    {
     "data": {
      "text/plain": [
       "((486, 4), (486,))"
      ]
     },
     "execution_count": 74,
     "metadata": {},
     "output_type": "execute_result"
    }
   ],
   "source": [
    "xtrain = train.drop(['Winner',   'T2_FansPred' , 'T1_FansPred' ],\n",
    "                    axis=1)\n",
    "ytrain = train['Winner']\n",
    " \n",
    "xtest = test.drop(['Winner', 'T2_FansPred', 'T1_FansPred' ], axis=1)\n",
    "ytest = test['Winner']\n",
    "\n",
    "st = StandardScaler()\n",
    "xtrain  = st.fit_transform(xtrain)\n",
    "xtest = st.fit_transform(xtest)\n",
    "\n",
    "sm = SMOTE(random_state=100)\n",
    "xtrain_sm, ytrain_sm = sm.fit_resample(  xtrain,ytrain) \n",
    " \n",
    "xtrain_sm.shape, ytrain_sm.shape "
   ]
  },
  {
   "cell_type": "code",
   "execution_count": 45,
   "id": "e0e45f1a",
   "metadata": {},
   "outputs": [],
   "source": [
    "# {'n_estimators' : [ 2000],\n",
    "#     'max_depth': [  2 ],# 1,2\n",
    "#     'min_child_weight' : [15 ],\n",
    "#     'gamma' : [  1],\n",
    "#     'learning_rate' : [ 1e-8 ],#0.000001\n",
    "#     'subsample': [    0.35], # 0.35 \n",
    "#     'colsample_bytree':[ 0.5 ],\n",
    "#     'reg_alpha':[  0.0005 ] \n",
    "#     }"
   ]
  },
  {
   "cell_type": "code",
   "execution_count": 75,
   "id": "0d4b3b0a",
   "metadata": {},
   "outputs": [],
   "source": [
    "model = xgb.XGBClassifier(random_state = 42)\n",
    "\n",
    "param_grid = [    \n",
    "    {'learning_rate' :[1e-4],# 4\n",
    "    'n_estimators':[2000],\n",
    " 'max_depth':[4], #5\n",
    " 'min_child_weight':[2], #1\n",
    " 'gamma':[0],\n",
    " 'subsample':[   0.6 ], #0.5\n",
    " 'colsample_bytree':[  0.75], #0.9\n",
    " 'objective': ['binary:logistic'],\n",
    " 'nthread':[4],\n",
    " 'scale_pos_weight':[1],\n",
    " 'reg_alpha':[1e-5 ]\n",
    "    }\n",
    "]\n",
    "cv = RepeatedStratifiedKFold(n_splits=10, n_repeats=3, random_state=1)\n",
    "grid_search = GridSearchCV(estimator=model, param_grid= param_grid,  cv=cv, n_jobs = -1, scoring='f1',error_score='raise', verbose=0 )\n",
    "grid_result = grid_search.fit(xtrain_sm, ytrain_sm)"
   ]
  },
  {
   "cell_type": "code",
   "execution_count": 76,
   "id": "ae282dc7",
   "metadata": {},
   "outputs": [
    {
     "name": "stdout",
     "output_type": "stream",
     "text": [
      "\n",
      "classification report -  XG+ SMOTE -Train\n",
      "\n",
      "\n",
      "\n",
      "              precision    recall  f1-score   support\n",
      "\n",
      "           0       0.77      0.65      0.70       243\n",
      "           1       0.70      0.81      0.75       243\n",
      "\n",
      "    accuracy                           0.73       486\n",
      "   macro avg       0.73      0.73      0.72       486\n",
      "weighted avg       0.73      0.73      0.72       486\n",
      "\n",
      " ROC AUC =  72.6 %\n",
      " Precision =  69.5 %\n",
      " Recall =  80.7 %\n",
      " Accuracy =  72.6 %\n",
      " F1-Score =  74.7 %\n"
     ]
    },
    {
     "data": {
      "text/plain": [
       "array([[157,  86],\n",
       "       [ 47, 196]], dtype=int64)"
      ]
     },
     "execution_count": 76,
     "metadata": {},
     "output_type": "execute_result"
    }
   ],
   "source": [
    "y_predicted = grid_search.predict(xtrain_sm)\n",
    "\n",
    "print('\\nclassification report -  XG+ SMOTE -Train')\n",
    "print('\\n\\n')\n",
    "print(classification_report(ytrain_sm, y_predicted)) # generate the precision, recall, f-1 score, num\n",
    "print(' ROC AUC = ',str(round(roc_auc_score(ytrain_sm, y_predicted)*100,1)), '%')\n",
    "print(' Precision = ',str(round(precision_score(ytrain_sm, y_predicted)*100,1)), '%')\n",
    "print(' Recall = ',str(round(recall_score(ytrain_sm, y_predicted)*100,1)), '%')\n",
    "print(' Accuracy = ',str(round(accuracy_score(ytrain_sm, y_predicted)*100,1)), '%')\n",
    "print(' F1-Score = ',str(round(f1_score(ytrain_sm, y_predicted)*100,1)), '%')\n",
    "confusion_matrix(ytrain_sm, y_predicted)"
   ]
  },
  {
   "cell_type": "code",
   "execution_count": 77,
   "id": "49888297",
   "metadata": {},
   "outputs": [
    {
     "name": "stdout",
     "output_type": "stream",
     "text": [
      "\n",
      "classification report- XG+ SMOTE -Test\n",
      "\n",
      "\n",
      "\n",
      "              precision    recall  f1-score   support\n",
      "\n",
      "           0       0.69      0.51      0.59        49\n",
      "           1       0.65      0.80      0.72        55\n",
      "\n",
      "    accuracy                           0.66       104\n",
      "   macro avg       0.67      0.66      0.65       104\n",
      "weighted avg       0.67      0.66      0.66       104\n",
      "\n",
      "Random Forest: ROC AUC =  65.5 %\n",
      "Random Forest: Precision =  64.7 %\n",
      "Random Forest: Recall =  80.0 %\n",
      "Random Forest: Accuracy =  66.3 %\n",
      "Random Forest: F1-Score =  71.5 %\n"
     ]
    },
    {
     "data": {
      "text/plain": [
       "array([[25, 24],\n",
       "       [11, 44]], dtype=int64)"
      ]
     },
     "execution_count": 77,
     "metadata": {},
     "output_type": "execute_result"
    }
   ],
   "source": [
    "# Predict the test data\n",
    "y_predicted = grid_search.predict( xtest)\n",
    "\n",
    "print('\\nclassification report- XG+ SMOTE -Test')\n",
    "print('\\n\\n')\n",
    "print(classification_report(ytest, y_predicted)) # generate the precision, recall, f-1 score, num\n",
    "print('Random Forest: ROC AUC = ',str(round(roc_auc_score(ytest, y_predicted)*100,1)), '%')\n",
    "print('Random Forest: Precision = ',str(round(precision_score(ytest, y_predicted)*100,1)), '%')\n",
    "print('Random Forest: Recall = ',str(round(recall_score(ytest, y_predicted)*100,1)), '%')\n",
    "print('Random Forest: Accuracy = ',str(round(accuracy_score(ytest, y_predicted)*100,1)), '%')\n",
    "print('Random Forest: F1-Score = ',str(round(f1_score(ytest, y_predicted)*100,1)), '%')\n",
    "confusion_matrix(ytest, y_predicted)"
   ]
  },
  {
   "cell_type": "code",
   "execution_count": 98,
   "id": "09313716",
   "metadata": {},
   "outputs": [],
   "source": [
    "# filename = 'XG-Pred+SMOTE.pkl'\n",
    "# pickle.dump(grid_search, open(filename, 'wb'))"
   ]
  }
 ],
 "metadata": {
  "kernelspec": {
   "display_name": "Python 3 (ipykernel)",
   "language": "python",
   "name": "python3"
  },
  "language_info": {
   "codemirror_mode": {
    "name": "ipython",
    "version": 3
   },
   "file_extension": ".py",
   "mimetype": "text/x-python",
   "name": "python",
   "nbconvert_exporter": "python",
   "pygments_lexer": "ipython3",
   "version": "3.9.13"
  }
 },
 "nbformat": 4,
 "nbformat_minor": 5
}
