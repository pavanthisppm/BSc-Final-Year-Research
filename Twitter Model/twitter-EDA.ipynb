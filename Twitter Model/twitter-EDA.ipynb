{
 "cells": [
  {
   "cell_type": "code",
   "execution_count": 1,
   "id": "debab146",
   "metadata": {},
   "outputs": [],
   "source": [
    "import warnings\n",
    "warnings.filterwarnings('ignore')\n",
    "import pandas as pd\n",
    "import numpy as np\n",
    "from sklearn.model_selection import train_test_split\n",
    "import matplotlib.pyplot as plt\n",
    "import seaborn as sns\n",
    "import prince\n",
    "import factor_analyzer\n",
    "\n",
    "from imblearn.over_sampling import SMOTE\n",
    "from imblearn.over_sampling import ADASYN\n",
    "from sklearn.preprocessing import RobustScaler\n",
    "from sklearn.preprocessing import StandardScaler\n",
    "from factor_analyzer import FactorAnalyzer\n",
    "from sklearn.decomposition import PCA\n",
    "\n",
    "from sklearn.metrics import classification_report\n",
    "from sklearn.metrics import roc_auc_score\n",
    "from sklearn.metrics import precision_score\n",
    "from sklearn.metrics import recall_score\n",
    "from sklearn.metrics import accuracy_score\n",
    "from sklearn.metrics import confusion_matrix\n",
    "from sklearn.metrics import f1_score\n",
    "\n",
    "import plotly.express as px\n",
    "from sklearn.decomposition import PCA\n",
    "from sklearn.pipeline import Pipeline"
   ]
  },
  {
   "cell_type": "code",
   "execution_count": 2,
   "id": "e05fb910",
   "metadata": {},
   "outputs": [
    {
     "data": {
      "text/html": [
       "<div>\n",
       "<style scoped>\n",
       "    .dataframe tbody tr th:only-of-type {\n",
       "        vertical-align: middle;\n",
       "    }\n",
       "\n",
       "    .dataframe tbody tr th {\n",
       "        vertical-align: top;\n",
       "    }\n",
       "\n",
       "    .dataframe thead th {\n",
       "        text-align: right;\n",
       "    }\n",
       "</style>\n",
       "<table border=\"1\" class=\"dataframe\">\n",
       "  <thead>\n",
       "    <tr style=\"text-align: right;\">\n",
       "      <th></th>\n",
       "      <th>Winner</th>\n",
       "      <th>T1_TwitterVol</th>\n",
       "      <th>T2_TwitterVol</th>\n",
       "      <th>T1_FansSent</th>\n",
       "      <th>T2_FansSent</th>\n",
       "      <th>T1_FansPred</th>\n",
       "      <th>T2_FansPred</th>\n",
       "    </tr>\n",
       "  </thead>\n",
       "  <tbody>\n",
       "    <tr>\n",
       "      <th>0</th>\n",
       "      <td>0</td>\n",
       "      <td>0.571429</td>\n",
       "      <td>0.428571</td>\n",
       "      <td>0.571429</td>\n",
       "      <td>0.380952</td>\n",
       "      <td>0.000000</td>\n",
       "      <td>0.000000</td>\n",
       "    </tr>\n",
       "    <tr>\n",
       "      <th>1</th>\n",
       "      <td>0</td>\n",
       "      <td>0.837838</td>\n",
       "      <td>0.162162</td>\n",
       "      <td>0.648649</td>\n",
       "      <td>0.162162</td>\n",
       "      <td>0.000000</td>\n",
       "      <td>0.000000</td>\n",
       "    </tr>\n",
       "    <tr>\n",
       "      <th>2</th>\n",
       "      <td>1</td>\n",
       "      <td>0.356688</td>\n",
       "      <td>0.643312</td>\n",
       "      <td>0.299363</td>\n",
       "      <td>0.535032</td>\n",
       "      <td>0.333333</td>\n",
       "      <td>0.666667</td>\n",
       "    </tr>\n",
       "    <tr>\n",
       "      <th>3</th>\n",
       "      <td>0</td>\n",
       "      <td>0.464286</td>\n",
       "      <td>0.535714</td>\n",
       "      <td>0.464286</td>\n",
       "      <td>0.464286</td>\n",
       "      <td>0.000000</td>\n",
       "      <td>0.000000</td>\n",
       "    </tr>\n",
       "    <tr>\n",
       "      <th>4</th>\n",
       "      <td>1</td>\n",
       "      <td>0.695652</td>\n",
       "      <td>0.304348</td>\n",
       "      <td>0.565217</td>\n",
       "      <td>0.282609</td>\n",
       "      <td>0.000000</td>\n",
       "      <td>0.000000</td>\n",
       "    </tr>\n",
       "  </tbody>\n",
       "</table>\n",
       "</div>"
      ],
      "text/plain": [
       "   Winner  T1_TwitterVol  T2_TwitterVol  T1_FansSent  T2_FansSent  \\\n",
       "0       0       0.571429       0.428571     0.571429     0.380952   \n",
       "1       0       0.837838       0.162162     0.648649     0.162162   \n",
       "2       1       0.356688       0.643312     0.299363     0.535032   \n",
       "3       0       0.464286       0.535714     0.464286     0.464286   \n",
       "4       1       0.695652       0.304348     0.565217     0.282609   \n",
       "\n",
       "   T1_FansPred  T2_FansPred  \n",
       "0     0.000000     0.000000  \n",
       "1     0.000000     0.000000  \n",
       "2     0.333333     0.666667  \n",
       "3     0.000000     0.000000  \n",
       "4     0.000000     0.000000  "
      ]
     },
     "execution_count": 2,
     "metadata": {},
     "output_type": "execute_result"
    }
   ],
   "source": [
    "data = pd.read_csv(\"twitter-featured.csv\")\n",
    "data = data.drop('Unnamed: 0', axis=1)\n",
    "data.head()"
   ]
  },
  {
   "cell_type": "code",
   "execution_count": 3,
   "id": "9aee6206",
   "metadata": {},
   "outputs": [],
   "source": [
    "# train test split\n",
    "train, test= train_test_split(data, test_size = 0.2, random_state = 100)"
   ]
  },
  {
   "cell_type": "code",
   "execution_count": 4,
   "id": "a97f6eb8",
   "metadata": {},
   "outputs": [
    {
     "data": {
      "text/plain": [
       "((415, 7), (104, 7))"
      ]
     },
     "execution_count": 4,
     "metadata": {},
     "output_type": "execute_result"
    }
   ],
   "source": [
    "train.shape, test.shape"
   ]
  },
  {
   "cell_type": "code",
   "execution_count": 5,
   "id": "76c16555",
   "metadata": {},
   "outputs": [
    {
     "data": {
      "text/plain": [
       "Index(['Winner', 'T1_TwitterVol', 'T2_TwitterVol', 'T1_FansSent',\n",
       "       'T2_FansSent', 'T1_FansPred', 'T2_FansPred'],\n",
       "      dtype='object')"
      ]
     },
     "execution_count": 5,
     "metadata": {},
     "output_type": "execute_result"
    }
   ],
   "source": [
    "train.columns"
   ]
  },
  {
   "cell_type": "code",
   "execution_count": 6,
   "id": "dadf413d",
   "metadata": {},
   "outputs": [
    {
     "data": {
      "text/plain": [
       "Winner           0\n",
       "T1_TwitterVol    0\n",
       "T2_TwitterVol    0\n",
       "T1_FansSent      0\n",
       "T2_FansSent      0\n",
       "T1_FansPred      0\n",
       "T2_FansPred      0\n",
       "dtype: int64"
      ]
     },
     "execution_count": 6,
     "metadata": {},
     "output_type": "execute_result"
    }
   ],
   "source": [
    "train.isnull().sum()"
   ]
  },
  {
   "cell_type": "code",
   "execution_count": 7,
   "id": "206fb48b",
   "metadata": {},
   "outputs": [
    {
     "data": {
      "text/plain": [
       "0"
      ]
     },
     "execution_count": 7,
     "metadata": {},
     "output_type": "execute_result"
    }
   ],
   "source": [
    "train.duplicated().sum()"
   ]
  },
  {
   "cell_type": "code",
   "execution_count": 8,
   "id": "7401d657",
   "metadata": {},
   "outputs": [
    {
     "data": {
      "text/html": [
       "<div>\n",
       "<style scoped>\n",
       "    .dataframe tbody tr th:only-of-type {\n",
       "        vertical-align: middle;\n",
       "    }\n",
       "\n",
       "    .dataframe tbody tr th {\n",
       "        vertical-align: top;\n",
       "    }\n",
       "\n",
       "    .dataframe thead th {\n",
       "        text-align: right;\n",
       "    }\n",
       "</style>\n",
       "<table border=\"1\" class=\"dataframe\">\n",
       "  <thead>\n",
       "    <tr style=\"text-align: right;\">\n",
       "      <th></th>\n",
       "      <th>Winner</th>\n",
       "      <th>T1_TwitterVol</th>\n",
       "      <th>T2_TwitterVol</th>\n",
       "      <th>T1_FansSent</th>\n",
       "      <th>T2_FansSent</th>\n",
       "      <th>T1_FansPred</th>\n",
       "      <th>T2_FansPred</th>\n",
       "    </tr>\n",
       "  </thead>\n",
       "  <tbody>\n",
       "    <tr>\n",
       "      <th>count</th>\n",
       "      <td>415.000000</td>\n",
       "      <td>415.000000</td>\n",
       "      <td>415.000000</td>\n",
       "      <td>415.000000</td>\n",
       "      <td>415.000000</td>\n",
       "      <td>415.000000</td>\n",
       "      <td>415.000000</td>\n",
       "    </tr>\n",
       "    <tr>\n",
       "      <th>mean</th>\n",
       "      <td>0.585542</td>\n",
       "      <td>0.588332</td>\n",
       "      <td>0.411668</td>\n",
       "      <td>0.501247</td>\n",
       "      <td>0.339031</td>\n",
       "      <td>0.503808</td>\n",
       "      <td>0.286553</td>\n",
       "    </tr>\n",
       "    <tr>\n",
       "      <th>std</th>\n",
       "      <td>0.493223</td>\n",
       "      <td>0.206134</td>\n",
       "      <td>0.206134</td>\n",
       "      <td>0.197547</td>\n",
       "      <td>0.182109</td>\n",
       "      <td>0.406386</td>\n",
       "      <td>0.345680</td>\n",
       "    </tr>\n",
       "    <tr>\n",
       "      <th>min</th>\n",
       "      <td>0.000000</td>\n",
       "      <td>0.054264</td>\n",
       "      <td>0.020305</td>\n",
       "      <td>0.030303</td>\n",
       "      <td>0.015228</td>\n",
       "      <td>0.000000</td>\n",
       "      <td>0.000000</td>\n",
       "    </tr>\n",
       "    <tr>\n",
       "      <th>25%</th>\n",
       "      <td>0.000000</td>\n",
       "      <td>0.444379</td>\n",
       "      <td>0.247180</td>\n",
       "      <td>0.345150</td>\n",
       "      <td>0.190363</td>\n",
       "      <td>0.000000</td>\n",
       "      <td>0.000000</td>\n",
       "    </tr>\n",
       "    <tr>\n",
       "      <th>50%</th>\n",
       "      <td>1.000000</td>\n",
       "      <td>0.627451</td>\n",
       "      <td>0.372549</td>\n",
       "      <td>0.521902</td>\n",
       "      <td>0.302292</td>\n",
       "      <td>0.600000</td>\n",
       "      <td>0.169492</td>\n",
       "    </tr>\n",
       "    <tr>\n",
       "      <th>75%</th>\n",
       "      <td>1.000000</td>\n",
       "      <td>0.752820</td>\n",
       "      <td>0.555621</td>\n",
       "      <td>0.668013</td>\n",
       "      <td>0.461738</td>\n",
       "      <td>0.875000</td>\n",
       "      <td>0.500000</td>\n",
       "    </tr>\n",
       "    <tr>\n",
       "      <th>max</th>\n",
       "      <td>1.000000</td>\n",
       "      <td>0.979695</td>\n",
       "      <td>0.945736</td>\n",
       "      <td>0.903553</td>\n",
       "      <td>0.833333</td>\n",
       "      <td>1.000000</td>\n",
       "      <td>1.000000</td>\n",
       "    </tr>\n",
       "  </tbody>\n",
       "</table>\n",
       "</div>"
      ],
      "text/plain": [
       "           Winner  T1_TwitterVol  T2_TwitterVol  T1_FansSent  T2_FansSent  \\\n",
       "count  415.000000     415.000000     415.000000   415.000000   415.000000   \n",
       "mean     0.585542       0.588332       0.411668     0.501247     0.339031   \n",
       "std      0.493223       0.206134       0.206134     0.197547     0.182109   \n",
       "min      0.000000       0.054264       0.020305     0.030303     0.015228   \n",
       "25%      0.000000       0.444379       0.247180     0.345150     0.190363   \n",
       "50%      1.000000       0.627451       0.372549     0.521902     0.302292   \n",
       "75%      1.000000       0.752820       0.555621     0.668013     0.461738   \n",
       "max      1.000000       0.979695       0.945736     0.903553     0.833333   \n",
       "\n",
       "       T1_FansPred  T2_FansPred  \n",
       "count   415.000000   415.000000  \n",
       "mean      0.503808     0.286553  \n",
       "std       0.406386     0.345680  \n",
       "min       0.000000     0.000000  \n",
       "25%       0.000000     0.000000  \n",
       "50%       0.600000     0.169492  \n",
       "75%       0.875000     0.500000  \n",
       "max       1.000000     1.000000  "
      ]
     },
     "execution_count": 8,
     "metadata": {},
     "output_type": "execute_result"
    }
   ],
   "source": [
    "train.describe()"
   ]
  },
  {
   "cell_type": "code",
   "execution_count": 9,
   "id": "0b54cefe",
   "metadata": {},
   "outputs": [
    {
     "data": {
      "text/plain": [
       "1    243\n",
       "0    172\n",
       "Name: Winner, dtype: int64"
      ]
     },
     "execution_count": 9,
     "metadata": {},
     "output_type": "execute_result"
    }
   ],
   "source": [
    "## Target variable\n",
    "train['Winner'].value_counts()"
   ]
  },
  {
   "cell_type": "code",
   "execution_count": 10,
   "id": "b7887a15",
   "metadata": {},
   "outputs": [
    {
     "data": {
      "image/png": "[encoded data removed]",
      "text/plain": [
       "<Figure size 500x300 with 2 Axes>"
      ]
     },
     "metadata": {},
     "output_type": "display_data"
    },
    {
     "data": {
      "image/png": "[encoded data removed]",
      "text/plain": [
       "<Figure size 500x300 with 2 Axes>"
      ]
     },
     "metadata": {},
     "output_type": "display_data"
    },
    {
     "data": {
      "image/png": "[encoded data removed]",
      "text/plain": [
       "<Figure size 500x300 with 2 Axes>"
      ]
     },
     "metadata": {},
     "output_type": "display_data"
    },
    {
     "data": {
      "image/png": "[encoded data removed]",
      "text/plain": [
       "<Figure size 500x300 with 2 Axes>"
      ]
     },
     "metadata": {},
     "output_type": "display_data"
    },
    {
     "data": {
      "image/png": "[encoded data removed]",
      "text/plain": [
       "<Figure size 500x300 with 2 Axes>"
      ]
     },
     "metadata": {},
     "output_type": "display_data"
    },
    {
     "data": {
      "image/png": "[encoded data removed]",
      "text/plain": [
       "<Figure size 500x300 with 2 Axes>"
      ]
     },
     "metadata": {},
     "output_type": "display_data"
    }
   ],
   "source": [
    "numerical = train.drop('Winner', axis=1).columns\n",
    "for col in numerical:\n",
    "    fig, ax = plt.subplots(1, 2, figsize=(5,3))\n",
    "    sns.histplot(data=train, x=col, ax=ax[0],color='#B87740',  kde=True, hue='Winner')\n",
    "    sns.boxplot(data=train, x=col, ax=ax[1],color='#B87740');\n",
    "\n",
    "fig.savefig('outliers.png')"
   ]
  },
  {
   "cell_type": "code",
   "execution_count": 11,
   "id": "9b131c01",
   "metadata": {},
   "outputs": [
    {
     "data": {
      "image/png": "[encoded data removed]",
      "text/plain": [
       "<Figure size 1500x1000 with 2 Axes>"
      ]
     },
     "metadata": {},
     "output_type": "display_data"
    }
   ],
   "source": [
    "## correlation plot\n",
    "# Correlation matrix - quantitative variables\n",
    "plt.figure(figsize=(15,10))\n",
    "sns.heatmap(train.drop(['Winner'], axis=1).corr(),cbar=True, fmt='.1f', annot=True, annot_kws={'size':8}, cmap='Blues_r')\n",
    "plt.show()"
   ]
  },
  {
   "cell_type": "code",
   "execution_count": 20,
   "id": "ecee7e39",
   "metadata": {},
   "outputs": [
    {
     "data": {
      "image/png": "[encoded data removed]",
      "text/plain": [
       "<Figure size 640x480 with 2 Axes>"
      ]
     },
     "metadata": {},
     "output_type": "display_data"
    },
    {
     "data": {
      "text/plain": [
       "{'corr':                T1_TwitterVol  T2_TwitterVol  T1_FansSent  T2_FansSent  \\\n",
       " T1_TwitterVol       1.000000      -1.000000     0.933431    -0.973184   \n",
       " T2_TwitterVol      -1.000000       1.000000    -0.933431     0.973184   \n",
       " T1_FansSent         0.933431      -0.933431     1.000000    -0.901778   \n",
       " T2_FansSent        -0.973184       0.973184    -0.901778     1.000000   \n",
       " T1_FansPred         0.519256      -0.519256     0.520173    -0.504099   \n",
       " T2_FansPred        -0.408191       0.408191    -0.409004     0.387070   \n",
       " \n",
       "                T1_FansPred  T2_FansPred  \n",
       " T1_TwitterVol     0.519256    -0.408191  \n",
       " T2_TwitterVol    -0.519256     0.408191  \n",
       " T1_FansSent       0.520173    -0.409004  \n",
       " T2_FansSent      -0.504099     0.387070  \n",
       " T1_FansPred       1.000000    -0.421962  \n",
       " T2_FansPred      -0.421962     1.000000  ,\n",
       " 'ax': <AxesSubplot:>}"
      ]
     },
     "execution_count": 20,
     "metadata": {},
     "output_type": "execute_result"
    }
   ],
   "source": [
    "# dython - all the variables\n",
    "from dython.nominal import associations\n",
    "associations(train.drop(['Winner'], axis=1), fmt='.1f', cmap='Blues_r')"
   ]
  },
  {
   "cell_type": "code",
   "execution_count": 8,
   "id": "78aa240f",
   "metadata": {},
   "outputs": [
    {
     "data": {
      "image/png": "[encoded data removed]",
      "text/plain": [
       "<Figure size 640x480 with 2 Axes>"
      ]
     },
     "metadata": {},
     "output_type": "display_data"
    },
    {
     "data": {
      "text/plain": [
       "{'corr':                T1_TwitterVol  T2_TwitterVol  T1_FansSent  T2_FansSent\n",
       " T1_TwitterVol       1.000000      -1.000000     0.933431    -0.973184\n",
       " T2_TwitterVol      -1.000000       1.000000    -0.933431     0.973184\n",
       " T1_FansSent         0.933431      -0.933431     1.000000    -0.901778\n",
       " T2_FansSent        -0.973184       0.973184    -0.901778     1.000000,\n",
       " 'ax': <Axes: >}"
      ]
     },
     "execution_count": 8,
     "metadata": {},
     "output_type": "execute_result"
    }
   ],
   "source": [
    "# dython\n",
    "from dython.nominal import associations\n",
    "associations(train.drop(['Winner', 'T1_FansPred', 'T2_FansPred'], axis=1), fmt='.1f', cmap='Blues_r')"
   ]
  },
  {
   "cell_type": "code",
   "execution_count": 25,
   "id": "8a3e217f",
   "metadata": {},
   "outputs": [
    {
     "data": {
      "application/vnd.plotly.v1+json": {
       "config": {
        "plotlyServerURL": "https://plot.ly"
       },
       "data": [
        {
         "hovertemplate": "PC 1=%{x}<br>PC 2=%{y}<br>PC 3=%{z}<br>color=%{marker.color}<extra></extra>",
         "legendgroup": "",
         "marker": {
          "color": [
           0,
           0,
           1,
           0,
           1,
           0,
           1,
           0,
           1,
           0,
           1,
           1,
           1,
           1,
           1,
           0,
           0,
           0,
           1,
           0,
           1,
           0,
           0,
           1,
           0,
           1,
           0,
           1,
           0,
           0,
           1,
           1,
           1,
           0,
           0,
           0,
           1,
           0,
           1,
           1,
           0,
           0,
           1,
           1,
           1,
           1,
           0,
           1,
           0,
           0,
           0,
           1,
           1,
           0,
           1,
           1,
           1,
           0,
           1,
           0,
           0,
           1,
           0,
           1,
           1,
           1,
           1,
           0,
           1,
           1,
           1,
           0,
           1,
           0,
           0,
           0,
           1,
           1,
           1,
           1,
           1,
           1,
           0,
           1,
           1,
           1,
           1,
           0,
           0,
           1,
           0,
           1,
           0,
           0,
           0,
           0,
           0,
           1,
           1,
           1,
           1,
           0,
           1,
           0,
           0,
           1,
           1,
           1,
           1,
           0,
           1,
           1,
           1,
           1,
           0,
           0,
           1,
           1,
           0,
           0,
           1,
           1,
           0,
           1,
           1,
           1,
           0,
           0,
           1,
           1,
           0,
           1,
           0,
           1,
           0,
           0,
           1,
           0,
           0,
           1,
           1,
           1,
           1,
           0,
           0,
           1,
           1,
           1,
           0,
           1,
           0,
           0,
           1,
           0,
           0,
           1,
           1,
           0,
           1,
           0,
           1,
           1,
           1,
           0,
           0,
           1,
           0,
           1,
           0,
           0,
           1,
           1,
           1,
           0,
           1,
           1,
           0,
           0,
           0,
           1,
           1,
           0,
           1,
           1,
           0,
           1,
           1,
           1,
           0,
           0,
           1,
           0,
           1,
           1,
           0,
           1,
           0,
           1,
           1,
           1,
           1,
           1,
           0,
           0,
           1,
           1,
           1,
           0,
           1,
           0,
           1,
           1,
           0,
           0,
           1,
           0,
           1,
           0,
           1,
           1,
           1,
           1,
           1,
           1,
           0,
           0,
           0,
           1,
           1,
           1,
           1,
           1,
           1,
           1,
           0,
           0,
           0,
           0,
           0,
           1,
           1,
           0,
           1,
           1,
           1,
           0,
           0,
           1,
           0,
           0,
           0,
           1,
           1,
           1,
           1,
           0,
           1,
           0,
           0,
           1,
           0,
           1,
           1,
           1,
           1,
           0,
           1,
           1,
           0,
           1,
           1,
           1,
           1,
           1,
           1,
           1,
           1,
           1,
           1,
           0,
           0,
           1,
           1,
           0,
           1,
           0,
           1,
           0,
           1,
           1,
           1,
           0,
           1,
           0,
           0,
           1,
           1,
           1,
           0,
           1,
           1,
           1,
           0,
           0,
           1,
           1,
           1,
           1,
           0,
           1,
           1,
           1,
           0,
           0,
           1,
           1,
           1,
           1,
           1,
           1,
           1,
           0,
           0,
           0,
           1,
           0,
           1,
           1,
           0,
           0,
           1,
           0,
           0,
           1,
           0,
           1,
           1,
           1,
           1,
           0,
           0,
           0,
           1,
           1,
           0,
           1,
           1,
           0,
           1,
           1,
           1,
           1,
           1,
           1,
           1,
           0,
           0,
           1,
           0,
           1,
           1,
           1,
           0,
           0,
           0,
           0,
           0,
           1,
           1,
           1,
           1,
           0,
           0,
           1,
           0,
           1,
           1,
           0,
           0,
           0,
           1,
           1,
           1,
           1,
           1,
           1,
           0,
           0,
           0,
           1,
           0,
           0,
           1,
           0,
           1,
           0,
           0,
           1,
           1,
           1,
           0,
           1,
           1,
           1,
           1,
           1,
           0,
           1,
           0,
           0,
           1,
           1,
           0,
           0,
           0
          ],
          "coloraxis": "coloraxis",
          "symbol": "circle"
         },
         "mode": "markers",
         "name": "",
         "scene": "scene",
         "showlegend": false,
         "type": "scatter3d",
         "x": [
          -1.0372426453275674,
          2.841129216879578,
          0.9696659733968774,
          3.06664316351618,
          2.4940761440549766,
          0.8475464671535119,
          0.6221579324297158,
          3.736980773583367,
          1.1745496688363095,
          3.6622846174251995,
          -0.979190359380107,
          -0.7425188140172564,
          3.5481962198422834,
          -1.1764848616397732,
          4.649469923899163,
          0.8832629630633883,
          2.104954505945264,
          -0.3340583483122082,
          -2.354819630759232,
          3.1200666206752627,
          -0.2864511158760398,
          -0.3558474741465406,
          -2.4710251715320513,
          -1.6685545666022665,
          -1.126290806711467,
          -0.31065444158403166,
          -4.079896771881169,
          -1.7546040379730052,
          2.37372779561168,
          1.3008339172989623,
          -0.18572801745321085,
          -2.922123655782105,
          -0.44855568572640125,
          1.1381411963916335,
          3.475290397141439,
          -1.808174712990648,
          -2.4759411443259367,
          1.2934940132199555,
          3.632861924768162,
          2.8631083464423077,
          -0.7622304640755193,
          -2.1137127822366417,
          -2.313354957196417,
          -0.8502686490693935,
          -2.002076160142867,
          0.11651279131429004,
          2.574867917797641,
          -1.536854542118792,
          3.894568784557294,
          0.077336162635009,
          1.9566040767827426,
          -0.025869782274005212,
          0.14173248402334793,
          3.381338385705724,
          -1.3327037797571586,
          -2.021477056400576,
          5.15112938168083,
          3.1352593859083444,
          -2.350277078734352,
          -1.655373652396669,
          1.2225849597031657,
          -1.214195075207968,
          1.2659488040820506,
          -1.3871850062173607,
          3.815114688986372,
          -2.4320265378618613,
          -0.5807591006594971,
          -2.137350642519764,
          -2.2984340858414134,
          -2.35258421792827,
          -1.6060315706042225,
          -0.2725818553404979,
          -2.1352065706888794,
          -0.4360148921986733,
          -2.5134803769289698,
          -1.9294894769655262,
          -1.0956846194968628,
          3.537726210059821,
          -0.8275843966323653,
          -1.994288687851575,
          0.6698431077014899,
          -2.036414904710337,
          2.4851234499460597,
          0.8835737976909734,
          -1.1140064873243103,
          -0.9314050305656179,
          -0.8717405169096708,
          -0.3589562788634663,
          0.6639308095597527,
          -1.857335619157119,
          -1.5231229282896752,
          0.8207325923773638,
          1.7376692356272647,
          -1.1678962253221428,
          0.2516293982504804,
          -0.21380500847106518,
          1.3208862181377683,
          -3.1441021538598757,
          1.8430360308955656,
          -2.277928542419029,
          -1.6465512152369304,
          -2.2112678566528157,
          1.5486755021505543,
          2.179497068597229,
          -2.344573499458239,
          -1.4490551232755833,
          -2.434669487018482,
          0.37670722863343675,
          -2.7847304479674797,
          1.8886998125981482,
          -2.7271051294439776,
          -2.0205415668736078,
          -1.878888924844081,
          -1.61991120331087,
          1.7292614095695318,
          -1.5178348426014439,
          -1.3709920710928474,
          -0.7403668568762474,
          4.613994669355963,
          3.6812363885632884,
          -3.6646296678368464,
          0.4016766375358847,
          2.538161085410931,
          -1.0555545277367568,
          -0.10208544632494587,
          -0.8435187520973988,
          -0.7816179852833477,
          5.056552383151973,
          -0.5763824998449544,
          2.97108404461912,
          -1.4496177761205304,
          4.592240476569474,
          2.629286432942661,
          0.33770316129609074,
          0.6171796837300162,
          4.602144320693963,
          -0.5863757884237581,
          3.9052174480470185,
          0.038291340653128454,
          -1.3125474834195172,
          -3.1102630326858467,
          -2.691414919515183,
          -0.19264454655659274,
          -1.0066887909091264,
          2.292597484429834,
          -1.2612423614772872,
          -0.7209669563747757,
          -2.409018538006723,
          -1.2099746340286412,
          -2.1791881519990914,
          -2.1133622415203424,
          -0.1138193916291632,
          3.4960552062979673,
          1.2652817388654647,
          -1.9067567568387038,
          -0.6273684151731393,
          0.378401334745341,
          0.24220734484552345,
          -1.1313931294373971,
          -2.834804220676215,
          2.9986275136925946,
          0.719345827227479,
          -0.9950385172496234,
          1.9822013459760779,
          -0.9338310347995584,
          -2.0897832034193735,
          -2.0080917519646575,
          -1.8971690359733242,
          2.3374975208581645,
          1.6320730097408354,
          0.1409425282786468,
          2.688542275448449,
          -2.535783791074225,
          -1.1969280697994176,
          -1.5468587429396938,
          1.5447569470951268,
          -2.572570258139306,
          2.1562589566367714,
          -1.0474407601169582,
          -0.08982484707630735,
          -1.6953567439203934,
          3.6702607055938192,
          -1.425937572314987,
          0.9598971815109015,
          1.7425017459491183,
          2.971469526528339,
          -1.096575286040297,
          -0.28768218560816733,
          1.8000642417236783,
          2.776616633598705,
          -3.374356625115007,
          2.665629188710435,
          -1.9449869458483733,
          -0.3751388119405459,
          -0.5757163375853179,
          2.036558854685477,
          -1.0754914976261196,
          -0.017672057766542546,
          -2.7086651385314027,
          -2.0385567658057755,
          -3.4420300155854715,
          -0.31111346474600043,
          -0.4453802196147893,
          2.8432796151905912,
          -0.2135725773100524,
          -3.3138832771735487,
          -0.393245509883931,
          1.9408985667805339,
          -1.7347935344919452,
          0.22026702797800216,
          0.8813302494797549,
          0.5951734251674301,
          -0.9677023520066976,
          0.12146717667134893,
          0.06943255462991003,
          -0.7527480286488016,
          0.8611402821011596,
          -1.1584907501157595,
          1.7078494679753013,
          -2.2447310620108643,
          1.278000042084546,
          -0.7342958987931227,
          1.2055645250085436,
          3.1685223297804708,
          0.9755807836752195,
          1.9663268918400552,
          3.118103699472029,
          -0.052579653045805835,
          -0.7923453053699804,
          3.6696886125857207,
          -1.9986743888553842,
          -0.10868094137871115,
          -1.5817679092070902,
          -2.265634032632846,
          1.0214976553363955,
          0.04047492214399203,
          1.2605672558201486,
          2.72470654878101,
          1.479220022076953,
          -0.19575004025483686,
          5.018190668365818,
          0.3192276512616623,
          -2.630912215072292,
          3.783936119865394,
          -2.9079887309229124,
          1.8543072567581478,
          -2.2231221797010594,
          -2.832473087300606,
          -3.3179013123451875,
          4.38489667488883,
          -0.0742939916140894,
          -2.2166554984320386,
          5.3820282679041584,
          -1.4914926330707836,
          0.533741380307593,
          0.37527933583037937,
          -1.5260141270482812,
          5.281014861474682,
          -1.5557862965800504,
          4.342304639904916,
          0.7196096456266597,
          -1.960589589300999,
          -2.274290048089478,
          1.5322299271098303,
          -1.0885393820819294,
          0.7104323458074495,
          0.11052026535222552,
          -3.764285798693529,
          4.6888391251458525,
          1.9567902845359058,
          -0.32525663272153627,
          -0.5099732562241462,
          -2.8835248337463844,
          0.8463248858093285,
          -1.3776725583610911,
          -0.21113028424506233,
          0.21210166979862594,
          2.8427385866445327,
          3.0831902596238474,
          2.7867394452833887,
          -1.968669135585727,
          -1.5118411995914303,
          3.646376613593277,
          4.922034439360867,
          -2.01319012702529,
          -0.7619497476021092,
          -1.9759784187777423,
          -2.6543171095739067,
          -2.8848929516136743,
          2.632972802202644,
          -2.6948582727377195,
          -0.663043375095561,
          -2.1478160439790766,
          -1.90941468837277,
          2.299962428797001,
          0.9266135752773509,
          3.395939310284385,
          -1.5190687212832956,
          3.099466485278069,
          -2.8189894930273214,
          -1.5236605394718645,
          -1.2700901039430208,
          -1.9380280845624025,
          1.4219193410115565,
          -0.07999245277600243,
          -3.0128591042631316,
          -2.6085624771013154,
          0.0012855368829288027,
          -0.7824413109775478,
          0.052707479438782893,
          -1.989171643547149,
          0.1914213788627299,
          0.6951726246482577,
          -2.2679598158828083,
          -0.18755973871085393,
          -2.9729692300752433,
          -0.6015612593760121,
          -2.1185490205259465,
          -2.154309224000171,
          -0.9459277409464208,
          3.304333448226684,
          0.8581403879576497,
          -0.9441236908976581,
          5.55881153064428,
          -0.5960339752130782,
          3.266771829941091,
          0.9319436113795306,
          -1.2071222672674056,
          -3.1043733676103913,
          -1.8233078380137375,
          -0.6570188011891578,
          -0.860683272845263,
          -0.25771525830545006,
          -1.8468299915550102,
          1.63377276227235,
          -0.04814892122134051,
          -2.8614601616599837,
          -2.4312067695395694,
          -1.6858256993756648,
          1.2851946665012166,
          0.38207412178390393,
          1.9824621756701502,
          2.0276382439490326,
          -0.437279360551756,
          0.192212674026887,
          -2.894281575312461,
          2.0366260080715466,
          0.7479150793964499,
          -1.5003916004111724,
          2.3243287545009186,
          -0.09274928373812685,
          0.3655676630277389,
          -2.040828983940411,
          -1.5875934176218647,
          -1.216598360725541,
          2.2496215858188875,
          0.6030809692098725,
          -2.0712526539107303,
          -1.21449143440609,
          1.5811630929115001,
          -0.8542256598541095,
          0.6420437436099522,
          1.4445112011327628,
          -1.6787115167194555,
          0.30733488937728803,
          -2.4688736849101818,
          1.9041078293000233,
          -1.6958382594140524,
          0.608533063506472,
          1.5955292009902045,
          0.9685148444987528,
          2.941056992292695,
          1.1950107099321754,
          -0.4485159297714377,
          -1.631273341063404,
          2.098287119087919,
          -2.1891310519115543,
          3.4573532096339816,
          4.221323946931212,
          -1.3130311052251926,
          2.404483987501938,
          -1.9547517228997582,
          -2.450937022872461,
          -1.2849115376755578,
          1.8557167550878328,
          1.2837531866770748,
          0.462937960212805,
          -2.0952788152254245,
          -2.0641983429299926,
          -0.6335320462198485,
          1.140909220635284,
          -2.17703738257346,
          -2.833178287655766,
          3.4837626528149106,
          -0.6003592828487313,
          1.6328314381656337,
          -2.474456634008261,
          -0.11598196563344697,
          -1.8108596970331972,
          -2.261847288295007,
          2.0573304523399716,
          -2.0485579403509946,
          -3.016403979938313,
          -1.6185983369937518,
          -1.1109458684665503,
          2.158131665100185,
          4.949784696967195,
          -1.097257503883911,
          -2.137728567633307,
          -0.8598205957169972,
          2.2074314180080505,
          0.07318908205940994,
          3.78096551968677,
          0.7651416217201678,
          -0.6103239470100025
         ],
         "y": [
          -0.4563962126161026,
          0.2199537465570939,
          -0.14750423239287794,
          -1.3482012594019206,
          -1.5870936795551385,
          -2.2591803696486505,
          0.38867861071767235,
          -0.6106987164504193,
          -0.08166089237622748,
          3.031705979547484,
          -0.2755999543035545,
          1.1968241718768615,
          1.4523133480745558,
          -1.0314151913097849,
          -0.6633778277628987,
          -0.8582321282728151,
          -0.36622283919197396,
          0.3347312889609518,
          -0.07134319129310637,
          -0.6229968981877996,
          0.352055394605194,
          -0.7390504281054894,
          0.46698688902408114,
          -0.21207933004162996,
          1.0230113171503723,
          1.3683433518021286,
          -0.19373099072871505,
          0.42809657286580827,
          0.9426587253672647,
          0.5052448211343655,
          1.4098235031522226,
          -0.026590666880046764,
          1.3014596985805762,
          -0.08382841801063097,
          1.420205948719954,
          0.7471579510283943,
          -0.35053801571844684,
          0.5152580493913907,
          1.4915344332226925,
          -1.4015393383498103,
          -0.18324315904625546,
          0.62494642544722,
          -0.9933929483461702,
          0.3247147539034782,
          -1.0902862918452412,
          -0.013043744714321598,
          1.030570805246219,
          -0.30721624869953723,
          -0.9739438222129464,
          1.5144381315626165,
          0.25106513008414183,
          1.4818747936808314,
          -2.554429560987777,
          1.3783814077330556,
          0.12007592685251177,
          0.6621909269599295,
          -0.4549416263539192,
          0.8907645765129379,
          -0.21793260693376415,
          -0.4577104086675627,
          0.8365316405307491,
          0.9869580538435485,
          0.49986238462661714,
          -0.26159646621538063,
          -1.02938266710634,
          -0.0983123035964384,
          -0.3841747834752262,
          -0.21462798090053703,
          -0.046084945858686104,
          0.5110063532432318,
          -0.658825378930378,
          0.012903016638774164,
          -0.9229704768965532,
          -0.20665307035509695,
          -0.229518644765436,
          0.17897313865166223,
          -0.4789303730140487,
          -0.1012064496190677,
          0.400412795319882,
          -0.35455477598367896,
          0.6462351232888283,
          0.6482586059949935,
          0.9978427844854848,
          -0.19328279961750588,
          0.33659823086662993,
          0.2642095946915471,
          1.1360728693671445,
          0.3241376028131983,
          0.25753587345247225,
          -0.7961034454613549,
          -0.29842483672931924,
          0.20473051414001692,
          0.6880648129094395,
          -1.043011501159398,
          0.07526527157917767,
          -0.636793839456765,
          0.001856840136218045,
          0.20019576418528015,
          -1.7139679078241705,
          0.5168190553897011,
          0.8093671125485744,
          0.5858157727651996,
          0.07416078839035316,
          -0.6638729360888156,
          -1.1134072027432655,
          -0.1229297345137755,
          0.48634800060084465,
          0.14174309662298126,
          0.34858305132594786,
          0.23492340682943832,
          0.3704032938906558,
          -0.5084243500297211,
          0.7129471081372619,
          0.861481559637381,
          -1.9010556441770705,
          -1.1928561032547917,
          0.9181422666519404,
          1.1551288919648617,
          1.8900034300493243,
          -1.065882083865983,
          -0.017886443548199876,
          -0.09334772188945469,
          1.0269349259627196,
          1.060319176195492,
          -0.0723761228440078,
          -0.8991564184699509,
          -0.3524958539551668,
          -0.5063543052180534,
          1.2440507802499263,
          1.2223789949637773,
          0.5557866177755909,
          -0.6912133812030241,
          -1.5117097757929605,
          0.0859874354779653,
          1.7320222691743494,
          1.356916135169864,
          -1.4936870924627235,
          1.599504657540443,
          -2.5741230607128625,
          -0.606949459225287,
          0.20822425379391063,
          0.3825618846299609,
          -0.6366167474266873,
          -0.4538274261815645,
          -1.670085447707428,
          -0.5634344329020392,
          0.2992444712382743,
          0.18201173733201503,
          -1.3958056639159253,
          -0.7663860114565484,
          0.6193937488071241,
          -0.09368195960858905,
          -1.1613196428483215,
          0.49788741647925383,
          -0.38578947534130076,
          -0.279442716506381,
          0.3219462127955301,
          1.5930199276472692,
          -0.33353881264447804,
          0.30552988008937154,
          1.2292552973612083,
          1.7915138460546807,
          -0.27753761557641177,
          -0.14178210514687697,
          -0.26284295638794836,
          0.6261487875086742,
          -0.8592582268789544,
          0.2469295147547396,
          2.472147550294435,
          0.12455719802840404,
          -2.5546537722941944,
          -1.5066120314401972,
          -0.23616586477018955,
          -0.019016765042115674,
          -0.7155200562945839,
          0.6123705786567103,
          0.4174384143985899,
          0.8375275913364151,
          1.070858403643426,
          0.09082822668767737,
          0.8097509813983133,
          -1.0689333364929208,
          -0.1418396507259923,
          -0.8443912595043965,
          0.6741427651440117,
          -1.3770548740445974,
          -0.4877985737631427,
          0.15350399586300056,
          0.7141630400298461,
          -1.4485438523282508,
          0.0983261102272331,
          -1.4853189675864595,
          -0.12608703869481136,
          -2.753561024531099,
          0.7564280295992046,
          0.8141815475192649,
          -0.46217863716760693,
          -0.04322504783692172,
          -0.2145010688209707,
          -0.875481124078394,
          0.07664246689084142,
          -2.7235076553825315,
          -0.05858477444213013,
          1.159616768135383,
          -0.14293584617593666,
          0.1164711862228126,
          -0.19726881557375903,
          -0.4572772726783585,
          0.09933456586786539,
          0.13117276323637458,
          -0.20814057386883592,
          0.3813103454104066,
          -0.28058479473510184,
          0.3668395277182297,
          1.5246886199661092,
          1.1757544901057078,
          0.34141467828386285,
          -0.1525123522441476,
          0.656671225171508,
          -0.01186271006158655,
          0.49818249324780534,
          1.1896465308004183,
          -2.100892094677679,
          -1.2797434566514378,
          0.39495195926499527,
          0.26324722833470654,
          1.272466318526737,
          1.4621534534132006,
          1.163156624962163,
          1.4982356130962549,
          0.026012035850242216,
          -2.6348849327625725,
          0.43188056294439947,
          0.5506594718813631,
          0.39913501771749876,
          1.5254955702391475,
          -2.1020852520846054,
          -1.4832471963335017,
          -0.6242287480981821,
          -1.3129129394100727,
          -0.5032778843171217,
          -0.1178209451393038,
          0.4024969266118088,
          -1.031596650436382,
          -0.5289940371885472,
          -0.16215883844085244,
          0.5733017915680241,
          -0.7013130075950772,
          0.11938945732575877,
          -0.7867783817829332,
          -2.6568476960767695,
          0.5751820219961913,
          -0.3659483527234704,
          -0.28654056713655834,
          0.20042932216138915,
          -0.39403763747478704,
          -0.5108502396712455,
          -0.41054777483751387,
          -0.6828644763574727,
          -0.7860914316669715,
          0.7807681201772146,
          -0.5728240398081523,
          -0.27623643914135027,
          0.5879900266567412,
          1.0267497204581837,
          0.4278060587740065,
          -0.2059850914033718,
          -0.076434247523877,
          1.9203231616074492,
          0.7771555906795128,
          -0.1681125462385523,
          -0.23773030877236834,
          0.298945820216511,
          -2.2386770233184023,
          0.9148346823188211,
          -1.1473837305671104,
          1.584411385018159,
          0.6093322500868861,
          -1.3317912655881725,
          -1.4549064349322227,
          -0.8471198216872267,
          -0.6707478894681679,
          -1.087512221543182,
          -0.5492613876429907,
          0.6575762255514664,
          -0.18601878458497925,
          0.6634444003089687,
          0.3947987931341874,
          -0.37816616381098034,
          -1.5078397653918392,
          -0.6440319759801676,
          1.2303695038493507,
          0.612119105192159,
          -0.3365201474157727,
          -0.6905164635340078,
          0.5172257879421642,
          1.3917951685085408,
          -0.494379336964743,
          2.7900527589663344,
          0.32688687007991646,
          0.34944292263812354,
          -0.5489683332479255,
          -0.21030350173002377,
          0.5653599287907016,
          0.08950505989801945,
          -0.5706067973652863,
          -0.4078549083341679,
          0.48227470973548653,
          -0.4722712611123064,
          1.4901948954078121,
          0.6749577361917446,
          1.5476332046692038,
          -0.25365347999039084,
          -0.6111971132966786,
          1.411136777884885,
          0.25384079659249853,
          -0.12373121454915703,
          0.6103677232650628,
          -0.3113439973094577,
          -0.4193817387504925,
          -1.2351099461526973,
          0.33024761668124125,
          0.1794938516674473,
          -0.2875618382760095,
          0.7434431809529785,
          -1.2412508480202245,
          -0.157098007201193,
          -0.18818263039033595,
          0.2035821007944873,
          -0.28701404139752723,
          0.334625887618608,
          -0.4909629932992927,
          -0.15813929872326707,
          0.7177836119168844,
          1.3623626330846896,
          1.4632980015411734,
          -0.7027524798564665,
          0.4678109188163324,
          0.788815556212489,
          0.4983981801069259,
          1.6625957747637665,
          -1.7957601348031949,
          0.29663788607213226,
          -0.32208703297407043,
          0.06331022232334915,
          -0.07131821361902221,
          0.2772833172950484,
          -2.30013844014539,
          -0.5017883485578523,
          0.9500691334393268,
          -0.08342103670956479,
          -2.4535615906880346,
          0.6481970884127273,
          0.25410016305570704,
          -0.5382335219795211,
          0.3952981142699429,
          1.7521398138396531,
          0.6335663317273814,
          -0.05345697285572313,
          0.08869882302811996,
          -0.054914069359585205,
          -2.351665180612999,
          0.04856727582615177,
          -0.7262922728902853,
          -1.107639572411274,
          -0.5491980403393215,
          0.8936433768349571,
          -0.7388251367514268,
          0.3872810261371007,
          0.10252411975872075,
          -0.14910066323744256,
          1.1807046945650044,
          0.41951861493745873,
          1.31024909751239,
          0.03984708333314898,
          -0.0038896352421138973,
          0.008011107178327991,
          -1.166236179020713,
          1.7341910613835514,
          -0.4018834189533627,
          -0.2372292440017478,
          -0.1363492249680988,
          0.003225680374795908,
          0.13609556599428685,
          -1.3803607239626094,
          2.030108743254289,
          -2.4175158797106047,
          -0.7594541984915844,
          0.058233964305533945,
          -0.2975809763338541,
          -0.08359913344316858,
          -0.7688391045992018,
          0.3151164889477573,
          1.4328033705692151,
          -0.28181271365392796,
          0.6540860136192046,
          0.4556309230656022,
          -0.07662126839198552,
          0.7490659269049033,
          0.5454962646444141,
          -0.3850027441030843,
          0.6274975718672609,
          0.24433562607893888,
          -0.5486796595058534,
          -0.4973188828934489,
          -1.709827453491673,
          -0.545565893151385,
          1.050432477583738,
          -0.4127435808125524,
          1.1220198253510019,
          0.887354042247141,
          0.9331399775878644,
          -0.12379053341268542,
          -0.9271660604433514,
          -0.2999664300144873
         ],
         "z": [
          1.633403265426905,
          -0.6270756239671966,
          -0.44797023029937055,
          -0.4285895157250794,
          -0.35965927232599215,
          -0.1540437318473879,
          -0.4927956141595255,
          -0.5808665622186645,
          -0.4711303478847512,
          -1.0620591624143787,
          -0.2935350603964014,
          -0.5070705913533787,
          1.0547701542579497,
          -0.1786216145715866,
          -0.6352440101849719,
          -0.3462284876665907,
          -0.4952724840218379,
          -0.42025779850065204,
          -0.2207519281992485,
          -0.5345617452707316,
          -0.42453094477306824,
          -0.2621537537122944,
          -0.2851151040154744,
          -0.25379296539920676,
          -0.4559194177622773,
          -0.5601786738952894,
          -0.08547431449544213,
          -0.33518896151138605,
          1.2045189976742734,
          1.340755510385136,
          -0.5737958875175405,
          -0.19020849837469414,
          -0.5408251333441639,
          -0.46576686408473567,
          1.0634506318534662,
          -0.3712647244284072,
          -0.1784493734618099,
          1.338162680479148,
          1.0428349562229837,
          -0.4126919389084727,
          -0.31975874653789205,
          -0.33404652249830113,
          1.7966325905941356,
          -0.3818331285442137,
          -0.11368328193390531,
          1.5026499103036937,
          1.1792001726232813,
          -0.250233884679368,
          -0.5429766842818857,
          -0.6027805627470431,
          -0.5689772747045656,
          -0.5945922026663232,
          -0.06373796468921009,
          1.0757213974305078,
          -0.31882291921441414,
          -0.34649618463074383,
          -0.7009961477205432,
          -0.7366669557339536,
          -0.20494065387026678,
          -0.21418481288119195,
          -0.5961698464806325,
          -0.4437901309317448,
          1.3425859984542543,
          -0.26316840423025956,
          -0.5315638993893209,
          -0.21506677022312265,
          -0.30579939406768225,
          -0.21761486576622957,
          -0.23045668048835027,
          -0.30289790057690485,
          -0.19847573643419156,
          -0.3802518351233674,
          1.7752365508047185,
          1.558543778285255,
          -0.19051319756277665,
          -0.28670269828402384,
          1.6400635397875327,
          -0.6355006148303999,
          -0.3908055422358934,
          -0.21240312304672176,
          -0.5309127019122607,
          -0.341960459221917,
          1.191202620592574,
          -0.4344733406400376,
          -0.36314234990574157,
          -0.36982902487307284,
          -0.48862158500076397,
          -0.41716151318610284,
          1.4159773485656626,
          1.735948857822586,
          -0.25185892282127337,
          -0.48355354339576256,
          1.2841783045889423,
          -0.17362310974547093,
          1.4722697271826408,
          -0.299808347883622,
          -0.4920291534062232,
          -0.20557050436651625,
          -0.29944213584792756,
          -0.2988853389001358,
          -0.3920515350533728,
          -0.32309098283175297,
          -0.5134666168373797,
          -0.4622267462626931,
          -0.084944880039763,
          -0.28064847542661536,
          -0.29123178554242984,
          1.4533263006653228,
          -0.2509480824716328,
          -0.563558180200321,
          -0.25743910441199586,
          -0.1897060517526004,
          -0.36244709419402427,
          -0.40962971658041397,
          -0.26393711277108667,
          -0.12820693080179063,
          -0.42127715918245845,
          -0.497095321525103,
          0.9198850152577346,
          -0.516686975853692,
          -0.1391939590064508,
          -0.41321963086844904,
          1.1849111841164033,
          -0.46593312142347554,
          1.5160023412603771,
          -0.21834002123551524,
          1.601052316152556,
          -0.6894140951409076,
          -0.5254237484672323,
          1.1257801424097889,
          -0.35443513607790833,
          -0.6310953208943122,
          -0.38204555330592527,
          1.4639145160013824,
          -0.6716618265631595,
          -0.9060944347664641,
          -0.15283903708633206,
          1.010967832527439,
          -0.05966538751669262,
          1.6805621118577334,
          -0.20819478826973636,
          -0.25988851211586017,
          -0.2983989906385217,
          1.633282563609153,
          -0.3328776843013625,
          1.6657920634500116,
          -0.3678227997269991,
          -0.2542232367326668,
          -0.12682994849104917,
          -0.14459711977221207,
          -0.3313090676201305,
          1.5207020341286053,
          -0.4872324293668892,
          1.345474125962894,
          -0.20683635115342197,
          1.5792344597053725,
          -0.46652497343836447,
          -0.6277730950176943,
          -0.274830953345633,
          -0.23519523139693527,
          1.1238648558499307,
          -0.6870340624010488,
          -0.29289699660864077,
          -0.5173449758169661,
          -0.29654375854286713,
          -0.3356536359141286,
          1.7549427032513836,
          -0.30029792269227834,
          -0.895455996167444,
          -0.5290651046617708,
          -0.06459473528383652,
          -0.383471271307568,
          -0.189575953320586,
          -0.31311416286879096,
          1.713425956531603,
          1.3074109042551265,
          -0.27016512622403777,
          1.239197489205502,
          -0.46820327764610375,
          -0.40522547336888537,
          -0.38934992691355674,
          -0.5150920263985157,
          -0.2732369183339849,
          -0.35240986490534776,
          1.2881912270023368,
          -0.4251446400088326,
          1.6432870413264677,
          -0.3966959976554635,
          1.2782086107222488,
          -0.39790458764310566,
          -0.17512713470726915,
          -0.387505963890881,
          -0.2458485420840492,
          -0.007410134062324171,
          -0.46015515667947493,
          1.2471356394304927,
          -0.2540758769875254,
          -0.39071068359840094,
          -0.17892912368085256,
          1.7616394642144413,
          -0.16793901998795133,
          -0.014924354200623014,
          -0.3572507481358264,
          1.1426643591287284,
          1.5407326466794544,
          -0.17918602570384354,
          1.5555189848428317,
          -0.47010853838734645,
          -0.29120060405776677,
          -0.4239290057046633,
          -0.43048440957629025,
          -0.49160520516455625,
          -0.2907948060544523,
          -0.4556296153391604,
          -0.6075739371583486,
          -0.499846807323815,
          1.39187127174168,
          -0.29543895194884684,
          1.292602925985112,
          -0.23982729584602733,
          1.3431689513142233,
          -0.505103829652451,
          -0.2032617581007734,
          -0.44742087488740695,
          1.3765031606905271,
          -0.5702711529976604,
          1.1095296057897945,
          -0.588349773456113,
          -0.4980918331051061,
          1.0385397456665064,
          -0.257872293336978,
          -0.04120615562401262,
          -0.34414074196791505,
          -0.3129778299285585,
          1.3740784304146458,
          -0.6050817429331539,
          -0.19669865413394058,
          -0.3909037915062375,
          -0.4189369454722362,
          -0.2088489060131708,
          -0.6851950998876278,
          -0.40606442648284713,
          -0.2659550980063264,
          -0.5247416794939624,
          -0.12374742875346981,
          -0.5030818929727091,
          -0.3172659818398067,
          -0.10572569746013259,
          -0.17982011437013215,
          -0.6036991500319366,
          -0.030920294407026226,
          -0.31958031244895846,
          -0.7300206259250248,
          -0.25620558100877444,
          1.4361247934790065,
          -0.3715604872875968,
          -0.22165202506650292,
          -0.7176635285394525,
          1.7037100205580602,
          -0.6002955030908483,
          -0.5545613821155294,
          -0.18316037761030912,
          -0.1986415628114839,
          1.3142323694358407,
          -0.455826017489299,
          -0.5048609874832789,
          -0.3806318518519144,
          -0.11958805733611044,
          0.9134551871090852,
          1.258324638755598,
          1.5408625381996373,
          1.5666606023943601,
          -0.23521776432590624,
          -0.16120538270091636,
          -0.4212006952246073,
          -0.2311910854958201,
          -0.6245560587343961,
          -0.6821178222433422,
          -0.43934189218629116,
          -0.39700315267884356,
          1.7526218394428983,
          1.6960803972200313,
          -0.5104724607550549,
          -0.6720362176689435,
          -0.34415636760991264,
          -0.31977833919990556,
          -0.3438042900808164,
          -0.2636692539924761,
          -0.14582796622133218,
          -0.38304952521798463,
          -0.12316808309369197,
          -0.5169698669019536,
          -0.32985193901661863,
          -0.21435504524298252,
          -0.46799762463478933,
          -0.5321406000891459,
          1.0738865126847603,
          -0.22621028359193246,
          -0.989633351727309,
          -0.24244501151742304,
          -0.337171372142623,
          1.6591524808405194,
          -0.23455416145177238,
          1.322341674104043,
          -0.404151475837909,
          -0.11154116632471658,
          -0.15958846238288513,
          -0.46390102165095337,
          -0.28008855754479867,
          -0.5999602795574398,
          -0.34952600537960676,
          -0.6185187789458222,
          -0.41492538559127434,
          -0.15710691507000737,
          -0.5741337751562378,
          -0.22165503895920055,
          -0.3372975386676004,
          -0.3298432665343003,
          -0.20478687067088894,
          1.619346884308412,
          -0.46693556069543973,
          1.3932481765145006,
          -0.35433703845703074,
          -0.7524351597532549,
          -0.4579949182033751,
          -0.4645626812408006,
          -0.44352988484820544,
          -0.2897649686979007,
          -0.20536238537385243,
          -0.23159872668649772,
          -0.39635010225474415,
          -0.2730549469639009,
          1.5458068015373208,
          -0.36481922150632035,
          -0.6957282970474891,
          -0.5879190670491724,
          -0.10531520466913474,
          -0.2858979845227725,
          -0.3848340508209865,
          1.3453509085799862,
          -0.6482636335454082,
          -0.29446930653378006,
          -0.5824026707014065,
          -0.32582755180169004,
          1.4751928369489995,
          -0.1874327596938329,
          -0.5781437236421416,
          -0.13978572210924622,
          -0.2232689652860803,
          1.208652367754846,
          1.5183942839423545,
          -0.095097874614073,
          -0.34118339013548266,
          -0.320072214198461,
          1.6581918983185115,
          -0.610751023629165,
          -0.6764318325228369,
          -0.33618280360483477,
          -0.2989754114975426,
          -0.5186631005436872,
          -0.33109011395056526,
          -0.12518364100226503,
          -0.5071853300628058,
          1.7144052334098199,
          -0.2700936988996057,
          -0.1521300082973708,
          -0.6521841867928794,
          1.7169590293988835,
          -0.4929559895977495,
          -0.524708912649259,
          -0.4458737149492108,
          1.1358319016884841,
          1.366463272373066,
          -0.541718229020925,
          -0.2865012046481069,
          -0.5452466453891065,
          -0.24642036744573462,
          -0.4881259111262652,
          0.9724730982752762,
          -0.25359984673817787,
          -0.5362214237899664,
          -0.2410408949659091,
          -0.2275543628630635,
          -0.3235273453621466,
          -0.34396241167129255,
          -0.7603372186483173,
          -0.10406338343599311,
          -0.14460039296426583,
          -0.2614857641751266,
          1.5852149592646712,
          -0.46645733959031743,
          -0.1434639536457332,
          -0.24011029254917907,
          1.0633931689337754,
          1.5817540937455434,
          1.2966027875357555,
          -0.28056248972953396,
          1.5172880766902306,
          -0.3725473159187688,
          -0.312076149654488,
          -0.491576254388685,
          -0.3339608579969838,
          -0.2179597453559078,
          -0.21150963026473896,
          1.643574079891933,
          -0.32431997616663516,
          -0.6755560630009576,
          -0.46198414015945594,
          -0.19349865313515363,
          -0.4834571837754726,
          1.2247552203507237,
          -0.5275577061617592,
          -0.6496654095848432,
          -0.32624792519587364,
          1.5819742535557146
         ]
        }
       ],
       "layout": {
        "coloraxis": {
         "colorbar": {
          "title": {
           "text": "color"
          }
         },
         "colorscale": [
          [
           0,
           "#0d0887"
          ],
          [
           0.1111111111111111,
           "#46039f"
          ],
          [
           0.2222222222222222,
           "#7201a8"
          ],
          [
           0.3333333333333333,
           "#9c179e"
          ],
          [
           0.4444444444444444,
           "#bd3786"
          ],
          [
           0.5555555555555556,
           "#d8576b"
          ],
          [
           0.6666666666666666,
           "#ed7953"
          ],
          [
           0.7777777777777778,
           "#fb9f3a"
          ],
          [
           0.8888888888888888,
           "#fdca26"
          ],
          [
           1,
           "#f0f921"
          ]
         ]
        },
        "legend": {
         "tracegroupgap": 0
        },
        "scene": {
         "domain": {
          "x": [
           0,
           1
          ],
          "y": [
           0,
           1
          ]
         },
         "xaxis": {
          "title": {
           "text": "PC 1"
          }
         },
         "yaxis": {
          "title": {
           "text": "PC 2"
          }
         },
         "zaxis": {
          "title": {
           "text": "PC 3"
          }
         }
        },
        "template": {
         "data": {
          "bar": [
           {
            "error_x": {
             "color": "#2a3f5f"
            },
            "error_y": {
             "color": "#2a3f5f"
            },
            "marker": {
             "line": {
              "color": "#E5ECF6",
              "width": 0.5
             },
             "pattern": {
              "fillmode": "overlay",
              "size": 10,
              "solidity": 0.2
             }
            },
            "type": "bar"
           }
          ],
          "barpolar": [
           {
            "marker": {
             "line": {
              "color": "#E5ECF6",
              "width": 0.5
             },
             "pattern": {
              "fillmode": "overlay",
              "size": 10,
              "solidity": 0.2
             }
            },
            "type": "barpolar"
           }
          ],
          "carpet": [
           {
            "aaxis": {
             "endlinecolor": "#2a3f5f",
             "gridcolor": "white",
             "linecolor": "white",
             "minorgridcolor": "white",
             "startlinecolor": "#2a3f5f"
            },
            "baxis": {
             "endlinecolor": "#2a3f5f",
             "gridcolor": "white",
             "linecolor": "white",
             "minorgridcolor": "white",
             "startlinecolor": "#2a3f5f"
            },
            "type": "carpet"
           }
          ],
          "choropleth": [
           {
            "colorbar": {
             "outlinewidth": 0,
             "ticks": ""
            },
            "type": "choropleth"
           }
          ],
          "contour": [
           {
            "colorbar": {
             "outlinewidth": 0,
             "ticks": ""
            },
            "colorscale": [
             [
              0,
              "#0d0887"
             ],
             [
              0.1111111111111111,
              "#46039f"
             ],
             [
              0.2222222222222222,
              "#7201a8"
             ],
             [
              0.3333333333333333,
              "#9c179e"
             ],
             [
              0.4444444444444444,
              "#bd3786"
             ],
             [
              0.5555555555555556,
              "#d8576b"
             ],
             [
              0.6666666666666666,
              "#ed7953"
             ],
             [
              0.7777777777777778,
              "#fb9f3a"
             ],
             [
              0.8888888888888888,
              "#fdca26"
             ],
             [
              1,
              "#f0f921"
             ]
            ],
            "type": "contour"
           }
          ],
          "contourcarpet": [
           {
            "colorbar": {
             "outlinewidth": 0,
             "ticks": ""
            },
            "type": "contourcarpet"
           }
          ],
          "heatmap": [
           {
            "colorbar": {
             "outlinewidth": 0,
             "ticks": ""
            },
            "colorscale": [
             [
              0,
              "#0d0887"
             ],
             [
              0.1111111111111111,
              "#46039f"
             ],
             [
              0.2222222222222222,
              "#7201a8"
             ],
             [
              0.3333333333333333,
              "#9c179e"
             ],
             [
              0.4444444444444444,
              "#bd3786"
             ],
             [
              0.5555555555555556,
              "#d8576b"
             ],
             [
              0.6666666666666666,
              "#ed7953"
             ],
             [
              0.7777777777777778,
              "#fb9f3a"
             ],
             [
              0.8888888888888888,
              "#fdca26"
             ],
             [
              1,
              "#f0f921"
             ]
            ],
            "type": "heatmap"
           }
          ],
          "heatmapgl": [
           {
            "colorbar": {
             "outlinewidth": 0,
             "ticks": ""
            },
            "colorscale": [
             [
              0,
              "#0d0887"
             ],
             [
              0.1111111111111111,
              "#46039f"
             ],
             [
              0.2222222222222222,
              "#7201a8"
             ],
             [
              0.3333333333333333,
              "#9c179e"
             ],
             [
              0.4444444444444444,
              "#bd3786"
             ],
             [
              0.5555555555555556,
              "#d8576b"
             ],
             [
              0.6666666666666666,
              "#ed7953"
             ],
             [
              0.7777777777777778,
              "#fb9f3a"
             ],
             [
              0.8888888888888888,
              "#fdca26"
             ],
             [
              1,
              "#f0f921"
             ]
            ],
            "type": "heatmapgl"
           }
          ],
          "histogram": [
           {
            "marker": {
             "pattern": {
              "fillmode": "overlay",
              "size": 10,
              "solidity": 0.2
             }
            },
            "type": "histogram"
           }
          ],
          "histogram2d": [
           {
            "colorbar": {
             "outlinewidth": 0,
             "ticks": ""
            },
            "colorscale": [
             [
              0,
              "#0d0887"
             ],
             [
              0.1111111111111111,
              "#46039f"
             ],
             [
              0.2222222222222222,
              "#7201a8"
             ],
             [
              0.3333333333333333,
              "#9c179e"
             ],
             [
              0.4444444444444444,
              "#bd3786"
             ],
             [
              0.5555555555555556,
              "#d8576b"
             ],
             [
              0.6666666666666666,
              "#ed7953"
             ],
             [
              0.7777777777777778,
              "#fb9f3a"
             ],
             [
              0.8888888888888888,
              "#fdca26"
             ],
             [
              1,
              "#f0f921"
             ]
            ],
            "type": "histogram2d"
           }
          ],
          "histogram2dcontour": [
           {
            "colorbar": {
             "outlinewidth": 0,
             "ticks": ""
            },
            "colorscale": [
             [
              0,
              "#0d0887"
             ],
             [
              0.1111111111111111,
              "#46039f"
             ],
             [
              0.2222222222222222,
              "#7201a8"
             ],
             [
              0.3333333333333333,
              "#9c179e"
             ],
             [
              0.4444444444444444,
              "#bd3786"
             ],
             [
              0.5555555555555556,
              "#d8576b"
             ],
             [
              0.6666666666666666,
              "#ed7953"
             ],
             [
              0.7777777777777778,
              "#fb9f3a"
             ],
             [
              0.8888888888888888,
              "#fdca26"
             ],
             [
              1,
              "#f0f921"
             ]
            ],
            "type": "histogram2dcontour"
           }
          ],
          "mesh3d": [
           {
            "colorbar": {
             "outlinewidth": 0,
             "ticks": ""
            },
            "type": "mesh3d"
           }
          ],
          "parcoords": [
           {
            "line": {
             "colorbar": {
              "outlinewidth": 0,
              "ticks": ""
             }
            },
            "type": "parcoords"
           }
          ],
          "pie": [
           {
            "automargin": true,
            "type": "pie"
           }
          ],
          "scatter": [
           {
            "fillpattern": {
             "fillmode": "overlay",
             "size": 10,
             "solidity": 0.2
            },
            "type": "scatter"
           }
          ],
          "scatter3d": [
           {
            "line": {
             "colorbar": {
              "outlinewidth": 0,
              "ticks": ""
             }
            },
            "marker": {
             "colorbar": {
              "outlinewidth": 0,
              "ticks": ""
             }
            },
            "type": "scatter3d"
           }
          ],
          "scattercarpet": [
           {
            "marker": {
             "colorbar": {
              "outlinewidth": 0,
              "ticks": ""
             }
            },
            "type": "scattercarpet"
           }
          ],
          "scattergeo": [
           {
            "marker": {
             "colorbar": {
              "outlinewidth": 0,
              "ticks": ""
             }
            },
            "type": "scattergeo"
           }
          ],
          "scattergl": [
           {
            "marker": {
             "colorbar": {
              "outlinewidth": 0,
              "ticks": ""
             }
            },
            "type": "scattergl"
           }
          ],
          "scattermapbox": [
           {
            "marker": {
             "colorbar": {
              "outlinewidth": 0,
              "ticks": ""
             }
            },
            "type": "scattermapbox"
           }
          ],
          "scatterpolar": [
           {
            "marker": {
             "colorbar": {
              "outlinewidth": 0,
              "ticks": ""
             }
            },
            "type": "scatterpolar"
           }
          ],
          "scatterpolargl": [
           {
            "marker": {
             "colorbar": {
              "outlinewidth": 0,
              "ticks": ""
             }
            },
            "type": "scatterpolargl"
           }
          ],
          "scatterternary": [
           {
            "marker": {
             "colorbar": {
              "outlinewidth": 0,
              "ticks": ""
             }
            },
            "type": "scatterternary"
           }
          ],
          "surface": [
           {
            "colorbar": {
             "outlinewidth": 0,
             "ticks": ""
            },
            "colorscale": [
             [
              0,
              "#0d0887"
             ],
             [
              0.1111111111111111,
              "#46039f"
             ],
             [
              0.2222222222222222,
              "#7201a8"
             ],
             [
              0.3333333333333333,
              "#9c179e"
             ],
             [
              0.4444444444444444,
              "#bd3786"
             ],
             [
              0.5555555555555556,
              "#d8576b"
             ],
             [
              0.6666666666666666,
              "#ed7953"
             ],
             [
              0.7777777777777778,
              "#fb9f3a"
             ],
             [
              0.8888888888888888,
              "#fdca26"
             ],
             [
              1,
              "#f0f921"
             ]
            ],
            "type": "surface"
           }
          ],
          "table": [
           {
            "cells": {
             "fill": {
              "color": "#EBF0F8"
             },
             "line": {
              "color": "white"
             }
            },
            "header": {
             "fill": {
              "color": "#C8D4E3"
             },
             "line": {
              "color": "white"
             }
            },
            "type": "table"
           }
          ]
         },
         "layout": {
          "annotationdefaults": {
           "arrowcolor": "#2a3f5f",
           "arrowhead": 0,
           "arrowwidth": 1
          },
          "autotypenumbers": "strict",
          "coloraxis": {
           "colorbar": {
            "outlinewidth": 0,
            "ticks": ""
           }
          },
          "colorscale": {
           "diverging": [
            [
             0,
             "#8e0152"
            ],
            [
             0.1,
             "#c51b7d"
            ],
            [
             0.2,
             "#de77ae"
            ],
            [
             0.3,
             "#f1b6da"
            ],
            [
             0.4,
             "#fde0ef"
            ],
            [
             0.5,
             "#f7f7f7"
            ],
            [
             0.6,
             "#e6f5d0"
            ],
            [
             0.7,
             "#b8e186"
            ],
            [
             0.8,
             "#7fbc41"
            ],
            [
             0.9,
             "#4d9221"
            ],
            [
             1,
             "#276419"
            ]
           ],
           "sequential": [
            [
             0,
             "#0d0887"
            ],
            [
             0.1111111111111111,
             "#46039f"
            ],
            [
             0.2222222222222222,
             "#7201a8"
            ],
            [
             0.3333333333333333,
             "#9c179e"
            ],
            [
             0.4444444444444444,
             "#bd3786"
            ],
            [
             0.5555555555555556,
             "#d8576b"
            ],
            [
             0.6666666666666666,
             "#ed7953"
            ],
            [
             0.7777777777777778,
             "#fb9f3a"
            ],
            [
             0.8888888888888888,
             "#fdca26"
            ],
            [
             1,
             "#f0f921"
            ]
           ],
           "sequentialminus": [
            [
             0,
             "#0d0887"
            ],
            [
             0.1111111111111111,
             "#46039f"
            ],
            [
             0.2222222222222222,
             "#7201a8"
            ],
            [
             0.3333333333333333,
             "#9c179e"
            ],
            [
             0.4444444444444444,
             "#bd3786"
            ],
            [
             0.5555555555555556,
             "#d8576b"
            ],
            [
             0.6666666666666666,
             "#ed7953"
            ],
            [
             0.7777777777777778,
             "#fb9f3a"
            ],
            [
             0.8888888888888888,
             "#fdca26"
            ],
            [
             1,
             "#f0f921"
            ]
           ]
          },
          "colorway": [
           "#636efa",
           "#EF553B",
           "#00cc96",
           "#ab63fa",
           "#FFA15A",
           "#19d3f3",
           "#FF6692",
           "#B6E880",
           "#FF97FF",
           "#FECB52"
          ],
          "font": {
           "color": "#2a3f5f"
          },
          "geo": {
           "bgcolor": "white",
           "lakecolor": "white",
           "landcolor": "#E5ECF6",
           "showlakes": true,
           "showland": true,
           "subunitcolor": "white"
          },
          "hoverlabel": {
           "align": "left"
          },
          "hovermode": "closest",
          "mapbox": {
           "style": "light"
          },
          "paper_bgcolor": "white",
          "plot_bgcolor": "#E5ECF6",
          "polar": {
           "angularaxis": {
            "gridcolor": "white",
            "linecolor": "white",
            "ticks": ""
           },
           "bgcolor": "#E5ECF6",
           "radialaxis": {
            "gridcolor": "white",
            "linecolor": "white",
            "ticks": ""
           }
          },
          "scene": {
           "xaxis": {
            "backgroundcolor": "#E5ECF6",
            "gridcolor": "white",
            "gridwidth": 2,
            "linecolor": "white",
            "showbackground": true,
            "ticks": "",
            "zerolinecolor": "white"
           },
           "yaxis": {
            "backgroundcolor": "#E5ECF6",
            "gridcolor": "white",
            "gridwidth": 2,
            "linecolor": "white",
            "showbackground": true,
            "ticks": "",
            "zerolinecolor": "white"
           },
           "zaxis": {
            "backgroundcolor": "#E5ECF6",
            "gridcolor": "white",
            "gridwidth": 2,
            "linecolor": "white",
            "showbackground": true,
            "ticks": "",
            "zerolinecolor": "white"
           }
          },
          "shapedefaults": {
           "line": {
            "color": "#2a3f5f"
           }
          },
          "ternary": {
           "aaxis": {
            "gridcolor": "white",
            "linecolor": "white",
            "ticks": ""
           },
           "baxis": {
            "gridcolor": "white",
            "linecolor": "white",
            "ticks": ""
           },
           "bgcolor": "#E5ECF6",
           "caxis": {
            "gridcolor": "white",
            "linecolor": "white",
            "ticks": ""
           }
          },
          "title": {
           "x": 0.05
          },
          "xaxis": {
           "automargin": true,
           "gridcolor": "white",
           "linecolor": "white",
           "ticks": "",
           "title": {
            "standoff": 15
           },
           "zerolinecolor": "white",
           "zerolinewidth": 2
          },
          "yaxis": {
           "automargin": true,
           "gridcolor": "white",
           "linecolor": "white",
           "ticks": "",
           "title": {
            "standoff": 15
           },
           "zerolinecolor": "white",
           "zerolinewidth": 2
          }
         }
        },
        "title": {
         "text": "Total Explained Variance: 97.66%"
        }
       }
      },
      "text/html": [
       "<div>                            <div id=\"a94f1306-26e6-4df6-a9e9-9a19b5914e2b\" class=\"plotly-graph-div\" style=\"height:525px; width:100%;\"></div>            <script type=\"text/javascript\">                require([\"plotly\"], function(Plotly) {                    window.PLOTLYENV=window.PLOTLYENV || {};                                    if (document.getElementById(\"a94f1306-26e6-4df6-a9e9-9a19b5914e2b\")) {                    Plotly.newPlot(                        \"a94f1306-26e6-4df6-a9e9-9a19b5914e2b\",                        [{\"hovertemplate\":\"PC 1=%{x}<br>PC 2=%{y}<br>PC 3=%{z}<br>color=%{marker.color}<extra></extra>\",\"legendgroup\":\"\",\"marker\":{\"color\":[0,0,1,0,1,0,1,0,1,0,1,1,1,1,1,0,0,0,1,0,1,0,0,1,0,1,0,1,0,0,1,1,1,0,0,0,1,0,1,1,0,0,1,1,1,1,0,1,0,0,0,1,1,0,1,1,1,0,1,0,0,1,0,1,1,1,1,0,1,1,1,0,1,0,0,0,1,1,1,1,1,1,0,1,1,1,1,0,0,1,0,1,0,0,0,0,0,1,1,1,1,0,1,0,0,1,1,1,1,0,1,1,1,1,0,0,1,1,0,0,1,1,0,1,1,1,0,0,1,1,0,1,0,1,0,0,1,0,0,1,1,1,1,0,0,1,1,1,0,1,0,0,1,0,0,1,1,0,1,0,1,1,1,0,0,1,0,1,0,0,1,1,1,0,1,1,0,0,0,1,1,0,1,1,0,1,1,1,0,0,1,0,1,1,0,1,0,1,1,1,1,1,0,0,1,1,1,0,1,0,1,1,0,0,1,0,1,0,1,1,1,1,1,1,0,0,0,1,1,1,1,1,1,1,0,0,0,0,0,1,1,0,1,1,1,0,0,1,0,0,0,1,1,1,1,0,1,0,0,1,0,1,1,1,1,0,1,1,0,1,1,1,1,1,1,1,1,1,1,0,0,1,1,0,1,0,1,0,1,1,1,0,1,0,0,1,1,1,0,1,1,1,0,0,1,1,1,1,0,1,1,1,0,0,1,1,1,1,1,1,1,0,0,0,1,0,1,1,0,0,1,0,0,1,0,1,1,1,1,0,0,0,1,1,0,1,1,0,1,1,1,1,1,1,1,0,0,1,0,1,1,1,0,0,0,0,0,1,1,1,1,0,0,1,0,1,1,0,0,0,1,1,1,1,1,1,0,0,0,1,0,0,1,0,1,0,0,1,1,1,0,1,1,1,1,1,0,1,0,0,1,1,0,0,0],\"coloraxis\":\"coloraxis\",\"symbol\":\"circle\"},\"mode\":\"markers\",\"name\":\"\",\"scene\":\"scene\",\"showlegend\":false,\"x\":[-1.0372426453275674,2.841129216879578,0.9696659733968774,3.06664316351618,2.4940761440549766,0.8475464671535119,0.6221579324297158,3.736980773583367,1.1745496688363095,3.6622846174251995,-0.979190359380107,-0.7425188140172564,3.5481962198422834,-1.1764848616397732,4.649469923899163,0.8832629630633883,2.104954505945264,-0.3340583483122082,-2.354819630759232,3.1200666206752627,-0.2864511158760398,-0.3558474741465406,-2.4710251715320513,-1.6685545666022665,-1.126290806711467,-0.31065444158403166,-4.079896771881169,-1.7546040379730052,2.37372779561168,1.3008339172989623,-0.18572801745321085,-2.922123655782105,-0.44855568572640125,1.1381411963916335,3.475290397141439,-1.808174712990648,-2.4759411443259367,1.2934940132199555,3.632861924768162,2.8631083464423077,-0.7622304640755193,-2.1137127822366417,-2.313354957196417,-0.8502686490693935,-2.002076160142867,0.11651279131429004,2.574867917797641,-1.536854542118792,3.894568784557294,0.077336162635009,1.9566040767827426,-0.025869782274005212,0.14173248402334793,3.381338385705724,-1.3327037797571586,-2.021477056400576,5.15112938168083,3.1352593859083444,-2.350277078734352,-1.655373652396669,1.2225849597031657,-1.214195075207968,1.2659488040820506,-1.3871850062173607,3.815114688986372,-2.4320265378618613,-0.5807591006594971,-2.137350642519764,-2.2984340858414134,-2.35258421792827,-1.6060315706042225,-0.2725818553404979,-2.1352065706888794,-0.4360148921986733,-2.5134803769289698,-1.9294894769655262,-1.0956846194968628,3.537726210059821,-0.8275843966323653,-1.994288687851575,0.6698431077014899,-2.036414904710337,2.4851234499460597,0.8835737976909734,-1.1140064873243103,-0.9314050305656179,-0.8717405169096708,-0.3589562788634663,0.6639308095597527,-1.857335619157119,-1.5231229282896752,0.8207325923773638,1.7376692356272647,-1.1678962253221428,0.2516293982504804,-0.21380500847106518,1.3208862181377683,-3.1441021538598757,1.8430360308955656,-2.277928542419029,-1.6465512152369304,-2.2112678566528157,1.5486755021505543,2.179497068597229,-2.344573499458239,-1.4490551232755833,-2.434669487018482,0.37670722863343675,-2.7847304479674797,1.8886998125981482,-2.7271051294439776,-2.0205415668736078,-1.878888924844081,-1.61991120331087,1.7292614095695318,-1.5178348426014439,-1.3709920710928474,-0.7403668568762474,4.613994669355963,3.6812363885632884,-3.6646296678368464,0.4016766375358847,2.538161085410931,-1.0555545277367568,-0.10208544632494587,-0.8435187520973988,-0.7816179852833477,5.056552383151973,-0.5763824998449544,2.97108404461912,-1.4496177761205304,4.592240476569474,2.629286432942661,0.33770316129609074,0.6171796837300162,4.602144320693963,-0.5863757884237581,3.9052174480470185,0.038291340653128454,-1.3125474834195172,-3.1102630326858467,-2.691414919515183,-0.19264454655659274,-1.0066887909091264,2.292597484429834,-1.2612423614772872,-0.7209669563747757,-2.409018538006723,-1.2099746340286412,-2.1791881519990914,-2.1133622415203424,-0.1138193916291632,3.4960552062979673,1.2652817388654647,-1.9067567568387038,-0.6273684151731393,0.378401334745341,0.24220734484552345,-1.1313931294373971,-2.834804220676215,2.9986275136925946,0.719345827227479,-0.9950385172496234,1.9822013459760779,-0.9338310347995584,-2.0897832034193735,-2.0080917519646575,-1.8971690359733242,2.3374975208581645,1.6320730097408354,0.1409425282786468,2.688542275448449,-2.535783791074225,-1.1969280697994176,-1.5468587429396938,1.5447569470951268,-2.572570258139306,2.1562589566367714,-1.0474407601169582,-0.08982484707630735,-1.6953567439203934,3.6702607055938192,-1.425937572314987,0.9598971815109015,1.7425017459491183,2.971469526528339,-1.096575286040297,-0.28768218560816733,1.8000642417236783,2.776616633598705,-3.374356625115007,2.665629188710435,-1.9449869458483733,-0.3751388119405459,-0.5757163375853179,2.036558854685477,-1.0754914976261196,-0.017672057766542546,-2.7086651385314027,-2.0385567658057755,-3.4420300155854715,-0.31111346474600043,-0.4453802196147893,2.8432796151905912,-0.2135725773100524,-3.3138832771735487,-0.393245509883931,1.9408985667805339,-1.7347935344919452,0.22026702797800216,0.8813302494797549,0.5951734251674301,-0.9677023520066976,0.12146717667134893,0.06943255462991003,-0.7527480286488016,0.8611402821011596,-1.1584907501157595,1.7078494679753013,-2.2447310620108643,1.278000042084546,-0.7342958987931227,1.2055645250085436,3.1685223297804708,0.9755807836752195,1.9663268918400552,3.118103699472029,-0.052579653045805835,-0.7923453053699804,3.6696886125857207,-1.9986743888553842,-0.10868094137871115,-1.5817679092070902,-2.265634032632846,1.0214976553363955,0.04047492214399203,1.2605672558201486,2.72470654878101,1.479220022076953,-0.19575004025483686,5.018190668365818,0.3192276512616623,-2.630912215072292,3.783936119865394,-2.9079887309229124,1.8543072567581478,-2.2231221797010594,-2.832473087300606,-3.3179013123451875,4.38489667488883,-0.0742939916140894,-2.2166554984320386,5.3820282679041584,-1.4914926330707836,0.533741380307593,0.37527933583037937,-1.5260141270482812,5.281014861474682,-1.5557862965800504,4.342304639904916,0.7196096456266597,-1.960589589300999,-2.274290048089478,1.5322299271098303,-1.0885393820819294,0.7104323458074495,0.11052026535222552,-3.764285798693529,4.6888391251458525,1.9567902845359058,-0.32525663272153627,-0.5099732562241462,-2.8835248337463844,0.8463248858093285,-1.3776725583610911,-0.21113028424506233,0.21210166979862594,2.8427385866445327,3.0831902596238474,2.7867394452833887,-1.968669135585727,-1.5118411995914303,3.646376613593277,4.922034439360867,-2.01319012702529,-0.7619497476021092,-1.9759784187777423,-2.6543171095739067,-2.8848929516136743,2.632972802202644,-2.6948582727377195,-0.663043375095561,-2.1478160439790766,-1.90941468837277,2.299962428797001,0.9266135752773509,3.395939310284385,-1.5190687212832956,3.099466485278069,-2.8189894930273214,-1.5236605394718645,-1.2700901039430208,-1.9380280845624025,1.4219193410115565,-0.07999245277600243,-3.0128591042631316,-2.6085624771013154,0.0012855368829288027,-0.7824413109775478,0.052707479438782893,-1.989171643547149,0.1914213788627299,0.6951726246482577,-2.2679598158828083,-0.18755973871085393,-2.9729692300752433,-0.6015612593760121,-2.1185490205259465,-2.154309224000171,-0.9459277409464208,3.304333448226684,0.8581403879576497,-0.9441236908976581,5.55881153064428,-0.5960339752130782,3.266771829941091,0.9319436113795306,-1.2071222672674056,-3.1043733676103913,-1.8233078380137375,-0.6570188011891578,-0.860683272845263,-0.25771525830545006,-1.8468299915550102,1.63377276227235,-0.04814892122134051,-2.8614601616599837,-2.4312067695395694,-1.6858256993756648,1.2851946665012166,0.38207412178390393,1.9824621756701502,2.0276382439490326,-0.437279360551756,0.192212674026887,-2.894281575312461,2.0366260080715466,0.7479150793964499,-1.5003916004111724,2.3243287545009186,-0.09274928373812685,0.3655676630277389,-2.040828983940411,-1.5875934176218647,-1.216598360725541,2.2496215858188875,0.6030809692098725,-2.0712526539107303,-1.21449143440609,1.5811630929115001,-0.8542256598541095,0.6420437436099522,1.4445112011327628,-1.6787115167194555,0.30733488937728803,-2.4688736849101818,1.9041078293000233,-1.6958382594140524,0.608533063506472,1.5955292009902045,0.9685148444987528,2.941056992292695,1.1950107099321754,-0.4485159297714377,-1.631273341063404,2.098287119087919,-2.1891310519115543,3.4573532096339816,4.221323946931212,-1.3130311052251926,2.404483987501938,-1.9547517228997582,-2.450937022872461,-1.2849115376755578,1.8557167550878328,1.2837531866770748,0.462937960212805,-2.0952788152254245,-2.0641983429299926,-0.6335320462198485,1.140909220635284,-2.17703738257346,-2.833178287655766,3.4837626528149106,-0.6003592828487313,1.6328314381656337,-2.474456634008261,-0.11598196563344697,-1.8108596970331972,-2.261847288295007,2.0573304523399716,-2.0485579403509946,-3.016403979938313,-1.6185983369937518,-1.1109458684665503,2.158131665100185,4.949784696967195,-1.097257503883911,-2.137728567633307,-0.8598205957169972,2.2074314180080505,0.07318908205940994,3.78096551968677,0.7651416217201678,-0.6103239470100025],\"y\":[-0.4563962126161026,0.2199537465570939,-0.14750423239287794,-1.3482012594019206,-1.5870936795551385,-2.2591803696486505,0.38867861071767235,-0.6106987164504193,-0.08166089237622748,3.031705979547484,-0.2755999543035545,1.1968241718768615,1.4523133480745558,-1.0314151913097849,-0.6633778277628987,-0.8582321282728151,-0.36622283919197396,0.3347312889609518,-0.07134319129310637,-0.6229968981877996,0.352055394605194,-0.7390504281054894,0.46698688902408114,-0.21207933004162996,1.0230113171503723,1.3683433518021286,-0.19373099072871505,0.42809657286580827,0.9426587253672647,0.5052448211343655,1.4098235031522226,-0.026590666880046764,1.3014596985805762,-0.08382841801063097,1.420205948719954,0.7471579510283943,-0.35053801571844684,0.5152580493913907,1.4915344332226925,-1.4015393383498103,-0.18324315904625546,0.62494642544722,-0.9933929483461702,0.3247147539034782,-1.0902862918452412,-0.013043744714321598,1.030570805246219,-0.30721624869953723,-0.9739438222129464,1.5144381315626165,0.25106513008414183,1.4818747936808314,-2.554429560987777,1.3783814077330556,0.12007592685251177,0.6621909269599295,-0.4549416263539192,0.8907645765129379,-0.21793260693376415,-0.4577104086675627,0.8365316405307491,0.9869580538435485,0.49986238462661714,-0.26159646621538063,-1.02938266710634,-0.0983123035964384,-0.3841747834752262,-0.21462798090053703,-0.046084945858686104,0.5110063532432318,-0.658825378930378,0.012903016638774164,-0.9229704768965532,-0.20665307035509695,-0.229518644765436,0.17897313865166223,-0.4789303730140487,-0.1012064496190677,0.400412795319882,-0.35455477598367896,0.6462351232888283,0.6482586059949935,0.9978427844854848,-0.19328279961750588,0.33659823086662993,0.2642095946915471,1.1360728693671445,0.3241376028131983,0.25753587345247225,-0.7961034454613549,-0.29842483672931924,0.20473051414001692,0.6880648129094395,-1.043011501159398,0.07526527157917767,-0.636793839456765,0.001856840136218045,0.20019576418528015,-1.7139679078241705,0.5168190553897011,0.8093671125485744,0.5858157727651996,0.07416078839035316,-0.6638729360888156,-1.1134072027432655,-0.1229297345137755,0.48634800060084465,0.14174309662298126,0.34858305132594786,0.23492340682943832,0.3704032938906558,-0.5084243500297211,0.7129471081372619,0.861481559637381,-1.9010556441770705,-1.1928561032547917,0.9181422666519404,1.1551288919648617,1.8900034300493243,-1.065882083865983,-0.017886443548199876,-0.09334772188945469,1.0269349259627196,1.060319176195492,-0.0723761228440078,-0.8991564184699509,-0.3524958539551668,-0.5063543052180534,1.2440507802499263,1.2223789949637773,0.5557866177755909,-0.6912133812030241,-1.5117097757929605,0.0859874354779653,1.7320222691743494,1.356916135169864,-1.4936870924627235,1.599504657540443,-2.5741230607128625,-0.606949459225287,0.20822425379391063,0.3825618846299609,-0.6366167474266873,-0.4538274261815645,-1.670085447707428,-0.5634344329020392,0.2992444712382743,0.18201173733201503,-1.3958056639159253,-0.7663860114565484,0.6193937488071241,-0.09368195960858905,-1.1613196428483215,0.49788741647925383,-0.38578947534130076,-0.279442716506381,0.3219462127955301,1.5930199276472692,-0.33353881264447804,0.30552988008937154,1.2292552973612083,1.7915138460546807,-0.27753761557641177,-0.14178210514687697,-0.26284295638794836,0.6261487875086742,-0.8592582268789544,0.2469295147547396,2.472147550294435,0.12455719802840404,-2.5546537722941944,-1.5066120314401972,-0.23616586477018955,-0.019016765042115674,-0.7155200562945839,0.6123705786567103,0.4174384143985899,0.8375275913364151,1.070858403643426,0.09082822668767737,0.8097509813983133,-1.0689333364929208,-0.1418396507259923,-0.8443912595043965,0.6741427651440117,-1.3770548740445974,-0.4877985737631427,0.15350399586300056,0.7141630400298461,-1.4485438523282508,0.0983261102272331,-1.4853189675864595,-0.12608703869481136,-2.753561024531099,0.7564280295992046,0.8141815475192649,-0.46217863716760693,-0.04322504783692172,-0.2145010688209707,-0.875481124078394,0.07664246689084142,-2.7235076553825315,-0.05858477444213013,1.159616768135383,-0.14293584617593666,0.1164711862228126,-0.19726881557375903,-0.4572772726783585,0.09933456586786539,0.13117276323637458,-0.20814057386883592,0.3813103454104066,-0.28058479473510184,0.3668395277182297,1.5246886199661092,1.1757544901057078,0.34141467828386285,-0.1525123522441476,0.656671225171508,-0.01186271006158655,0.49818249324780534,1.1896465308004183,-2.100892094677679,-1.2797434566514378,0.39495195926499527,0.26324722833470654,1.272466318526737,1.4621534534132006,1.163156624962163,1.4982356130962549,0.026012035850242216,-2.6348849327625725,0.43188056294439947,0.5506594718813631,0.39913501771749876,1.5254955702391475,-2.1020852520846054,-1.4832471963335017,-0.6242287480981821,-1.3129129394100727,-0.5032778843171217,-0.1178209451393038,0.4024969266118088,-1.031596650436382,-0.5289940371885472,-0.16215883844085244,0.5733017915680241,-0.7013130075950772,0.11938945732575877,-0.7867783817829332,-2.6568476960767695,0.5751820219961913,-0.3659483527234704,-0.28654056713655834,0.20042932216138915,-0.39403763747478704,-0.5108502396712455,-0.41054777483751387,-0.6828644763574727,-0.7860914316669715,0.7807681201772146,-0.5728240398081523,-0.27623643914135027,0.5879900266567412,1.0267497204581837,0.4278060587740065,-0.2059850914033718,-0.076434247523877,1.9203231616074492,0.7771555906795128,-0.1681125462385523,-0.23773030877236834,0.298945820216511,-2.2386770233184023,0.9148346823188211,-1.1473837305671104,1.584411385018159,0.6093322500868861,-1.3317912655881725,-1.4549064349322227,-0.8471198216872267,-0.6707478894681679,-1.087512221543182,-0.5492613876429907,0.6575762255514664,-0.18601878458497925,0.6634444003089687,0.3947987931341874,-0.37816616381098034,-1.5078397653918392,-0.6440319759801676,1.2303695038493507,0.612119105192159,-0.3365201474157727,-0.6905164635340078,0.5172257879421642,1.3917951685085408,-0.494379336964743,2.7900527589663344,0.32688687007991646,0.34944292263812354,-0.5489683332479255,-0.21030350173002377,0.5653599287907016,0.08950505989801945,-0.5706067973652863,-0.4078549083341679,0.48227470973548653,-0.4722712611123064,1.4901948954078121,0.6749577361917446,1.5476332046692038,-0.25365347999039084,-0.6111971132966786,1.411136777884885,0.25384079659249853,-0.12373121454915703,0.6103677232650628,-0.3113439973094577,-0.4193817387504925,-1.2351099461526973,0.33024761668124125,0.1794938516674473,-0.2875618382760095,0.7434431809529785,-1.2412508480202245,-0.157098007201193,-0.18818263039033595,0.2035821007944873,-0.28701404139752723,0.334625887618608,-0.4909629932992927,-0.15813929872326707,0.7177836119168844,1.3623626330846896,1.4632980015411734,-0.7027524798564665,0.4678109188163324,0.788815556212489,0.4983981801069259,1.6625957747637665,-1.7957601348031949,0.29663788607213226,-0.32208703297407043,0.06331022232334915,-0.07131821361902221,0.2772833172950484,-2.30013844014539,-0.5017883485578523,0.9500691334393268,-0.08342103670956479,-2.4535615906880346,0.6481970884127273,0.25410016305570704,-0.5382335219795211,0.3952981142699429,1.7521398138396531,0.6335663317273814,-0.05345697285572313,0.08869882302811996,-0.054914069359585205,-2.351665180612999,0.04856727582615177,-0.7262922728902853,-1.107639572411274,-0.5491980403393215,0.8936433768349571,-0.7388251367514268,0.3872810261371007,0.10252411975872075,-0.14910066323744256,1.1807046945650044,0.41951861493745873,1.31024909751239,0.03984708333314898,-0.0038896352421138973,0.008011107178327991,-1.166236179020713,1.7341910613835514,-0.4018834189533627,-0.2372292440017478,-0.1363492249680988,0.003225680374795908,0.13609556599428685,-1.3803607239626094,2.030108743254289,-2.4175158797106047,-0.7594541984915844,0.058233964305533945,-0.2975809763338541,-0.08359913344316858,-0.7688391045992018,0.3151164889477573,1.4328033705692151,-0.28181271365392796,0.6540860136192046,0.4556309230656022,-0.07662126839198552,0.7490659269049033,0.5454962646444141,-0.3850027441030843,0.6274975718672609,0.24433562607893888,-0.5486796595058534,-0.4973188828934489,-1.709827453491673,-0.545565893151385,1.050432477583738,-0.4127435808125524,1.1220198253510019,0.887354042247141,0.9331399775878644,-0.12379053341268542,-0.9271660604433514,-0.2999664300144873],\"z\":[1.633403265426905,-0.6270756239671966,-0.44797023029937055,-0.4285895157250794,-0.35965927232599215,-0.1540437318473879,-0.4927956141595255,-0.5808665622186645,-0.4711303478847512,-1.0620591624143787,-0.2935350603964014,-0.5070705913533787,1.0547701542579497,-0.1786216145715866,-0.6352440101849719,-0.3462284876665907,-0.4952724840218379,-0.42025779850065204,-0.2207519281992485,-0.5345617452707316,-0.42453094477306824,-0.2621537537122944,-0.2851151040154744,-0.25379296539920676,-0.4559194177622773,-0.5601786738952894,-0.08547431449544213,-0.33518896151138605,1.2045189976742734,1.340755510385136,-0.5737958875175405,-0.19020849837469414,-0.5408251333441639,-0.46576686408473567,1.0634506318534662,-0.3712647244284072,-0.1784493734618099,1.338162680479148,1.0428349562229837,-0.4126919389084727,-0.31975874653789205,-0.33404652249830113,1.7966325905941356,-0.3818331285442137,-0.11368328193390531,1.5026499103036937,1.1792001726232813,-0.250233884679368,-0.5429766842818857,-0.6027805627470431,-0.5689772747045656,-0.5945922026663232,-0.06373796468921009,1.0757213974305078,-0.31882291921441414,-0.34649618463074383,-0.7009961477205432,-0.7366669557339536,-0.20494065387026678,-0.21418481288119195,-0.5961698464806325,-0.4437901309317448,1.3425859984542543,-0.26316840423025956,-0.5315638993893209,-0.21506677022312265,-0.30579939406768225,-0.21761486576622957,-0.23045668048835027,-0.30289790057690485,-0.19847573643419156,-0.3802518351233674,1.7752365508047185,1.558543778285255,-0.19051319756277665,-0.28670269828402384,1.6400635397875327,-0.6355006148303999,-0.3908055422358934,-0.21240312304672176,-0.5309127019122607,-0.341960459221917,1.191202620592574,-0.4344733406400376,-0.36314234990574157,-0.36982902487307284,-0.48862158500076397,-0.41716151318610284,1.4159773485656626,1.735948857822586,-0.25185892282127337,-0.48355354339576256,1.2841783045889423,-0.17362310974547093,1.4722697271826408,-0.299808347883622,-0.4920291534062232,-0.20557050436651625,-0.29944213584792756,-0.2988853389001358,-0.3920515350533728,-0.32309098283175297,-0.5134666168373797,-0.4622267462626931,-0.084944880039763,-0.28064847542661536,-0.29123178554242984,1.4533263006653228,-0.2509480824716328,-0.563558180200321,-0.25743910441199586,-0.1897060517526004,-0.36244709419402427,-0.40962971658041397,-0.26393711277108667,-0.12820693080179063,-0.42127715918245845,-0.497095321525103,0.9198850152577346,-0.516686975853692,-0.1391939590064508,-0.41321963086844904,1.1849111841164033,-0.46593312142347554,1.5160023412603771,-0.21834002123551524,1.601052316152556,-0.6894140951409076,-0.5254237484672323,1.1257801424097889,-0.35443513607790833,-0.6310953208943122,-0.38204555330592527,1.4639145160013824,-0.6716618265631595,-0.9060944347664641,-0.15283903708633206,1.010967832527439,-0.05966538751669262,1.6805621118577334,-0.20819478826973636,-0.25988851211586017,-0.2983989906385217,1.633282563609153,-0.3328776843013625,1.6657920634500116,-0.3678227997269991,-0.2542232367326668,-0.12682994849104917,-0.14459711977221207,-0.3313090676201305,1.5207020341286053,-0.4872324293668892,1.345474125962894,-0.20683635115342197,1.5792344597053725,-0.46652497343836447,-0.6277730950176943,-0.274830953345633,-0.23519523139693527,1.1238648558499307,-0.6870340624010488,-0.29289699660864077,-0.5173449758169661,-0.29654375854286713,-0.3356536359141286,1.7549427032513836,-0.30029792269227834,-0.895455996167444,-0.5290651046617708,-0.06459473528383652,-0.383471271307568,-0.189575953320586,-0.31311416286879096,1.713425956531603,1.3074109042551265,-0.27016512622403777,1.239197489205502,-0.46820327764610375,-0.40522547336888537,-0.38934992691355674,-0.5150920263985157,-0.2732369183339849,-0.35240986490534776,1.2881912270023368,-0.4251446400088326,1.6432870413264677,-0.3966959976554635,1.2782086107222488,-0.39790458764310566,-0.17512713470726915,-0.387505963890881,-0.2458485420840492,-0.007410134062324171,-0.46015515667947493,1.2471356394304927,-0.2540758769875254,-0.39071068359840094,-0.17892912368085256,1.7616394642144413,-0.16793901998795133,-0.014924354200623014,-0.3572507481358264,1.1426643591287284,1.5407326466794544,-0.17918602570384354,1.5555189848428317,-0.47010853838734645,-0.29120060405776677,-0.4239290057046633,-0.43048440957629025,-0.49160520516455625,-0.2907948060544523,-0.4556296153391604,-0.6075739371583486,-0.499846807323815,1.39187127174168,-0.29543895194884684,1.292602925985112,-0.23982729584602733,1.3431689513142233,-0.505103829652451,-0.2032617581007734,-0.44742087488740695,1.3765031606905271,-0.5702711529976604,1.1095296057897945,-0.588349773456113,-0.4980918331051061,1.0385397456665064,-0.257872293336978,-0.04120615562401262,-0.34414074196791505,-0.3129778299285585,1.3740784304146458,-0.6050817429331539,-0.19669865413394058,-0.3909037915062375,-0.4189369454722362,-0.2088489060131708,-0.6851950998876278,-0.40606442648284713,-0.2659550980063264,-0.5247416794939624,-0.12374742875346981,-0.5030818929727091,-0.3172659818398067,-0.10572569746013259,-0.17982011437013215,-0.6036991500319366,-0.030920294407026226,-0.31958031244895846,-0.7300206259250248,-0.25620558100877444,1.4361247934790065,-0.3715604872875968,-0.22165202506650292,-0.7176635285394525,1.7037100205580602,-0.6002955030908483,-0.5545613821155294,-0.18316037761030912,-0.1986415628114839,1.3142323694358407,-0.455826017489299,-0.5048609874832789,-0.3806318518519144,-0.11958805733611044,0.9134551871090852,1.258324638755598,1.5408625381996373,1.5666606023943601,-0.23521776432590624,-0.16120538270091636,-0.4212006952246073,-0.2311910854958201,-0.6245560587343961,-0.6821178222433422,-0.43934189218629116,-0.39700315267884356,1.7526218394428983,1.6960803972200313,-0.5104724607550549,-0.6720362176689435,-0.34415636760991264,-0.31977833919990556,-0.3438042900808164,-0.2636692539924761,-0.14582796622133218,-0.38304952521798463,-0.12316808309369197,-0.5169698669019536,-0.32985193901661863,-0.21435504524298252,-0.46799762463478933,-0.5321406000891459,1.0738865126847603,-0.22621028359193246,-0.989633351727309,-0.24244501151742304,-0.337171372142623,1.6591524808405194,-0.23455416145177238,1.322341674104043,-0.404151475837909,-0.11154116632471658,-0.15958846238288513,-0.46390102165095337,-0.28008855754479867,-0.5999602795574398,-0.34952600537960676,-0.6185187789458222,-0.41492538559127434,-0.15710691507000737,-0.5741337751562378,-0.22165503895920055,-0.3372975386676004,-0.3298432665343003,-0.20478687067088894,1.619346884308412,-0.46693556069543973,1.3932481765145006,-0.35433703845703074,-0.7524351597532549,-0.4579949182033751,-0.4645626812408006,-0.44352988484820544,-0.2897649686979007,-0.20536238537385243,-0.23159872668649772,-0.39635010225474415,-0.2730549469639009,1.5458068015373208,-0.36481922150632035,-0.6957282970474891,-0.5879190670491724,-0.10531520466913474,-0.2858979845227725,-0.3848340508209865,1.3453509085799862,-0.6482636335454082,-0.29446930653378006,-0.5824026707014065,-0.32582755180169004,1.4751928369489995,-0.1874327596938329,-0.5781437236421416,-0.13978572210924622,-0.2232689652860803,1.208652367754846,1.5183942839423545,-0.095097874614073,-0.34118339013548266,-0.320072214198461,1.6581918983185115,-0.610751023629165,-0.6764318325228369,-0.33618280360483477,-0.2989754114975426,-0.5186631005436872,-0.33109011395056526,-0.12518364100226503,-0.5071853300628058,1.7144052334098199,-0.2700936988996057,-0.1521300082973708,-0.6521841867928794,1.7169590293988835,-0.4929559895977495,-0.524708912649259,-0.4458737149492108,1.1358319016884841,1.366463272373066,-0.541718229020925,-0.2865012046481069,-0.5452466453891065,-0.24642036744573462,-0.4881259111262652,0.9724730982752762,-0.25359984673817787,-0.5362214237899664,-0.2410408949659091,-0.2275543628630635,-0.3235273453621466,-0.34396241167129255,-0.7603372186483173,-0.10406338343599311,-0.14460039296426583,-0.2614857641751266,1.5852149592646712,-0.46645733959031743,-0.1434639536457332,-0.24011029254917907,1.0633931689337754,1.5817540937455434,1.2966027875357555,-0.28056248972953396,1.5172880766902306,-0.3725473159187688,-0.312076149654488,-0.491576254388685,-0.3339608579969838,-0.2179597453559078,-0.21150963026473896,1.643574079891933,-0.32431997616663516,-0.6755560630009576,-0.46198414015945594,-0.19349865313515363,-0.4834571837754726,1.2247552203507237,-0.5275577061617592,-0.6496654095848432,-0.32624792519587364,1.5819742535557146],\"type\":\"scatter3d\"}],                        {\"template\":{\"data\":{\"histogram2dcontour\":[{\"type\":\"histogram2dcontour\",\"colorbar\":{\"outlinewidth\":0,\"ticks\":\"\"},\"colorscale\":[[0.0,\"#0d0887\"],[0.1111111111111111,\"#46039f\"],[0.2222222222222222,\"#7201a8\"],[0.3333333333333333,\"#9c179e\"],[0.4444444444444444,\"#bd3786\"],[0.5555555555555556,\"#d8576b\"],[0.6666666666666666,\"#ed7953\"],[0.7777777777777778,\"#fb9f3a\"],[0.8888888888888888,\"#fdca26\"],[1.0,\"#f0f921\"]]}],\"choropleth\":[{\"type\":\"choropleth\",\"colorbar\":{\"outlinewidth\":0,\"ticks\":\"\"}}],\"histogram2d\":[{\"type\":\"histogram2d\",\"colorbar\":{\"outlinewidth\":0,\"ticks\":\"\"},\"colorscale\":[[0.0,\"#0d0887\"],[0.1111111111111111,\"#46039f\"],[0.2222222222222222,\"#7201a8\"],[0.3333333333333333,\"#9c179e\"],[0.4444444444444444,\"#bd3786\"],[0.5555555555555556,\"#d8576b\"],[0.6666666666666666,\"#ed7953\"],[0.7777777777777778,\"#fb9f3a\"],[0.8888888888888888,\"#fdca26\"],[1.0,\"#f0f921\"]]}],\"heatmap\":[{\"type\":\"heatmap\",\"colorbar\":{\"outlinewidth\":0,\"ticks\":\"\"},\"colorscale\":[[0.0,\"#0d0887\"],[0.1111111111111111,\"#46039f\"],[0.2222222222222222,\"#7201a8\"],[0.3333333333333333,\"#9c179e\"],[0.4444444444444444,\"#bd3786\"],[0.5555555555555556,\"#d8576b\"],[0.6666666666666666,\"#ed7953\"],[0.7777777777777778,\"#fb9f3a\"],[0.8888888888888888,\"#fdca26\"],[1.0,\"#f0f921\"]]}],\"heatmapgl\":[{\"type\":\"heatmapgl\",\"colorbar\":{\"outlinewidth\":0,\"ticks\":\"\"},\"colorscale\":[[0.0,\"#0d0887\"],[0.1111111111111111,\"#46039f\"],[0.2222222222222222,\"#7201a8\"],[0.3333333333333333,\"#9c179e\"],[0.4444444444444444,\"#bd3786\"],[0.5555555555555556,\"#d8576b\"],[0.6666666666666666,\"#ed7953\"],[0.7777777777777778,\"#fb9f3a\"],[0.8888888888888888,\"#fdca26\"],[1.0,\"#f0f921\"]]}],\"contourcarpet\":[{\"type\":\"contourcarpet\",\"colorbar\":{\"outlinewidth\":0,\"ticks\":\"\"}}],\"contour\":[{\"type\":\"contour\",\"colorbar\":{\"outlinewidth\":0,\"ticks\":\"\"},\"colorscale\":[[0.0,\"#0d0887\"],[0.1111111111111111,\"#46039f\"],[0.2222222222222222,\"#7201a8\"],[0.3333333333333333,\"#9c179e\"],[0.4444444444444444,\"#bd3786\"],[0.5555555555555556,\"#d8576b\"],[0.6666666666666666,\"#ed7953\"],[0.7777777777777778,\"#fb9f3a\"],[0.8888888888888888,\"#fdca26\"],[1.0,\"#f0f921\"]]}],\"surface\":[{\"type\":\"surface\",\"colorbar\":{\"outlinewidth\":0,\"ticks\":\"\"},\"colorscale\":[[0.0,\"#0d0887\"],[0.1111111111111111,\"#46039f\"],[0.2222222222222222,\"#7201a8\"],[0.3333333333333333,\"#9c179e\"],[0.4444444444444444,\"#bd3786\"],[0.5555555555555556,\"#d8576b\"],[0.6666666666666666,\"#ed7953\"],[0.7777777777777778,\"#fb9f3a\"],[0.8888888888888888,\"#fdca26\"],[1.0,\"#f0f921\"]]}],\"mesh3d\":[{\"type\":\"mesh3d\",\"colorbar\":{\"outlinewidth\":0,\"ticks\":\"\"}}],\"scatter\":[{\"fillpattern\":{\"fillmode\":\"overlay\",\"size\":10,\"solidity\":0.2},\"type\":\"scatter\"}],\"parcoords\":[{\"type\":\"parcoords\",\"line\":{\"colorbar\":{\"outlinewidth\":0,\"ticks\":\"\"}}}],\"scatterpolargl\":[{\"type\":\"scatterpolargl\",\"marker\":{\"colorbar\":{\"outlinewidth\":0,\"ticks\":\"\"}}}],\"bar\":[{\"error_x\":{\"color\":\"#2a3f5f\"},\"error_y\":{\"color\":\"#2a3f5f\"},\"marker\":{\"line\":{\"color\":\"#E5ECF6\",\"width\":0.5},\"pattern\":{\"fillmode\":\"overlay\",\"size\":10,\"solidity\":0.2}},\"type\":\"bar\"}],\"scattergeo\":[{\"type\":\"scattergeo\",\"marker\":{\"colorbar\":{\"outlinewidth\":0,\"ticks\":\"\"}}}],\"scatterpolar\":[{\"type\":\"scatterpolar\",\"marker\":{\"colorbar\":{\"outlinewidth\":0,\"ticks\":\"\"}}}],\"histogram\":[{\"marker\":{\"pattern\":{\"fillmode\":\"overlay\",\"size\":10,\"solidity\":0.2}},\"type\":\"histogram\"}],\"scattergl\":[{\"type\":\"scattergl\",\"marker\":{\"colorbar\":{\"outlinewidth\":0,\"ticks\":\"\"}}}],\"scatter3d\":[{\"type\":\"scatter3d\",\"line\":{\"colorbar\":{\"outlinewidth\":0,\"ticks\":\"\"}},\"marker\":{\"colorbar\":{\"outlinewidth\":0,\"ticks\":\"\"}}}],\"scattermapbox\":[{\"type\":\"scattermapbox\",\"marker\":{\"colorbar\":{\"outlinewidth\":0,\"ticks\":\"\"}}}],\"scatterternary\":[{\"type\":\"scatterternary\",\"marker\":{\"colorbar\":{\"outlinewidth\":0,\"ticks\":\"\"}}}],\"scattercarpet\":[{\"type\":\"scattercarpet\",\"marker\":{\"colorbar\":{\"outlinewidth\":0,\"ticks\":\"\"}}}],\"carpet\":[{\"aaxis\":{\"endlinecolor\":\"#2a3f5f\",\"gridcolor\":\"white\",\"linecolor\":\"white\",\"minorgridcolor\":\"white\",\"startlinecolor\":\"#2a3f5f\"},\"baxis\":{\"endlinecolor\":\"#2a3f5f\",\"gridcolor\":\"white\",\"linecolor\":\"white\",\"minorgridcolor\":\"white\",\"startlinecolor\":\"#2a3f5f\"},\"type\":\"carpet\"}],\"table\":[{\"cells\":{\"fill\":{\"color\":\"#EBF0F8\"},\"line\":{\"color\":\"white\"}},\"header\":{\"fill\":{\"color\":\"#C8D4E3\"},\"line\":{\"color\":\"white\"}},\"type\":\"table\"}],\"barpolar\":[{\"marker\":{\"line\":{\"color\":\"#E5ECF6\",\"width\":0.5},\"pattern\":{\"fillmode\":\"overlay\",\"size\":10,\"solidity\":0.2}},\"type\":\"barpolar\"}],\"pie\":[{\"automargin\":true,\"type\":\"pie\"}]},\"layout\":{\"autotypenumbers\":\"strict\",\"colorway\":[\"#636efa\",\"#EF553B\",\"#00cc96\",\"#ab63fa\",\"#FFA15A\",\"#19d3f3\",\"#FF6692\",\"#B6E880\",\"#FF97FF\",\"#FECB52\"],\"font\":{\"color\":\"#2a3f5f\"},\"hovermode\":\"closest\",\"hoverlabel\":{\"align\":\"left\"},\"paper_bgcolor\":\"white\",\"plot_bgcolor\":\"#E5ECF6\",\"polar\":{\"bgcolor\":\"#E5ECF6\",\"angularaxis\":{\"gridcolor\":\"white\",\"linecolor\":\"white\",\"ticks\":\"\"},\"radialaxis\":{\"gridcolor\":\"white\",\"linecolor\":\"white\",\"ticks\":\"\"}},\"ternary\":{\"bgcolor\":\"#E5ECF6\",\"aaxis\":{\"gridcolor\":\"white\",\"linecolor\":\"white\",\"ticks\":\"\"},\"baxis\":{\"gridcolor\":\"white\",\"linecolor\":\"white\",\"ticks\":\"\"},\"caxis\":{\"gridcolor\":\"white\",\"linecolor\":\"white\",\"ticks\":\"\"}},\"coloraxis\":{\"colorbar\":{\"outlinewidth\":0,\"ticks\":\"\"}},\"colorscale\":{\"sequential\":[[0.0,\"#0d0887\"],[0.1111111111111111,\"#46039f\"],[0.2222222222222222,\"#7201a8\"],[0.3333333333333333,\"#9c179e\"],[0.4444444444444444,\"#bd3786\"],[0.5555555555555556,\"#d8576b\"],[0.6666666666666666,\"#ed7953\"],[0.7777777777777778,\"#fb9f3a\"],[0.8888888888888888,\"#fdca26\"],[1.0,\"#f0f921\"]],\"sequentialminus\":[[0.0,\"#0d0887\"],[0.1111111111111111,\"#46039f\"],[0.2222222222222222,\"#7201a8\"],[0.3333333333333333,\"#9c179e\"],[0.4444444444444444,\"#bd3786\"],[0.5555555555555556,\"#d8576b\"],[0.6666666666666666,\"#ed7953\"],[0.7777777777777778,\"#fb9f3a\"],[0.8888888888888888,\"#fdca26\"],[1.0,\"#f0f921\"]],\"diverging\":[[0,\"#8e0152\"],[0.1,\"#c51b7d\"],[0.2,\"#de77ae\"],[0.3,\"#f1b6da\"],[0.4,\"#fde0ef\"],[0.5,\"#f7f7f7\"],[0.6,\"#e6f5d0\"],[0.7,\"#b8e186\"],[0.8,\"#7fbc41\"],[0.9,\"#4d9221\"],[1,\"#276419\"]]},\"xaxis\":{\"gridcolor\":\"white\",\"linecolor\":\"white\",\"ticks\":\"\",\"title\":{\"standoff\":15},\"zerolinecolor\":\"white\",\"automargin\":true,\"zerolinewidth\":2},\"yaxis\":{\"gridcolor\":\"white\",\"linecolor\":\"white\",\"ticks\":\"\",\"title\":{\"standoff\":15},\"zerolinecolor\":\"white\",\"automargin\":true,\"zerolinewidth\":2},\"scene\":{\"xaxis\":{\"backgroundcolor\":\"#E5ECF6\",\"gridcolor\":\"white\",\"linecolor\":\"white\",\"showbackground\":true,\"ticks\":\"\",\"zerolinecolor\":\"white\",\"gridwidth\":2},\"yaxis\":{\"backgroundcolor\":\"#E5ECF6\",\"gridcolor\":\"white\",\"linecolor\":\"white\",\"showbackground\":true,\"ticks\":\"\",\"zerolinecolor\":\"white\",\"gridwidth\":2},\"zaxis\":{\"backgroundcolor\":\"#E5ECF6\",\"gridcolor\":\"white\",\"linecolor\":\"white\",\"showbackground\":true,\"ticks\":\"\",\"zerolinecolor\":\"white\",\"gridwidth\":2}},\"shapedefaults\":{\"line\":{\"color\":\"#2a3f5f\"}},\"annotationdefaults\":{\"arrowcolor\":\"#2a3f5f\",\"arrowhead\":0,\"arrowwidth\":1},\"geo\":{\"bgcolor\":\"white\",\"landcolor\":\"#E5ECF6\",\"subunitcolor\":\"white\",\"showland\":true,\"showlakes\":true,\"lakecolor\":\"white\"},\"title\":{\"x\":0.05},\"mapbox\":{\"style\":\"light\"}}},\"scene\":{\"domain\":{\"x\":[0.0,1.0],\"y\":[0.0,1.0]},\"xaxis\":{\"title\":{\"text\":\"PC 1\"}},\"yaxis\":{\"title\":{\"text\":\"PC 2\"}},\"zaxis\":{\"title\":{\"text\":\"PC 3\"}}},\"coloraxis\":{\"colorbar\":{\"title\":{\"text\":\"color\"}},\"colorscale\":[[0.0,\"#0d0887\"],[0.1111111111111111,\"#46039f\"],[0.2222222222222222,\"#7201a8\"],[0.3333333333333333,\"#9c179e\"],[0.4444444444444444,\"#bd3786\"],[0.5555555555555556,\"#d8576b\"],[0.6666666666666666,\"#ed7953\"],[0.7777777777777778,\"#fb9f3a\"],[0.8888888888888888,\"#fdca26\"],[1.0,\"#f0f921\"]]},\"legend\":{\"tracegroupgap\":0},\"title\":{\"text\":\"Total Explained Variance: 97.66%\"}},                        {\"responsive\": true}                    ).then(function(){\n",
       "                            \n",
       "var gd = document.getElementById('a94f1306-26e6-4df6-a9e9-9a19b5914e2b');\n",
       "var x = new MutationObserver(function (mutations, observer) {{\n",
       "        var display = window.getComputedStyle(gd).display;\n",
       "        if (!display || display === 'none') {{\n",
       "            console.log([gd, 'removed!']);\n",
       "            Plotly.purge(gd);\n",
       "            observer.disconnect();\n",
       "        }}\n",
       "}});\n",
       "\n",
       "// Listen for the removal of the full notebook cells\n",
       "var notebookContainer = gd.closest('#notebook-container');\n",
       "if (notebookContainer) {{\n",
       "    x.observe(notebookContainer, {childList: true});\n",
       "}}\n",
       "\n",
       "// Listen for the clearing of the current output cell\n",
       "var outputEl = gd.closest('.output');\n",
       "if (outputEl) {{\n",
       "    x.observe(outputEl, {childList: true});\n",
       "}}\n",
       "\n",
       "                        })                };                });            </script>        </div>"
      ]
     },
     "metadata": {},
     "output_type": "display_data"
    }
   ],
   "source": [
    "pca = PCA()\n",
    "pipe = Pipeline([('scaler', StandardScaler()), ('pca', pca)])\n",
    "\n",
    "X = pipe.fit_transform(train.drop('Winner', axis=1))\n",
    "\n",
    "pca = PCA(n_components=3)\n",
    "components = pca.fit_transform(X)\n",
    "\n",
    "total_var = pca.explained_variance_ratio_.sum() * 100\n",
    "\n",
    "fig = px.scatter_3d(\n",
    "    components, x=0, y=1, z=2, color=train['Winner'],\n",
    "    title=f'Total Explained Variance: {total_var:.2f}%',\n",
    "    labels={'0': 'PC 1', '1': 'PC 2', '2': 'PC 3'}\n",
    ")\n",
    "fig.show()"
   ]
  },
  {
   "cell_type": "code",
   "execution_count": 22,
   "id": "497778e4",
   "metadata": {},
   "outputs": [
    {
     "data": {
      "image/png": "[encoded data removed]",
      "text/plain": [
       "<Figure size 800x600 with 1 Axes>"
      ]
     },
     "metadata": {},
     "output_type": "display_data"
    }
   ],
   "source": [
    "# Show first two principal components with scaler\n",
    "pca = PCA()\n",
    "pipe = Pipeline([('scaler', StandardScaler()), ('pca', pca)])\n",
    "plt.figure(figsize=(8,6))\n",
    "Xt = pipe.fit_transform(train.drop('Winner', axis=1))\n",
    "plot = plt.scatter(Xt[:,0], Xt[:,1], c=train['Winner'])\n",
    "plt.legend(handles=plot.legend_elements()[0], labels=list(train['Winner']))\n",
    "plt.xlabel(\"PC1\")\n",
    "plt.ylabel(\"PC2\")\n",
    "plt.title(\"First two principal components after scaling\")\n",
    "plt.show()"
   ]
  },
  {
   "cell_type": "code",
   "execution_count": 23,
   "id": "b56891a3",
   "metadata": {},
   "outputs": [
    {
     "data": {
      "text/plain": [
       "array([7.37794496e-01, 1.45561525e-01, 9.32064761e-02, 1.81210072e-02,\n",
       "       5.31649583e-03, 3.48706239e-33])"
      ]
     },
     "execution_count": 23,
     "metadata": {},
     "output_type": "execute_result"
    }
   ],
   "source": [
    "pca.explained_variance_ratio_"
   ]
  },
  {
   "cell_type": "markdown",
   "id": "300b461f",
   "metadata": {},
   "source": [
    "## FA"
   ]
  },
  {
   "cell_type": "code",
   "execution_count": 32,
   "id": "66aef403",
   "metadata": {},
   "outputs": [
    {
     "data": {
      "text/plain": [
       "(415, 4)"
      ]
     },
     "execution_count": 32,
     "metadata": {},
     "output_type": "execute_result"
    }
   ],
   "source": [
    "train_fa = train.drop([  'Winner', 'T2_FansPred', 'T1_FansPred'], axis=1)\n",
    "train_fa.shape"
   ]
  },
  {
   "cell_type": "code",
   "execution_count": 33,
   "id": "69027092",
   "metadata": {},
   "outputs": [
    {
     "data": {
      "text/plain": [
       "(nan, nan)"
      ]
     },
     "execution_count": 33,
     "metadata": {},
     "output_type": "execute_result"
    }
   ],
   "source": [
    "from factor_analyzer.factor_analyzer import calculate_bartlett_sphericity\n",
    "chi_square_value,p_value=calculate_bartlett_sphericity(train_fa)\n",
    "chi_square_value, p_value"
   ]
  },
  {
   "cell_type": "code",
   "execution_count": 34,
   "id": "97b7c999",
   "metadata": {},
   "outputs": [
    {
     "data": {
      "text/plain": [
       "0.6393411501120322"
      ]
     },
     "execution_count": 34,
     "metadata": {},
     "output_type": "execute_result"
    }
   ],
   "source": [
    "from factor_analyzer.factor_analyzer import calculate_kmo\n",
    "kmo_all,kmo_model=calculate_kmo(train_fa)\n",
    "kmo_model"
   ]
  },
  {
   "cell_type": "markdown",
   "id": "a22a94c6",
   "metadata": {},
   "source": [
    "## Choosing the Number of Factors"
   ]
  },
  {
   "cell_type": "code",
   "execution_count": 13,
   "id": "0eb3b1d1",
   "metadata": {},
   "outputs": [
    {
     "data": {
      "image/png": "[encoded data removed]",
      "text/plain": [
       "<Figure size 640x480 with 1 Axes>"
      ]
     },
     "metadata": {},
     "output_type": "display_data"
    }
   ],
   "source": [
    "from factor_analyzer import FactorAnalyzer\n",
    "fa = FactorAnalyzer(rotation = None,impute = \"drop\",n_factors=train_fa.shape[1])\n",
    "fa.fit(train_fa)\n",
    "ev,_ = fa.get_eigenvalues()\n",
    "plt.scatter(range(1,train_fa.shape[1]+1),ev)\n",
    "plt.plot(range(1,train_fa.shape[1]+1),ev)\n",
    "plt.title('Scree Plot')\n",
    "plt.xlabel('Factors')\n",
    "plt.ylabel('Eigen Value')\n",
    "plt.grid()"
   ]
  },
  {
   "cell_type": "code",
   "execution_count": 14,
   "id": "09a54546",
   "metadata": {},
   "outputs": [
    {
     "data": {
      "text/plain": [
       "array([ 4.42676698e+00,  8.73369148e-01,  5.59238856e-01,  1.08726043e-01,\n",
       "        3.18989750e-02, -1.44557587e-16])"
      ]
     },
     "execution_count": 14,
     "metadata": {},
     "output_type": "execute_result"
    }
   ],
   "source": [
    "ev"
   ]
  },
  {
   "cell_type": "code",
   "execution_count": 15,
   "id": "1305ae7b",
   "metadata": {},
   "outputs": [
    {
     "name": "stdout",
     "output_type": "stream",
     "text": [
      "                      0         1\n",
      "T1_TwitterVol  0.919895  0.390793\n",
      "T2_TwitterVol -0.919895 -0.390793\n",
      "T1_FansSent    0.830553  0.428964\n",
      "T2_FansSent   -0.899667 -0.368794\n",
      "T1_FansPred    0.291437  0.647255\n",
      "T2_FansPred   -0.203928 -0.560081\n"
     ]
    }
   ],
   "source": [
    "fa = FactorAnalyzer(n_factors=2,rotation='varimax')\n",
    "fa.fit(train_fa)\n",
    "print(pd.DataFrame(fa.loadings_,index=train_fa.columns))"
   ]
  },
  {
   "cell_type": "code",
   "execution_count": 16,
   "id": "72b29c51",
   "metadata": {},
   "outputs": [
    {
     "name": "stdout",
     "output_type": "stream",
     "text": [
      "                         0         1\n",
      "Variance          3.318153  1.358086\n",
      "Proportional Var  0.553026  0.226348\n",
      "Cumulative Var    0.553026  0.779373\n"
     ]
    }
   ],
   "source": [
    "print(pd.DataFrame(fa.get_factor_variance(),index=['Variance','Proportional Var','Cumulative Var']))"
   ]
  },
  {
   "cell_type": "code",
   "execution_count": 17,
   "id": "d090a626",
   "metadata": {},
   "outputs": [
    {
     "name": "stdout",
     "output_type": "stream",
     "text": [
      "               Communalities\n",
      "T1_TwitterVol       0.998926\n",
      "T2_TwitterVol       0.998926\n",
      "T1_FansSent         0.873828\n",
      "T2_FansSent         0.945409\n",
      "T1_FansPred         0.503875\n",
      "T2_FansPred         0.355277\n"
     ]
    }
   ],
   "source": [
    "print(pd.DataFrame(fa.get_communalities(),index=train_fa.columns,columns=['Communalities']))"
   ]
  },
  {
   "cell_type": "code",
   "execution_count": 1,
   "id": "9a540548",
   "metadata": {},
   "outputs": [],
   "source": [
    "# # find and remove correlated features\n",
    "# def correlation(dataset, threshold):\n",
    "#     col_corr = set()   \n",
    "#     corr_matrix = dataset.corr()\n",
    "#     for i in range(len(corr_matrix.columns)):\n",
    "#         for j in range(i):\n",
    "#             if abs(corr_matrix.iloc[i, j]) > threshold:  \n",
    "#                 colname = corr_matrix.columns[i]   \n",
    "#                 col_corr.add(colname)\n",
    "#     return col_corr\n",
    "\n",
    "# correlation(train.iloc[:,:-1],0.8)"
   ]
  }
 ],
 "metadata": {
  "kernelspec": {
   "display_name": "Python 3 (ipykernel)",
   "language": "python",
   "name": "python3"
  },
  "language_info": {
   "codemirror_mode": {
    "name": "ipython",
    "version": 3
   },
   "file_extension": ".py",
   "mimetype": "text/x-python",
   "name": "python",
   "nbconvert_exporter": "python",
   "pygments_lexer": "ipython3",
   "version": "3.9.13"
  }
 },
 "nbformat": 4,
 "nbformat_minor": 5
}
