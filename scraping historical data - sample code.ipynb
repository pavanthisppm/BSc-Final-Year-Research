{
 "cells": [
  {
   "cell_type": "code",
   "execution_count": null,
   "id": "73035260",
   "metadata": {},
   "outputs": [],
   "source": [
    "import warnings\n",
    "warnings.filterwarnings('ignore')\n",
    "import pandas as pd\n",
    "from csv import writer"
   ]
  },
  {
   "cell_type": "code",
   "execution_count": null,
   "id": "657f9de0",
   "metadata": {},
   "outputs": [],
   "source": [
    "# Team1 = AUS\n",
    "T1_bat = pd.read_html(\"https://stats.espncricinfo.com/ci/engine/stats/index.html?class=3;filter=advanced;groupby=team;opposition=1;opposition=2;opposition=25;opposition=3;opposition=4;opposition=40;opposition=5;opposition=6;opposition=7;opposition=8;orderby=runs;result=1;result=2;spanmax1=25+Jan+2013;spanval1=span;team=2;template=results;type=batting\")[2]\n",
    "T1_bat = T1_bat.add_prefix('T1_')\n",
    "T1_bat = T1_bat.add_suffix('_bat')\n",
    "\n",
    "T1_bowl = pd.read_html(\"https://stats.espncricinfo.com/ci/engine/stats/index.html?class=3;filter=advanced;groupby=team;opposition=1;opposition=2;opposition=25;opposition=3;opposition=4;opposition=40;opposition=5;opposition=6;opposition=7;opposition=8;result=1;result=2;spanmax1=25+Jan+2013;spanval1=span;team=2;template=results;type=bowling\")[2]\n",
    "T1_bowl = T1_bowl.add_prefix('T1_')\n",
    "T1_bowl = T1_bowl.add_suffix('_bowl')\n",
    "\n",
    "T1_team = pd.read_html(\"https://stats.espncricinfo.com/ci/engine/stats/index.html?class=3;filter=advanced;opposition=1;opposition=2;opposition=25;opposition=3;opposition=4;opposition=40;opposition=5;opposition=6;opposition=7;opposition=8;orderby=wickets;result=1;result=2;spanmax2=25+Jan+2013;spanval2=span;team=2;template=results;type=team\")[2]\n",
    "T1_team = T1_team.add_prefix('T1_')\n",
    "T1_team = T1_team.add_suffix('_team')\n",
    "\n",
    "T1 = pd.concat([T1_bat, T1_bowl, T1_team], axis=1)\n",
    "\n",
    "# Team2 = SL\n",
    "T2_bat = pd.read_html(\"https://stats.espncricinfo.com/ci/engine/stats/index.html?class=3;filter=advanced;groupby=team;opposition=1;opposition=2;opposition=25;opposition=3;opposition=4;opposition=40;opposition=5;opposition=6;opposition=7;opposition=8;orderby=runs;result=1;result=2;spanmax2=25+Jan+2013;spanval2=span;team=8;template=results;type=batting\")[2]\n",
    "T2_bat = T2_bat.add_prefix('T2_')\n",
    "T2_bat = T2_bat.add_suffix('_bat')\n",
    "\n",
    "T2_bowl = pd.read_html(\"https://stats.espncricinfo.com/ci/engine/stats/index.html?class=3;filter=advanced;groupby=team;opposition=1;opposition=2;opposition=25;opposition=3;opposition=4;opposition=40;opposition=5;opposition=6;opposition=7;opposition=8;orderby=wickets;result=1;result=2;spanmax1=25+Jan+2013;spanval1=span;team=8;template=results;type=bowling\")[2]\n",
    "T2_bowl = T2_bowl.add_prefix('T2_')\n",
    "T2_bowl = T2_bowl.add_suffix('_bowl')\n",
    "\n",
    "T2_team = pd.read_html(\"https://stats.espncricinfo.com/ci/engine/stats/index.html?class=3;filter=advanced;opposition=1;opposition=2;opposition=25;opposition=3;opposition=4;opposition=40;opposition=5;opposition=6;opposition=7;opposition=8;orderby=wickets;result=1;result=2;spanmax1=25+Jan+2013;spanval1=span;team=8;template=results;type=team\")[2]\n",
    "T2_team = T2_team.add_prefix('T2_')\n",
    "T2_team = T2_team.add_suffix('_team')\n",
    "\n",
    "T2 = pd.concat([T2_bat, T2_bowl, T2_team], axis=1)\n",
    "\n",
    "M = pd.concat([T1, T2], axis=1)\n",
    "\n",
    "# save as a csv file\n",
    "M.to_csv ( 'historical.csv', mode='a', index = False, header=True)"
   ]
  }
 ],
 "metadata": {
  "kernelspec": {
   "display_name": "Python 3 (ipykernel)",
   "language": "python",
   "name": "python3"
  },
  "language_info": {
   "codemirror_mode": {
    "name": "ipython",
    "version": 3
   },
   "file_extension": ".py",
   "mimetype": "text/x-python",
   "name": "python",
   "nbconvert_exporter": "python",
   "pygments_lexer": "ipython3",
   "version": "3.9.13"
  }
 },
 "nbformat": 4,
 "nbformat_minor": 5
}
